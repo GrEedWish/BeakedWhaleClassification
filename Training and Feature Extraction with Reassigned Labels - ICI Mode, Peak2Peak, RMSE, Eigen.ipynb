{
 "cells": [
  {
   "cell_type": "code",
   "execution_count": 1,
   "metadata": {
    "collapsed": true
   },
   "outputs": [],
   "source": [
    "%load_ext autoreload\n",
    "%autoreload 2"
   ]
  },
  {
   "cell_type": "code",
   "execution_count": 2,
   "metadata": {},
   "outputs": [
    {
     "name": "stdout",
     "output_type": "stream",
     "text": [
      "Requirement already satisfied: scipy in /mnt/anaconda/lib/python3.6/site-packages\r\n"
     ]
    }
   ],
   "source": [
    "!pip install scipy"
   ]
  },
  {
   "cell_type": "markdown",
   "metadata": {},
   "source": [
    "## Importing require dependencies and starting a spark context."
   ]
  },
  {
   "cell_type": "code",
   "execution_count": 3,
   "metadata": {},
   "outputs": [
    {
     "name": "stdout",
     "output_type": "stream",
     "text": [
      "Populating the interactive namespace from numpy and matplotlib\n"
     ]
    }
   ],
   "source": [
    "from pyspark import SparkContext\n",
    "sc = SparkContext(pyFiles=['lib/numpy_pack.py','lib/row_parser.py','lib/spark_PCA.py'])\n",
    "\n",
    "from pyspark.sql import Row, SQLContext,DataFrame\n",
    "from pyspark.sql.types import *\n",
    "\n",
    "sqlContext = SQLContext(sc)\n",
    "\n",
    "%pylab inline\n",
    "\n",
    "#!pip install pandas\n",
    "#!pip install scipy\n",
    "\n",
    "import pandas as pd\n",
    "import datetime as dt\n",
    "\n",
    "from scipy.io import loadmat,savemat,whosmat\n",
    "\n",
    "from string import split\n",
    "from collections import Counter\n",
    "import re\n",
    "import numpy as np\n",
    "from numpy import shape\n",
    "\n",
    "from glob import glob\n",
    "from time import time"
   ]
  },
  {
   "cell_type": "markdown",
   "metadata": {},
   "source": [
    "## Loading the Dataset and Parsing the Rows"
   ]
  },
  {
   "cell_type": "code",
   "execution_count": 4,
   "metadata": {
    "scrolled": false
   },
   "outputs": [
    {
     "name": "stdout",
     "output_type": "stream",
     "text": [
      "('time', 'datetime') {'start': 0, 'parser': <function parse_date at 0x7fc72dd8a668>, 'end': 1, 'name': 'time'}\n",
      "('species', 'str') {'start': 1, 'parser': <function parse_string at 0x7fc72dd8a848>, 'end': 2, 'name': 'species'}\n",
      "('site', 'str') {'start': 2, 'parser': <function parse_string at 0x7fc72dd8a848>, 'end': 3, 'name': 'site'}\n",
      "('rec_no', 'str') {'start': 3, 'parser': <function parse_string at 0x7fc72dd8a848>, 'end': 4, 'name': 'rec_no'}\n",
      "('bout_i', 'int') {'start': 4, 'parser': <function parse_int at 0x7fc72dd8a758>, 'end': 5, 'name': 'bout_i'}\n",
      "('peak2peak', 'float') {'start': 5, 'parser': <function parse_float at 0x7fc72dd8a7d0>, 'end': 6, 'name': 'peak2peak'}\n",
      "('MSN', 'array', 202) {'start': 6, 'parser': <function parse_array at 0x7fc72dd8a6e0>, 'end': 208, 'name': 'MSN'}\n",
      "('MSP', 'array', 101) {'start': 208, 'parser': <function parse_array at 0x7fc72dd8a6e0>, 'end': 309, 'name': 'MSP'}\n",
      "('TPWS1', 'bool') {'start': 309, 'parser': <function parse_int at 0x7fc72dd8a758>, 'end': 310, 'name': 'TPWS1'}\n",
      "('MD1', 'bool') {'start': 310, 'parser': <function parse_int at 0x7fc72dd8a758>, 'end': 311, 'name': 'MD1'}\n",
      "('FD1', 'bool') {'start': 311, 'parser': <function parse_int at 0x7fc72dd8a758>, 'end': 312, 'name': 'FD1'}\n",
      "('TPWS2', 'bool') {'start': 312, 'parser': <function parse_int at 0x7fc72dd8a758>, 'end': 313, 'name': 'TPWS2'}\n",
      "('MD2', 'bool') {'start': 313, 'parser': <function parse_int at 0x7fc72dd8a758>, 'end': 314, 'name': 'MD2'}\n",
      "('FD2', 'bool') {'start': 314, 'parser': <function parse_int at 0x7fc72dd8a758>, 'end': 315, 'name': 'FD2'}\n",
      "('TPWS3', 'bool') {'start': 315, 'parser': <function parse_int at 0x7fc72dd8a758>, 'end': 316, 'name': 'TPWS3'}\n",
      "('MD3', 'bool') {'start': 316, 'parser': <function parse_int at 0x7fc72dd8a758>, 'end': 317, 'name': 'MD3'}\n",
      "('FD3', 'bool') {'start': 317, 'parser': <function parse_int at 0x7fc72dd8a758>, 'end': 318, 'name': 'FD3'}\n"
     ]
    }
   ],
   "source": [
    "import sys\n",
    "sys.path.append('lib')\n",
    "from row_parser import *\n",
    "\n",
    "Parse_rules,field_names,RowObject = init_parser_parameters()\n",
    "\n",
    "from pyspark.sql import DataFrame\n",
    "\n",
    "CVS_Data=sc.textFile(\"/CVS/*/\")\n",
    "\n",
    "\n",
    "def parse(row):\n",
    "    items=row.split(',')\n",
    "    D=[]\n",
    "    for pr in Parse_rules:\n",
    "        start=pr['start']\n",
    "        end=pr['end']\n",
    "        parser=pr['parser']\n",
    "        if end-start==1:\n",
    "            D.append(parser(items[start]))\n",
    "        else:\n",
    "            D.append(parser(items[start:end]))\n",
    "    return RowObject(*D)\n",
    "\n",
    "\n",
    "RDD=CVS_Data.map(parse)\n",
    "\n",
    "df=sqlContext.createDataFrame(RDD)"
   ]
  },
  {
   "cell_type": "code",
   "execution_count": 5,
   "metadata": {},
   "outputs": [
    {
     "data": {
      "text/plain": [
       "4144531"
      ]
     },
     "execution_count": 5,
     "metadata": {},
     "output_type": "execute_result"
    }
   ],
   "source": [
    "## Caching the Dataframe\n",
    "df = df.filter(df.TPWS2==1).filter(df.MD2==0).filter(df.FD2==0)\n",
    "df.cache().count()"
   ]
  },
  {
   "cell_type": "markdown",
   "metadata": {},
   "source": [
    "## Functions to Read MSP"
   ]
  },
  {
   "cell_type": "code",
   "execution_count": 6,
   "metadata": {
    "collapsed": true
   },
   "outputs": [],
   "source": [
    "from spark_PCA import *\n",
    "from row_parser import unpackArray\n",
    "\n",
    "def trimmed_spectra(row):\n",
    "    return unpackArray(row.MSP,data_type=numpy.float64)[12:85]\n",
    "\n",
    "def unpackArray(x,data_type=numpy.int16):\n",
    "    return np.frombuffer(x,dtype=data_type)"
   ]
  },
  {
   "cell_type": "markdown",
   "metadata": {},
   "source": [
    "## Eigen Vector Extraction"
   ]
  },
  {
   "cell_type": "code",
   "execution_count": 7,
   "metadata": {},
   "outputs": [
    {
     "name": "stdout",
     "output_type": "stream",
     "text": [
      "shape of E= (73,) shape of NE= (73,)\n"
     ]
    },
    {
     "data": {
      "text/plain": [
       "[<matplotlib.lines.Line2D at 0x7fc7297e2f10>]"
      ]
     },
     "execution_count": 7,
     "metadata": {},
     "output_type": "execute_result"
    },
    {
     "data": {
      "image/png": "[encoded data removed]",
      "text/plain": [
       "<matplotlib.figure.Figure at 0x7fc7682d5610>"
      ]
     },
     "metadata": {},
     "output_type": "display_data"
    }
   ],
   "source": [
    "## Get Spectra\n",
    "spectra=df.rdd.map(trimmed_spectra)\n",
    "\n",
    "## Extract Eigen Vectors\n",
    "COV=computeCov(spectra)\n",
    "eigval,eigvec=LA.eig(COV['Cov'])\n",
    "eigval=eigval/sum(eigval)\n",
    "\n",
    "## Check the Reconstruction\n",
    "plot(cumsum(eigval[:10]))"
   ]
  },
  {
   "cell_type": "code",
   "execution_count": 8,
   "metadata": {
    "collapsed": true
   },
   "outputs": [],
   "source": [
    "## Using First 5 Eigen Vectors\n",
    "V=eigvec[:,0:5]\n",
    "\n",
    "## Defining a function to return Projection\n",
    "def project(array):\n",
    "    return np.dot(array, V)"
   ]
  },
  {
   "cell_type": "markdown",
   "metadata": {
    "collapsed": true
   },
   "source": [
    "## Interclick Interval"
   ]
  },
  {
   "cell_type": "markdown",
   "metadata": {},
   "source": [
    "Writing a UDF to get timestamp with higher precision to calculate Interclick Interval"
   ]
  },
  {
   "cell_type": "code",
   "execution_count": 9,
   "metadata": {
    "collapsed": true
   },
   "outputs": [],
   "source": [
    "from pyspark.sql.window import Window\n",
    "from pyspark.sql.functions import udf, lag, collect_list, col\n",
    "from pyspark.sql.types import DoubleType\n",
    "\n",
    "def unix_ts(x):\n",
    "    from datetime import datetime\n",
    "    y = datetime.utcfromtimestamp(0)\n",
    "    return (x-y).total_seconds()\n",
    "\n",
    "unix_ts_udf = udf(unix_ts, DoubleType())"
   ]
  },
  {
   "cell_type": "markdown",
   "metadata": {},
   "source": [
    "Calculating ICI for a given window of bout by sorting them by unix_ts"
   ]
  },
  {
   "cell_type": "code",
   "execution_count": 10,
   "metadata": {
    "collapsed": true
   },
   "outputs": [],
   "source": [
    "df_with_unix_ts = df.withColumn(\"unix_ts\", unix_ts_udf(df.time))\n",
    "df_with_ici = df_with_unix_ts.withColumn(\"ici\",\n",
    "                                         df_with_unix_ts.unix_ts - lag(df_with_unix_ts.unix_ts, 1).over(\n",
    "                                             Window.partitionBy(\"bout_i\").orderBy(\"unix_ts\")\n",
    "                                         ))"
   ]
  },
  {
   "cell_type": "markdown",
   "metadata": {},
   "source": [
    "### ICI for Gervais"
   ]
  },
  {
   "cell_type": "code",
   "execution_count": 11,
   "metadata": {},
   "outputs": [
    {
     "data": {
      "image/png": "[encoded data removed]",
      "text/plain": [
       "<matplotlib.figure.Figure at 0x7fc729773810>"
      ]
     },
     "metadata": {},
     "output_type": "display_data"
    }
   ],
   "source": [
    "ici_ger=df_with_ici.filter(df_with_ici.species==\"Gervais\").select(\"ici\").rdd.flatMap(lambda x: x).collect()\n",
    "\n",
    "%matplotlib inline\n",
    "import matplotlib.pyplot as plt\n",
    "plt.hist([x for x in ici_ger if x], bins=100, range=(0, 1))\n",
    "plt.show()"
   ]
  },
  {
   "cell_type": "markdown",
   "metadata": {},
   "source": [
    "### ICI with Cuviers"
   ]
  },
  {
   "cell_type": "code",
   "execution_count": 12,
   "metadata": {},
   "outputs": [
    {
     "data": {
      "image/png": "[encoded data removed]",
      "text/plain": [
       "<matplotlib.figure.Figure at 0x7fc72e81a790>"
      ]
     },
     "metadata": {},
     "output_type": "display_data"
    }
   ],
   "source": [
    "ici_cur=df_with_ici.filter(df_with_ici.species==\"Cuviers\").select(\"ici\").rdd.flatMap(lambda x: x).collect()\n",
    "\n",
    "%matplotlib inline\n",
    "import matplotlib.pyplot as plt\n",
    "plt.hist([x for x in ici_cur if x], bins=100, range=(0, 1))\n",
    "plt.show()"
   ]
  },
  {
   "cell_type": "markdown",
   "metadata": {},
   "source": [
    "### ICI Mode per Bout"
   ]
  },
  {
   "cell_type": "markdown",
   "metadata": {},
   "source": [
    "Calculating ICI per bout by taking mode of all the ICI's in the given bout."
   ]
  },
  {
   "cell_type": "code",
   "execution_count": 13,
   "metadata": {},
   "outputs": [
    {
     "data": {
      "text/plain": [
       "821"
      ]
     },
     "execution_count": 13,
     "metadata": {},
     "output_type": "execute_result"
    }
   ],
   "source": [
    "## Trim ICI to Two Decimal Places\n",
    "lookup_grouped = df_with_ici.withColumn('ici_temp', df_with_ici.ici * 100).drop('ici')\n",
    "lookup_grouped = lookup_grouped.withColumn('ici_100', lookup_grouped.ici_temp.cast('bigint')).drop('ici_temp')\n",
    "\n",
    "## Calculate Mode\n",
    "lookup_grouped = lookup_grouped.groupBy(['bout_i', 'ici_100']).count()\n",
    "lookup_grouped_max = lookup_grouped.groupBy('bout_i').agg({'count':'max'}).withColumnRenamed(\"max(count)\", \"max_ct\")\n",
    "lookup_mode = lookup_grouped_max.alias('a').join(lookup_grouped.alias('b'), (col('a.bout_i') == col('b.bout_i')) & (col('a.max_ct') == col('b.count')) , 'left')\n",
    "lookup_mode = lookup_mode.groupBy('a.bout_i').agg({'ici_100':'avg'}).withColumnRenamed(\"avg(ici_100)\", \"mode_ici\")\n",
    "lookup_mode.cache().count()"
   ]
  },
  {
   "cell_type": "markdown",
   "metadata": {},
   "source": [
    "### ICI Median"
   ]
  },
  {
   "cell_type": "code",
   "execution_count": 14,
   "metadata": {},
   "outputs": [
    {
     "data": {
      "text/plain": [
       "DataFrame[bout_i: bigint, median_ici: float]"
      ]
     },
     "execution_count": 14,
     "metadata": {},
     "output_type": "execute_result"
    }
   ],
   "source": [
    "def median(values_list):\n",
    "    med = np.median(values_list)\n",
    "    return float(med)\n",
    "\n",
    "udf_median = udf(median, FloatType())\n",
    "\n",
    "lookup_grouped_median = df_with_ici.groupby(['bout_i'])\n",
    "lookup_median = lookup_grouped_median.agg(udf_median(collect_list('ici')).alias('median_ici'))\n",
    "lookup_median.cache()"
   ]
  },
  {
   "cell_type": "code",
   "execution_count": 15,
   "metadata": {
    "scrolled": false
   },
   "outputs": [
    {
     "data": {
      "text/plain": [
       "4144531"
      ]
     },
     "execution_count": 15,
     "metadata": {},
     "output_type": "execute_result"
    }
   ],
   "source": [
    "df_final = df_with_ici.alias('a').join(lookup_mode.alias('b'), 'bout_i')\n",
    "\n",
    "df_final.cache().count()"
   ]
  },
  {
   "cell_type": "markdown",
   "metadata": {},
   "source": [
    "## Defining Features"
   ]
  },
  {
   "cell_type": "code",
   "execution_count": 16,
   "metadata": {
    "collapsed": true
   },
   "outputs": [],
   "source": [
    "def features(row):\n",
    "    array = trimmed_spectra(row)\n",
    "    rmse = np.std(array)\n",
    "    projections = project(array)\n",
    "    ici = row.mode_ici\n",
    "    peak2peak = row.peak2peak\n",
    "    return np.hstack((projections, [rmse, ici, peak2peak]))"
   ]
  },
  {
   "cell_type": "markdown",
   "metadata": {},
   "source": [
    "## Creating Training and Test Data"
   ]
  },
  {
   "cell_type": "markdown",
   "metadata": {},
   "source": [
    "### Filtering Samples"
   ]
  },
  {
   "cell_type": "markdown",
   "metadata": {},
   "source": [
    "Only taking the samples which were neither Misclassified (MS = 0) nor Falsely Detected (FD = 0)"
   ]
  },
  {
   "cell_type": "code",
   "execution_count": 17,
   "metadata": {
    "collapsed": true
   },
   "outputs": [],
   "source": [
    "Cuviers=df_final.filter(df.species==u'Cuviers')\n",
    "Gervais=df_final.filter(df.species==u'Gervais')"
   ]
  },
  {
   "cell_type": "code",
   "execution_count": 18,
   "metadata": {
    "collapsed": true
   },
   "outputs": [],
   "source": [
    "cuv_bout=Cuviers.groupBy(\"bout_i\").count()\n",
    "ger_bout=Gervais.groupBy(\"bout_i\").count()"
   ]
  },
  {
   "cell_type": "code",
   "execution_count": 19,
   "metadata": {
    "collapsed": true
   },
   "outputs": [],
   "source": [
    "mode_bout = cuv_bout.alias('c').join(ger_bout.alias('d'), (col('c.bout_i') == col('d.bout_i')),'full')\n",
    "mode_bout_list=mode_bout.collect()"
   ]
  },
  {
   "cell_type": "markdown",
   "metadata": {},
   "source": [
    "#### Labelling as Cuviers: 1 and Gervais: 0 for each bout. Labeled if ratio is greater than 0.5"
   ]
  },
  {
   "cell_type": "code",
   "execution_count": 21,
   "metadata": {},
   "outputs": [],
   "source": [
    "label_dict={}\n",
    "for i in mode_bout_list:\n",
    "    bout=i[0]\n",
    "    cuv_count = i[1] if i[1] else 0\n",
    "    ger_count = i[3] if i[3] else 0\n",
    "    ratio_cuv= 1.0 * cuv_count / (cuv_count + ger_count)\n",
    "    label_dict[bout]=(1 if ratio_cuv>=0.65 else (0 if ratio_cuv <=0.35 else 2))"
   ]
  },
  {
   "cell_type": "code",
   "execution_count": 22,
   "metadata": {},
   "outputs": [
    {
     "data": {
      "image/png": "[encoded data removed]",
      "text/plain": [
       "<matplotlib.figure.Figure at 0x7fc7282acdd0>"
      ]
     },
     "metadata": {},
     "output_type": "display_data"
    },
    {
     "data": {
      "image/png": "[encoded data removed]",
      "text/plain": [
       "<matplotlib.figure.Figure at 0x7fc72944bf50>"
      ]
     },
     "metadata": {},
     "output_type": "display_data"
    }
   ],
   "source": [
    "ici_cuv = []\n",
    "ici_ger = []\n",
    "for i in lookup_mode.collect():\n",
    "    bout=i[0]\n",
    "    if label_dict[bout] == 1:\n",
    "        ici_cuv.append(1.0 * i[1] / 100)\n",
    "    else:\n",
    "        ici_ger.append(1.0 * i[1] / 100)  \n",
    "        \n",
    "plt.hist(ici_cuv, bins=10)\n",
    "plt.show()\n",
    "\n",
    "plt.hist(ici_ger, bins=10)\n",
    "plt.show()"
   ]
  },
  {
   "cell_type": "markdown",
   "metadata": {},
   "source": [
    "### median\n"
   ]
  },
  {
   "cell_type": "code",
   "execution_count": 23,
   "metadata": {},
   "outputs": [
    {
     "data": {
      "image/png": "[encoded data removed]",
      "text/plain": [
       "<matplotlib.figure.Figure at 0x7fc7292a95d0>"
      ]
     },
     "metadata": {},
     "output_type": "display_data"
    },
    {
     "data": {
      "image/png": "[encoded data removed]",
      "text/plain": [
       "<matplotlib.figure.Figure at 0x7fc7282bbb10>"
      ]
     },
     "metadata": {},
     "output_type": "display_data"
    }
   ],
   "source": [
    "ici_cuv = []\n",
    "ici_ger = []\n",
    "for i in lookup_median.collect():\n",
    "    bout=i[0]\n",
    "    if label_dict[bout] == 1:\n",
    "        ici_cuv.append(1.0 * i[1])\n",
    "    else:\n",
    "        ici_ger.append(1.0 * i[1])  \n",
    "        \n",
    "plt.hist(ici_cuv, bins=10)\n",
    "plt.show()\n",
    "\n",
    "plt.hist(ici_ger, bins=10)\n",
    "plt.show()"
   ]
  },
  {
   "cell_type": "markdown",
   "metadata": {},
   "source": [
    "## Reasigning Labels"
   ]
  },
  {
   "cell_type": "code",
   "execution_count": 24,
   "metadata": {
    "collapsed": true
   },
   "outputs": [],
   "source": [
    "def convert_to_list(dict_1):\n",
    "    dictlist = []\n",
    "    for key, value in dict_1.iteritems():\n",
    "        temp = [key,value]\n",
    "        dictlist.append(temp)\n",
    "    return dictlist"
   ]
  },
  {
   "cell_type": "code",
   "execution_count": 25,
   "metadata": {
    "collapsed": true
   },
   "outputs": [],
   "source": [
    "l = convert_to_list(label_dict)"
   ]
  },
  {
   "cell_type": "code",
   "execution_count": 26,
   "metadata": {
    "collapsed": true
   },
   "outputs": [],
   "source": [
    "from pyspark.sql.types import StructType\n",
    "from pyspark.sql.types import StructField\n",
    "from pyspark.sql.types import StringType\n",
    "\n",
    "schema = StructType([StructField(\"bout_i\", LongType(), True), StructField(\"bout_label\", IntegerType(), True)])\n",
    "rdd1 = sc.parallelize(l)\n",
    "df_new1 = sqlContext.createDataFrame(rdd1, schema)"
   ]
  },
  {
   "cell_type": "code",
   "execution_count": 27,
   "metadata": {
    "collapsed": true,
    "scrolled": false
   },
   "outputs": [],
   "source": [
    "df_final_rename = df_final.alias('e').join(df_new1.alias('f'), 'bout_i')\n"
   ]
  },
  {
   "cell_type": "code",
   "execution_count": 28,
   "metadata": {
    "collapsed": true
   },
   "outputs": [],
   "source": [
    "Cuviers=df_final_rename.filter(df_final_rename.bout_label==1)\n",
    "Gervais=df_final_rename.filter(df_final_rename.bout_label==0)"
   ]
  },
  {
   "cell_type": "code",
   "execution_count": 29,
   "metadata": {},
   "outputs": [
    {
     "data": {
      "image/png": "[encoded data removed]",
      "text/plain": [
       "<matplotlib.figure.Figure at 0x7fc729222650>"
      ]
     },
     "metadata": {},
     "output_type": "display_data"
    }
   ],
   "source": [
    "ici_ger=Gervais.select(\"ici\").rdd.flatMap(lambda x: x).collect()\n",
    "\n",
    "%matplotlib inline\n",
    "import matplotlib.pyplot as plt\n",
    "plt.hist([x for x in ici_ger if x], bins=100, range=(0, 1))\n",
    "plt.show()"
   ]
  },
  {
   "cell_type": "code",
   "execution_count": 30,
   "metadata": {},
   "outputs": [
    {
     "data": {
      "image/png": "[encoded data removed]",
      "text/plain": [
       "<matplotlib.figure.Figure at 0x7fc7292131d0>"
      ]
     },
     "metadata": {},
     "output_type": "display_data"
    }
   ],
   "source": [
    "ici_ger=Cuviers.select(\"ici\").rdd.flatMap(lambda x: x).collect()\n",
    "\n",
    "%matplotlib inline\n",
    "import matplotlib.pyplot as plt\n",
    "plt.hist([x for x in ici_ger if x], bins=100, range=(0, 1))\n",
    "plt.show()"
   ]
  },
  {
   "cell_type": "code",
   "execution_count": 31,
   "metadata": {},
   "outputs": [
    {
     "data": {
      "image/png": "[encoded data removed]",
      "text/plain": [
       "<matplotlib.figure.Figure at 0x7fc7292a9190>"
      ]
     },
     "metadata": {},
     "output_type": "display_data"
    }
   ],
   "source": [
    "ici_ger=Gervais.select(\"mode_ici\").rdd.flatMap(lambda x: x).collect()\n",
    "\n",
    "%matplotlib inline\n",
    "import matplotlib.pyplot as plt\n",
    "plt.hist([x for x in ici_ger if x], bins=100, range=(0, 100))\n",
    "plt.show()"
   ]
  },
  {
   "cell_type": "code",
   "execution_count": 32,
   "metadata": {},
   "outputs": [
    {
     "data": {
      "image/png": "[encoded data removed]",
      "text/plain": [
       "<matplotlib.figure.Figure at 0x7fc72913d810>"
      ]
     },
     "metadata": {},
     "output_type": "display_data"
    }
   ],
   "source": [
    "ici_ger=Cuviers.select(\"mode_ici\").rdd.flatMap(lambda x: x).collect()\n",
    "\n",
    "%matplotlib inline\n",
    "import matplotlib.pyplot as plt\n",
    "plt.hist([x for x in ici_ger if x], bins=100, range=(0, 100))\n",
    "plt.show()"
   ]
  },
  {
   "cell_type": "markdown",
   "metadata": {},
   "source": [
    "### Feature Extraction"
   ]
  },
  {
   "cell_type": "code",
   "execution_count": 33,
   "metadata": {
    "collapsed": true
   },
   "outputs": [],
   "source": [
    "Cuvier_projections=Cuviers.rdd.map(features)\n",
    "Gervais_projections=Gervais.rdd.map(features)"
   ]
  },
  {
   "cell_type": "markdown",
   "metadata": {},
   "source": [
    "### Adding Labels"
   ]
  },
  {
   "cell_type": "code",
   "execution_count": 34,
   "metadata": {
    "collapsed": true
   },
   "outputs": [],
   "source": [
    "from pyspark.mllib.regression import LabeledPoint\n",
    "Cuvier_samples = Cuvier_projections.map(lambda features:LabeledPoint(1, features))\n",
    "Gervais_samples = Gervais_projections.map(lambda features:LabeledPoint(0, features))"
   ]
  },
  {
   "cell_type": "markdown",
   "metadata": {},
   "source": [
    "Sample Check"
   ]
  },
  {
   "cell_type": "code",
   "execution_count": 35,
   "metadata": {
    "scrolled": false
   },
   "outputs": [
    {
     "data": {
      "text/plain": [
       "[LabeledPoint(1.0, [-214.951054829,18.6825179931,65.4334582605,4.30022217798,1.31022351216,9.59520608467,56.0,46.326])]"
      ]
     },
     "execution_count": 35,
     "metadata": {},
     "output_type": "execute_result"
    }
   ],
   "source": [
    "Cuvier_samples.take(1)"
   ]
  },
  {
   "cell_type": "code",
   "execution_count": 36,
   "metadata": {},
   "outputs": [
    {
     "data": {
      "text/plain": [
       "[LabeledPoint(0.0, [-222.609747255,-23.3386866141,108.94848139,1.08543350696,4.88404630163,9.91000418559,29.0,46.3157])]"
      ]
     },
     "execution_count": 36,
     "metadata": {},
     "output_type": "execute_result"
    }
   ],
   "source": [
    "Gervais_samples.take(1)"
   ]
  },
  {
   "cell_type": "markdown",
   "metadata": {},
   "source": [
    "### Creating Training and Test Data\n",
    "\n",
    "Splitting the randomly shuffled dataset in 80/20 split for traning and testing"
   ]
  },
  {
   "cell_type": "code",
   "execution_count": 37,
   "metadata": {},
   "outputs": [
    {
     "data": {
      "text/plain": [
       "PythonRDD[207] at RDD at PythonRDD.scala:48"
      ]
     },
     "execution_count": 37,
     "metadata": {},
     "output_type": "execute_result"
    }
   ],
   "source": [
    "samples = Cuvier_samples.union(Gervais_samples)\n",
    "[training_data, test_data] = samples.randomSplit([0.8, 0.2])\n",
    "training_data.cache()\n",
    "test_data.cache()"
   ]
  },
  {
   "cell_type": "markdown",
   "metadata": {},
   "source": [
    "### Defining Score Metrics\n",
    "\n",
    "Accuracy is being used as a scoring function"
   ]
  },
  {
   "cell_type": "code",
   "execution_count": 38,
   "metadata": {
    "collapsed": true
   },
   "outputs": [],
   "source": [
    "def score(data, model):\n",
    "    predictions = model.predict(data.map(lambda x: x.features))\n",
    "    labels_and_preds = data.map(lambda x: x.label).zip(predictions)\n",
    "    accuracy = labels_and_preds.filter(lambda x: x[0] == x[1]).count() / float(data.count())\n",
    "    return accuracy"
   ]
  },
  {
   "cell_type": "markdown",
   "metadata": {
    "collapsed": true
   },
   "source": [
    "### Logistic Regression Model"
   ]
  },
  {
   "cell_type": "code",
   "execution_count": 39,
   "metadata": {},
   "outputs": [
    {
     "name": "stderr",
     "output_type": "stream",
     "text": [
      "/usr/lib/spark/python/pyspark/mllib/classification.py:313: UserWarning: Deprecated in 2.0.0. Use ml.classification.LogisticRegression or LogisticRegressionWithLBFGS.\n",
      "  \"Deprecated in 2.0.0. Use ml.classification.LogisticRegression or \"\n"
     ]
    },
    {
     "name": "stdout",
     "output_type": "stream",
     "text": [
      "Training Accuracy:  0.678841929423 , Test Accuracy:  0.678695035912\n"
     ]
    }
   ],
   "source": [
    "from pyspark.mllib.classification import LogisticRegressionWithSGD\n",
    "\n",
    "algo = LogisticRegressionWithSGD()\n",
    "model = algo.train(training_data)\n",
    "print \"Training Accuracy: \", score(training_data, model), \", Test Accuracy: \", score(test_data, model)"
   ]
  },
  {
   "cell_type": "markdown",
   "metadata": {},
   "source": [
    "## SVM Model"
   ]
  },
  {
   "cell_type": "code",
   "execution_count": 40,
   "metadata": {
    "scrolled": false
   },
   "outputs": [
    {
     "name": "stdout",
     "output_type": "stream",
     "text": [
      "Training Accuracy:  0.651530864259 , Test Accuracy:  0.651154099234\n"
     ]
    }
   ],
   "source": [
    "from pyspark.mllib.classification import SVMWithSGD\n",
    "\n",
    "algo = SVMWithSGD()\n",
    "model = algo.train(training_data)\n",
    "print \"Training Accuracy: \", score(training_data, model), \", Test Accuracy: \", score(test_data, model)"
   ]
  },
  {
   "cell_type": "markdown",
   "metadata": {},
   "source": [
    "## Decision Tree"
   ]
  },
  {
   "cell_type": "code",
   "execution_count": 41,
   "metadata": {},
   "outputs": [
    {
     "name": "stdout",
     "output_type": "stream",
     "text": [
      "Training Accuracy:  0.895139211223 , Test Accuracy:  0.894605324104\n"
     ]
    }
   ],
   "source": [
    "from pyspark.mllib.tree import DecisionTree\n",
    "\n",
    "algo = DecisionTree()\n",
    "model = algo.trainClassifier(training_data,numClasses=2,categoricalFeaturesInfo={})\n",
    "print \"Training Accuracy: \", score(training_data, model), \", Test Accuracy: \", score(test_data, model)"
   ]
  },
  {
   "cell_type": "code",
   "execution_count": 42,
   "metadata": {},
   "outputs": [
    {
     "data": {
      "text/plain": [
       "u'DecisionTreeModel classifier of depth 5 with 33 nodes\\n  If (feature 6 <= 30.0)\\n   If (feature 6 <= 27.0)\\n    If (feature 1 <= -20.19542795232453)\\n     If (feature 0 <= -106.61047144163801)\\n      If (feature 6 <= 4.0)\\n       Predict: 1.0\\n      Else (feature 6 > 4.0)\\n       Predict: 0.0\\n     Else (feature 0 > -106.61047144163801)\\n      If (feature 6 <= 24.0)\\n       Predict: 0.0\\n      Else (feature 6 > 24.0)\\n       Predict: 1.0\\n    Else (feature 1 > -20.19542795232453)\\n     If (feature 6 <= 4.0)\\n      If (feature 1 <= -6.266544095925244)\\n       Predict: 1.0\\n      Else (feature 1 > -6.266544095925244)\\n       Predict: 1.0\\n     Else (feature 6 > 4.0)\\n      If (feature 6 <= 24.0)\\n       Predict: 1.0\\n      Else (feature 6 > 24.0)\\n       Predict: 1.0\\n   Else (feature 6 > 27.0)\\n    If (feature 1 <= -10.57972142009637)\\n     If (feature 6 <= 29.0)\\n      If (feature 6 <= 28.5)\\n       Predict: 0.0\\n      Else (feature 6 > 28.5)\\n       Predict: 0.0\\n     Else (feature 6 > 29.0)\\n      If (feature 1 <= -23.126932610621683)\\n       Predict: 0.0\\n      Else (feature 1 > -23.126932610621683)\\n       Predict: 0.0\\n    Else (feature 1 > -10.57972142009637)\\n     If (feature 6 <= 29.0)\\n      If (feature 6 <= 28.5)\\n       Predict: 0.0\\n      Else (feature 6 > 28.5)\\n       Predict: 0.0\\n     Else (feature 6 > 29.0)\\n      If (feature 0 <= -117.39776281856301)\\n       Predict: 0.0\\n      Else (feature 0 > -117.39776281856301)\\n       Predict: 1.0\\n  Else (feature 6 > 30.0)\\n   Predict: 1.0\\n'"
      ]
     },
     "execution_count": 42,
     "metadata": {},
     "output_type": "execute_result"
    }
   ],
   "source": [
    "model.toDebugString()"
   ]
  },
  {
   "cell_type": "markdown",
   "metadata": {},
   "source": [
    "## Random Forest"
   ]
  },
  {
   "cell_type": "code",
   "execution_count": 43,
   "metadata": {},
   "outputs": [
    {
     "name": "stdout",
     "output_type": "stream",
     "text": [
      "Training Accuracy:  0.889506722896 , Test Accuracy:  0.889257762413\n"
     ]
    }
   ],
   "source": [
    "from pyspark.mllib.tree import RandomForest\n",
    "\n",
    "algo = RandomForest()\n",
    "model = algo.trainClassifier(training_data,numClasses=2, maxDepth=3, categoricalFeaturesInfo={},numTrees=100)\n",
    "print \"Training Accuracy: \", score(training_data, model), \", Test Accuracy: \", score(test_data, model)"
   ]
  },
  {
   "cell_type": "code",
   "execution_count": 45,
   "metadata": {},
   "outputs": [
    {
     "name": "stdout",
     "output_type": "stream",
     "text": [
      "Training Accuracy:  0.888854911052 , Test Accuracy:  0.888724994185\n"
     ]
    }
   ],
   "source": [
    "from pyspark.mllib.tree import RandomForest\n",
    "\n",
    "algo = RandomForest()\n",
    "model = algo.trainClassifier(training_data,numClasses=2, categoricalFeaturesInfo={},numTrees=100)\n",
    "print \"Training Accuracy: \", score(training_data, model), \", Test Accuracy: \", score(test_data, model)"
   ]
  },
  {
   "cell_type": "markdown",
   "metadata": {},
   "source": [
    "## GB Trees"
   ]
  },
  {
   "cell_type": "code",
   "execution_count": 44,
   "metadata": {},
   "outputs": [
    {
     "name": "stdout",
     "output_type": "stream",
     "text": [
      "Training Accuracy:  0.899980887467 , Test Accuracy:  0.899362467274\n"
     ]
    }
   ],
   "source": [
    "from pyspark.mllib.tree import GradientBoostedTrees\n",
    "\n",
    "algo = GradientBoostedTrees()\n",
    "model = algo.trainClassifier(training_data,categoricalFeaturesInfo={}, numIterations=100, maxDepth=3)\n",
    "print \"Training Accuracy: \", score(training_data, model), \", Test Accuracy: \", score(test_data, model)"
   ]
  },
  {
   "cell_type": "code",
   "execution_count": 46,
   "metadata": {},
   "outputs": [
    {
     "name": "stdout",
     "output_type": "stream",
     "text": [
      "Training Accuracy:  0.899980887467 , Test Accuracy:  0.899362467274\n"
     ]
    }
   ],
   "source": [
    "from pyspark.mllib.tree import GradientBoostedTrees\n",
    "\n",
    "algo = GradientBoostedTrees()\n",
    "model = algo.trainClassifier(training_data,categoricalFeaturesInfo={}, numIterations=100)\n",
    "print \"Training Accuracy: \", score(training_data, model), \", Test Accuracy: \", score(test_data, model)"
   ]
  },
  {
   "cell_type": "code",
   "execution_count": null,
   "metadata": {
    "collapsed": true
   },
   "outputs": [],
   "source": []
  }
 ],
 "metadata": {
  "kernelspec": {
   "display_name": "Python 2",
   "language": "python",
   "name": "python2"
  },
  "language_info": {
   "codemirror_mode": {
    "name": "ipython",
    "version": 2
   },
   "file_extension": ".py",
   "mimetype": "text/x-python",
   "name": "python",
   "nbconvert_exporter": "python",
   "pygments_lexer": "ipython2",
   "version": "2.7.13"
  }
 },
 "nbformat": 4,
 "nbformat_minor": 1
}
