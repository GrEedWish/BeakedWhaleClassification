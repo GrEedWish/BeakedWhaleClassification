{
 "cells": [
  {
   "cell_type": "code",
   "execution_count": 1,
   "metadata": {},
   "outputs": [],
   "source": [
    "import scipy.io\n",
    "import numpy as np\n",
    "from collections import defaultdict\n",
    "from scipy.sparse import dok_matrix"
   ]
  },
  {
   "cell_type": "code",
   "execution_count": 2,
   "metadata": {},
   "outputs": [],
   "source": [
    "def findMaxIndex(mat, maxLength=None):\n",
    "    size = 0\n",
    "    for nset in mat['nodeSet'][0]:\n",
    "        if maxLength:\n",
    "            size = max(maxLength+1, size)\n",
    "        else:\n",
    "            size = max(np.max(nset.flatten())+1, size)\n",
    "    return size\n",
    "\n",
    "def convertToCluster(mat, maxLength=None):\n",
    "    # label 0 are nodes ioslated or label paddings\n",
    "    size = findMaxIndex(mat, maxLength)\n",
    "    clusters = np.zeros(size)\n",
    "    label = 1\n",
    "    for nset in mat['nodeSet'][0]:\n",
    "        clusters[nset.flatten()] = label\n",
    "        label += 1\n",
    "    return clusters"
   ]
  },
  {
   "cell_type": "code",
   "execution_count": 38,
   "metadata": {},
   "outputs": [
    {
     "data": {
      "text/plain": [
       "array([[ 0.,  1.,  0., ..., 11.,  0.,  0.],\n",
       "       [ 0.,  3.,  0., ...,  0.,  0.,  0.],\n",
       "       [ 0., 10.,  0., ...,  0.,  0.,  0.],\n",
       "       ...,\n",
       "       [ 0.,  2.,  0., ...,  0.,  0.,  0.],\n",
       "       [ 0.,  2.,  0., ...,  0.,  0.,  0.],\n",
       "       [ 0.,  2.,  0., ..., 10.,  0.,  0.]])"
      ]
     },
     "execution_count": 38,
     "metadata": {},
     "output_type": "execute_result"
    }
   ],
   "source": [
    "import os\n",
    "out_dir = 'composite_cluster_outputs_all_85/'\n",
    "\n",
    "clusters = []\n",
    "for file in os.listdir(out_dir):\n",
    "    if not file.endswith('mat'): continue\n",
    "    path = out_dir + file\n",
    "    mat = scipy.io.loadmat(path)\n",
    "    clusters.append(convertToCluster(mat, maxLength=5245))\n",
    "lables = np.array(clusters)\n",
    "# np.save('composite_cluster_all_85', labels)\n",
    "labels, labels.shape"
   ]
  },
  {
   "cell_type": "code",
   "execution_count": 42,
   "metadata": {},
   "outputs": [],
   "source": [
    "def createLabelVector(labels):\n",
    "    mruns, nsamples = labels.shape\n",
    "    return [tuple(labels[:,i]) for i in range(nsamples)]"
   ]
  },
  {
   "cell_type": "code",
   "execution_count": 43,
   "metadata": {},
   "outputs": [],
   "source": [
    "def countLabelVector(labelVectors):\n",
    "    lv_dict = defaultdict(int)\n",
    "    for lv in labelVectors:\n",
    "        lv_dict[lv] += 1\n",
    "    return lv_dict"
   ]
  },
  {
   "cell_type": "code",
   "execution_count": 44,
   "metadata": {},
   "outputs": [],
   "source": [
    "def computeHammingDistance(t1, t2):\n",
    "    return sum([t1[i] != t2[i] for i in range(len(t1))])"
   ]
  },
  {
   "cell_type": "code",
   "execution_count": 45,
   "metadata": {},
   "outputs": [],
   "source": [
    "def most_common(lst):\n",
    "    return int(max(((item, lst.count(item)) for item in set(lst)), key=lambda a: a[1])[0])"
   ]
  },
  {
   "cell_type": "code",
   "execution_count": 70,
   "metadata": {},
   "outputs": [],
   "source": [
    "# create edges between label vector if the hamming distance is smaller than a threshold\n",
    "# the weight of the edge is scaled to ampify the hamming distance effect\n",
    "def createEdges(keys, dist=10, scaling=-10.0):\n",
    "    n = len(keys)\n",
    "    dokmat = dok_matrix((n, n))\n",
    "    for i in range(n):\n",
    "        for j in range(i+1, n):\n",
    "            if (computeHammingDistance(keys[i], keys[j]) <= dist):\n",
    "                dokmat[i,j] = np.exp((computeHammingDistance(keys[i], keys[j])-1)/scaling)\n",
    "    return dokmat.tocoo()"
   ]
  },
  {
   "cell_type": "markdown",
   "metadata": {},
   "source": [
    "# load existing label vectors"
   ]
  },
  {
   "cell_type": "code",
   "execution_count": 5,
   "metadata": {},
   "outputs": [
    {
     "data": {
      "text/plain": [
       "(20, 5246)"
      ]
     },
     "execution_count": 5,
     "metadata": {},
     "output_type": "execute_result"
    }
   ],
   "source": [
    "labels = np.load('composite_cluster_all_85.npy')\n",
    "labels = labels.astype(int)\n",
    "labels.shape"
   ]
  },
  {
   "cell_type": "code",
   "execution_count": 17,
   "metadata": {},
   "outputs": [
    {
     "data": {
      "text/plain": [
       "(500, 3845)"
      ]
     },
     "execution_count": 17,
     "metadata": {},
     "output_type": "execute_result"
    }
   ],
   "source": [
    "# labels = np.load('composite_cluster_outputs_CINMS_80.npy')\n",
    "# labels = labels.astype(int)\n",
    "# labels.shape"
   ]
  },
  {
   "cell_type": "code",
   "execution_count": 73,
   "metadata": {
    "scrolled": true
   },
   "outputs": [
    {
     "data": {
      "text/plain": [
       "(108, 5246)"
      ]
     },
     "execution_count": 73,
     "metadata": {},
     "output_type": "execute_result"
    }
   ],
   "source": [
    "# row iterations, column samples\n",
    "labels.shape"
   ]
  },
  {
   "cell_type": "code",
   "execution_count": 72,
   "metadata": {},
   "outputs": [
    {
     "data": {
      "text/plain": [
       "array([[ 0.,  1.,  0., ..., 11.,  0.,  0.],\n",
       "       [ 0.,  3.,  0., ...,  0.,  0.,  0.],\n",
       "       [ 0., 10.,  0., ...,  0.,  0.,  0.],\n",
       "       ...,\n",
       "       [ 0.,  2.,  0., ...,  0.,  0.,  0.],\n",
       "       [ 0.,  2.,  0., ...,  0.,  0.,  0.],\n",
       "       [ 0.,  2.,  0., ..., 10.,  0.,  0.]])"
      ]
     },
     "execution_count": 72,
     "metadata": {},
     "output_type": "execute_result"
    }
   ],
   "source": [
    "labels"
   ]
  },
  {
   "cell_type": "code",
   "execution_count": 74,
   "metadata": {},
   "outputs": [
    {
     "data": {
      "text/plain": [
       "array([14, 14, 13, 15, 14, 13, 15, 14, 14, 14, 14, 14, 15, 15, 15, 14, 14,\n",
       "       14, 15, 15, 14, 14, 15, 14, 15, 14, 15, 15, 15, 14, 15, 15, 14, 15,\n",
       "       14, 15, 15, 15, 13, 15, 15, 14, 14, 14, 14, 15, 14, 14, 15, 15, 12,\n",
       "       14, 16, 14, 14, 13, 14, 15, 15, 15, 14, 15, 15, 15, 14, 15, 14, 14,\n",
       "       15, 14, 13, 13, 15, 15, 14, 15, 12, 14, 15, 15, 15, 15, 14, 15, 13,\n",
       "       15, 15, 13, 15, 15, 14, 14, 15, 15, 15, 14, 15, 15, 14, 14, 14, 14,\n",
       "       14, 14, 14, 14, 14, 15])"
      ]
     },
     "execution_count": 74,
     "metadata": {},
     "output_type": "execute_result"
    }
   ],
   "source": [
    "# how many different clusters do Kait's clustering algorithm give us each time?\n",
    "counts = np.sort(labels,axis=1)\n",
    "(counts[:,1:] != counts[:,:-1]).sum(axis=1)+1"
   ]
  },
  {
   "cell_type": "code",
   "execution_count": 56,
   "metadata": {},
   "outputs": [
    {
     "data": {
      "text/plain": [
       "32"
      ]
     },
     "execution_count": 56,
     "metadata": {},
     "output_type": "execute_result"
    }
   ],
   "source": [
    "# 0s are paddings or without actual meaning\n",
    "lv_dict = countLabelVector(createLabelVector(labels))\n",
    "keys = list(lv_dict)\n",
    "keys = list(filter(lambda key: most_common(key) != 0, keys))\n",
    "len(keys)"
   ]
  },
  {
   "cell_type": "code",
   "execution_count": 65,
   "metadata": {},
   "outputs": [],
   "source": [
    "coomat = createEdges(keys, dist=100)"
   ]
  },
  {
   "cell_type": "code",
   "execution_count": 66,
   "metadata": {},
   "outputs": [],
   "source": [
    "nodes = []\n",
    "for i, key in enumerate(keys):\n",
    "    nodes.append({'id': i, \n",
    "                  'r': lv_dict[key],\n",
    "                  'group': most_common(key)\n",
    "                 })\n",
    "links = []\n",
    "for i, j, v in zip(coomat.row, coomat.col, coomat.data):\n",
    "    links.append({'source': int(i), \n",
    "                  'target': int(j),\n",
    "                  'weight': v*10,\n",
    "                 })"
   ]
  },
  {
   "cell_type": "code",
   "execution_count": 67,
   "metadata": {},
   "outputs": [],
   "source": [
    "import json\n",
    "with open('nodes.json', 'w') as f:\n",
    "    json.dump(nodes, f)\n",
    "with open('links.json', 'w') as f:\n",
    "    json.dump(links, f)"
   ]
  },
  {
   "cell_type": "markdown",
   "metadata": {},
   "source": [
    "Use the saved json files to visualize the effects:\n",
    "\n",
    "https://observablehq.com/@jingwu010/force-directed-graph"
   ]
  },
  {
   "cell_type": "code",
   "execution_count": 68,
   "metadata": {},
   "outputs": [
    {
     "data": {
      "text/plain": [
       "[{'source': 0, 'target': 1, 'weight': 0.0012340980408667955},\n",
       " {'source': 0, 'target': 2, 'weight': 10.0},\n",
       " {'source': 0, 'target': 3, 'weight': 10.0},\n",
       " {'source': 0, 'target': 4, 'weight': 0.001507330750954765},\n",
       " {'source': 0, 'target': 9, 'weight': 1.224564282529819},\n",
       " {'source': 0, 'target': 12, 'weight': 10.0},\n",
       " {'source': 0, 'target': 18, 'weight': 0.0006128349505322213},\n",
       " {'source': 0, 'target': 19, 'weight': 0.0030353913807886677},\n",
       " {'source': 0, 'target': 20, 'weight': 6.065306597126334},\n",
       " {'source': 0, 'target': 22, 'weight': 0.0012340980408667955},\n",
       " {'source': 0, 'target': 27, 'weight': 10.0},\n",
       " {'source': 0, 'target': 28, 'weight': 0.0008272406555663223},\n",
       " {'source': 1, 'target': 2, 'weight': 0.001363889264820114},\n",
       " {'source': 1, 'target': 3, 'weight': 0.0012340980408667955},\n",
       " {'source': 1, 'target': 4, 'weight': 9.048374180359595},\n",
       " {'source': 1, 'target': 9, 'weight': 0.0007485182988770059},\n",
       " {'source': 1, 'target': 12, 'weight': 0.0012340980408667955},\n",
       " {'source': 1, 'target': 19, 'weight': 4.493289641172216},\n",
       " {'source': 1, 'target': 20, 'weight': 0.0011166580849011477},\n",
       " {'source': 1, 'target': 22, 'weight': 4.493289641172216},\n",
       " {'source': 1, 'target': 27, 'weight': 0.0012340980408667955},\n",
       " {'source': 2, 'target': 3, 'weight': 10.0},\n",
       " {'source': 2, 'target': 4, 'weight': 0.0016658581098763353},\n",
       " {'source': 2, 'target': 9, 'weight': 1.224564282529819},\n",
       " {'source': 2, 'target': 12, 'weight': 10.0},\n",
       " {'source': 2, 'target': 18, 'weight': 0.0006128349505322213},\n",
       " {'source': 2, 'target': 19, 'weight': 0.0033546262790251184},\n",
       " {'source': 2, 'target': 20, 'weight': 5.488116360940265},\n",
       " {'source': 2, 'target': 22, 'weight': 0.001363889264820114},\n",
       " {'source': 2, 'target': 27, 'weight': 10.0},\n",
       " {'source': 2, 'target': 28, 'weight': 0.0008272406555663223},\n",
       " {'source': 3, 'target': 4, 'weight': 0.001507330750954765},\n",
       " {'source': 3, 'target': 9, 'weight': 1.353352832366127},\n",
       " {'source': 3, 'target': 12, 'weight': 10.0},\n",
       " {'source': 3, 'target': 18, 'weight': 0.0006128349505322213},\n",
       " {'source': 3, 'target': 19, 'weight': 0.0030353913807886677},\n",
       " {'source': 3, 'target': 20, 'weight': 5.488116360940265},\n",
       " {'source': 3, 'target': 22, 'weight': 0.0012340980408667955},\n",
       " {'source': 3, 'target': 27, 'weight': 10.0},\n",
       " {'source': 3, 'target': 28, 'weight': 0.0008272406555663223},\n",
       " {'source': 4, 'target': 9, 'weight': 0.0009142423147817327},\n",
       " {'source': 4, 'target': 12, 'weight': 0.001507330750954765},\n",
       " {'source': 4, 'target': 19, 'weight': 3.6787944117144233},\n",
       " {'source': 4, 'target': 20, 'weight': 0.001363889264820114},\n",
       " {'source': 4, 'target': 22, 'weight': 3.6787944117144233},\n",
       " {'source': 4, 'target': 27, 'weight': 0.001507330750954765},\n",
       " {'source': 5, 'target': 7, 'weight': 0.0006128349505322213},\n",
       " {'source': 5, 'target': 13, 'weight': 0.000677287364908539},\n",
       " {'source': 5, 'target': 15, 'weight': 8.187307530779819},\n",
       " {'source': 5, 'target': 16, 'weight': 10.0},\n",
       " {'source': 7, 'target': 10, 'weight': 5.488116360940265},\n",
       " {'source': 7, 'target': 13, 'weight': 10.0},\n",
       " {'source': 7, 'target': 15, 'weight': 0.0005545159943217695},\n",
       " {'source': 7, 'target': 16, 'weight': 0.0006128349505322213},\n",
       " {'source': 8, 'target': 30, 'weight': 3.3287108369807954},\n",
       " {'source': 9, 'target': 12, 'weight': 1.224564282529819},\n",
       " {'source': 9, 'target': 18, 'weight': 0.0006128349505322213},\n",
       " {'source': 9, 'target': 19, 'weight': 0.001841057936675792},\n",
       " {'source': 9, 'target': 20, 'weight': 0.820849986238988},\n",
       " {'source': 9, 'target': 22, 'weight': 0.0007485182988770059},\n",
       " {'source': 9, 'target': 27, 'weight': 1.224564282529819},\n",
       " {'source': 9, 'target': 28, 'weight': 0.0008272406555663223},\n",
       " {'source': 10, 'target': 13, 'weight': 4.965853037914095},\n",
       " {'source': 12, 'target': 18, 'weight': 0.000677287364908539},\n",
       " {'source': 12, 'target': 19, 'weight': 0.0030353913807886677},\n",
       " {'source': 12, 'target': 20, 'weight': 5.488116360940265},\n",
       " {'source': 12, 'target': 22, 'weight': 0.0012340980408667955},\n",
       " {'source': 12, 'target': 27, 'weight': 10.0},\n",
       " {'source': 12, 'target': 28, 'weight': 0.0008272406555663223},\n",
       " {'source': 13, 'target': 15, 'weight': 0.0006128349505322213},\n",
       " {'source': 13, 'target': 16, 'weight': 0.000677287364908539},\n",
       " {'source': 15, 'target': 16, 'weight': 7.4081822068171785},\n",
       " {'source': 17, 'target': 18, 'weight': 4.065696597405991},\n",
       " {'source': 17, 'target': 24, 'weight': 6.065306597126334},\n",
       " {'source': 17, 'target': 29, 'weight': 0.06096746565515638},\n",
       " {'source': 17, 'target': 30, 'weight': 0.0007485182988770059},\n",
       " {'source': 18, 'target': 20, 'weight': 0.0005017468205617528},\n",
       " {'source': 18, 'target': 24, 'weight': 7.4081822068171785},\n",
       " {'source': 18, 'target': 27, 'weight': 0.0006128349505322213},\n",
       " {'source': 18, 'target': 29, 'weight': 0.03697863716482932},\n",
       " {'source': 18, 'target': 30, 'weight': 0.0006128349505322213},\n",
       " {'source': 19, 'target': 20, 'weight': 0.0024851682710795185},\n",
       " {'source': 19, 'target': 22, 'weight': 4.493289641172216},\n",
       " {'source': 19, 'target': 27, 'weight': 0.0030353913807886677},\n",
       " {'source': 20, 'target': 22, 'weight': 0.0012340980408667955},\n",
       " {'source': 20, 'target': 27, 'weight': 5.488116360940265},\n",
       " {'source': 20, 'target': 28, 'weight': 0.0007485182988770059},\n",
       " {'source': 21, 'target': 29, 'weight': 0.040867714384640666},\n",
       " {'source': 21, 'target': 31, 'weight': 9.048374180359595},\n",
       " {'source': 22, 'target': 27, 'weight': 0.0012340980408667955},\n",
       " {'source': 24, 'target': 29, 'weight': 0.040867714384640666},\n",
       " {'source': 24, 'target': 30, 'weight': 0.000677287364908539},\n",
       " {'source': 26, 'target': 28, 'weight': 4.493289641172216},\n",
       " {'source': 27, 'target': 28, 'weight': 0.0009142423147817327},\n",
       " {'source': 29, 'target': 30, 'weight': 0.0005017468205617528},\n",
       " {'source': 29, 'target': 31, 'weight': 0.040867714384640666}]"
      ]
     },
     "execution_count": 68,
     "metadata": {},
     "output_type": "execute_result"
    }
   ],
   "source": [
    "links"
   ]
  },
  {
   "cell_type": "code",
   "execution_count": 36,
   "metadata": {},
   "outputs": [
    {
     "data": {
      "text/plain": [
       "[{'id': 0, 'r': 282, 'group': 2},\n",
       " {'id': 1, 'r': 53, 'group': 1},\n",
       " {'id': 2, 'r': 3, 'group': 2},\n",
       " {'id': 3, 'r': 249, 'group': 2},\n",
       " {'id': 4, 'r': 7, 'group': 1},\n",
       " {'id': 5, 'r': 2854, 'group': 4},\n",
       " {'id': 6, 'r': 71, 'group': 2},\n",
       " {'id': 7, 'r': 24, 'group': 9},\n",
       " {'id': 8, 'r': 184, 'group': 5},\n",
       " {'id': 9, 'r': 6, 'group': 2},\n",
       " {'id': 10, 'r': 100, 'group': 9},\n",
       " {'id': 11, 'r': 113, 'group': 7},\n",
       " {'id': 12, 'r': 1, 'group': 2},\n",
       " {'id': 13, 'r': 125, 'group': 6},\n",
       " {'id': 14, 'r': 1, 'group': 4},\n",
       " {'id': 15, 'r': 267, 'group': 11},\n",
       " {'id': 16, 'r': 1, 'group': 11},\n",
       " {'id': 17, 'r': 1, 'group': 1},\n",
       " {'id': 18, 'r': 2, 'group': 2},\n",
       " {'id': 19, 'r': 178, 'group': 8},\n",
       " {'id': 20, 'r': 1, 'group': 1},\n",
       " {'id': 21, 'r': 26, 'group': 10},\n",
       " {'id': 22, 'r': 33, 'group': 13},\n",
       " {'id': 23, 'r': 84, 'group': 12},\n",
       " {'id': 24, 'r': 12, 'group': 2},\n",
       " {'id': 25, 'r': 2, 'group': 12},\n",
       " {'id': 26, 'r': 3, 'group': 8},\n",
       " {'id': 27, 'r': 2, 'group': 5},\n",
       " {'id': 28, 'r': 3, 'group': 8}]"
      ]
     },
     "execution_count": 36,
     "metadata": {},
     "output_type": "execute_result"
    }
   ],
   "source": [
    "nodes"
   ]
  },
  {
   "cell_type": "code",
   "execution_count": 51,
   "metadata": {},
   "outputs": [],
   "source": [
    "hamming_distances = []\n",
    "n = len(keys)\n",
    "for i in range(n):\n",
    "    for j in range(i, n):\n",
    "        hamming_distances.append(computeHammingDistance(keys[i], keys[j]))"
   ]
  },
  {
   "cell_type": "code",
   "execution_count": 52,
   "metadata": {},
   "outputs": [
    {
     "name": "stdout",
     "output_type": "stream",
     "text": [
      "Populating the interactive namespace from numpy and matplotlib\n"
     ]
    },
    {
     "name": "stderr",
     "output_type": "stream",
     "text": [
      "/usr/local/lib/python3.7/site-packages/IPython/core/magics/pylab.py:160: UserWarning: pylab import has clobbered these variables: ['mat', 'f']\n",
      "`%matplotlib` prevents importing * from pylab and numpy\n",
      "  \"\\n`%matplotlib` prevents importing * from pylab and numpy\"\n"
     ]
    }
   ],
   "source": [
    "%pylab inline"
   ]
  },
  {
   "cell_type": "code",
   "execution_count": 54,
   "metadata": {},
   "outputs": [
    {
     "data": {
      "image/png": "[encoded data removed]",
      "text/plain": [
       "<Figure size 432x288 with 1 Axes>"
      ]
     },
     "metadata": {
      "needs_background": "light"
     },
     "output_type": "display_data"
    }
   ],
   "source": [
    "hist(hamming_distances);"
   ]
  },
  {
   "cell_type": "code",
   "execution_count": null,
   "metadata": {},
   "outputs": [],
   "source": []
  }
 ],
 "metadata": {
  "kernelspec": {
   "display_name": "Python 3",
   "language": "python",
   "name": "python3"
  },
  "language_info": {
   "codemirror_mode": {
    "name": "ipython",
    "version": 3
   },
   "file_extension": ".py",
   "mimetype": "text/x-python",
   "name": "python",
   "nbconvert_exporter": "python",
   "pygments_lexer": "ipython3",
   "version": "3.7.3"
  }
 },
 "nbformat": 4,
 "nbformat_minor": 2
}
