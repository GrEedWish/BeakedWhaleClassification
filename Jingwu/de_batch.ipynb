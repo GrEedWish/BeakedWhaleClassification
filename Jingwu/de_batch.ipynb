{
 "cells": [
  {
   "cell_type": "code",
   "execution_count": 25,
   "metadata": {},
   "outputs": [],
   "source": [
    "import yaml\n",
    "def load_config(config_file):\n",
    "    with open(config_file, 'r') as stream:\n",
    "        try:\n",
    "            return yaml.safe_load(stream)\n",
    "        except yaml.YAMLError as exc:\n",
    "            print(exc)"
   ]
  },
  {
   "cell_type": "code",
   "execution_count": 26,
   "metadata": {},
   "outputs": [],
   "source": [
    "from collections import namedtuple\n",
    "config = load_config('settings_detector_xwav_default.yaml')\n",
    "# detParams = namedtuple('detParams', config.keys())(*config.values())\n",
    "# detParams = DetParams(**config)\n",
    "detParams = type('DetParams',(object,),config)()"
   ]
  },
  {
   "cell_type": "code",
   "execution_count": 27,
   "metadata": {},
   "outputs": [],
   "source": [
    "from wavio import *\n",
    "from functions import *\n",
    "from detection import *"
   ]
  },
  {
   "cell_type": "code",
   "execution_count": 28,
   "metadata": {},
   "outputs": [],
   "source": [
    "dt_buildDirs(detParams)"
   ]
  },
  {
   "cell_type": "code",
   "execution_count": 29,
   "metadata": {},
   "outputs": [
    {
     "data": {
      "text/plain": [
       "(['/Users/Jim/Documents/Project/WhaleClassification/WAT_NC_01/Arctic_C2_10_150728_020000.x.wav'],\n",
       " ['/Users/Jim/Documents/Project/WhaleClassification/output/Arctic_C2_10_150728_020000_metadata/Arctic_C2_10_150728_020000.c'])"
      ]
     },
     "execution_count": 29,
     "metadata": {},
     "output_type": "execute_result"
    }
   ],
   "source": [
    "fullFileNames = fn_findXWAVs(detParams.baseDir, 'x.wav')\n",
    "fullLabels = fn_getFileset(detParams.metaDir, fullFileNames)\n",
    "fullFileNames, fullLabels"
   ]
  },
  {
   "cell_type": "code",
   "execution_count": 30,
   "metadata": {},
   "outputs": [
    {
     "data": {
      "text/plain": [
       "{'end': <wavio.start at 0x10f324e90>,\n",
       " 'fType': 'xwav',\n",
       " 'fs': 200000,\n",
       " 'nBits': 16,\n",
       " 'nch': 1,\n",
       " 'raw': <wavio.raw at 0x10f324810>,\n",
       " 'samp': <wavio.sample at 0x1070c6710>,\n",
       " 'start': <wavio.start at 0x10f324f90>,\n",
       " 'xgain': 1,\n",
       " 'xhd': <wavio.xhd at 0x10f18cbd0>}"
      ]
     },
     "execution_count": 30,
     "metadata": {},
     "output_type": "execute_result"
    }
   ],
   "source": [
    "currentRecFile = fullFileNames[0]\n",
    "hdr = io_readXWavHeader(currentRecFile)\n",
    "vars(hdr)"
   ]
  },
  {
   "cell_type": "code",
   "execution_count": 31,
   "metadata": {},
   "outputs": [
    {
     "data": {
      "text/plain": [
       "(array([   0.        ,   75.00000001,  150.00000002,  225.00000003,\n",
       "         300.00000003,  375.00000004,  450.00000005,  525.00000006,\n",
       "         900.00000003,  975.00000003, 1050.00000004, 1125.00000005,\n",
       "        1200.00000006, 1274.99999999, 1350.        , 1425.00000001,\n",
       "        1800.00000005, 1875.00000006, 1949.99999999, 2025.        ,\n",
       "        2100.00000001, 2175.00000002, 2250.00000003, 2325.00000003,\n",
       "        2700.        , 2775.00000001, 2850.00000002, 2925.00000003,\n",
       "        3000.00000003, 3075.00000004]),\n",
       " array([  74.99999506,  149.99999499,  224.999995  ,  299.99999501,\n",
       "         374.99999501,  449.99999502,  524.99999503,  599.99999504,\n",
       "         974.99999501, 1049.99999501, 1124.99999502, 1199.99999503,\n",
       "        1274.99999504, 1349.99999505, 1424.99999506, 1499.99999499,\n",
       "        1874.99999503, 1949.99999504, 2024.99999505, 2099.99999506,\n",
       "        2174.99999499, 2249.999995  , 2324.99999501, 2399.99999501,\n",
       "        2774.99999506, 2849.99999499, 2924.999995  , 2999.99999501,\n",
       "        3074.99999501, 3149.99999502]))"
      ]
     },
     "execution_count": 31,
     "metadata": {},
     "output_type": "execute_result"
    }
   ],
   "source": [
    "startsSec, stopsSec = dt_chooseSegmentsRaw(hdr)\n",
    "startsSec, stopsSec"
   ]
  },
  {
   "cell_type": "code",
   "execution_count": 32,
   "metadata": {
    "scrolled": false
   },
   "outputs": [],
   "source": [
    "previousFs, _ = fn_buildFilters(detParams, hdr.fs)\n",
    "# detParams.previousFs = previousFs\n",
    "params = fn_interp_tf(detParams)\n",
    "if 'countThresh' not in vars(detParams) or detParams.countThresh == 0:\n",
    "    detParams.countThresh = (10**((detParams.dBppThreshold - np.median(detParams.xfrOffset))/20))/2"
   ]
  },
  {
   "cell_type": "markdown",
   "metadata": {},
   "source": [
    "--ends in *dt_batch* #57 ---"
   ]
  },
  {
   "cell_type": "markdown",
   "metadata": {},
   "source": [
    "## Starts from here"
   ]
  },
  {
   "cell_type": "code",
   "execution_count": 33,
   "metadata": {
    "scrolled": false
   },
   "outputs": [
    {
     "name": "stdout",
     "output_type": "stream",
     "text": [
      "15000000\n",
      "[[0. 0.]] [170.0, 470.0]\n",
      "[[475. 574.]] [150.0, 450.0]\n",
      "[[424. 690.]] [150.0, 450.0]\n",
      "[[470. 573.]] [150.0, 450.0]\n",
      "[[423. 539.]] [150.0, 450.0]\n",
      "[[0. 0.]] [150.0, 450.0]\n",
      "[[479. 636.]] [150.0, 450.0]\n",
      "[[420. 596.]] [150.0, 450.0]\n",
      "[[488. 572.]] [150.0, 450.0]\n",
      "[[466. 664.]] [150.0, 450.0]\n",
      "[[481. 629.]] [150.0, 450.0]\n",
      "[[476. 633.]] [150.0, 450.0]\n",
      "[[468. 652.]] [150.0, 450.0]\n",
      "[[472. 617.]] [150.0, 450.0]\n",
      "[[472. 571.]] [150.0, 450.0]\n",
      "[[474. 581.]] [150.0, 450.0]\n",
      "[[ 465.  657.]\n",
      " [1460. 1735.]] [705.0, 1005.0]\n",
      "[[467. 661.]] [150.0, 450.0]\n",
      "[[460. 588.]] [150.0, 450.0]\n",
      "[[463. 594.]] [150.0, 450.0]\n",
      "[[475. 736.]] [150.0, 450.0]\n",
      "[[ 466.  573.]\n",
      " [1062. 1253.]] [650.0, 950.0]\n",
      "[[463. 606.]] [150.0, 450.0]\n",
      "[[470. 524.]\n",
      " [732. 849.]] [150.0, 450.0]\n",
      "[[476. 608.]] [150.0, 450.0]\n",
      "[[464. 612.]] [150.0, 450.0]\n",
      "[[ 474.  622.]\n",
      " [1326. 1444.]\n",
      " [   0.    0.]\n",
      " [4276. 4421.]\n",
      " [5334. 5493.]] [3040.0, 3340.0]\n",
      "[[455. 567.]] [150.0, 450.0]\n",
      "[[474. 540.]] [150.0, 450.0]\n",
      "[[446. 523.]] [150.0, 450.0]\n",
      "[[490. 778.]] [150.0, 450.0]\n",
      "[[ 480.  554.]\n",
      " [1056. 1263.]] [658.0, 958.0]\n",
      "[[ 473.  580.]\n",
      " [ 971. 1141.]] [650.0, 950.0]\n",
      "[[472. 740.]] [150.0, 450.0]\n",
      "[[467. 565.]] [150.0, 450.0]\n",
      "[[482. 518.]] [150.0, 450.0]\n",
      "[[478. 606.]] [150.0, 450.0]\n"
     ]
    }
   ],
   "source": [
    "from __future__ import division\n",
    "import numpy as np\n",
    "from scipy.signal import filtfilt\n",
    "\n",
    "cParams = dt_init_cParams(detParams) # set up storage for HR output.\n",
    "sIdx = 1\n",
    "# Open audio file\n",
    "with open(currentRecFile, 'r') as fh:\n",
    "    buffSamples = int(detParams.LRbuffer*hdr.fs)\n",
    "    # Loop through search area, running short term detectors\n",
    "    detParams.clickSampleLims = np.int64(np.ceil((hdr.fs/10**6)*\\\n",
    "                                         np.array([detParams.delphClickDurLims[0]*.75,\\\n",
    "                                         detParams.delphClickDurLims[1]*1.25])))\n",
    "    \n",
    "    # [TODO] k for loop\n",
    "    k =0\n",
    "    startK = startsSec[k]\n",
    "    stopK = stopsSec[k]\n",
    "    \n",
    "    # [TODO] Read in data segment for WAV format\n",
    "    dat = io_readRaw(fh, hdr, k, detParams.channel)\n",
    "    \n",
    "    # bandpass\n",
    "    if detParams.filterSignal:\n",
    "        padlen = 3*(max(len(detParams.fB),len(detParams.fA))-1)\n",
    "        filtData = filtfilt(detParams.fB, detParams.fA, dat, padtype='odd', padlen=padlen)\n",
    "    else:\n",
    "        filtData = dat\n",
    "        \n",
    "    energy = filtData ** 2\n",
    "    \n",
    "    ### Run LR detection to identify candidates\n",
    "    detectionsSample,detectionsSec =  dt_LR(energy,hdr,buffSamples,startK,stopK,detParams)\n",
    "    \n",
    "    # [2/9]\n",
    "    # [FUTURE] PARALLEL in detectionsSample\n",
    "    for iD in range(len(detectionsSample)):\n",
    "        # [FUTURE] HOW TO EXTRACT SUBARRAY FROM NP ARRAY WITH DIFFERENT LENGTH\n",
    "        filtSegment = filtData[detectionsSample[iD][0]:detectionsSample[iD][1]+1]\n",
    "        clicks, noise = dt_HR(detParams, hdr, filtSegment)\n",
    "        print clicks, noise"
   ]
  },
  {
   "cell_type": "markdown",
   "metadata": {},
   "source": [
    "start HR detection on candidates"
   ]
  }
 ],
 "metadata": {
  "kernelspec": {
   "display_name": "Python 2",
   "language": "python",
   "name": "python2"
  },
  "language_info": {
   "codemirror_mode": {
    "name": "ipython",
    "version": 2
   },
   "file_extension": ".py",
   "mimetype": "text/x-python",
   "name": "python",
   "nbconvert_exporter": "python",
   "pygments_lexer": "ipython2",
   "version": "2.7.15"
  }
 },
 "nbformat": 4,
 "nbformat_minor": 2
}
