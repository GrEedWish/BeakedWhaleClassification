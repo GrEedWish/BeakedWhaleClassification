{
 "cells": [
  {
   "cell_type": "code",
   "execution_count": 1,
   "metadata": {},
   "outputs": [],
   "source": [
    "%load_ext autoreload\n",
    "%autoreload 2\n",
    "%config IPCompleter.greedy=True"
   ]
  },
  {
   "cell_type": "code",
   "execution_count": 2,
   "metadata": {},
   "outputs": [],
   "source": [
    "from spark_PCA import *\n",
    "from row_parser import *"
   ]
  },
  {
   "cell_type": "code",
   "execution_count": 3,
   "metadata": {},
   "outputs": [],
   "source": [
    "# %pylab inline\n",
    "\n",
    "import pandas as pd\n",
    "import datetime as dt\n",
    "\n",
    "from scipy.io import loadmat, savemat, whosmat\n",
    "\n",
    "from collections import Counter\n",
    "import re\n",
    "import numpy as np\n",
    "from numpy import shape\n",
    "\n",
    "from glob import glob\n",
    "from time import time\n",
    "import sys\n",
    "from row_parser import *\n",
    "from spark_PCA import *\n",
    "from pyspark.sql import DataFrame"
   ]
  },
  {
   "cell_type": "code",
   "execution_count": 4,
   "metadata": {},
   "outputs": [
    {
     "name": "stdout",
     "output_type": "stream",
     "text": [
      "-rw-r--r--  1 Jim  staff  15696962 Dec  6 22:32 ./../data/DSE230_version_Data/whale_data_15mb.np\r\n"
     ]
    }
   ],
   "source": [
    "!ls -l ./../data/DSE230_version_Data/whale_data_15mb.np"
   ]
  },
  {
   "cell_type": "code",
   "execution_count": 5,
   "metadata": {},
   "outputs": [],
   "source": [
    "file_path = './../data/DSE230_version_Data/whale_data_15mb.np'\n",
    "file_data = np.load(file_path)"
   ]
  },
  {
   "cell_type": "code",
   "execution_count": 6,
   "metadata": {
    "scrolled": true
   },
   "outputs": [
    {
     "data": {
      "text/plain": [
       "array([[datetime.datetime(2010, 8, 10, 11, 45, 36, 626459), u'Cuviers',\n",
       "        u'DT', ..., 0, 0, 0],\n",
       "       [datetime.datetime(2010, 8, 10, 11, 46, 6, 4604), u'Cuviers',\n",
       "        u'DT', ..., 0, 0, 0],\n",
       "       [datetime.datetime(2010, 8, 10, 12, 11, 25, 866437), u'Cuviers',\n",
       "        u'DT', ..., 0, 0, 0],\n",
       "       ...,\n",
       "       [datetime.datetime(2013, 4, 30, 7, 19, 41, 228925), u'Gervais',\n",
       "        u'MC', ..., 0, 0, 0],\n",
       "       [datetime.datetime(2013, 5, 1, 11, 37, 0, 617731), u'Gervais',\n",
       "        u'MC', ..., 0, 0, 0],\n",
       "       [datetime.datetime(2013, 5, 1, 11, 38, 46, 580242), u'Gervais',\n",
       "        u'MC', ..., 0, 0, 0]], dtype=object)"
      ]
     },
     "execution_count": 6,
     "metadata": {},
     "output_type": "execute_result"
    }
   ],
   "source": [
    "file_data"
   ]
  },
  {
   "cell_type": "code",
   "execution_count": 7,
   "metadata": {},
   "outputs": [],
   "source": [
    "schema = {'time': np.datetime64,\n",
    "           'species': 'object',\n",
    "           'site': 'object',\n",
    "           'rec_no': 'object',\n",
    "           'bout_i': 'int64',\n",
    "           'peak2peak': 'float64',\n",
    "           'TPWS1': 'int64',\n",
    "           'MD1': 'int64',\n",
    "           'FD1': 'int64',\n",
    "           'TPWS2': 'int64',\n",
    "           'MD2': 'int64',\n",
    "           'FD2': 'int64',\n",
    "           'TPWS3': 'int64',\n",
    "           'MD3': 'int64',\n",
    "           'FD3': 'int64'}"
   ]
  },
  {
   "cell_type": "code",
   "execution_count": 8,
   "metadata": {},
   "outputs": [],
   "source": [
    "from ast import literal_eval\n",
    "\n",
    "def read_byte_arrays(bytearray_string):\n",
    "    if bytearray_string.startswith('bytearray(') and \\\n",
    "            bytearray_string.endswith(')'):\n",
    "        return bytearray(literal_eval(bytearray_string[10:-1]))\n",
    "    return bytearray_string"
   ]
  },
  {
   "cell_type": "code",
   "execution_count": 9,
   "metadata": {},
   "outputs": [],
   "source": [
    "df = pd.DataFrame(data=file_data, \n",
    "                  columns=['time', 'species', 'site', 'rec_no', 'bout_i', 'peak2peak', 'MSN', 'MSP', 'TPWS1', 'MD1', 'FD1', 'TPWS2', 'MD2', 'FD2', 'TPWS3', 'MD3', 'FD3'])"
   ]
  },
  {
   "cell_type": "code",
   "execution_count": 10,
   "metadata": {},
   "outputs": [],
   "source": [
    "df = df.astype(dtype=schema)"
   ]
  },
  {
   "cell_type": "code",
   "execution_count": 11,
   "metadata": {},
   "outputs": [
    {
     "data": {
      "text/html": [
       "<div>\n",
       "<style scoped>\n",
       "    .dataframe tbody tr th:only-of-type {\n",
       "        vertical-align: middle;\n",
       "    }\n",
       "\n",
       "    .dataframe tbody tr th {\n",
       "        vertical-align: top;\n",
       "    }\n",
       "\n",
       "    .dataframe thead th {\n",
       "        text-align: right;\n",
       "    }\n",
       "</style>\n",
       "<table border=\"1\" class=\"dataframe\">\n",
       "  <thead>\n",
       "    <tr style=\"text-align: right;\">\n",
       "      <th></th>\n",
       "      <th>time</th>\n",
       "      <th>species</th>\n",
       "      <th>site</th>\n",
       "      <th>rec_no</th>\n",
       "      <th>bout_i</th>\n",
       "      <th>peak2peak</th>\n",
       "      <th>MSN</th>\n",
       "      <th>MSP</th>\n",
       "      <th>TPWS1</th>\n",
       "      <th>MD1</th>\n",
       "      <th>FD1</th>\n",
       "      <th>TPWS2</th>\n",
       "      <th>MD2</th>\n",
       "      <th>FD2</th>\n",
       "      <th>TPWS3</th>\n",
       "      <th>MD3</th>\n",
       "      <th>FD3</th>\n",
       "    </tr>\n",
       "  </thead>\n",
       "  <tbody>\n",
       "    <tr>\n",
       "      <th>0</th>\n",
       "      <td>2010-08-10 11:45:36.626459</td>\n",
       "      <td>Cuviers</td>\n",
       "      <td>DT</td>\n",
       "      <td>01</td>\n",
       "      <td>5</td>\n",
       "      <td>50.2422</td>\n",
       "      <td>[249, 15, 233, 183, 175, 163, 34, 64, 191, 125...</td>\n",
       "      <td>[209, 145, 92, 254, 67, 218, 66, 192, 164, 223...</td>\n",
       "      <td>1</td>\n",
       "      <td>0</td>\n",
       "      <td>0</td>\n",
       "      <td>1</td>\n",
       "      <td>0</td>\n",
       "      <td>0</td>\n",
       "      <td>0</td>\n",
       "      <td>0</td>\n",
       "      <td>0</td>\n",
       "    </tr>\n",
       "    <tr>\n",
       "      <th>1</th>\n",
       "      <td>2010-08-10 11:46:06.004604</td>\n",
       "      <td>Cuviers</td>\n",
       "      <td>DT</td>\n",
       "      <td>01</td>\n",
       "      <td>5</td>\n",
       "      <td>55.0377</td>\n",
       "      <td>[241, 99, 204, 93, 75, 200, 1, 192, 155, 230, ...</td>\n",
       "      <td>[18, 20, 63, 198, 220, 93, 65, 192, 0, 0, 0, 0...</td>\n",
       "      <td>1</td>\n",
       "      <td>0</td>\n",
       "      <td>0</td>\n",
       "      <td>1</td>\n",
       "      <td>0</td>\n",
       "      <td>0</td>\n",
       "      <td>0</td>\n",
       "      <td>0</td>\n",
       "      <td>0</td>\n",
       "    </tr>\n",
       "  </tbody>\n",
       "</table>\n",
       "</div>"
      ],
      "text/plain": [
       "                        time  species site rec_no  bout_i  peak2peak  \\\n",
       "0 2010-08-10 11:45:36.626459  Cuviers   DT     01       5    50.2422   \n",
       "1 2010-08-10 11:46:06.004604  Cuviers   DT     01       5    55.0377   \n",
       "\n",
       "                                                 MSN  \\\n",
       "0  [249, 15, 233, 183, 175, 163, 34, 64, 191, 125...   \n",
       "1  [241, 99, 204, 93, 75, 200, 1, 192, 155, 230, ...   \n",
       "\n",
       "                                                 MSP  TPWS1  MD1  FD1  TPWS2  \\\n",
       "0  [209, 145, 92, 254, 67, 218, 66, 192, 164, 223...      1    0    0      1   \n",
       "1  [18, 20, 63, 198, 220, 93, 65, 192, 0, 0, 0, 0...      1    0    0      1   \n",
       "\n",
       "   MD2  FD2  TPWS3  MD3  FD3  \n",
       "0    0    0      0    0    0  \n",
       "1    0    0      0    0    0  "
      ]
     },
     "execution_count": 11,
     "metadata": {},
     "output_type": "execute_result"
    }
   ],
   "source": [
    "df[:2]"
   ]
  },
  {
   "cell_type": "code",
   "execution_count": 12,
   "metadata": {},
   "outputs": [
    {
     "data": {
      "text/plain": [
       "time         datetime64[ns]\n",
       "species              object\n",
       "site                 object\n",
       "rec_no               object\n",
       "bout_i                int64\n",
       "peak2peak           float64\n",
       "MSN                  object\n",
       "MSP                  object\n",
       "TPWS1                 int64\n",
       "MD1                   int64\n",
       "FD1                   int64\n",
       "TPWS2                 int64\n",
       "MD2                   int64\n",
       "FD2                   int64\n",
       "TPWS3                 int64\n",
       "MD3                   int64\n",
       "FD3                   int64\n",
       "dtype: object"
      ]
     },
     "execution_count": 12,
     "metadata": {},
     "output_type": "execute_result"
    }
   ],
   "source": [
    "df.dtypes"
   ]
  },
  {
   "cell_type": "code",
   "execution_count": 13,
   "metadata": {},
   "outputs": [
    {
     "data": {
      "text/html": [
       "<div>\n",
       "<style scoped>\n",
       "    .dataframe tbody tr th:only-of-type {\n",
       "        vertical-align: middle;\n",
       "    }\n",
       "\n",
       "    .dataframe tbody tr th {\n",
       "        vertical-align: top;\n",
       "    }\n",
       "\n",
       "    .dataframe thead th {\n",
       "        text-align: right;\n",
       "    }\n",
       "</style>\n",
       "<table border=\"1\" class=\"dataframe\">\n",
       "  <thead>\n",
       "    <tr style=\"text-align: right;\">\n",
       "      <th></th>\n",
       "      <th>time</th>\n",
       "      <th>site</th>\n",
       "      <th>rec_no</th>\n",
       "      <th>bout_i</th>\n",
       "      <th>peak2peak</th>\n",
       "      <th>MSN</th>\n",
       "      <th>MSP</th>\n",
       "      <th>TPWS1</th>\n",
       "      <th>MD1</th>\n",
       "      <th>FD1</th>\n",
       "      <th>TPWS2</th>\n",
       "      <th>MD2</th>\n",
       "      <th>FD2</th>\n",
       "      <th>TPWS3</th>\n",
       "      <th>MD3</th>\n",
       "      <th>FD3</th>\n",
       "    </tr>\n",
       "    <tr>\n",
       "      <th>species</th>\n",
       "      <th></th>\n",
       "      <th></th>\n",
       "      <th></th>\n",
       "      <th></th>\n",
       "      <th></th>\n",
       "      <th></th>\n",
       "      <th></th>\n",
       "      <th></th>\n",
       "      <th></th>\n",
       "      <th></th>\n",
       "      <th></th>\n",
       "      <th></th>\n",
       "      <th></th>\n",
       "      <th></th>\n",
       "      <th></th>\n",
       "      <th></th>\n",
       "    </tr>\n",
       "  </thead>\n",
       "  <tbody>\n",
       "    <tr>\n",
       "      <th>Cuviers</th>\n",
       "      <td>2238</td>\n",
       "      <td>2238</td>\n",
       "      <td>2238</td>\n",
       "      <td>2238</td>\n",
       "      <td>2238</td>\n",
       "      <td>2238</td>\n",
       "      <td>2238</td>\n",
       "      <td>2238</td>\n",
       "      <td>2238</td>\n",
       "      <td>2238</td>\n",
       "      <td>2238</td>\n",
       "      <td>2238</td>\n",
       "      <td>2238</td>\n",
       "      <td>2238</td>\n",
       "      <td>2238</td>\n",
       "      <td>2238</td>\n",
       "    </tr>\n",
       "    <tr>\n",
       "      <th>Gervais</th>\n",
       "      <td>1937</td>\n",
       "      <td>1937</td>\n",
       "      <td>1937</td>\n",
       "      <td>1937</td>\n",
       "      <td>1937</td>\n",
       "      <td>1937</td>\n",
       "      <td>1937</td>\n",
       "      <td>1937</td>\n",
       "      <td>1937</td>\n",
       "      <td>1937</td>\n",
       "      <td>1937</td>\n",
       "      <td>1937</td>\n",
       "      <td>1937</td>\n",
       "      <td>1937</td>\n",
       "      <td>1937</td>\n",
       "      <td>1937</td>\n",
       "    </tr>\n",
       "  </tbody>\n",
       "</table>\n",
       "</div>"
      ],
      "text/plain": [
       "         time  site  rec_no  bout_i  peak2peak   MSN   MSP  TPWS1   MD1   FD1  \\\n",
       "species                                                                         \n",
       "Cuviers  2238  2238    2238    2238       2238  2238  2238   2238  2238  2238   \n",
       "Gervais  1937  1937    1937    1937       1937  1937  1937   1937  1937  1937   \n",
       "\n",
       "         TPWS2   MD2   FD2  TPWS3   MD3   FD3  \n",
       "species                                        \n",
       "Cuviers   2238  2238  2238   2238  2238  2238  \n",
       "Gervais   1937  1937  1937   1937  1937  1937  "
      ]
     },
     "execution_count": 13,
     "metadata": {},
     "output_type": "execute_result"
    }
   ],
   "source": [
    "df.groupby(['species']).count()"
   ]
  },
  {
   "cell_type": "markdown",
   "metadata": {},
   "source": [
    "## Data PlayGround"
   ]
  },
  {
   "cell_type": "markdown",
   "metadata": {},
   "source": [
    "### Data schema\n",
    "The data was originally stored as Matlab files. Those were translated into csv file\n",
    "\n",
    "#### The feature vector\n",
    "Each click is defined by the following fields\n",
    "\n",
    "|field name     | Description               | Data Type\n",
    "|---------------|---------------------------|--------------\n",
    "|0: time        | time of click             | string in datetime format `%Y-%m-%d %H:%M:%S.%f`\n",
    "|2: site\t\t| name of site\t\t        | 'str'\n",
    "|3: rec_no\t\t| recording number\t\t    | 'str'\n",
    "|4: bout_i\t\t| bout number\t\t        | numpy.int64\n",
    "|5: peak2peak\t| peak to peak magnitude    | \t\t\tnumpy.float64\n",
    "|6: MSN\t        |\twave form |\t\t an array of length 202\n",
    "|208: MSP\t\t|\tspectra |\t an array of length 101"
   ]
  },
  {
   "cell_type": "code",
   "execution_count": 15,
   "metadata": {},
   "outputs": [
    {
     "data": {
      "text/html": [
       "<div>\n",
       "<style scoped>\n",
       "    .dataframe tbody tr th:only-of-type {\n",
       "        vertical-align: middle;\n",
       "    }\n",
       "\n",
       "    .dataframe tbody tr th {\n",
       "        vertical-align: top;\n",
       "    }\n",
       "\n",
       "    .dataframe thead th {\n",
       "        text-align: right;\n",
       "    }\n",
       "</style>\n",
       "<table border=\"1\" class=\"dataframe\">\n",
       "  <thead>\n",
       "    <tr style=\"text-align: right;\">\n",
       "      <th></th>\n",
       "      <th>time</th>\n",
       "      <th>species</th>\n",
       "      <th>site</th>\n",
       "      <th>rec_no</th>\n",
       "      <th>bout_i</th>\n",
       "      <th>peak2peak</th>\n",
       "      <th>MSN</th>\n",
       "      <th>MSP</th>\n",
       "      <th>TPWS1</th>\n",
       "      <th>MD1</th>\n",
       "      <th>FD1</th>\n",
       "      <th>TPWS2</th>\n",
       "      <th>MD2</th>\n",
       "      <th>FD2</th>\n",
       "      <th>TPWS3</th>\n",
       "      <th>MD3</th>\n",
       "      <th>FD3</th>\n",
       "    </tr>\n",
       "  </thead>\n",
       "  <tbody>\n",
       "    <tr>\n",
       "      <th>102</th>\n",
       "      <td>2010-10-17 18:40:45.590195</td>\n",
       "      <td>Cuviers</td>\n",
       "      <td>DT</td>\n",
       "      <td>01</td>\n",
       "      <td>158</td>\n",
       "      <td>68.6416</td>\n",
       "      <td>[79, 175, 148, 101, 136, 227, 10, 64, 121, 88,...</td>\n",
       "      <td>[56, 103, 68, 105, 111, 200, 66, 192, 199, 186...</td>\n",
       "      <td>1</td>\n",
       "      <td>0</td>\n",
       "      <td>0</td>\n",
       "      <td>1</td>\n",
       "      <td>0</td>\n",
       "      <td>0</td>\n",
       "      <td>0</td>\n",
       "      <td>0</td>\n",
       "      <td>0</td>\n",
       "    </tr>\n",
       "    <tr>\n",
       "      <th>103</th>\n",
       "      <td>2010-10-18 04:23:15.413460</td>\n",
       "      <td>Cuviers</td>\n",
       "      <td>DT</td>\n",
       "      <td>01</td>\n",
       "      <td>160</td>\n",
       "      <td>48.5607</td>\n",
       "      <td>[100, 93, 220, 70, 3, 120, 242, 63, 70, 182, 2...</td>\n",
       "      <td>[221, 36, 6, 129, 149, 251, 68, 192, 7, 95, 15...</td>\n",
       "      <td>1</td>\n",
       "      <td>0</td>\n",
       "      <td>0</td>\n",
       "      <td>1</td>\n",
       "      <td>0</td>\n",
       "      <td>0</td>\n",
       "      <td>0</td>\n",
       "      <td>0</td>\n",
       "      <td>0</td>\n",
       "    </tr>\n",
       "  </tbody>\n",
       "</table>\n",
       "</div>"
      ],
      "text/plain": [
       "                          time  species site rec_no  bout_i  peak2peak  \\\n",
       "102 2010-10-17 18:40:45.590195  Cuviers   DT     01     158    68.6416   \n",
       "103 2010-10-18 04:23:15.413460  Cuviers   DT     01     160    48.5607   \n",
       "\n",
       "                                                   MSN  \\\n",
       "102  [79, 175, 148, 101, 136, 227, 10, 64, 121, 88,...   \n",
       "103  [100, 93, 220, 70, 3, 120, 242, 63, 70, 182, 2...   \n",
       "\n",
       "                                                   MSP  TPWS1  MD1  FD1  \\\n",
       "102  [56, 103, 68, 105, 111, 200, 66, 192, 199, 186...      1    0    0   \n",
       "103  [221, 36, 6, 129, 149, 251, 68, 192, 7, 95, 15...      1    0    0   \n",
       "\n",
       "     TPWS2  MD2  FD2  TPWS3  MD3  FD3  \n",
       "102      1    0    0      0    0    0  \n",
       "103      1    0    0      0    0    0  "
      ]
     },
     "execution_count": 15,
     "metadata": {},
     "output_type": "execute_result"
    }
   ],
   "source": [
    "df[102:104]"
   ]
  },
  {
   "cell_type": "code",
   "execution_count": null,
   "metadata": {},
   "outputs": [],
   "source": []
  }
 ],
 "metadata": {
  "kernelspec": {
   "display_name": "Python 2",
   "language": "python",
   "name": "python2"
  },
  "language_info": {
   "codemirror_mode": {
    "name": "ipython",
    "version": 2
   },
   "file_extension": ".py",
   "mimetype": "text/x-python",
   "name": "python",
   "nbconvert_exporter": "python",
   "pygments_lexer": "ipython2",
   "version": "2.7.15"
  }
 },
 "nbformat": 4,
 "nbformat_minor": 2
}
