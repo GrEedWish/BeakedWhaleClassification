{
 "cells": [
  {
   "cell_type": "code",
   "execution_count": 1,
   "metadata": {},
   "outputs": [],
   "source": [
    "%load_ext autoreload\n",
    "%autoreload 2\n",
    "%config IPCompleter.greedy=True"
   ]
  },
  {
   "cell_type": "code",
   "execution_count": 6,
   "metadata": {},
   "outputs": [],
   "source": [
    "from spark_PCA import *\n",
    "from row_parser import *"
   ]
  },
  {
   "cell_type": "code",
   "execution_count": 15,
   "metadata": {},
   "outputs": [],
   "source": [
    "# %pylab inline\n",
    "\n",
    "import pandas as pd\n",
    "import datetime as dt\n",
    "\n",
    "from scipy.io import loadmat, savemat, whosmat\n",
    "\n",
    "from collections import Counter\n",
    "import re\n",
    "import numpy as np\n",
    "from numpy import shape\n",
    "\n",
    "from glob import glob\n",
    "from time import time\n",
    "import sys\n",
    "from row_parser import *\n",
    "from spark_PCA import *\n",
    "from pyspark.sql import DataFrame"
   ]
  },
  {
   "cell_type": "code",
   "execution_count": 20,
   "metadata": {},
   "outputs": [
    {
     "name": "stdout",
     "output_type": "stream",
     "text": [
      "-rw-r--r--  1 Jim  staff  15696962 Dec  6 22:32 ./../data/DSE230_version_Data/whale_data_15mb.np\r\n"
     ]
    }
   ],
   "source": [
    "!ls -l ./../data/DSE230_version_Data/whale_data_15mb.np"
   ]
  },
  {
   "cell_type": "code",
   "execution_count": 22,
   "metadata": {},
   "outputs": [],
   "source": [
    "file_path = './../data/DSE230_version_Data/whale_data_15mb.np'\n",
    "file_data = np.load(file_path)"
   ]
  },
  {
   "cell_type": "code",
   "execution_count": 26,
   "metadata": {
    "scrolled": true
   },
   "outputs": [
    {
     "data": {
      "text/plain": [
       "array([[datetime.datetime(2010, 8, 10, 11, 45, 36, 626459), u'Cuviers',\n",
       "        u'DT', ..., 0, 0, 0],\n",
       "       [datetime.datetime(2010, 8, 10, 11, 46, 6, 4604), u'Cuviers',\n",
       "        u'DT', ..., 0, 0, 0],\n",
       "       [datetime.datetime(2010, 8, 10, 12, 11, 25, 866437), u'Cuviers',\n",
       "        u'DT', ..., 0, 0, 0],\n",
       "       ...,\n",
       "       [datetime.datetime(2013, 4, 30, 7, 19, 41, 228925), u'Gervais',\n",
       "        u'MC', ..., 0, 0, 0],\n",
       "       [datetime.datetime(2013, 5, 1, 11, 37, 0, 617731), u'Gervais',\n",
       "        u'MC', ..., 0, 0, 0],\n",
       "       [datetime.datetime(2013, 5, 1, 11, 38, 46, 580242), u'Gervais',\n",
       "        u'MC', ..., 0, 0, 0]], dtype=object)"
      ]
     },
     "execution_count": 26,
     "metadata": {},
     "output_type": "execute_result"
    }
   ],
   "source": [
    "file_data"
   ]
  },
  {
   "cell_type": "code",
   "execution_count": 24,
   "metadata": {},
   "outputs": [],
   "source": [
    "schema = StructType([\n",
    "     StructField('time', TimestampType(), True),\n",
    "     StructField('species', StringType(), True),\n",
    "     StructField('site', StringType(), True),\n",
    "     StructField('rec_no', StringType(), True),\n",
    "     StructField('bout_i', LongType(), True),\n",
    "     StructField('peak2peak', DoubleType(), True),\n",
    "     StructField('MSN', BinaryType(), True),\n",
    "     StructField('MSP', BinaryType(), True),\n",
    "     StructField('TPWS1', LongType(), True),\n",
    "     StructField('MD1', LongType(), True),\n",
    "     StructField('FD1', LongType(), True),\n",
    "     StructField('TPWS2', LongType(), True),\n",
    "     StructField('MD2', LongType(), True),\n",
    "     StructField('FD2', LongType(), True),\n",
    "     StructField('TPWS3', LongType(), True),\n",
    "     StructField('MD3', LongType(), True),\n",
    "     StructField('FD3', LongType(), True)\n",
    "])"
   ]
  },
  {
   "cell_type": "code",
   "execution_count": 42,
   "metadata": {},
   "outputs": [],
   "source": [
    "schema = {'time': np.datetime64,\n",
    "           'species': 'object',\n",
    "           'site': 'object',\n",
    "           'rec_no': 'object',\n",
    "           'bout_i': 'int64',\n",
    "           'peak2peak': 'float64',\n",
    "           'MSN': 'bool',\n",
    "           'MSP': 'bool',\n",
    "           'TPWS1': 'int64',\n",
    "           'MD1': 'int64',\n",
    "           'FD1': 'int64',\n",
    "           'TPWS2': 'int64',\n",
    "           'MD2': 'int64',\n",
    "           'FD2': 'int64',\n",
    "           'TPWS3': 'int64',\n",
    "           'MD3': 'int64',\n",
    "           'FD3': 'int64'}"
   ]
  },
  {
   "cell_type": "code",
   "execution_count": 43,
   "metadata": {},
   "outputs": [],
   "source": [
    "df = pd.DataFrame(data=file_data)"
   ]
  },
  {
   "cell_type": "code",
   "execution_count": 47,
   "metadata": {},
   "outputs": [],
   "source": [
    "df = pd.DataFrame(data=file_data, \n",
    "                  columns=['time', 'species', 'site', 'rec_no', 'bout_i', 'peak2peak', 'MSN', 'MSP', 'TPWS1', 'MD1', 'FD1', 'TPWS2', 'MD2', 'FD2', 'TPWS3', 'MD3', 'FD3'])"
   ]
  },
  {
   "cell_type": "code",
   "execution_count": 49,
   "metadata": {},
   "outputs": [],
   "source": [
    "df = df.astype(dtype=schema)"
   ]
  },
  {
   "cell_type": "code",
   "execution_count": 51,
   "metadata": {},
   "outputs": [
    {
     "data": {
      "text/html": [
       "<div>\n",
       "<style scoped>\n",
       "    .dataframe tbody tr th:only-of-type {\n",
       "        vertical-align: middle;\n",
       "    }\n",
       "\n",
       "    .dataframe tbody tr th {\n",
       "        vertical-align: top;\n",
       "    }\n",
       "\n",
       "    .dataframe thead th {\n",
       "        text-align: right;\n",
       "    }\n",
       "</style>\n",
       "<table border=\"1\" class=\"dataframe\">\n",
       "  <thead>\n",
       "    <tr style=\"text-align: right;\">\n",
       "      <th></th>\n",
       "      <th>time</th>\n",
       "      <th>species</th>\n",
       "      <th>site</th>\n",
       "      <th>rec_no</th>\n",
       "      <th>bout_i</th>\n",
       "      <th>peak2peak</th>\n",
       "      <th>MSN</th>\n",
       "      <th>MSP</th>\n",
       "      <th>TPWS1</th>\n",
       "      <th>MD1</th>\n",
       "      <th>FD1</th>\n",
       "      <th>TPWS2</th>\n",
       "      <th>MD2</th>\n",
       "      <th>FD2</th>\n",
       "      <th>TPWS3</th>\n",
       "      <th>MD3</th>\n",
       "      <th>FD3</th>\n",
       "    </tr>\n",
       "  </thead>\n",
       "  <tbody>\n",
       "    <tr>\n",
       "      <th>0</th>\n",
       "      <td>2010-08-10 11:45:36.626459</td>\n",
       "      <td>Cuviers</td>\n",
       "      <td>DT</td>\n",
       "      <td>01</td>\n",
       "      <td>5</td>\n",
       "      <td>50.2422</td>\n",
       "      <td>True</td>\n",
       "      <td>True</td>\n",
       "      <td>1</td>\n",
       "      <td>0</td>\n",
       "      <td>0</td>\n",
       "      <td>1</td>\n",
       "      <td>0</td>\n",
       "      <td>0</td>\n",
       "      <td>0</td>\n",
       "      <td>0</td>\n",
       "      <td>0</td>\n",
       "    </tr>\n",
       "    <tr>\n",
       "      <th>1</th>\n",
       "      <td>2010-08-10 11:46:06.004604</td>\n",
       "      <td>Cuviers</td>\n",
       "      <td>DT</td>\n",
       "      <td>01</td>\n",
       "      <td>5</td>\n",
       "      <td>55.0377</td>\n",
       "      <td>True</td>\n",
       "      <td>True</td>\n",
       "      <td>1</td>\n",
       "      <td>0</td>\n",
       "      <td>0</td>\n",
       "      <td>1</td>\n",
       "      <td>0</td>\n",
       "      <td>0</td>\n",
       "      <td>0</td>\n",
       "      <td>0</td>\n",
       "      <td>0</td>\n",
       "    </tr>\n",
       "    <tr>\n",
       "      <th>2</th>\n",
       "      <td>2010-08-10 12:11:25.866437</td>\n",
       "      <td>Cuviers</td>\n",
       "      <td>DT</td>\n",
       "      <td>01</td>\n",
       "      <td>5</td>\n",
       "      <td>44.9439</td>\n",
       "      <td>True</td>\n",
       "      <td>True</td>\n",
       "      <td>1</td>\n",
       "      <td>0</td>\n",
       "      <td>0</td>\n",
       "      <td>1</td>\n",
       "      <td>0</td>\n",
       "      <td>0</td>\n",
       "      <td>0</td>\n",
       "      <td>0</td>\n",
       "      <td>0</td>\n",
       "    </tr>\n",
       "  </tbody>\n",
       "</table>\n",
       "</div>"
      ],
      "text/plain": [
       "                        time  species site rec_no  bout_i  peak2peak   MSN  \\\n",
       "0 2010-08-10 11:45:36.626459  Cuviers   DT     01       5    50.2422  True   \n",
       "1 2010-08-10 11:46:06.004604  Cuviers   DT     01       5    55.0377  True   \n",
       "2 2010-08-10 12:11:25.866437  Cuviers   DT     01       5    44.9439  True   \n",
       "\n",
       "    MSP  TPWS1  MD1  FD1  TPWS2  MD2  FD2  TPWS3  MD3  FD3  \n",
       "0  True      1    0    0      1    0    0      0    0    0  \n",
       "1  True      1    0    0      1    0    0      0    0    0  \n",
       "2  True      1    0    0      1    0    0      0    0    0  "
      ]
     },
     "execution_count": 51,
     "metadata": {},
     "output_type": "execute_result"
    }
   ],
   "source": [
    "df[:3]"
   ]
  },
  {
   "cell_type": "code",
   "execution_count": 50,
   "metadata": {},
   "outputs": [
    {
     "data": {
      "text/plain": [
       "time         datetime64[ns]\n",
       "species              object\n",
       "site                 object\n",
       "rec_no               object\n",
       "bout_i                int64\n",
       "peak2peak           float64\n",
       "MSN                    bool\n",
       "MSP                    bool\n",
       "TPWS1                 int64\n",
       "MD1                   int64\n",
       "FD1                   int64\n",
       "TPWS2                 int64\n",
       "MD2                   int64\n",
       "FD2                   int64\n",
       "TPWS3                 int64\n",
       "MD3                   int64\n",
       "FD3                   int64\n",
       "dtype: object"
      ]
     },
     "execution_count": 50,
     "metadata": {},
     "output_type": "execute_result"
    }
   ],
   "source": [
    "df.dtypes"
   ]
  },
  {
   "cell_type": "code",
   "execution_count": 54,
   "metadata": {},
   "outputs": [
    {
     "ename": "AttributeError",
     "evalue": "'DataFrame' object has no attribute 'groupBy'",
     "output_type": "error",
     "traceback": [
      "\u001b[0;31m---------------------------------------------------------------------------\u001b[0m",
      "\u001b[0;31mAttributeError\u001b[0m                            Traceback (most recent call last)",
      "\u001b[0;32m<ipython-input-54-822c25438c4d>\u001b[0m in \u001b[0;36m<module>\u001b[0;34m()\u001b[0m\n\u001b[0;32m----> 1\u001b[0;31m \u001b[0mdf\u001b[0m\u001b[0;34m.\u001b[0m\u001b[0mgroupBy\u001b[0m\u001b[0;34m(\u001b[0m\u001b[0;34m[\u001b[0m\u001b[0;34m'species'\u001b[0m\u001b[0;34m]\u001b[0m\u001b[0;34m)\u001b[0m\u001b[0;34m.\u001b[0m\u001b[0mcount\u001b[0m\u001b[0;34m(\u001b[0m\u001b[0;34m)\u001b[0m\u001b[0;34m.\u001b[0m\u001b[0mcollect\u001b[0m\u001b[0;34m(\u001b[0m\u001b[0;34m)\u001b[0m\u001b[0;34m\u001b[0m\u001b[0m\n\u001b[0m",
      "\u001b[0;32m/usr/local/lib/python2.7/site-packages/pandas/core/generic.pyc\u001b[0m in \u001b[0;36m__getattr__\u001b[0;34m(self, name)\u001b[0m\n\u001b[1;32m   4374\u001b[0m             \u001b[0;32mif\u001b[0m \u001b[0mself\u001b[0m\u001b[0;34m.\u001b[0m\u001b[0m_info_axis\u001b[0m\u001b[0;34m.\u001b[0m\u001b[0m_can_hold_identifiers_and_holds_name\u001b[0m\u001b[0;34m(\u001b[0m\u001b[0mname\u001b[0m\u001b[0;34m)\u001b[0m\u001b[0;34m:\u001b[0m\u001b[0;34m\u001b[0m\u001b[0m\n\u001b[1;32m   4375\u001b[0m                 \u001b[0;32mreturn\u001b[0m \u001b[0mself\u001b[0m\u001b[0;34m[\u001b[0m\u001b[0mname\u001b[0m\u001b[0;34m]\u001b[0m\u001b[0;34m\u001b[0m\u001b[0m\n\u001b[0;32m-> 4376\u001b[0;31m             \u001b[0;32mreturn\u001b[0m \u001b[0mobject\u001b[0m\u001b[0;34m.\u001b[0m\u001b[0m__getattribute__\u001b[0m\u001b[0;34m(\u001b[0m\u001b[0mself\u001b[0m\u001b[0;34m,\u001b[0m \u001b[0mname\u001b[0m\u001b[0;34m)\u001b[0m\u001b[0;34m\u001b[0m\u001b[0m\n\u001b[0m\u001b[1;32m   4377\u001b[0m \u001b[0;34m\u001b[0m\u001b[0m\n\u001b[1;32m   4378\u001b[0m     \u001b[0;32mdef\u001b[0m \u001b[0m__setattr__\u001b[0m\u001b[0;34m(\u001b[0m\u001b[0mself\u001b[0m\u001b[0;34m,\u001b[0m \u001b[0mname\u001b[0m\u001b[0;34m,\u001b[0m \u001b[0mvalue\u001b[0m\u001b[0;34m)\u001b[0m\u001b[0;34m:\u001b[0m\u001b[0;34m\u001b[0m\u001b[0m\n",
      "\u001b[0;31mAttributeError\u001b[0m: 'DataFrame' object has no attribute 'groupBy'"
     ]
    }
   ],
   "source": [
    "df.groupBy(['species']).count()"
   ]
  },
  {
   "cell_type": "code",
   "execution_count": 53,
   "metadata": {},
   "outputs": [
    {
     "data": {
      "text/plain": [
       "u'0.23.4'"
      ]
     },
     "execution_count": 53,
     "metadata": {},
     "output_type": "execute_result"
    }
   ],
   "source": [
    "pd.__version__"
   ]
  },
  {
   "cell_type": "code",
   "execution_count": null,
   "metadata": {},
   "outputs": [],
   "source": []
  }
 ],
 "metadata": {
  "kernelspec": {
   "display_name": "Python 2",
   "language": "python",
   "name": "python2"
  },
  "language_info": {
   "codemirror_mode": {
    "name": "ipython",
    "version": 2
   },
   "file_extension": ".py",
   "mimetype": "text/x-python",
   "name": "python",
   "nbconvert_exporter": "python",
   "pygments_lexer": "ipython2",
   "version": "2.7.15"
  }
 },
 "nbformat": 4,
 "nbformat_minor": 2
}
