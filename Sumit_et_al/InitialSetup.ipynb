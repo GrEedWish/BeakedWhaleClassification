{
 "cells": [
  {
   "cell_type": "markdown",
   "metadata": {},
   "source": [
    "## Install Git"
   ]
  },
  {
   "cell_type": "code",
   "execution_count": 3,
   "metadata": {},
   "outputs": [
    {
     "name": "stdout",
     "output_type": "stream",
     "text": [
      "Loaded plugins: priorities, update-motd, upgrade-helper\n",
      "Resolving Dependencies\n",
      "--> Running transaction check\n",
      "---> Package git.x86_64 0:2.13.5-1.53.amzn1 will be installed\n",
      "--> Processing Dependency: perl-Git = 2.13.5-1.53.amzn1 for package: git-2.13.5-1.53.amzn1.x86_64\n",
      "--> Processing Dependency: perl(Term::ReadKey) for package: git-2.13.5-1.53.amzn1.x86_64\n",
      "--> Processing Dependency: perl(Git) for package: git-2.13.5-1.53.amzn1.x86_64\n",
      "--> Processing Dependency: perl(Git::I18N) for package: git-2.13.5-1.53.amzn1.x86_64\n",
      "--> Processing Dependency: perl(Error) for package: git-2.13.5-1.53.amzn1.x86_64\n",
      "--> Running transaction check\n",
      "---> Package perl-Error.noarch 1:0.17020-2.9.amzn1 will be installed\n",
      "---> Package perl-Git.noarch 0:2.13.5-1.53.amzn1 will be installed\n",
      "---> Package perl-TermReadKey.x86_64 0:2.30-20.9.amzn1 will be installed\n",
      "--> Finished Dependency Resolution\n",
      "\n",
      "Dependencies Resolved\n",
      "\n",
      "================================================================================\n",
      " Package              Arch       Version                 Repository        Size\n",
      "================================================================================\n",
      "Installing:\n",
      " git                  x86_64     2.13.5-1.53.amzn1       amzn-updates      11 M\n",
      "Installing for dependencies:\n",
      " perl-Error           noarch     1:0.17020-2.9.amzn1     amzn-main         33 k\n",
      " perl-Git             noarch     2.13.5-1.53.amzn1       amzn-updates      68 k\n",
      " perl-TermReadKey     x86_64     2.30-20.9.amzn1         amzn-main         33 k\n",
      "\n",
      "Transaction Summary\n",
      "================================================================================\n",
      "Install  1 Package (+3 Dependent packages)\n",
      "\n",
      "Total download size: 12 M\n",
      "Installed size: 29 M\n",
      "Downloading packages:\n",
      "(1/4): perl-Error-0.17020-2.9.amzn1.noarch.rpm             |  33 kB   00:00     \n",
      "(2/4): perl-Git-2.13.5-1.53.amzn1.noarch.rpm               |  68 kB   00:00     \n",
      "(3/4): git-2.13.5-1.53.amzn1.x86_64.rpm                    |  11 MB   00:00     \n",
      "(4/4): perl-TermReadKey-2.30-20.9.amzn1.x86_64.rpm         |  33 kB   00:00     \n",
      "--------------------------------------------------------------------------------\n",
      "Total                                               15 MB/s |  12 MB  00:00     \n",
      "Running transaction check\n",
      "Running transaction test\n",
      "Transaction test succeeded\n",
      "Running transaction\n",
      "  Installing : 1:perl-Error-0.17020-2.9.amzn1.noarch                        1/4 \n",
      "  Installing : perl-TermReadKey-2.30-20.9.amzn1.x86_64                      2/4 \n",
      "  Installing : git-2.13.5-1.53.amzn1.x86_64                                 3/4 \n",
      "  Installing : perl-Git-2.13.5-1.53.amzn1.noarch                            4/4 \n",
      "  Verifying  : perl-Git-2.13.5-1.53.amzn1.noarch                            1/4 \n",
      "  Verifying  : 1:perl-Error-0.17020-2.9.amzn1.noarch                        2/4 \n",
      "  Verifying  : git-2.13.5-1.53.amzn1.x86_64                                 3/4 \n",
      "  Verifying  : perl-TermReadKey-2.30-20.9.amzn1.x86_64                      4/4 \n",
      "\n",
      "Installed:\n",
      "  git.x86_64 0:2.13.5-1.53.amzn1                                                \n",
      "\n",
      "Dependency Installed:\n",
      "  perl-Error.noarch 1:0.17020-2.9.amzn1     perl-Git.noarch 0:2.13.5-1.53.amzn1\n",
      "  perl-TermReadKey.x86_64 0:2.30-20.9.amzn1\n",
      "\n",
      "Complete!\n"
     ]
    }
   ],
   "source": [
    "!sudo yum install git -y"
   ]
  },
  {
   "cell_type": "markdown",
   "metadata": {},
   "source": [
    "## Clone the Repository"
   ]
  },
  {
   "cell_type": "code",
   "execution_count": 4,
   "metadata": {},
   "outputs": [
    {
     "name": "stdout",
     "output_type": "stream",
     "text": [
      "Cloning into 'BeakedWhaleClassification'...\n",
      "remote: Counting objects: 53, done.\u001b[K\n",
      "remote: Total 53 (delta 0), reused 0 (delta 0), pack-reused 53\u001b[K\n",
      "Unpacking objects: 100% (53/53), done.\n"
     ]
    }
   ],
   "source": [
    "!git clone https://github.com/yoavfreund/BeakedWhaleClassification.git"
   ]
  },
  {
   "cell_type": "markdown",
   "metadata": {},
   "source": [
    "## Copy Data in Distributed Fashion\n",
    "\n",
    "`-m` parameter can be modified as per the number of nodes to increase the rate of copying. e.g. for m3.2x large can run 8 mappers at a given time, so if number of nodes are 10, we can use 80 mappers to copy the data. "
   ]
  },
  {
   "cell_type": "code",
   "execution_count": 5,
   "metadata": {
    "scrolled": false
   },
   "outputs": [
    {
     "name": "stdout",
     "output_type": "stream",
     "text": [
      "18/01/31 04:15:34 INFO tools.DistCp: Input Options: DistCpOptions{atomicCommit=false, syncFolder=false, deleteMissing=false, ignoreFailures=false, maxMaps=40, sslConfigurationFile='null', copyStrategy='uniformsize', sourceFileListing=null, sourcePaths=[s3://while-classification/CVS], targetPath=/CVS, targetPathExists=false, preserveRawXattrs=false}\n",
      "18/01/31 04:15:35 INFO impl.TimelineClientImpl: Timeline service address: http://ip-172-31-0-103.us-west-2.compute.internal:8188/ws/v1/timeline/\n",
      "18/01/31 04:15:35 INFO client.RMProxy: Connecting to ResourceManager at ip-172-31-0-103.us-west-2.compute.internal/172.31.0.103:8032\n",
      "18/01/31 04:16:04 INFO Configuration.deprecation: io.sort.mb is deprecated. Instead, use mapreduce.task.io.sort.mb\n",
      "18/01/31 04:16:04 INFO Configuration.deprecation: io.sort.factor is deprecated. Instead, use mapreduce.task.io.sort.factor\n",
      "18/01/31 04:16:04 INFO impl.TimelineClientImpl: Timeline service address: http://ip-172-31-0-103.us-west-2.compute.internal:8188/ws/v1/timeline/\n",
      "18/01/31 04:16:04 INFO client.RMProxy: Connecting to ResourceManager at ip-172-31-0-103.us-west-2.compute.internal/172.31.0.103:8032\n",
      "18/01/31 04:16:04 INFO mapreduce.JobSubmitter: number of splits:42\n",
      "18/01/31 04:16:04 INFO mapreduce.JobSubmitter: Submitting tokens for job: job_1517371570309_0001\n",
      "18/01/31 04:16:04 INFO impl.YarnClientImpl: Submitted application application_1517371570309_0001\n",
      "18/01/31 04:16:05 INFO mapreduce.Job: The url to track the job: http://ip-172-31-0-103.us-west-2.compute.internal:20888/proxy/application_1517371570309_0001/\n",
      "18/01/31 04:16:05 INFO tools.DistCp: DistCp job-id: job_1517371570309_0001\n",
      "18/01/31 04:16:05 INFO mapreduce.Job: Running job: job_1517371570309_0001\n",
      "18/01/31 04:16:12 INFO mapreduce.Job: Job job_1517371570309_0001 running in uber mode : false\n",
      "18/01/31 04:16:12 INFO mapreduce.Job:  map 0% reduce 0%\n",
      "18/01/31 04:16:23 INFO mapreduce.Job:  map 3% reduce 0%\n",
      "18/01/31 04:16:24 INFO mapreduce.Job:  map 5% reduce 0%\n",
      "18/01/31 04:16:25 INFO mapreduce.Job:  map 6% reduce 0%\n",
      "18/01/31 04:16:26 INFO mapreduce.Job:  map 10% reduce 0%\n",
      "18/01/31 04:16:27 INFO mapreduce.Job:  map 12% reduce 0%\n",
      "18/01/31 04:16:28 INFO mapreduce.Job:  map 13% reduce 0%\n",
      "18/01/31 04:16:29 INFO mapreduce.Job:  map 16% reduce 0%\n",
      "18/01/31 04:16:30 INFO mapreduce.Job:  map 17% reduce 0%\n",
      "18/01/31 04:16:31 INFO mapreduce.Job:  map 18% reduce 0%\n",
      "18/01/31 04:16:32 INFO mapreduce.Job:  map 21% reduce 0%\n",
      "18/01/31 04:16:33 INFO mapreduce.Job:  map 22% reduce 0%\n",
      "18/01/31 04:16:35 INFO mapreduce.Job:  map 24% reduce 0%\n",
      "18/01/31 04:16:36 INFO mapreduce.Job:  map 25% reduce 0%\n",
      "18/01/31 04:16:38 INFO mapreduce.Job:  map 29% reduce 0%\n",
      "18/01/31 04:16:39 INFO mapreduce.Job:  map 30% reduce 0%\n",
      "18/01/31 04:16:41 INFO mapreduce.Job:  map 33% reduce 0%\n",
      "18/01/31 04:16:42 INFO mapreduce.Job:  map 34% reduce 0%\n",
      "18/01/31 04:16:43 INFO mapreduce.Job:  map 35% reduce 0%\n",
      "18/01/31 04:16:44 INFO mapreduce.Job:  map 38% reduce 0%\n",
      "18/01/31 04:16:45 INFO mapreduce.Job:  map 40% reduce 0%\n",
      "18/01/31 04:16:47 INFO mapreduce.Job:  map 43% reduce 0%\n",
      "18/01/31 04:16:48 INFO mapreduce.Job:  map 44% reduce 0%\n",
      "18/01/31 04:16:49 INFO mapreduce.Job:  map 45% reduce 0%\n",
      "18/01/31 04:16:50 INFO mapreduce.Job:  map 49% reduce 0%\n",
      "18/01/31 04:16:51 INFO mapreduce.Job:  map 50% reduce 0%\n",
      "18/01/31 04:16:53 INFO mapreduce.Job:  map 52% reduce 0%\n",
      "18/01/31 04:16:54 INFO mapreduce.Job:  map 53% reduce 0%\n",
      "18/01/31 04:16:55 INFO mapreduce.Job:  map 54% reduce 0%\n",
      "18/01/31 04:16:56 INFO mapreduce.Job:  map 57% reduce 0%\n",
      "18/01/31 04:16:57 INFO mapreduce.Job:  map 58% reduce 0%\n",
      "18/01/31 04:16:59 INFO mapreduce.Job:  map 62% reduce 0%\n",
      "18/01/31 04:17:00 INFO mapreduce.Job:  map 63% reduce 0%\n",
      "18/01/31 04:17:02 INFO mapreduce.Job:  map 66% reduce 0%\n",
      "18/01/31 04:17:03 INFO mapreduce.Job:  map 68% reduce 0%\n",
      "18/01/31 04:17:05 INFO mapreduce.Job:  map 72% reduce 0%\n",
      "18/01/31 04:17:06 INFO mapreduce.Job:  map 73% reduce 0%\n",
      "18/01/31 04:17:08 INFO mapreduce.Job:  map 75% reduce 0%\n",
      "18/01/31 04:17:09 INFO mapreduce.Job:  map 77% reduce 0%\n",
      "18/01/31 04:17:11 INFO mapreduce.Job:  map 80% reduce 0%\n",
      "18/01/31 04:17:12 INFO mapreduce.Job:  map 81% reduce 0%\n",
      "18/01/31 04:17:14 INFO mapreduce.Job:  map 84% reduce 0%\n",
      "18/01/31 04:17:15 INFO mapreduce.Job:  map 86% reduce 0%\n",
      "18/01/31 04:17:17 INFO mapreduce.Job:  map 88% reduce 0%\n",
      "18/01/31 04:17:18 INFO mapreduce.Job:  map 89% reduce 0%\n",
      "18/01/31 04:17:20 INFO mapreduce.Job:  map 91% reduce 0%\n",
      "18/01/31 04:17:21 INFO mapreduce.Job:  map 92% reduce 0%\n",
      "18/01/31 04:17:23 INFO mapreduce.Job:  map 93% reduce 0%\n",
      "18/01/31 04:17:24 INFO mapreduce.Job:  map 94% reduce 0%\n",
      "18/01/31 04:17:26 INFO mapreduce.Job:  map 96% reduce 0%\n",
      "18/01/31 04:17:29 INFO mapreduce.Job:  map 97% reduce 0%\n",
      "18/01/31 04:17:30 INFO mapreduce.Job:  map 98% reduce 0%\n",
      "18/01/31 04:17:32 INFO mapreduce.Job:  map 99% reduce 0%\n",
      "18/01/31 04:18:20 INFO mapreduce.Job:  map 100% reduce 0%\n",
      "18/01/31 04:18:32 INFO mapreduce.Job: Job job_1517371570309_0001 completed successfully\n",
      "18/01/31 04:18:32 INFO mapreduce.Job: Counters: 38\n",
      "\tFile System Counters\n",
      "\t\tFILE: Number of bytes read=0\n",
      "\t\tFILE: Number of bytes written=5469818\n",
      "\t\tFILE: Number of read operations=0\n",
      "\t\tFILE: Number of large read operations=0\n",
      "\t\tFILE: Number of write operations=0\n",
      "\t\tHDFS: Number of bytes read=126664\n",
      "\t\tHDFS: Number of bytes written=16442458807\n",
      "\t\tHDFS: Number of read operations=4237\n",
      "\t\tHDFS: Number of large read operations=0\n",
      "\t\tHDFS: Number of write operations=1253\n",
      "\t\tS3: Number of bytes read=16442458807\n",
      "\t\tS3: Number of bytes written=0\n",
      "\t\tS3: Number of read operations=0\n",
      "\t\tS3: Number of large read operations=0\n",
      "\t\tS3: Number of write operations=0\n",
      "\tJob Counters \n",
      "\t\tLaunched map tasks=42\n",
      "\t\tOther local map tasks=42\n",
      "\t\tTotal time spent by all maps in occupied slots (ms)=96994656\n",
      "\t\tTotal time spent by all reduces in occupied slots (ms)=0\n",
      "\t\tTotal time spent by all map tasks (ms)=3031083\n",
      "\t\tTotal vcore-milliseconds taken by all map tasks=3031083\n",
      "\t\tTotal megabyte-milliseconds taken by all map tasks=3103828992\n",
      "\tMap-Reduce Framework\n",
      "\t\tMap input records=595\n",
      "\t\tMap output records=0\n",
      "\t\tInput split bytes=5712\n",
      "\t\tSpilled Records=0\n",
      "\t\tFailed Shuffles=0\n",
      "\t\tMerged Map outputs=0\n",
      "\t\tGC time elapsed (ms)=6213\n",
      "\t\tCPU time spent (ms)=692430\n",
      "\t\tPhysical memory (bytes) snapshot=36486111232\n",
      "\t\tVirtual memory (bytes) snapshot=217902788608\n",
      "\t\tTotal committed heap usage (bytes)=93528784896\n",
      "\tFile Input Format Counters \n",
      "\t\tBytes Read=120952\n",
      "\tFile Output Format Counters \n",
      "\t\tBytes Written=0\n",
      "\torg.apache.hadoop.tools.mapred.CopyMapper$Counter\n",
      "\t\tBYTESCOPIED=16442458807\n",
      "\t\tBYTESEXPECTED=16442458807\n",
      "\t\tCOPY=595\n"
     ]
    }
   ],
   "source": [
    "!hadoop distcp -m 40 s3://while-classification/CVS/ /CVS/  "
   ]
  }
 ],
 "metadata": {
  "kernelspec": {
   "display_name": "Python 2",
   "language": "python",
   "name": "python2"
  },
  "language_info": {
   "codemirror_mode": {
    "name": "ipython",
    "version": 2
   },
   "file_extension": ".py",
   "mimetype": "text/x-python",
   "name": "python",
   "nbconvert_exporter": "python",
   "pygments_lexer": "ipython2",
   "version": "2.7.13"
  }
 },
 "nbformat": 4,
 "nbformat_minor": 2
}
