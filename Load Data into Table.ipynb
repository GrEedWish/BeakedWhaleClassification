{
 "cells": [
  {
   "cell_type": "code",
   "execution_count": 1,
   "metadata": {
    "collapsed": true
   },
   "outputs": [],
   "source": [
    "from pyspark import SparkContext\n",
    "\n",
    "sc = SparkContext(master=master_url)"
   ]
  },
  {
   "cell_type": "code",
   "execution_count": 84,
   "metadata": {
    "collapsed": false
   },
   "outputs": [],
   "source": [
    "sc.stop()"
   ]
  },
  {
   "cell_type": "code",
   "execution_count": 2,
   "metadata": {
    "collapsed": false
   },
   "outputs": [
    {
     "name": "stdout",
     "output_type": "stream",
     "text": [
      "Requirement already satisfied (use --upgrade to upgrade): pandas in /usr/local/lib64/python2.7/site-packages\r\n",
      "Requirement already satisfied (use --upgrade to upgrade): pytz>=2011k in /usr/local/lib/python2.7/site-packages (from pandas)\r\n",
      "Requirement already satisfied (use --upgrade to upgrade): numpy>=1.7.0 in /usr/local/lib64/python2.7/site-packages (from pandas)\r\n",
      "Requirement already satisfied (use --upgrade to upgrade): python-dateutil in /usr/local/lib/python2.7/site-packages (from pandas)\r\n",
      "Requirement already satisfied (use --upgrade to upgrade): six>=1.5 in /usr/local/lib/python2.7/site-packages (from python-dateutil->pandas)\r\n"
     ]
    }
   ],
   "source": [
    "!pip install pandas"
   ]
  },
  {
   "cell_type": "code",
   "execution_count": 3,
   "metadata": {
    "collapsed": false,
    "scrolled": true
   },
   "outputs": [
    {
     "name": "stdout",
     "output_type": "stream",
     "text": [
      "Requirement already satisfied (use --upgrade to upgrade): scipy in /usr/local/lib64/python2.7/site-packages\r\n"
     ]
    }
   ],
   "source": [
    "!pip install scipy"
   ]
  },
  {
   "cell_type": "code",
   "execution_count": 4,
   "metadata": {
    "collapsed": false
   },
   "outputs": [
    {
     "name": "stdout",
     "output_type": "stream",
     "text": [
      "Populating the interactive namespace from numpy and matplotlib\n"
     ]
    }
   ],
   "source": [
    "from pyspark.sql import SQLContext\n",
    "from pyspark.sql.types import *\n",
    "\n",
    "sqlContext = SQLContext(sc)\n",
    "\n",
    "%pylab inline\n",
    "\n",
    "import pandas as pd\n",
    "import datetime as dt\n",
    "\n",
    "from scipy.io import loadmat,savemat,whosmat\n",
    "\n",
    "from string import split\n",
    "from collections import Counter\n",
    "import re\n",
    "import numpy as np\n",
    "from numpy import shape\n",
    "\n",
    "from glob import glob\n",
    "\n"
   ]
  },
  {
   "cell_type": "markdown",
   "metadata": {},
   "source": [
    "### Formats\n",
    "\n",
    "The name format is as follows:\n",
    "\n",
    "|Name | site name | Recording number | Species | Type of file | Data Cleaning iteration |\n",
    "|-|-----------|------------------|---------|--------------|-------------------------|\n",
    "|**Field name in code** | site | rec_no | species | fields | no |\n",
    "| | DT, GC, MC | 01,02,.. | Cuviers and Gerveis | **TPWS:** full data (waveforms) | no number == 1 |\n",
    "| |            |          |                     | **MD:** click belongs to other species | |\n",
    "| |            |          |                     | **FD:** click appearing in other species belongs here | |\n"
   ]
  },
  {
   "cell_type": "markdown",
   "metadata": {},
   "source": [
    "### Example filenames and the corresponding content\n",
    "\n",
    "#### MC01_Cuviers_TPWS1.mat\n",
    "Raw data on first iteration\n",
    "* MTT: time\n",
    "* MPP: peak to peak amplitude\n",
    "* MSN: Wave Form\n",
    "* MSP: Spectra\n",
    "\n",
    "####  MC01_Cuviers_TPWS2.mat\n",
    "Raw data after cleaning (second iteration).\n",
    "* MTT: time\n",
    "* MPP: peak to peak amplitude\n",
    "* MSN: Wave Form\n",
    "* MSP: Spectra\n",
    "\n",
    "#### MC01_Cuviers_MD1.mat\n",
    "first relabeling iteration\n",
    "* zMD: time of a click belonging to other species (gerveis in the case).\n",
    "\n",
    "#### MC01_Cuviers_MD2.mat\n",
    "second relabeling iteration\n",
    "* zMD: time of a click belonging to other species (gerveis in the case).\n",
    "\n",
    "#### MC01_Cuviers_FD1.mat\n",
    "first relabeling iteration\n",
    "* zFD: time of a foeign click\n",
    "\n",
    "#### MC01_Cuviers_FD2.mat\n",
    "Second relabeling iteration\n",
    "* zFD: time of a foeign click"
   ]
  },
  {
   "cell_type": "code",
   "execution_count": 5,
   "metadata": {
    "collapsed": false
   },
   "outputs": [],
   "source": [
    "%run Credentials.ipynb"
   ]
  },
  {
   "cell_type": "code",
   "execution_count": 6,
   "metadata": {
    "collapsed": true
   },
   "outputs": [],
   "source": [
    "s3helper.set_credential(AWS_ACCESS_KEY_ID, AWS_SECRET_ACCESS_KEY)"
   ]
  },
  {
   "cell_type": "code",
   "execution_count": 7,
   "metadata": {
    "collapsed": true
   },
   "outputs": [],
   "source": [
    "s3helper.open_bucket('while-classification')"
   ]
  },
  {
   "cell_type": "code",
   "execution_count": 8,
   "metadata": {
    "collapsed": false
   },
   "outputs": [
    {
     "data": {
      "text/plain": [
       "[u'DT_Cuviers',\n",
       " u'DT_Gervais',\n",
       " u'GC_Cuviers',\n",
       " u'GC_Gervais',\n",
       " u'MC_Cuviers',\n",
       " u'MC_Gervais',\n",
       " u'list']"
      ]
     },
     "execution_count": 8,
     "metadata": {},
     "output_type": "execute_result"
    }
   ],
   "source": [
    "dirs=s3helper.ls_s3() \n",
    "dirs"
   ]
  },
  {
   "cell_type": "code",
   "execution_count": 9,
   "metadata": {
    "collapsed": false
   },
   "outputs": [
    {
     "name": "stdout",
     "output_type": "stream",
     "text": [
      "Filesystem           1K-blocks      Used Available Use% Mounted on\r\n",
      "/dev/xvda1             8256920   4413812   3759228  55% /\r\n",
      "tmpfs                 31420132         0  31420132   0% /dev/shm\r\n",
      "/dev/xvdb            154818540   2430300 144523920   2% /mnt\r\n"
     ]
    }
   ],
   "source": [
    "!df"
   ]
  },
  {
   "cell_type": "code",
   "execution_count": 10,
   "metadata": {
    "collapsed": false,
    "scrolled": true
   },
   "outputs": [
    {
     "name": "stdout",
     "output_type": "stream",
     "text": [
      "mkdir: cannot create directory `/mnt/whales/DT_Cuviers/': File exists\r\n"
     ]
    }
   ],
   "source": [
    "!mkdir /mnt/whales/DT_Cuviers/"
   ]
  },
  {
   "cell_type": "code",
   "execution_count": 18,
   "metadata": {
    "collapsed": false
   },
   "outputs": [
    {
     "data": {
      "text/plain": [
       "('DT', '02', 'Cuviers', 'FD', '1')"
      ]
     },
     "execution_count": 18,
     "metadata": {},
     "output_type": "execute_result"
    }
   ],
   "source": [
    "#%%writefile matlab2datenum.py\n",
    "def matlab2datetime(matlab_datenum):\n",
    "    try:\n",
    "        day = dt.datetime.fromordinal(int(matlab_datenum))\n",
    "        dayfrac = dt.timedelta(days=matlab_datenum%1) - dt.timedelta(days = 366)\n",
    "        return day + dayfrac\n",
    "    except:\n",
    "        return None\n",
    "\n",
    "def mat2columns(data,label):\n",
    "    \"\"\" load a 2d number array as columns in D \n",
    "            data: 2d numpy array\n",
    "            label: the prefix of the columns (followed by index)\n",
    "            D: assumed to be an existing dataframe, defined externally.\n",
    "    \"\"\"\n",
    "    for i in range(shape(data)[1]):\n",
    "        col=label+str(i)\n",
    "        D[col]=data[:,i]\n",
    "        columns.append(col)\n",
    "\n",
    "def mat2packedarrays(data):\n",
    "    \"\"\" represent a 2D array as a list of binary arrays\"\"\"\n",
    "    m,n = data.shape\n",
    "    L=[]\n",
    "    for i in range(m):\n",
    "        L.append(packArray(data[i,:],))\n",
    "    return L\n",
    "\n",
    "\n",
    "# %load numpy_pack.py\n",
    "import numpy as np\n",
    "\"\"\"Code for packing and unpacking a numpy array into a byte array.\n",
    "   the array is flattened if it is not 1D.\n",
    "   This is intended to be used as the interface for storing \n",
    "   \n",
    "   This code is intended to be used to store numpy array as fields in a dataframe and then store the \n",
    "   dataframes in a parquet file.\n",
    "\"\"\"\n",
    "\n",
    "def packArray(a):\n",
    "    if type(a)!=np.ndarray:\n",
    "        raise Exception(\"input to packArray should be numpy.ndarray. It is instead \"+str(type(a)))\n",
    "    return bytearray(a.tobytes())\n",
    "def unpackArray(x,data_type=np.int16):\n",
    "    return np.frombuffer(x,dtype=data_type)\n",
    "\n",
    "pattern=re.compile(r'(\\w{2})(\\d{2})_([^_]+)_([A-Z]+)(\\d*).mat')\n",
    "def parse_filename(filename):\n",
    "    match=pattern.search(filename)\n",
    "    if match:\n",
    "        site,rec_no,species,fields,no=match.groups()\n",
    "        if no=='':  # if no iteration number, call it iteration 1.\n",
    "            no='1'\n",
    "        return (site,rec_no,species,fields,no)\n",
    "    else:\n",
    "        raise Exception('bad file name'+filename)\n",
    "parse_filename('DT_Cuviers/DT02_Cuviers_FD.mat')"
   ]
  },
  {
   "cell_type": "code",
   "execution_count": 19,
   "metadata": {
    "collapsed": false
   },
   "outputs": [
    {
     "name": "stdout",
     "output_type": "stream",
     "text": [
      "DT_Cuviers DT_Cuviers/DT01_Cuviers_FD.mat\n",
      "(u'DT', u'01', u'Cuviers', u'FD', '1')\n",
      "(u'DT', u'01', u'Cuviers')\n",
      "DT_Cuviers DT_Cuviers/DT01_Cuviers_FD2.mat\n",
      "(u'DT', u'01', u'Cuviers', u'FD', u'2')\n",
      "DT_Cuviers DT_Cuviers/DT01_Cuviers_MD.mat\n",
      "(u'DT', u'01', u'Cuviers', u'MD', '1')\n",
      "DT_Cuviers DT_Cuviers/DT01_Cuviers_MD2.mat\n",
      "(u'DT', u'01', u'Cuviers', u'MD', u'2')\n",
      "DT_Cuviers DT_Cuviers/DT01_Cuviers_TPWS.mat\n",
      "(u'DT', u'01', u'Cuviers', u'TPWS', '1')\n",
      "DT_Cuviers DT_Cuviers/DT01_Cuviers_TPWS2.mat\n",
      "(u'DT', u'01', u'Cuviers', u'TPWS', u'2')\n",
      "DT_Cuviers DT_Cuviers/DT02_Cuviers_FD.mat\n",
      "(u'DT', u'02', u'Cuviers', u'FD', '1')\n"
     ]
    }
   ],
   "source": [
    "pattern=re.compile(r'(\\w{2})(\\d{2})_([^_]+)_([A-Z]+)(\\d*).mat')\n",
    "for _dir in dirs:\n",
    "    List=s3helper.ls_s3(_dir)\n",
    "    master_key=0\n",
    "    for _file in List:\n",
    "        print _dir,_file\n",
    "        key=parse_filename(_file)\n",
    "        print key\n",
    "        s3helper.s3_to_local(_file,'/mnt/whales/'+_file)\n",
    "        if master_key==0:\n",
    "            master_key=key[:3]\n",
    "            print master_key\n",
    "        else:\n",
    "            if key[:3] != master_key:\n",
    "                break\n"
   ]
  },
  {
   "cell_type": "code",
   "execution_count": 20,
   "metadata": {
    "collapsed": false,
    "scrolled": true
   },
   "outputs": [
    {
     "name": "stdout",
     "output_type": "stream",
     "text": [
      "-rw-r--r-- 1 root root      3215 Jul  1 00:06 /mnt/whales/DT_Cuviers/DT01_Cuviers_FD2.mat\r\n",
      "-rw-r--r-- 1 root root     26317 Jul  1 00:06 /mnt/whales/DT_Cuviers/DT01_Cuviers_FD.mat\r\n",
      "-rw-r--r-- 1 root root       174 Jul  1 00:06 /mnt/whales/DT_Cuviers/DT01_Cuviers_MD2.mat\r\n",
      "-rw-r--r-- 1 root root    214885 Jul  1 00:06 /mnt/whales/DT_Cuviers/DT01_Cuviers_MD.mat\r\n",
      "-rw-r--r-- 1 root root 460082649 Jul  1 00:21 /mnt/whales/DT_Cuviers/DT01_Cuviers_TPWS2.mat\r\n",
      "-rw-r--r-- 1 root root 639387282 Jul  1 00:06 /mnt/whales/DT_Cuviers/DT01_Cuviers_TPWS.mat\r\n"
     ]
    }
   ],
   "source": [
    "!ls -l /mnt/whales/*/*\n",
    "    \n",
    "    \n",
    "#s3helper.s3_to_local('DT_Cuviers/DT04_Cuviers_TPWS2.mat','/mnt/whales/DT_Cuviers/DT04_Cuviers_TPWS2.mat')"
   ]
  },
  {
   "cell_type": "code",
   "execution_count": 21,
   "metadata": {
    "collapsed": false
   },
   "outputs": [
    {
     "name": "stdout",
     "output_type": "stream",
     "text": [
      "/mnt/whales/DT_Cuviers\n",
      "DT01_Cuviers_FD.mat\n",
      "loading DT01_Cuviers_FD.mat into ('DT', '01', 'Cuviers', 'FD', '1')\n",
      "==== ('DT', '01', 'Cuviers', 'FD', '1') :\n",
      "zFD (7860, 1)\n",
      "DT01_Cuviers_TPWS2.mat\n",
      "loading DT01_Cuviers_TPWS2.mat into ('DT', '01', 'Cuviers', 'TPWS', '2')\n",
      "==== ('DT', '01', 'Cuviers', 'TPWS', '2') :\n",
      "MSP (197201, 101)\n",
      "MTT (1, 197201)\n",
      "MSN (197201, 202)\n",
      "MPP (1, 197201)\n",
      "DT01_Cuviers_TPWS.mat\n",
      "loading DT01_Cuviers_TPWS.mat into ('DT', '01', 'Cuviers', 'TPWS', '1')\n",
      "==== ('DT', '01', 'Cuviers', 'TPWS', '1') :\n",
      "MSP (274223, 101)\n",
      "MTT (1, 274223)\n",
      "MSN (274223, 202)\n",
      "MPP (1, 274223)\n",
      "DT01_Cuviers_FD2.mat\n",
      "loading DT01_Cuviers_FD2.mat into ('DT', '01', 'Cuviers', 'FD', '2')\n",
      "==== ('DT', '01', 'Cuviers', 'FD', '2') :\n",
      "zFD (922, 1)\n",
      "DT01_Cuviers_MD2.mat\n",
      "loading DT01_Cuviers_MD2.mat into ('DT', '01', 'Cuviers', 'MD', '2')\n",
      "==== ('DT', '01', 'Cuviers', 'MD', '2') :\n",
      "zMD (0, 2)\n",
      "DT01_Cuviers_MD.mat\n",
      "loading DT01_Cuviers_MD.mat into ('DT', '01', 'Cuviers', 'MD', '1')\n",
      "==== ('DT', '01', 'Cuviers', 'MD', '1') :\n",
      "zMD (70321, 2)\n"
     ]
    }
   ],
   "source": [
    "import sys\n",
    "%cd \"/mnt/whales/DT_Cuviers/\"\n",
    "All_Labels=Counter()\n",
    "data={}\n",
    "for filename in glob('DT01*.mat'):\n",
    "    print filename\n",
    "    key=parse_filename(filename)\n",
    "    # (site,rec_no,species,fields,no)\n",
    "    print 'loading %s into %s'%(filename,key)\n",
    "    data[key]=loadmat(filename)\n",
    "    print '====',key,':'\n",
    "\n",
    "    for key2 in data[key].keys():\n",
    "        if key2[:2]=='__':\n",
    "            del data[key][key2]\n",
    "        else:\n",
    "            print key2, shape(data[key][key2])\n",
    "    "
   ]
  },
  {
   "cell_type": "code",
   "execution_count": 22,
   "metadata": {
    "collapsed": false
   },
   "outputs": [
    {
     "name": "stdout",
     "output_type": "stream",
     "text": [
      "('DT', '01', 'Cuviers', 'TPWS', '2')\n",
      "after adding TPWS2 (197201, 6) (197201, 6)\n",
      "('DT', '01', 'Cuviers', 'TPWS', '1')\n",
      "after adding TPWS1 (274223, 6) (274946, 6)\n"
     ]
    }
   ],
   "source": [
    "master_key=('DT','01','Cuviers')\n",
    "\n",
    "mdf=None  # mdf is the master data frame into which all of the data is collected.\n",
    "\n",
    "# load TPWS files\n",
    "for file_key in [k for k in data.keys() if k[:4]==master_key[:3]+('TPWS',)]:\n",
    "    print file_key\n",
    "\n",
    "    TPWS=data[file_key]\n",
    "\n",
    "    D={}\n",
    "    columns=['time','site','rec_no','species','peak2peak','MSN','MSP']\n",
    "    D['time']=[matlab2datetime(t) for t in TPWS['MTT'][0,:]]\n",
    "    D['site']=master_key[0]\n",
    "    D['rec_no']=master_key[1]\n",
    "    D['species']=master_key[2]\n",
    "    D['peak2peak']=TPWS['MPP'][0,:]\n",
    "\n",
    "    #mat2columns(TPWS['MSN'],'MSN') # TODO: encode numpy arrays as byte arrays.\n",
    "    #mat2columns(TPWS['MSP'],'MSP')\n",
    "    D['MSN'] = mat2packedarrays(TPWS['MSN'])\n",
    "    D['MSP'] = mat2packedarrays(TPWS['MSP'])\n",
    "\n",
    "    df=pd.DataFrame(D,columns=columns)\n",
    "    df.index=D['time']\n",
    "    df=df[columns[1:]]\n",
    "    if type(mdf)==type(None):\n",
    "        mdf=df\n",
    "    else:\n",
    "        # add rows that do not currently exist in mdf\n",
    "        df_new=df.select(lambda x: not x in mdf.index)\n",
    "        mdf=pd.concat([mdf,df_new])\n",
    "    print 'after adding %s%s'%file_key[-2:],df.shape,mdf.shape"
   ]
  },
  {
   "cell_type": "code",
   "execution_count": 23,
   "metadata": {
    "collapsed": false
   },
   "outputs": [
    {
     "data": {
      "text/plain": [
       "((274223, 202), (274223, 101))"
      ]
     },
     "execution_count": 23,
     "metadata": {},
     "output_type": "execute_result"
    }
   ],
   "source": [
    "shape(TPWS['MSN']),shape(TPWS['MSP'])"
   ]
  },
  {
   "cell_type": "code",
   "execution_count": 24,
   "metadata": {
    "collapsed": false
   },
   "outputs": [
    {
     "data": {
      "text/plain": [
       "Index([u'site', u'rec_no', u'species', u'peak2peak', u'MSN', u'MSP'], dtype='object')"
      ]
     },
     "execution_count": 24,
     "metadata": {},
     "output_type": "execute_result"
    }
   ],
   "source": [
    "mdf.columns"
   ]
  },
  {
   "cell_type": "code",
   "execution_count": 25,
   "metadata": {
    "collapsed": false
   },
   "outputs": [
    {
     "data": {
      "text/plain": [
       "[<matplotlib.lines.Line2D at 0x7f54107be190>]"
      ]
     },
     "execution_count": 25,
     "metadata": {},
     "output_type": "execute_result"
    },
    {
     "data": {
      "image/png": "[encoded data removed]",
      "text/plain": [
       "<matplotlib.figure.Figure at 0x7f54572bc990>"
      ]
     },
     "metadata": {},
     "output_type": "display_data"
    }
   ],
   "source": [
    "plot(unpackArray(mdf['MSP'][1],data_type=np.float64))"
   ]
  },
  {
   "cell_type": "code",
   "execution_count": 26,
   "metadata": {
    "collapsed": false
   },
   "outputs": [
    {
     "name": "stdout",
     "output_type": "stream",
     "text": [
      "('DT', '01', 'Cuviers', 'FD', '2') FD2 read 922 records\n",
      "('DT', '01', 'Cuviers', 'TPWS', '2') TPWS2 read 197201 records\n",
      "('DT', '01', 'Cuviers', 'TPWS', '1') TPWS1 read 274223 records\n",
      "('DT', '01', 'Cuviers', 'FD', '1') FD1 read 7860 records\n",
      "('DT', '01', 'Cuviers', 'MD', '1') MD1 read 70321 records\n",
      "('DT', '01', 'Cuviers', 'MD', '2') is empty\n",
      "after adding all (274946, 11)\n",
      "akeys= ['FD2', 'TPWS2', 'TPWS1', 'FD1', 'MD1']\n"
     ]
    }
   ],
   "source": [
    "#merge all data items (.mat files) corresponding to site, rec_no and species.\n",
    "\n",
    "akeys=[]\n",
    "for file_key in [k for k in data.keys() if k[:3]==master_key[:3]]:\n",
    "\n",
    "    print file_key,\n",
    "    tbl=data[file_key]\n",
    "    array_keys=tbl.keys()\n",
    "    if len(array_keys)==1:\n",
    "        time_key=array_keys[0]\n",
    "    else:\n",
    "        time_key='MTT'\n",
    "    \n",
    "    \n",
    "    D2=[matlab2datetime(t) for t in np.ravel(tbl[time_key])]\n",
    "    \n",
    "    \n",
    "    if len(D2)==0:\n",
    "        print 'is empty'\n",
    "        continue\n",
    "\n",
    "    S3=pd.Series(data=True,index=D2)\n",
    "    # Remove from S3 entries with a bad index\n",
    "    nans=[(a!= None and type(a)!=pd.tslib.NaTType) for a in S3.index]\n",
    "    S3=S3[nans]\n",
    "    mdf_key=file_key[-2]+file_key[-1]\n",
    "    print mdf_key,'read',S3.shape[0],'records'\n",
    "    akeys.append(mdf_key)\n",
    "    if mdf_key in mdf.columns:\n",
    "        print mdf_key,'already in mdf'\n",
    "    else:\n",
    "        mdf[mdf_key]=S3\n",
    "mdf=mdf.fillna(False)\n",
    "print 'after adding all',mdf.shape\n",
    "print 'akeys=',akeys"
   ]
  },
  {
   "cell_type": "code",
   "execution_count": 27,
   "metadata": {
    "collapsed": false
   },
   "outputs": [
    {
     "data": {
      "text/html": [
       "<div>\n",
       "<table border=\"1\" class=\"dataframe\">\n",
       "  <thead>\n",
       "    <tr style=\"text-align: right;\">\n",
       "      <th></th>\n",
       "      <th>site</th>\n",
       "      <th>rec_no</th>\n",
       "      <th>species</th>\n",
       "      <th>peak2peak</th>\n",
       "      <th>FD2</th>\n",
       "      <th>TPWS2</th>\n",
       "      <th>TPWS1</th>\n",
       "      <th>FD1</th>\n",
       "      <th>MD1</th>\n",
       "    </tr>\n",
       "  </thead>\n",
       "  <tbody>\n",
       "    <tr>\n",
       "      <th>2010-08-09 07:01:15.000002</th>\n",
       "      <td>DT</td>\n",
       "      <td>01</td>\n",
       "      <td>Cuviers</td>\n",
       "      <td>45.985810</td>\n",
       "      <td>False</td>\n",
       "      <td>False</td>\n",
       "      <td>True</td>\n",
       "      <td>True</td>\n",
       "      <td>False</td>\n",
       "    </tr>\n",
       "    <tr>\n",
       "      <th>2010-08-09 07:02:29.999998</th>\n",
       "      <td>DT</td>\n",
       "      <td>01</td>\n",
       "      <td>Cuviers</td>\n",
       "      <td>44.843157</td>\n",
       "      <td>False</td>\n",
       "      <td>False</td>\n",
       "      <td>True</td>\n",
       "      <td>True</td>\n",
       "      <td>False</td>\n",
       "    </tr>\n",
       "    <tr>\n",
       "      <th>2010-08-09 07:03:45.000003</th>\n",
       "      <td>DT</td>\n",
       "      <td>01</td>\n",
       "      <td>Cuviers</td>\n",
       "      <td>45.863097</td>\n",
       "      <td>False</td>\n",
       "      <td>False</td>\n",
       "      <td>True</td>\n",
       "      <td>True</td>\n",
       "      <td>False</td>\n",
       "    </tr>\n",
       "    <tr>\n",
       "      <th>2010-08-09 07:05:11.523171</th>\n",
       "      <td>DT</td>\n",
       "      <td>01</td>\n",
       "      <td>Cuviers</td>\n",
       "      <td>54.203887</td>\n",
       "      <td>False</td>\n",
       "      <td>False</td>\n",
       "      <td>True</td>\n",
       "      <td>True</td>\n",
       "      <td>False</td>\n",
       "    </tr>\n",
       "    <tr>\n",
       "      <th>2010-08-09 07:06:27.096821</th>\n",
       "      <td>DT</td>\n",
       "      <td>01</td>\n",
       "      <td>Cuviers</td>\n",
       "      <td>53.953768</td>\n",
       "      <td>False</td>\n",
       "      <td>False</td>\n",
       "      <td>True</td>\n",
       "      <td>True</td>\n",
       "      <td>False</td>\n",
       "    </tr>\n",
       "    <tr>\n",
       "      <th>2010-08-09 07:06:32.772006</th>\n",
       "      <td>DT</td>\n",
       "      <td>01</td>\n",
       "      <td>Cuviers</td>\n",
       "      <td>49.842384</td>\n",
       "      <td>False</td>\n",
       "      <td>False</td>\n",
       "      <td>True</td>\n",
       "      <td>True</td>\n",
       "      <td>False</td>\n",
       "    </tr>\n",
       "    <tr>\n",
       "      <th>2010-08-09 07:06:33.616731</th>\n",
       "      <td>DT</td>\n",
       "      <td>01</td>\n",
       "      <td>Cuviers</td>\n",
       "      <td>49.010330</td>\n",
       "      <td>False</td>\n",
       "      <td>False</td>\n",
       "      <td>True</td>\n",
       "      <td>True</td>\n",
       "      <td>False</td>\n",
       "    </tr>\n",
       "    <tr>\n",
       "      <th>2010-08-09 07:06:34.485807</th>\n",
       "      <td>DT</td>\n",
       "      <td>01</td>\n",
       "      <td>Cuviers</td>\n",
       "      <td>47.118755</td>\n",
       "      <td>False</td>\n",
       "      <td>False</td>\n",
       "      <td>True</td>\n",
       "      <td>True</td>\n",
       "      <td>False</td>\n",
       "    </tr>\n",
       "    <tr>\n",
       "      <th>2010-08-09 07:06:40.280545</th>\n",
       "      <td>DT</td>\n",
       "      <td>01</td>\n",
       "      <td>Cuviers</td>\n",
       "      <td>48.309630</td>\n",
       "      <td>False</td>\n",
       "      <td>False</td>\n",
       "      <td>True</td>\n",
       "      <td>True</td>\n",
       "      <td>False</td>\n",
       "    </tr>\n",
       "    <tr>\n",
       "      <th>2010-08-09 07:06:40.964398</th>\n",
       "      <td>DT</td>\n",
       "      <td>01</td>\n",
       "      <td>Cuviers</td>\n",
       "      <td>51.501142</td>\n",
       "      <td>False</td>\n",
       "      <td>False</td>\n",
       "      <td>True</td>\n",
       "      <td>True</td>\n",
       "      <td>False</td>\n",
       "    </tr>\n",
       "  </tbody>\n",
       "</table>\n",
       "</div>"
      ],
      "text/plain": [
       "                           site rec_no  species  peak2peak    FD2  TPWS2  \\\n",
       "2010-08-09 07:01:15.000002   DT     01  Cuviers  45.985810  False  False   \n",
       "2010-08-09 07:02:29.999998   DT     01  Cuviers  44.843157  False  False   \n",
       "2010-08-09 07:03:45.000003   DT     01  Cuviers  45.863097  False  False   \n",
       "2010-08-09 07:05:11.523171   DT     01  Cuviers  54.203887  False  False   \n",
       "2010-08-09 07:06:27.096821   DT     01  Cuviers  53.953768  False  False   \n",
       "2010-08-09 07:06:32.772006   DT     01  Cuviers  49.842384  False  False   \n",
       "2010-08-09 07:06:33.616731   DT     01  Cuviers  49.010330  False  False   \n",
       "2010-08-09 07:06:34.485807   DT     01  Cuviers  47.118755  False  False   \n",
       "2010-08-09 07:06:40.280545   DT     01  Cuviers  48.309630  False  False   \n",
       "2010-08-09 07:06:40.964398   DT     01  Cuviers  51.501142  False  False   \n",
       "\n",
       "                           TPWS1   FD1    MD1  \n",
       "2010-08-09 07:01:15.000002  True  True  False  \n",
       "2010-08-09 07:02:29.999998  True  True  False  \n",
       "2010-08-09 07:03:45.000003  True  True  False  \n",
       "2010-08-09 07:05:11.523171  True  True  False  \n",
       "2010-08-09 07:06:27.096821  True  True  False  \n",
       "2010-08-09 07:06:32.772006  True  True  False  \n",
       "2010-08-09 07:06:33.616731  True  True  False  \n",
       "2010-08-09 07:06:34.485807  True  True  False  \n",
       "2010-08-09 07:06:40.280545  True  True  False  \n",
       "2010-08-09 07:06:40.964398  True  True  False  "
      ]
     },
     "execution_count": 27,
     "metadata": {},
     "output_type": "execute_result"
    }
   ],
   "source": [
    "mdf=mdf.sort_index()\n",
    "mdf[[u'site', u'rec_no', u'species', u'peak2peak']+akeys].head(10)"
   ]
  },
  {
   "cell_type": "code",
   "execution_count": 28,
   "metadata": {
    "collapsed": true
   },
   "outputs": [],
   "source": [
    "#find time gaps (breaks) larger the 1800 seconds = 30 minutes\n",
    "#these time gaps define what is a recording from a single bout of whales.\n",
    "\n",
    "times=mdf.index\n",
    "\n",
    "deltas=np.array([(times[i+1]-times[i]).total_seconds() for i in range(len(times)-1)])\n",
    "\n",
    "bout_i = np.concatenate([[0],np.cumsum(deltas>1800)])\n",
    "\n",
    "mdf['bout_i']=bout_i"
   ]
  },
  {
   "cell_type": "code",
   "execution_count": 29,
   "metadata": {
    "collapsed": false
   },
   "outputs": [
    {
     "data": {
      "text/html": [
       "<div>\n",
       "<table border=\"1\" class=\"dataframe\">\n",
       "  <thead>\n",
       "    <tr style=\"text-align: right;\">\n",
       "      <th></th>\n",
       "      <th></th>\n",
       "      <th></th>\n",
       "      <th></th>\n",
       "      <th></th>\n",
       "      <th>ones</th>\n",
       "    </tr>\n",
       "    <tr>\n",
       "      <th>FD2</th>\n",
       "      <th>TPWS2</th>\n",
       "      <th>TPWS1</th>\n",
       "      <th>FD1</th>\n",
       "      <th>MD1</th>\n",
       "      <th></th>\n",
       "    </tr>\n",
       "  </thead>\n",
       "  <tbody>\n",
       "    <tr>\n",
       "      <th rowspan=\"7\" valign=\"top\">False</th>\n",
       "      <th rowspan=\"3\" valign=\"top\">False</th>\n",
       "      <th rowspan=\"3\" valign=\"top\">True</th>\n",
       "      <th>False</th>\n",
       "      <th>True</th>\n",
       "      <td>69939</td>\n",
       "    </tr>\n",
       "    <tr>\n",
       "      <th rowspan=\"2\" valign=\"top\">True</th>\n",
       "      <th>False</th>\n",
       "      <td>7786</td>\n",
       "    </tr>\n",
       "    <tr>\n",
       "      <th>True</th>\n",
       "      <td>20</td>\n",
       "    </tr>\n",
       "    <tr>\n",
       "      <th rowspan=\"4\" valign=\"top\">True</th>\n",
       "      <th>False</th>\n",
       "      <th>False</th>\n",
       "      <th>False</th>\n",
       "      <td>723</td>\n",
       "    </tr>\n",
       "    <tr>\n",
       "      <th rowspan=\"3\" valign=\"top\">True</th>\n",
       "      <th rowspan=\"2\" valign=\"top\">False</th>\n",
       "      <th>False</th>\n",
       "      <td>195140</td>\n",
       "    </tr>\n",
       "    <tr>\n",
       "      <th>True</th>\n",
       "      <td>362</td>\n",
       "    </tr>\n",
       "    <tr>\n",
       "      <th>True</th>\n",
       "      <th>False</th>\n",
       "      <td>54</td>\n",
       "    </tr>\n",
       "    <tr>\n",
       "      <th>True</th>\n",
       "      <th>True</th>\n",
       "      <th>True</th>\n",
       "      <th>False</th>\n",
       "      <th>False</th>\n",
       "      <td>922</td>\n",
       "    </tr>\n",
       "  </tbody>\n",
       "</table>\n",
       "</div>"
      ],
      "text/plain": [
       "                                 ones\n",
       "FD2   TPWS2 TPWS1 FD1   MD1          \n",
       "False False True  False True    69939\n",
       "                  True  False    7786\n",
       "                        True       20\n",
       "      True  False False False     723\n",
       "            True  False False  195140\n",
       "                        True      362\n",
       "                  True  False      54\n",
       "True  True  True  False False     922"
      ]
     },
     "execution_count": 29,
     "metadata": {},
     "output_type": "execute_result"
    }
   ],
   "source": [
    "Flags = pd.DataFrame(mdf[akeys])\n",
    "Flags['ones']=1\n",
    "Flags.groupby(akeys).count()"
   ]
  },
  {
   "cell_type": "code",
   "execution_count": 30,
   "metadata": {
    "collapsed": false
   },
   "outputs": [
    {
     "data": {
      "image/png": "[encoded data removed]",
      "text/plain": [
       "<matplotlib.figure.Figure at 0x7f54107acf90>"
      ]
     },
     "metadata": {},
     "output_type": "display_data"
    }
   ],
   "source": [
    "plot (bout_i);"
   ]
  },
  {
   "cell_type": "code",
   "execution_count": 31,
   "metadata": {
    "collapsed": false
   },
   "outputs": [
    {
     "data": {
      "image/png": "[encoded data removed]",
      "text/plain": [
       "<matplotlib.figure.Figure at 0x7f5409e22210>"
      ]
     },
     "metadata": {},
     "output_type": "display_data"
    }
   ],
   "source": [
    "plot(times);"
   ]
  },
  {
   "cell_type": "code",
   "execution_count": 32,
   "metadata": {
    "collapsed": false
   },
   "outputs": [
    {
     "data": {
      "text/plain": [
       "Index([u'site', u'rec_no', u'species', u'peak2peak', u'MSN', u'MSP', u'FD2',\n",
       "       u'TPWS2', u'TPWS1', u'FD1', u'MD1', u'bout_i'],\n",
       "      dtype='object')"
      ]
     },
     "execution_count": 32,
     "metadata": {},
     "output_type": "execute_result"
    }
   ],
   "source": [
    "mdf.columns"
   ]
  },
  {
   "cell_type": "code",
   "execution_count": 33,
   "metadata": {
    "collapsed": false
   },
   "outputs": [
    {
     "data": {
      "text/html": [
       "<div>\n",
       "<table border=\"1\" class=\"dataframe\">\n",
       "  <thead>\n",
       "    <tr style=\"text-align: right;\">\n",
       "      <th></th>\n",
       "      <th>site</th>\n",
       "      <th>rec_no</th>\n",
       "      <th>bout_i</th>\n",
       "      <th>species</th>\n",
       "      <th>peak2peak</th>\n",
       "      <th>MSN</th>\n",
       "      <th>MSP</th>\n",
       "      <th>FD2</th>\n",
       "      <th>TPWS2</th>\n",
       "      <th>TPWS1</th>\n",
       "      <th>FD1</th>\n",
       "      <th>MD1</th>\n",
       "    </tr>\n",
       "  </thead>\n",
       "  <tbody>\n",
       "    <tr>\n",
       "      <th>2010-08-09 07:01:15.000002</th>\n",
       "      <td>DT</td>\n",
       "      <td>01</td>\n",
       "      <td>0</td>\n",
       "      <td>Cuviers</td>\n",
       "      <td>45.985810</td>\n",
       "      <td>[0, 0, 0, 0, 0, 0, 0, 0, 0, 0, 0, 0, 0, 0, 0, ...</td>\n",
       "      <td>[180, 196, 7, 138, 165, 28, 65, 192, 18, 240, ...</td>\n",
       "      <td>False</td>\n",
       "      <td>False</td>\n",
       "      <td>True</td>\n",
       "      <td>True</td>\n",
       "      <td>False</td>\n",
       "    </tr>\n",
       "    <tr>\n",
       "      <th>2010-08-09 07:02:29.999998</th>\n",
       "      <td>DT</td>\n",
       "      <td>01</td>\n",
       "      <td>0</td>\n",
       "      <td>Cuviers</td>\n",
       "      <td>44.843157</td>\n",
       "      <td>[0, 0, 0, 0, 0, 0, 0, 0, 0, 0, 0, 0, 0, 0, 0, ...</td>\n",
       "      <td>[84, 0, 16, 72, 93, 160, 65, 192, 118, 53, 42,...</td>\n",
       "      <td>False</td>\n",
       "      <td>False</td>\n",
       "      <td>True</td>\n",
       "      <td>True</td>\n",
       "      <td>False</td>\n",
       "    </tr>\n",
       "    <tr>\n",
       "      <th>2010-08-09 07:03:45.000003</th>\n",
       "      <td>DT</td>\n",
       "      <td>01</td>\n",
       "      <td>0</td>\n",
       "      <td>Cuviers</td>\n",
       "      <td>45.863097</td>\n",
       "      <td>[0, 0, 0, 0, 0, 0, 0, 0, 0, 0, 0, 0, 0, 0, 0, ...</td>\n",
       "      <td>[67, 227, 115, 122, 1, 223, 64, 192, 235, 234,...</td>\n",
       "      <td>False</td>\n",
       "      <td>False</td>\n",
       "      <td>True</td>\n",
       "      <td>True</td>\n",
       "      <td>False</td>\n",
       "    </tr>\n",
       "    <tr>\n",
       "      <th>2010-08-09 07:05:11.523171</th>\n",
       "      <td>DT</td>\n",
       "      <td>01</td>\n",
       "      <td>0</td>\n",
       "      <td>Cuviers</td>\n",
       "      <td>54.203887</td>\n",
       "      <td>[240, 213, 200, 89, 189, 43, 16, 192, 0, 226, ...</td>\n",
       "      <td>[44, 106, 239, 80, 161, 102, 65, 192, 96, 105,...</td>\n",
       "      <td>False</td>\n",
       "      <td>False</td>\n",
       "      <td>True</td>\n",
       "      <td>True</td>\n",
       "      <td>False</td>\n",
       "    </tr>\n",
       "    <tr>\n",
       "      <th>2010-08-09 07:06:27.096821</th>\n",
       "      <td>DT</td>\n",
       "      <td>01</td>\n",
       "      <td>0</td>\n",
       "      <td>Cuviers</td>\n",
       "      <td>53.953768</td>\n",
       "      <td>[64, 95, 23, 103, 183, 17, 21, 192, 224, 168, ...</td>\n",
       "      <td>[42, 38, 133, 226, 139, 135, 66, 192, 136, 97,...</td>\n",
       "      <td>False</td>\n",
       "      <td>False</td>\n",
       "      <td>True</td>\n",
       "      <td>True</td>\n",
       "      <td>False</td>\n",
       "    </tr>\n",
       "  </tbody>\n",
       "</table>\n",
       "</div>"
      ],
      "text/plain": [
       "                           site rec_no  bout_i  species  peak2peak  \\\n",
       "2010-08-09 07:01:15.000002   DT     01       0  Cuviers  45.985810   \n",
       "2010-08-09 07:02:29.999998   DT     01       0  Cuviers  44.843157   \n",
       "2010-08-09 07:03:45.000003   DT     01       0  Cuviers  45.863097   \n",
       "2010-08-09 07:05:11.523171   DT     01       0  Cuviers  54.203887   \n",
       "2010-08-09 07:06:27.096821   DT     01       0  Cuviers  53.953768   \n",
       "\n",
       "                                                                          MSN  \\\n",
       "2010-08-09 07:01:15.000002  [0, 0, 0, 0, 0, 0, 0, 0, 0, 0, 0, 0, 0, 0, 0, ...   \n",
       "2010-08-09 07:02:29.999998  [0, 0, 0, 0, 0, 0, 0, 0, 0, 0, 0, 0, 0, 0, 0, ...   \n",
       "2010-08-09 07:03:45.000003  [0, 0, 0, 0, 0, 0, 0, 0, 0, 0, 0, 0, 0, 0, 0, ...   \n",
       "2010-08-09 07:05:11.523171  [240, 213, 200, 89, 189, 43, 16, 192, 0, 226, ...   \n",
       "2010-08-09 07:06:27.096821  [64, 95, 23, 103, 183, 17, 21, 192, 224, 168, ...   \n",
       "\n",
       "                                                                          MSP  \\\n",
       "2010-08-09 07:01:15.000002  [180, 196, 7, 138, 165, 28, 65, 192, 18, 240, ...   \n",
       "2010-08-09 07:02:29.999998  [84, 0, 16, 72, 93, 160, 65, 192, 118, 53, 42,...   \n",
       "2010-08-09 07:03:45.000003  [67, 227, 115, 122, 1, 223, 64, 192, 235, 234,...   \n",
       "2010-08-09 07:05:11.523171  [44, 106, 239, 80, 161, 102, 65, 192, 96, 105,...   \n",
       "2010-08-09 07:06:27.096821  [42, 38, 133, 226, 139, 135, 66, 192, 136, 97,...   \n",
       "\n",
       "                              FD2  TPWS2 TPWS1   FD1    MD1  \n",
       "2010-08-09 07:01:15.000002  False  False  True  True  False  \n",
       "2010-08-09 07:02:29.999998  False  False  True  True  False  \n",
       "2010-08-09 07:03:45.000003  False  False  True  True  False  \n",
       "2010-08-09 07:05:11.523171  False  False  True  True  False  \n",
       "2010-08-09 07:06:27.096821  False  False  True  True  False  "
      ]
     },
     "execution_count": 33,
     "metadata": {},
     "output_type": "execute_result"
    }
   ],
   "source": [
    "mdf=mdf[[u'site', u'rec_no', u'bout_i', u'species', u'peak2peak','MSN','MSP']+akeys]\n",
    "mdf.head()"
   ]
  },
  {
   "cell_type": "code",
   "execution_count": 34,
   "metadata": {
    "collapsed": false
   },
   "outputs": [
    {
     "data": {
      "text/plain": [
       "'-35.2528,-35.0435,-46.4771,-49.8702,-50.1851,-48.7973,-33.8817,-24.9540,-19.3585,-16.5317,-15.8172,-16.3975,-17.3719,-17.7369,-17.6556,-17.9082,-18.2148,-18.8320,-19.5688,-19.1760,-18.8469,-20.0967,-20.9053,-20.6163,-21.8672,-22.1504,-22.2318,-22.8896,-21.9784,-22.3762,-23.8167,-23.0124,-21.6222,-21.8216,-24.1648,-27.8420,-27.2391,-24.8876,-24.0436,-24.3730,-24.8900,-25.3223,-26.1830,-25.6344,-24.5404,-25.2670,-27.4257,-30.4422,-31.8927,-29.3916,-27.2991,-25.7257,-25.6982,-27.3833,-28.5848,-29.2403,-31.4937,-31.5888,-28.6602,-26.8062,-26.2541,-26.7075,-27.3277,-27.8395,-29.2882,-30.8081,-29.3463,-26.1469,-24.2931,-24.1431,-25.5900,-29.4158,-31.8303,-28.2881,-27.4818,-28.9584,-32.5434,-36.0896,-28.4966,-25.5702,-24.3769,-24.5974,-28.1669,-35.0698,-35.3643,-30.9863,-27.6685,-26.5005,-25.9734,-25.7509,-26.8151,-30.7129,-35.8730,-32.2192,-31.2438,-33.3672,-38.0414,-46.4163,-63.5005,-74.7820,-70.9636'"
      ]
     },
     "execution_count": 34,
     "metadata": {},
     "output_type": "execute_result"
    }
   ],
   "source": [
    "def packed2cvs(row, data_type=np.float64,fmt='%6.4f'):\n",
    "    return ','.join([fmt%x for x in list(unpackArray(row,data_type=data_type))])\n",
    "packed2cvs(mdf['MSP'][1])"
   ]
  },
  {
   "cell_type": "code",
   "execution_count": 35,
   "metadata": {
    "collapsed": false
   },
   "outputs": [
    {
     "data": {
      "text/plain": [
       "Index([u'site', u'rec_no', u'bout_i', u'species', u'peak2peak', u'MSN', u'MSP',\n",
       "       u'FD2', u'TPWS2', u'TPWS1', u'FD1', u'MD1'],\n",
       "      dtype='object')"
      ]
     },
     "execution_count": 35,
     "metadata": {},
     "output_type": "execute_result"
    }
   ],
   "source": [
    "mdf.columns"
   ]
  },
  {
   "cell_type": "code",
   "execution_count": 37,
   "metadata": {
    "collapsed": false,
    "scrolled": true
   },
   "outputs": [
    {
     "name": "stdout",
     "output_type": "stream",
     "text": [
      "0: time of click\n",
      "     1: site\t\t\t\t<type 'str'>\n",
      "     2: rec_no\t\t\t\t<type 'str'>\n",
      "     3: bout_i\t\t\t\t<type 'numpy.int64'>\n",
      "     4: species\t\t\t\t<type 'str'>\n",
      "     5: peak2peak\t\t\t\t<type 'numpy.float64'>\n",
      "     6: MSN\t\t\t\t an array of length 202\n",
      "   208: MSP\t\t\t\t an array of length 101\n",
      "   309: FD2\t\t\t\t<type 'numpy.bool_'>\n",
      "   310: TPWS2\t\t\t\t<type 'numpy.bool_'>\n",
      "   311: TPWS1\t\t\t\t<type 'numpy.bool_'>\n",
      "   312: FD1\t\t\t\t<type 'numpy.bool_'>\n",
      "   313: MD1\t\t\t\t<type 'numpy.bool_'>\n",
      "total number of fields= 314\n"
     ]
    }
   ],
   "source": [
    "row=mdf.ix[0,:]\n",
    "lrow=list(row)\n",
    "#print row\n",
    "pos=1\n",
    "print \"0: time of click\"\n",
    "for i in range(len(row)):\n",
    "    a=row[i]\n",
    "    name=row.index[i]\n",
    "    if type(row[i])!=bytearray:\n",
    "        print ' %5d: %s\\t\\t\\t\\t%s'%(pos,name,str(type(a)))\n",
    "        pos+=1\n",
    "    else:\n",
    "        print \" %5d: %s\\t\\t\\t\\t an array of length %d\"%(pos,name,len(a)/8)\n",
    "        pos+=len(a)/8\n",
    "\n",
    "print \"total number of fields=\",pos"
   ]
  },
  {
   "cell_type": "code",
   "execution_count": 38,
   "metadata": {
    "collapsed": false
   },
   "outputs": [
    {
     "ename": "NameError",
     "evalue": "name 'T' is not defined",
     "output_type": "error",
     "traceback": [
      "\u001b[0;31m\u001b[0m",
      "\u001b[0;31mNameError\u001b[0mTraceback (most recent call last)",
      "\u001b[0;32m<ipython-input-38-31894dec7a32>\u001b[0m in \u001b[0;36m<module>\u001b[0;34m()\u001b[0m\n\u001b[1;32m     16\u001b[0m             \u001b[0;32mraise\u001b[0m \u001b[0mException\u001b[0m\u001b[0;34m(\u001b[0m\u001b[0;34m'row2cvs error: unrecognized type='\u001b[0m\u001b[0;34m+\u001b[0m\u001b[0mstr\u001b[0m\u001b[0;34m(\u001b[0m\u001b[0mtype\u001b[0m\u001b[0;34m(\u001b[0m\u001b[0mx\u001b[0m\u001b[0;34m)\u001b[0m\u001b[0;34m)\u001b[0m\u001b[0;34m)\u001b[0m\u001b[0;34m\u001b[0m\u001b[0m\n\u001b[1;32m     17\u001b[0m     \u001b[0;32mreturn\u001b[0m \u001b[0;34m','\u001b[0m\u001b[0;34m.\u001b[0m\u001b[0mjoin\u001b[0m\u001b[0;34m(\u001b[0m\u001b[0mL\u001b[0m\u001b[0;34m)\u001b[0m\u001b[0;34m+\u001b[0m\u001b[0;34m'\\n'\u001b[0m\u001b[0;34m\u001b[0m\u001b[0m\n\u001b[0;32m---> 18\u001b[0;31m \u001b[0mrow2cvs\u001b[0m\u001b[0;34m(\u001b[0m\u001b[0mT\u001b[0m\u001b[0;34m,\u001b[0m\u001b[0mlrow\u001b[0m\u001b[0;34m)\u001b[0m\u001b[0;34m\u001b[0m\u001b[0m\n\u001b[0m",
      "\u001b[0;31mNameError\u001b[0m: name 'T' is not defined"
     ]
    }
   ],
   "source": [
    "def row2cvs(T,lrow,fmt='%6.4f',date_format='%Y-%m-%d %H:%M:%S.%f'):\n",
    "    L=[dt.datetime.strftime(T,date_format)]\n",
    "    for x in lrow:\n",
    "        #print type(x)\n",
    "        if type(x)==type('string'):\n",
    "            L.append(x)\n",
    "        elif type(x)==np.float64:\n",
    "            L.append(fmt%x)\n",
    "        elif type(x)==np.bool_:\n",
    "            L.append('%1d'%(1*x))\n",
    "        elif type(x)==numpy.int64:\n",
    "            L.append(str(x))\n",
    "        elif type(x)==bytearray:\n",
    "            L.append(packed2cvs(x))\n",
    "        else:\n",
    "            raise Exception('row2cvs error: unrecognized type='+str(type(x)))\n",
    "    return ','.join(L)+'\\n'\n",
    "row2cvs(T,lrow)"
   ]
  },
  {
   "cell_type": "markdown",
   "metadata": {},
   "source": [
    "|field name     | Description               | Data Type\n",
    "|---------------|---------------------------|--------------\n",
    "|0: time        | time of click             | string in datetime format `%Y-%m-%d %H:%M:%S.%f`\n",
    "|1: site\t\t| name of site\t\t        | 'str'\n",
    "|2: rec_no\t\t| recording number\t\t    | 'str'\n",
    "|3: bout_i\t\t| bout number\t\t        | numpy.int64\n",
    "|4: species\t\t| Initial species classification\t        | 'str'\n",
    "|5: peak2peak\t| peak to peak magnitude    | \t\t\tnumpy.float64\n",
    "|6: TPWS1\t\t| 1 if click appears in TPWS1\t| \tbool\n",
    "|7: TPWS2\t\t| 1 if click appears in TPWS2\t| bool\n",
    "|     8: FD1\t|\t--- \" ---\t|\tbool\n",
    "|    9: FD2\t\t|\t--- \" ---   |\tbool\n",
    "|    10: MD1\t\t|\t--- \" ---\t|\tbool\n",
    "|   11: MD2\t\t|\t--- \" ---\t|\tbool\n",
    "|   12: MSP\t\t|\tenergy as function of frequency |\t an array of length 101  \n",
    "|   113: MSN\t|\twave form |\t\t an array of length 202\n",
    "total number of fields= 315"
   ]
  },
  {
   "cell_type": "code",
   "execution_count": 61,
   "metadata": {
    "collapsed": false
   },
   "outputs": [
    {
     "data": {
      "text/plain": [
       "'DT.01.Cuviers'"
      ]
     },
     "execution_count": 61,
     "metadata": {},
     "output_type": "execute_result"
    }
   ],
   "source": [
    "cvs_dirname='.'.join(master_key)\n",
    "cvs_dirname"
   ]
  },
  {
   "cell_type": "code",
   "execution_count": 81,
   "metadata": {
    "collapsed": false
   },
   "outputs": [
    {
     "name": "stdout",
     "output_type": "stream",
     "text": [
      "total length= 274946\n",
      " Percent processed 95.24 \tbout_no=184 done\n"
     ]
    }
   ],
   "source": [
    "cvs=0\n",
    "_len = mdf.shape[0]\n",
    "print 'total length=',_len\n",
    "_current_bout=-1\n",
    "for i in range(_len):\n",
    "    row=mdf.ix[i,:]\n",
    "    if row['bout_i']!=_current_bout:\n",
    "        if cvs!=0:\n",
    "            cvs.close()\n",
    "            s3helper.local_to_s3(cvs_filename,'CVS/'+cvs_dirname+'/'+cvs_filename)\n",
    "            !rm $cvs_filename\n",
    "\n",
    "        _current_bout=row['bout_i']\n",
    "        cvs_filename = cvs_dirname+\".\"+str(_current_bout)+'.cvs'\n",
    "        # print cvs_filename,'CVS/'+cvs_dirname+'/'+cvs_filename\n",
    "        print '\\r Percent processed %5.2f \\tbout_no=%d'%((i+0.0)/_len*100,_current_bout),\n",
    "        cvs=open(cvs_filename,'w')\n",
    "                                                           \n",
    "    T=mdf.index[i]\n",
    "    cvs.write(row2cvs(T,row))\n",
    "cvs.close()\n",
    "s3helper.local_to_s3(cvs_filename,'CVS/'+cvs_dirname+'/'+cvs_filename)\n",
    "print 'done'"
   ]
  },
  {
   "cell_type": "code",
   "execution_count": 82,
   "metadata": {
    "collapsed": false
   },
   "outputs": [
    {
     "name": "stdout",
     "output_type": "stream",
     "text": [
      "/mnt/whales/DT_Cuviers\n",
      "DT.01.Cuviers.184.cvs\n",
      "-rw-r--r-- 1 root root  2629774 Aug 28 21:55 DT.01.Cuviers.0.cvs\n",
      "-rw-r--r-- 1 root root    99611 Aug 28 21:56 DT.01.Cuviers.100.cvs\n",
      "-rw-r--r-- 1 root root    79269 Aug 28 21:56 DT.01.Cuviers.101.cvs\n",
      "-rw-r--r-- 1 root root   172148 Aug 28 21:56 DT.01.Cuviers.102.cvs\n",
      "-rw-r--r-- 1 root root   389600 Aug 28 21:56 DT.01.Cuviers.103.cvs\n",
      "-rw-r--r-- 1 root root  4330797 Aug 28 21:56 DT.01.Cuviers.104.cvs\n",
      "-rw-r--r-- 1 root root  2899322 Aug 28 21:56 DT.01.Cuviers.105.cvs\n",
      "-rw-r--r-- 1 root root   224744 Aug 28 21:56 DT.01.Cuviers.106.cvs\n",
      "-rw-r--r-- 1 root root  2190863 Aug 28 21:56 DT.01.Cuviers.107.cvs\n",
      "-rw-r--r-- 1 root root  7298495 Aug 28 21:56 DT.01.Cuviers.108.cvs\n",
      "-rw-r--r-- 1 root root   805064 Aug 28 21:56 DT.01.Cuviers.109.cvs\n",
      "-rw-r--r-- 1 root root  2734112 Aug 28 21:55 DT.01.Cuviers.10.cvs\n",
      "-rw-r--r-- 1 root root  1290544 Aug 28 21:56 DT.01.Cuviers.110.cvs\n",
      "-rw-r--r-- 1 root root  2443396 Aug 28 21:56 DT.01.Cuviers.111.cvs\n",
      "-rw-r--r-- 1 root root  5240866 Aug 28 21:56 DT.01.Cuviers.112.cvs\n",
      "-rw-r--r-- 1 root root  8361976 Aug 28 21:56 DT.01.Cuviers.113.cvs\n",
      "-rw-r--r-- 1 root root  3718455 Aug 28 21:57 DT.01.Cuviers.114.cvs\n",
      "-rw-r--r-- 1 root root  5675796 Aug 28 21:57 DT.01.Cuviers.115.cvs\n",
      "-rw-r--r-- 1 root root  4545586 Aug 28 21:57 DT.01.Cuviers.116.cvs\n",
      "-rw-r--r-- 1 root root  1656456 Aug 28 21:57 DT.01.Cuviers.117.cvs\n",
      "-rw-r--r-- 1 root root  3331893 Aug 28 21:57 DT.01.Cuviers.118.cvs\n",
      "-rw-r--r-- 1 root root  2088257 Aug 28 21:57 DT.01.Cuviers.119.cvs\n",
      "-rw-r--r-- 1 root root  1558779 Aug 28 21:55 DT.01.Cuviers.11.cvs\n",
      "-rw-r--r-- 1 root root   384066 Aug 28 21:57 DT.01.Cuviers.120.cvs\n",
      "-rw-r--r-- 1 root root    81939 Aug 28 21:57 DT.01.Cuviers.121.cvs\n",
      "-rw-r--r-- 1 root root  3633118 Aug 28 21:57 DT.01.Cuviers.122.cvs\n",
      "-rw-r--r-- 1 root root   131727 Aug 28 21:57 DT.01.Cuviers.123.cvs\n",
      "-rw-r--r-- 1 root root 12109842 Aug 28 21:57 DT.01.Cuviers.124.cvs\n",
      "-rw-r--r-- 1 root root   212780 Aug 28 21:57 DT.01.Cuviers.125.cvs\n",
      "-rw-r--r-- 1 root root  5573216 Aug 28 21:57 DT.01.Cuviers.126.cvs\n",
      "-rw-r--r-- 1 root root   295794 Aug 28 21:57 DT.01.Cuviers.127.cvs\n",
      "-rw-r--r-- 1 root root   653475 Aug 28 21:57 DT.01.Cuviers.128.cvs\n",
      "-rw-r--r-- 1 root root  2179726 Aug 28 21:57 DT.01.Cuviers.129.cvs\n",
      "-rw-r--r-- 1 root root   978536 Aug 28 21:55 DT.01.Cuviers.12.cvs\n",
      "-rw-r--r-- 1 root root   108892 Aug 28 21:57 DT.01.Cuviers.130.cvs\n",
      "-rw-r--r-- 1 root root  7598627 Aug 28 21:57 DT.01.Cuviers.131.cvs\n",
      "-rw-r--r-- 1 root root   235104 Aug 28 21:57 DT.01.Cuviers.132.cvs\n",
      "-rw-r--r-- 1 root root  7541340 Aug 28 21:57 DT.01.Cuviers.133.cvs\n",
      "-rw-r--r-- 1 root root  2402039 Aug 28 21:57 DT.01.Cuviers.134.cvs\n",
      "-rw-r--r-- 1 root root 14037298 Aug 28 21:57 DT.01.Cuviers.135.cvs\n",
      "-rw-r--r-- 1 root root  1301070 Aug 28 21:57 DT.01.Cuviers.136.cvs\n",
      "-rw-r--r-- 1 root root 20118978 Aug 28 21:57 DT.01.Cuviers.137.cvs\n",
      "-rw-r--r-- 1 root root  1412562 Aug 28 21:57 DT.01.Cuviers.138.cvs\n",
      "-rw-r--r-- 1 root root  3368911 Aug 28 21:57 DT.01.Cuviers.139.cvs\n",
      "-rw-r--r-- 1 root root   148958 Aug 28 21:55 DT.01.Cuviers.13.cvs\n",
      "-rw-r--r-- 1 root root  6871154 Aug 28 21:57 DT.01.Cuviers.140.cvs\n",
      "-rw-r--r-- 1 root root  6497607 Aug 28 21:57 DT.01.Cuviers.141.cvs\n",
      "-rw-r--r-- 1 root root  2629914 Aug 28 21:57 DT.01.Cuviers.142.cvs\n",
      "-rw-r--r-- 1 root root  5680660 Aug 28 21:57 DT.01.Cuviers.143.cvs\n",
      "-rw-r--r-- 1 root root   128388 Aug 28 21:57 DT.01.Cuviers.144.cvs\n",
      "-rw-r--r-- 1 root root  2651608 Aug 28 21:57 DT.01.Cuviers.145.cvs\n",
      "-rw-r--r-- 1 root root  2475746 Aug 28 21:57 DT.01.Cuviers.146.cvs\n",
      "-rw-r--r-- 1 root root   922668 Aug 28 21:57 DT.01.Cuviers.147.cvs\n",
      "-rw-r--r-- 1 root root   432491 Aug 28 21:57 DT.01.Cuviers.148.cvs\n",
      "-rw-r--r-- 1 root root   294883 Aug 28 21:57 DT.01.Cuviers.149.cvs\n",
      "-rw-r--r-- 1 root root  3516030 Aug 28 21:55 DT.01.Cuviers.14.cvs\n",
      "-rw-r--r-- 1 root root  1076837 Aug 28 21:57 DT.01.Cuviers.150.cvs\n",
      "-rw-r--r-- 1 root root 21971425 Aug 28 21:57 DT.01.Cuviers.151.cvs\n",
      "-rw-r--r-- 1 root root   862853 Aug 28 21:57 DT.01.Cuviers.152.cvs\n",
      "-rw-r--r-- 1 root root 12877127 Aug 28 21:57 DT.01.Cuviers.153.cvs\n",
      "-rw-r--r-- 1 root root  1236540 Aug 28 21:57 DT.01.Cuviers.154.cvs\n",
      "-rw-r--r-- 1 root root 14100487 Aug 28 21:57 DT.01.Cuviers.155.cvs\n",
      "-rw-r--r-- 1 root root  5299930 Aug 28 21:57 DT.01.Cuviers.156.cvs\n",
      "-rw-r--r-- 1 root root  2553286 Aug 28 21:57 DT.01.Cuviers.157.cvs\n",
      "-rw-r--r-- 1 root root  2550341 Aug 28 21:57 DT.01.Cuviers.158.cvs\n",
      "-rw-r--r-- 1 root root 15921592 Aug 28 21:58 DT.01.Cuviers.159.cvs\n",
      "-rw-r--r-- 1 root root   304512 Aug 28 21:55 DT.01.Cuviers.15.cvs\n",
      "-rw-r--r-- 1 root root  1468789 Aug 28 21:58 DT.01.Cuviers.160.cvs\n",
      "-rw-r--r-- 1 root root  4351528 Aug 28 21:58 DT.01.Cuviers.161.cvs\n",
      "-rw-r--r-- 1 root root 13504373 Aug 28 21:58 DT.01.Cuviers.162.cvs\n",
      "-rw-r--r-- 1 root root  4488596 Aug 28 21:58 DT.01.Cuviers.163.cvs\n",
      "-rw-r--r-- 1 root root  1144722 Aug 28 21:58 DT.01.Cuviers.164.cvs\n",
      "-rw-r--r-- 1 root root  1176845 Aug 28 21:58 DT.01.Cuviers.165.cvs\n",
      "-rw-r--r-- 1 root root   399295 Aug 28 21:58 DT.01.Cuviers.166.cvs\n",
      "-rw-r--r-- 1 root root  2262638 Aug 28 21:58 DT.01.Cuviers.167.cvs\n",
      "-rw-r--r-- 1 root root  4792309 Aug 28 21:58 DT.01.Cuviers.168.cvs\n",
      "-rw-r--r-- 1 root root   244029 Aug 28 21:58 DT.01.Cuviers.169.cvs\n",
      "-rw-r--r-- 1 root root  2367743 Aug 28 21:55 DT.01.Cuviers.16.cvs\n",
      "-rw-r--r-- 1 root root  1312174 Aug 28 21:58 DT.01.Cuviers.170.cvs\n",
      "-rw-r--r-- 1 root root  1254729 Aug 28 21:58 DT.01.Cuviers.171.cvs\n",
      "-rw-r--r-- 1 root root  4784288 Aug 28 21:58 DT.01.Cuviers.172.cvs\n",
      "-rw-r--r-- 1 root root   527998 Aug 28 21:58 DT.01.Cuviers.173.cvs\n",
      "-rw-r--r-- 1 root root  2807568 Aug 28 21:58 DT.01.Cuviers.174.cvs\n",
      "-rw-r--r-- 1 root root   142115 Aug 28 21:58 DT.01.Cuviers.175.cvs\n",
      "-rw-r--r-- 1 root root   142630 Aug 28 21:58 DT.01.Cuviers.176.cvs\n",
      "-rw-r--r-- 1 root root  1405479 Aug 28 21:58 DT.01.Cuviers.177.cvs\n",
      "-rw-r--r-- 1 root root 12383452 Aug 28 21:58 DT.01.Cuviers.178.cvs\n",
      "-rw-r--r-- 1 root root  4179998 Aug 28 21:58 DT.01.Cuviers.179.cvs\n",
      "-rw-r--r-- 1 root root   199871 Aug 28 21:55 DT.01.Cuviers.17.cvs\n",
      "-rw-r--r-- 1 root root    94892 Aug 28 21:58 DT.01.Cuviers.180.cvs\n",
      "-rw-r--r-- 1 root root   705656 Aug 28 21:58 DT.01.Cuviers.181.cvs\n",
      "-rw-r--r-- 1 root root  2702694 Aug 28 21:58 DT.01.Cuviers.182.cvs\n",
      "-rw-r--r-- 1 root root   164252 Aug 28 21:58 DT.01.Cuviers.183.cvs\n",
      "-rw-r--r-- 1 root root 33534145 Aug 28 21:58 DT.01.Cuviers.184.cvs\n",
      "-rw-r--r-- 1 root root   297148 Aug 28 21:55 DT.01.Cuviers.18.cvs\n",
      "-rw-r--r-- 1 root root  6040298 Aug 28 21:55 DT.01.Cuviers.19.cvs\n",
      "-rw-r--r-- 1 root root   176469 Aug 28 21:55 DT.01.Cuviers.1.cvs\n",
      "-rw-r--r-- 1 root root  9793800 Aug 28 21:55 DT.01.Cuviers.20.cvs\n",
      "-rw-r--r-- 1 root root  5678372 Aug 28 21:55 DT.01.Cuviers.21.cvs\n",
      "-rw-r--r-- 1 root root  2175243 Aug 28 21:55 DT.01.Cuviers.22.cvs\n",
      "-rw-r--r-- 1 root root  5313403 Aug 28 21:55 DT.01.Cuviers.23.cvs\n",
      "-rw-r--r-- 1 root root  1725000 Aug 28 21:55 DT.01.Cuviers.24.cvs\n",
      "-rw-r--r-- 1 root root  4904957 Aug 28 21:55 DT.01.Cuviers.25.cvs\n",
      "-rw-r--r-- 1 root root  3612758 Aug 28 21:55 DT.01.Cuviers.26.cvs\n",
      "-rw-r--r-- 1 root root  3997088 Aug 28 21:55 DT.01.Cuviers.27.cvs\n",
      "-rw-r--r-- 1 root root   899102 Aug 28 21:55 DT.01.Cuviers.28.cvs\n",
      "-rw-r--r-- 1 root root  3206294 Aug 28 21:55 DT.01.Cuviers.29.cvs\n",
      "-rw-r--r-- 1 root root   299339 Aug 28 21:55 DT.01.Cuviers.2.cvs\n",
      "-rw-r--r-- 1 root root   186690 Aug 28 21:55 DT.01.Cuviers.30.cvs\n",
      "-rw-r--r-- 1 root root 18005849 Aug 28 21:55 DT.01.Cuviers.31.cvs\n",
      "-rw-r--r-- 1 root root   951640 Aug 28 21:55 DT.01.Cuviers.32.cvs\n",
      "-rw-r--r-- 1 root root  8465977 Aug 28 21:55 DT.01.Cuviers.33.cvs\n",
      "-rw-r--r-- 1 root root   698020 Aug 28 21:55 DT.01.Cuviers.34.cvs\n",
      "-rw-r--r-- 1 root root  1528313 Aug 28 21:55 DT.01.Cuviers.35.cvs\n",
      "-rw-r--r-- 1 root root  9484338 Aug 28 21:55 DT.01.Cuviers.36.cvs\n",
      "-rw-r--r-- 1 root root 14670321 Aug 28 21:55 DT.01.Cuviers.37.cvs\n",
      "-rw-r--r-- 1 root root   409279 Aug 28 21:55 DT.01.Cuviers.38.cvs\n",
      "-rw-r--r-- 1 root root  1849046 Aug 28 21:55 DT.01.Cuviers.39.cvs\n",
      "-rw-r--r-- 1 root root   268784 Aug 28 21:55 DT.01.Cuviers.3.cvs\n",
      "-rw-r--r-- 1 root root  8745781 Aug 28 21:55 DT.01.Cuviers.40.cvs\n",
      "-rw-r--r-- 1 root root  7328386 Aug 28 21:55 DT.01.Cuviers.41.cvs\n",
      "-rw-r--r-- 1 root root 11707092 Aug 28 21:55 DT.01.Cuviers.42.cvs\n",
      "-rw-r--r-- 1 root root  4725950 Aug 28 21:55 DT.01.Cuviers.43.cvs\n",
      "-rw-r--r-- 1 root root    58909 Aug 28 21:55 DT.01.Cuviers.44.cvs\n",
      "-rw-r--r-- 1 root root  3131681 Aug 28 21:55 DT.01.Cuviers.45.cvs\n",
      "-rw-r--r-- 1 root root   308507 Aug 28 21:55 DT.01.Cuviers.46.cvs\n",
      "-rw-r--r-- 1 root root   594252 Aug 28 21:55 DT.01.Cuviers.47.cvs\n",
      "-rw-r--r-- 1 root root  5051436 Aug 28 21:55 DT.01.Cuviers.48.cvs\n",
      "-rw-r--r-- 1 root root  1341538 Aug 28 21:55 DT.01.Cuviers.49.cvs\n",
      "-rw-r--r-- 1 root root  3245861 Aug 28 21:55 DT.01.Cuviers.4.cvs\n",
      "-rw-r--r-- 1 root root  2763110 Aug 28 21:55 DT.01.Cuviers.50.cvs\n",
      "-rw-r--r-- 1 root root  1008374 Aug 28 21:55 DT.01.Cuviers.51.cvs\n",
      "-rw-r--r-- 1 root root   204265 Aug 28 21:55 DT.01.Cuviers.52.cvs\n",
      "-rw-r--r-- 1 root root 10457055 Aug 28 21:55 DT.01.Cuviers.53.cvs\n",
      "-rw-r--r-- 1 root root  7784152 Aug 28 21:56 DT.01.Cuviers.54.cvs\n",
      "-rw-r--r-- 1 root root   199475 Aug 28 21:56 DT.01.Cuviers.55.cvs\n",
      "-rw-r--r-- 1 root root  9148300 Aug 28 21:56 DT.01.Cuviers.56.cvs\n",
      "-rw-r--r-- 1 root root  3759751 Aug 28 21:56 DT.01.Cuviers.57.cvs\n",
      "-rw-r--r-- 1 root root   158278 Aug 28 21:56 DT.01.Cuviers.58.cvs\n",
      "-rw-r--r-- 1 root root   574644 Aug 28 21:56 DT.01.Cuviers.59.cvs\n",
      "-rw-r--r-- 1 root root  4534171 Aug 28 21:55 DT.01.Cuviers.5.cvs\n",
      "-rw-r--r-- 1 root root  9864696 Aug 28 21:56 DT.01.Cuviers.60.cvs\n",
      "-rw-r--r-- 1 root root 12350342 Aug 28 21:56 DT.01.Cuviers.61.cvs\n",
      "-rw-r--r-- 1 root root  1347208 Aug 28 21:56 DT.01.Cuviers.62.cvs\n",
      "-rw-r--r-- 1 root root   600439 Aug 28 21:56 DT.01.Cuviers.63.cvs\n",
      "-rw-r--r-- 1 root root  1723883 Aug 28 21:56 DT.01.Cuviers.64.cvs\n",
      "-rw-r--r-- 1 root root  2129203 Aug 28 21:56 DT.01.Cuviers.65.cvs\n",
      "-rw-r--r-- 1 root root  1657383 Aug 28 21:56 DT.01.Cuviers.66.cvs\n",
      "-rw-r--r-- 1 root root   883485 Aug 28 21:56 DT.01.Cuviers.67.cvs\n",
      "-rw-r--r-- 1 root root   997493 Aug 28 21:56 DT.01.Cuviers.68.cvs\n",
      "-rw-r--r-- 1 root root 11988528 Aug 28 21:56 DT.01.Cuviers.69.cvs\n",
      "-rw-r--r-- 1 root root  4780120 Aug 28 21:55 DT.01.Cuviers.6.cvs\n",
      "-rw-r--r-- 1 root root    86782 Aug 28 21:56 DT.01.Cuviers.70.cvs\n",
      "-rw-r--r-- 1 root root 10046250 Aug 28 21:56 DT.01.Cuviers.71.cvs\n",
      "-rw-r--r-- 1 root root  5371539 Aug 28 21:56 DT.01.Cuviers.72.cvs\n",
      "-rw-r--r-- 1 root root  3713365 Aug 28 21:56 DT.01.Cuviers.73.cvs\n",
      "-rw-r--r-- 1 root root  1113400 Aug 28 21:56 DT.01.Cuviers.74.cvs\n",
      "-rw-r--r-- 1 root root   163470 Aug 28 21:56 DT.01.Cuviers.75.cvs\n",
      "-rw-r--r-- 1 root root  1681674 Aug 28 21:56 DT.01.Cuviers.76.cvs\n",
      "-rw-r--r-- 1 root root  1532209 Aug 28 21:56 DT.01.Cuviers.77.cvs\n",
      "-rw-r--r-- 1 root root 18260992 Aug 28 21:56 DT.01.Cuviers.78.cvs\n",
      "-rw-r--r-- 1 root root  3025316 Aug 28 21:56 DT.01.Cuviers.79.cvs\n",
      "-rw-r--r-- 1 root root   619062 Aug 28 21:55 DT.01.Cuviers.7.cvs\n",
      "-rw-r--r-- 1 root root   767066 Aug 28 21:56 DT.01.Cuviers.80.cvs\n",
      "-rw-r--r-- 1 root root 12345376 Aug 28 21:56 DT.01.Cuviers.81.cvs\n",
      "-rw-r--r-- 1 root root   375476 Aug 28 21:56 DT.01.Cuviers.82.cvs\n",
      "-rw-r--r-- 1 root root   861475 Aug 28 21:56 DT.01.Cuviers.83.cvs\n",
      "-rw-r--r-- 1 root root  1232274 Aug 28 21:56 DT.01.Cuviers.84.cvs\n",
      "-rw-r--r-- 1 root root  2093543 Aug 28 21:56 DT.01.Cuviers.85.cvs\n",
      "-rw-r--r-- 1 root root  4077755 Aug 28 21:56 DT.01.Cuviers.86.cvs\n",
      "-rw-r--r-- 1 root root   713191 Aug 28 21:56 DT.01.Cuviers.87.cvs\n",
      "-rw-r--r-- 1 root root    94456 Aug 28 21:56 DT.01.Cuviers.88.cvs\n",
      "-rw-r--r-- 1 root root  2567333 Aug 28 21:56 DT.01.Cuviers.89.cvs\n",
      "-rw-r--r-- 1 root root   228290 Aug 28 21:55 DT.01.Cuviers.8.cvs\n",
      "-rw-r--r-- 1 root root   925131 Aug 28 21:56 DT.01.Cuviers.90.cvs\n",
      "-rw-r--r-- 1 root root  3403592 Aug 28 21:56 DT.01.Cuviers.91.cvs\n",
      "-rw-r--r-- 1 root root  3715647 Aug 28 21:56 DT.01.Cuviers.92.cvs\n",
      "-rw-r--r-- 1 root root  5377836 Aug 28 21:56 DT.01.Cuviers.93.cvs\n",
      "-rw-r--r-- 1 root root   708599 Aug 28 21:56 DT.01.Cuviers.94.cvs\n",
      "-rw-r--r-- 1 root root  4432767 Aug 28 21:56 DT.01.Cuviers.95.cvs\n",
      "-rw-r--r-- 1 root root 11668864 Aug 28 21:56 DT.01.Cuviers.96.cvs\n",
      "-rw-r--r-- 1 root root  1409683 Aug 28 21:56 DT.01.Cuviers.97.cvs\n",
      "-rw-r--r-- 1 root root  4207464 Aug 28 21:56 DT.01.Cuviers.98.cvs\n",
      "-rw-r--r-- 1 root root   287832 Aug 28 21:56 DT.01.Cuviers.99.cvs\n",
      "-rw-r--r-- 1 root root   370293 Aug 28 21:55 DT.01.Cuviers.9.cvs\n"
     ]
    }
   ],
   "source": [
    "!pwd\n",
    "print cvs_filename\n",
    "!ls -l *.cvs"
   ]
  },
  {
   "cell_type": "code",
   "execution_count": 67,
   "metadata": {
    "collapsed": false,
    "scrolled": true
   },
   "outputs": [
    {
     "name": "stdout",
     "output_type": "stream",
     "text": [
      "DT.01.Cuviers.1.cvs CVS/DT.01.Cuviers/DT.01.Cuviers.1.cvs\n"
     ]
    },
    {
     "ename": "Exception",
     "evalue": "File does not exist.",
     "output_type": "error",
     "traceback": [
      "\u001b[0;31m\u001b[0m",
      "\u001b[0;31mException\u001b[0mTraceback (most recent call last)",
      "\u001b[0;32m<ipython-input-67-78c3c548a9cc>\u001b[0m in \u001b[0;36m<module>\u001b[0;34m()\u001b[0m\n\u001b[1;32m      1\u001b[0m \u001b[0;32mprint\u001b[0m \u001b[0mcvs_filename\u001b[0m\u001b[0;34m,\u001b[0m\u001b[0;34m'CVS/'\u001b[0m\u001b[0;34m+\u001b[0m\u001b[0mcvs_dirname\u001b[0m\u001b[0;34m+\u001b[0m\u001b[0;34m'/'\u001b[0m\u001b[0;34m+\u001b[0m\u001b[0mcvs_filename\u001b[0m\u001b[0;34m\u001b[0m\u001b[0m\n\u001b[0;32m----> 2\u001b[0;31m \u001b[0ms3helper\u001b[0m\u001b[0;34m.\u001b[0m\u001b[0mlocal_to_s3\u001b[0m\u001b[0;34m(\u001b[0m\u001b[0mcvs_filename\u001b[0m\u001b[0;34m,\u001b[0m\u001b[0;34m'CVS/'\u001b[0m\u001b[0;34m+\u001b[0m\u001b[0mcvs_dirname\u001b[0m\u001b[0;34m+\u001b[0m\u001b[0;34m'/'\u001b[0m\u001b[0;34m+\u001b[0m\u001b[0mcvs_filename\u001b[0m\u001b[0;34m)\u001b[0m\u001b[0;34m\u001b[0m\u001b[0m\n\u001b[0m",
      "\u001b[0;32m/root/s3helper.py\u001b[0m in \u001b[0;36mlocal_to_s3\u001b[0;34m(self, filename, tgt)\u001b[0m\n\u001b[1;32m    290\u001b[0m             \u001b[0;32mraise\u001b[0m \u001b[0mException\u001b[0m\u001b[0;34m(\u001b[0m\u001b[0;34m'no bucket is opened.'\u001b[0m\u001b[0;34m)\u001b[0m\u001b[0;34m\u001b[0m\u001b[0m\n\u001b[1;32m    291\u001b[0m         \u001b[0;32mif\u001b[0m \u001b[0;32mnot\u001b[0m \u001b[0mos\u001b[0m\u001b[0;34m.\u001b[0m\u001b[0mpath\u001b[0m\u001b[0;34m.\u001b[0m\u001b[0mexists\u001b[0m\u001b[0;34m(\u001b[0m\u001b[0mfilename\u001b[0m\u001b[0;34m)\u001b[0m\u001b[0;34m:\u001b[0m\u001b[0;34m\u001b[0m\u001b[0m\n\u001b[0;32m--> 292\u001b[0;31m             \u001b[0;32mraise\u001b[0m \u001b[0mException\u001b[0m\u001b[0;34m(\u001b[0m\u001b[0;34m\"File does not exist.\"\u001b[0m\u001b[0;34m)\u001b[0m\u001b[0;34m\u001b[0m\u001b[0m\n\u001b[0m\u001b[1;32m    293\u001b[0m         \u001b[0;32mif\u001b[0m \u001b[0mos\u001b[0m\u001b[0;34m.\u001b[0m\u001b[0mpath\u001b[0m\u001b[0;34m.\u001b[0m\u001b[0misdir\u001b[0m\u001b[0;34m(\u001b[0m\u001b[0mfilename\u001b[0m\u001b[0;34m)\u001b[0m\u001b[0;34m:\u001b[0m\u001b[0;34m\u001b[0m\u001b[0m\n\u001b[1;32m    294\u001b[0m             raise Exception(\n",
      "\u001b[0;31mException\u001b[0m: File does not exist."
     ]
    }
   ],
   "source": [
    "print cvs_filename,'CVS/'+cvs_dirname+'/'+cvs_filename\n",
    "s3helper.local_to_s3(cvs_filename,'CVS/'+cvs_dirname+'/'+cvs_filename)"
   ]
  },
  {
   "cell_type": "code",
   "execution_count": 63,
   "metadata": {
    "collapsed": false
   },
   "outputs": [
    {
     "name": "stdout",
     "output_type": "stream",
     "text": [
      "\n"
     ]
    }
   ],
   "source": [
    "!rm DT.01.Cuviers.*"
   ]
  },
  {
   "cell_type": "code",
   "execution_count": 71,
   "metadata": {
    "collapsed": false
   },
   "outputs": [
    {
     "data": {
      "text/plain": [
       "[u'CVS/DT.01.Cuviers']"
      ]
     },
     "execution_count": 71,
     "metadata": {},
     "output_type": "execute_result"
    }
   ],
   "source": [
    "s3helper.ls_s3('CVS')"
   ]
  },
  {
   "cell_type": "code",
   "execution_count": 53,
   "metadata": {
    "collapsed": false
   },
   "outputs": [
    {
     "name": "stdout",
     "output_type": "stream",
     "text": [
      "         0          0          0 DT.01.Cuviers.cvs\n",
      "      1011       2022    2629774 DT.01.Cuviers.cvs0.cvs\n",
      "        39         78      99611 DT.01.Cuviers.cvs100.cvs\n",
      "        31         62      79269 DT.01.Cuviers.cvs101.cvs\n",
      "        67        134     172148 DT.01.Cuviers.cvs102.cvs\n",
      "       149        298     389600 DT.01.Cuviers.cvs103.cvs\n",
      "      1657       3314    4330797 DT.01.Cuviers.cvs104.cvs\n",
      "      1125       2250    2899322 DT.01.Cuviers.cvs105.cvs\n",
      "        88        176     224744 DT.01.Cuviers.cvs106.cvs\n",
      "       849       1698    2190863 DT.01.Cuviers.cvs107.cvs\n",
      "      2874       5748    7298495 DT.01.Cuviers.cvs108.cvs\n",
      "       315        630     805064 DT.01.Cuviers.cvs109.cvs\n",
      "      1053       2106    2734112 DT.01.Cuviers.cvs10.cvs\n",
      "       501       1002    1290544 DT.01.Cuviers.cvs110.cvs\n",
      "       950       1900    2443396 DT.01.Cuviers.cvs111.cvs\n",
      "      1995       3990    5240866 DT.01.Cuviers.cvs112.cvs\n",
      "      3225       6450    8361976 DT.01.Cuviers.cvs113.cvs\n",
      "      1435       2870    3718455 DT.01.Cuviers.cvs114.cvs\n",
      "      2189       4378    5675796 DT.01.Cuviers.cvs115.cvs\n",
      "      1756       3512    4545586 DT.01.Cuviers.cvs116.cvs\n",
      "       644       1288    1656456 DT.01.Cuviers.cvs117.cvs\n",
      "      1295       2590    3331893 DT.01.Cuviers.cvs118.cvs\n",
      "       804       1608    2088257 DT.01.Cuviers.cvs119.cvs\n",
      "       603       1206    1558779 DT.01.Cuviers.cvs11.cvs\n",
      "       150        300     384066 DT.01.Cuviers.cvs120.cvs\n",
      "        32         64      81939 DT.01.Cuviers.cvs121.cvs\n",
      "      1404       2808    3633118 DT.01.Cuviers.cvs122.cvs\n",
      "        51        102     131727 DT.01.Cuviers.cvs123.cvs\n",
      "      4667       9334   12109842 DT.01.Cuviers.cvs124.cvs\n",
      "        83        166     212780 DT.01.Cuviers.cvs125.cvs\n",
      "      2173       4346    5573216 DT.01.Cuviers.cvs126.cvs\n",
      "       116        232     295794 DT.01.Cuviers.cvs127.cvs\n",
      "       254        508     653475 DT.01.Cuviers.cvs128.cvs\n",
      "       845       1690    2179726 DT.01.Cuviers.cvs129.cvs\n",
      "       380        760     978536 DT.01.Cuviers.cvs12.cvs\n",
      "        42         84     108892 DT.01.Cuviers.cvs130.cvs\n",
      "      2951       5902    7598627 DT.01.Cuviers.cvs131.cvs\n",
      "        92        184     235104 DT.01.Cuviers.cvs132.cvs\n",
      "      2918       5836    7541340 DT.01.Cuviers.cvs133.cvs\n",
      "       937       1874    2402039 DT.01.Cuviers.cvs134.cvs\n",
      "      5398      10796   14037298 DT.01.Cuviers.cvs135.cvs\n",
      "       509       1018    1301070 DT.01.Cuviers.cvs136.cvs\n",
      "      7896      15792   20118978 DT.01.Cuviers.cvs137.cvs\n",
      "       551       1102    1412562 DT.01.Cuviers.cvs138.cvs\n",
      "      1300       2600    3368911 DT.01.Cuviers.cvs139.cvs\n",
      "        58        116     148958 DT.01.Cuviers.cvs13.cvs\n",
      "      2613       5226    6871154 DT.01.Cuviers.cvs140.cvs\n",
      "      2522       5044    6497607 DT.01.Cuviers.cvs141.cvs\n",
      "      1019       2038    2629914 DT.01.Cuviers.cvs142.cvs\n",
      "      2163       4326    5680660 DT.01.Cuviers.cvs143.cvs\n",
      "        50        100     128388 DT.01.Cuviers.cvs144.cvs\n",
      "      1025       2050    2651608 DT.01.Cuviers.cvs145.cvs\n",
      "       956       1912    2475746 DT.01.Cuviers.cvs146.cvs\n",
      "       360        720     922668 DT.01.Cuviers.cvs147.cvs\n",
      "       168        336     432491 DT.01.Cuviers.cvs148.cvs\n",
      "       114        228     294883 DT.01.Cuviers.cvs149.cvs\n",
      "      1349       2698    3516030 DT.01.Cuviers.cvs14.cvs\n",
      "       421        842    1076837 DT.01.Cuviers.cvs150.cvs\n",
      "      8670      17340   21971425 DT.01.Cuviers.cvs151.cvs\n",
      "       332        664     862853 DT.01.Cuviers.cvs152.cvs\n",
      "      4941       9882   12877127 DT.01.Cuviers.cvs153.cvs\n",
      "       474        948    1236540 DT.01.Cuviers.cvs154.cvs\n",
      "      5514      11028   14100487 DT.01.Cuviers.cvs155.cvs\n",
      "      2067       4134    5299930 DT.01.Cuviers.cvs156.cvs\n",
      "       993       1986    2553286 DT.01.Cuviers.cvs157.cvs\n",
      "       985       1970    2550341 DT.01.Cuviers.cvs158.cvs\n",
      "      6177      12354   15921592 DT.01.Cuviers.cvs159.cvs\n",
      "       119        238     304512 DT.01.Cuviers.cvs15.cvs\n",
      "       572       1144    1468789 DT.01.Cuviers.cvs160.cvs\n",
      "      1684       3368    4351528 DT.01.Cuviers.cvs161.cvs\n",
      "      5253      10506   13504373 DT.01.Cuviers.cvs162.cvs\n",
      "      1742       3484    4488596 DT.01.Cuviers.cvs163.cvs\n",
      "       445        890    1144722 DT.01.Cuviers.cvs164.cvs\n",
      "       456        912    1176845 DT.01.Cuviers.cvs165.cvs\n",
      "       155        310     399295 DT.01.Cuviers.cvs166.cvs\n",
      "       866       1732    2262638 DT.01.Cuviers.cvs167.cvs\n",
      "      1825       3650    4792309 DT.01.Cuviers.cvs168.cvs\n",
      "        95        190     244029 DT.01.Cuviers.cvs169.cvs\n",
      "       925       1850    2367743 DT.01.Cuviers.cvs16.cvs\n",
      "       510       1020    1312174 DT.01.Cuviers.cvs170.cvs\n",
      "       487        974    1254729 DT.01.Cuviers.cvs171.cvs\n",
      "      1860       3720    4784288 DT.01.Cuviers.cvs172.cvs\n",
      "       205        410     527998 DT.01.Cuviers.cvs173.cvs\n",
      "      1082       2164    2807568 DT.01.Cuviers.cvs174.cvs\n",
      "        55        110     142115 DT.01.Cuviers.cvs175.cvs\n",
      "        55        110     142630 DT.01.Cuviers.cvs176.cvs\n",
      "       539       1078    1405479 DT.01.Cuviers.cvs177.cvs\n",
      "      4761       9522   12383452 DT.01.Cuviers.cvs178.cvs\n",
      "      1605       3210    4179998 DT.01.Cuviers.cvs179.cvs\n",
      "        78        156     199871 DT.01.Cuviers.cvs17.cvs\n",
      "        37         74      94892 DT.01.Cuviers.cvs180.cvs\n",
      "       271        542     705656 DT.01.Cuviers.cvs181.cvs\n",
      "      1052       2104    2702694 DT.01.Cuviers.cvs182.cvs\n",
      "        64        128     164252 DT.01.Cuviers.cvs183.cvs\n",
      "     13097      26194   33534145 DT.01.Cuviers.cvs184.cvs\n",
      "       116        232     297148 DT.01.Cuviers.cvs18.cvs\n",
      "      2343       4686    6040298 DT.01.Cuviers.cvs19.cvs\n",
      "        69        138     176469 DT.01.Cuviers.cvs1.cvs\n",
      "      3798       7596    9793800 DT.01.Cuviers.cvs20.cvs\n",
      "      2180       4360    5678372 DT.01.Cuviers.cvs21.cvs\n",
      "       840       1680    2175243 DT.01.Cuviers.cvs22.cvs\n",
      "      2033       4066    5313403 DT.01.Cuviers.cvs23.cvs\n",
      "       660       1320    1725000 DT.01.Cuviers.cvs24.cvs\n",
      "      1898       3796    4904957 DT.01.Cuviers.cvs25.cvs\n",
      "      1371       2742    3612758 DT.01.Cuviers.cvs26.cvs\n",
      "      1550       3100    3997088 DT.01.Cuviers.cvs27.cvs\n",
      "       352        704     899102 DT.01.Cuviers.cvs28.cvs\n",
      "      1221       2442    3206294 DT.01.Cuviers.cvs29.cvs\n",
      "       116        232     299339 DT.01.Cuviers.cvs2.cvs\n",
      "        73        146     186690 DT.01.Cuviers.cvs30.cvs\n",
      "      7029      14058   18005849 DT.01.Cuviers.cvs31.cvs\n",
      "       369        738     951640 DT.01.Cuviers.cvs32.cvs\n",
      "      3272       6544    8465977 DT.01.Cuviers.cvs33.cvs\n",
      "       273        546     698020 DT.01.Cuviers.cvs34.cvs\n",
      "       594       1188    1528313 DT.01.Cuviers.cvs35.cvs\n",
      "      3667       7334    9484338 DT.01.Cuviers.cvs36.cvs\n",
      "      5644      11288   14670321 DT.01.Cuviers.cvs37.cvs\n",
      "       160        320     409279 DT.01.Cuviers.cvs38.cvs\n",
      "       726       1452    1849046 DT.01.Cuviers.cvs39.cvs\n",
      "       104        208     268784 DT.01.Cuviers.cvs3.cvs\n",
      "      3366       6732    8745781 DT.01.Cuviers.cvs40.cvs\n",
      "      2833       5666    7328386 DT.01.Cuviers.cvs41.cvs\n",
      "      4521       9042   11707092 DT.01.Cuviers.cvs42.cvs\n",
      "      1830       3660    4725950 DT.01.Cuviers.cvs43.cvs\n",
      "        23         46      58909 DT.01.Cuviers.cvs44.cvs\n",
      "      1206       2412    3131681 DT.01.Cuviers.cvs45.cvs\n",
      "       120        240     308507 DT.01.Cuviers.cvs46.cvs\n",
      "       233        466     594252 DT.01.Cuviers.cvs47.cvs\n",
      "      1923       3846    5051436 DT.01.Cuviers.cvs48.cvs\n",
      "       523       1046    1341538 DT.01.Cuviers.cvs49.cvs\n",
      "      1258       2516    3245861 DT.01.Cuviers.cvs4.cvs\n",
      "      1075       2150    2763110 DT.01.Cuviers.cvs50.cvs\n",
      "       392        784    1008374 DT.01.Cuviers.cvs51.cvs\n",
      "        80        160     204265 DT.01.Cuviers.cvs52.cvs\n",
      "      4054       8108   10457055 DT.01.Cuviers.cvs53.cvs\n",
      "      3013       6026    7784152 DT.01.Cuviers.cvs54.cvs\n",
      "        78        156     199475 DT.01.Cuviers.cvs55.cvs\n",
      "      3495       6990    9148300 DT.01.Cuviers.cvs56.cvs\n",
      "      1465       2930    3759751 DT.01.Cuviers.cvs57.cvs\n",
      "        62        124     158278 DT.01.Cuviers.cvs58.cvs\n",
      "       225        450     574644 DT.01.Cuviers.cvs59.cvs\n",
      "      1763       3526    4534171 DT.01.Cuviers.cvs5.cvs\n",
      "      3808       7616    9864696 DT.01.Cuviers.cvs60.cvs\n",
      "      4792       9584   12350342 DT.01.Cuviers.cvs61.cvs\n",
      "       522       1044    1347208 DT.01.Cuviers.cvs62.cvs\n",
      "       235        470     600439 DT.01.Cuviers.cvs63.cvs\n",
      "       672       1344    1723883 DT.01.Cuviers.cvs64.cvs\n",
      "       829       1658    2129203 DT.01.Cuviers.cvs65.cvs\n",
      "       643       1286    1657383 DT.01.Cuviers.cvs66.cvs\n",
      "       345        690     883485 DT.01.Cuviers.cvs67.cvs\n",
      "       390        780     997493 DT.01.Cuviers.cvs68.cvs\n",
      "      4724       9448   11988528 DT.01.Cuviers.cvs69.cvs\n",
      "      1852       3704    4780120 DT.01.Cuviers.cvs6.cvs\n",
      "        34         68      86782 DT.01.Cuviers.cvs70.cvs\n",
      "      3972       7944   10046250 DT.01.Cuviers.cvs71.cvs\n",
      "      2085       4170    5371539 DT.01.Cuviers.cvs72.cvs\n",
      "      1441       2882    3713365 DT.01.Cuviers.cvs73.cvs\n",
      "       437        874    1113400 DT.01.Cuviers.cvs74.cvs\n",
      "        64        128     163470 DT.01.Cuviers.cvs75.cvs\n",
      "       647       1294    1681674 DT.01.Cuviers.cvs76.cvs\n",
      "       597       1194    1532209 DT.01.Cuviers.cvs77.cvs\n",
      "      7178      14356   18260992 DT.01.Cuviers.cvs78.cvs\n",
      "      1158       2316    3025316 DT.01.Cuviers.cvs79.cvs\n",
      "       242        484     619062 DT.01.Cuviers.cvs7.cvs\n",
      "       300        600     767066 DT.01.Cuviers.cvs80.cvs\n",
      "      4839       9678   12345376 DT.01.Cuviers.cvs81.cvs\n",
      "       147        294     375476 DT.01.Cuviers.cvs82.cvs\n",
      "       336        672     861475 DT.01.Cuviers.cvs83.cvs\n",
      "       479        958    1232274 DT.01.Cuviers.cvs84.cvs\n",
      "       817       1634    2093543 DT.01.Cuviers.cvs85.cvs\n",
      "      1574       3148    4077755 DT.01.Cuviers.cvs86.cvs\n",
      "       276        552     713191 DT.01.Cuviers.cvs87.cvs\n",
      "        37         74      94456 DT.01.Cuviers.cvs88.cvs\n",
      "       994       1988    2567333 DT.01.Cuviers.cvs89.cvs\n",
      "        89        178     228290 DT.01.Cuviers.cvs8.cvs\n",
      "       360        720     925131 DT.01.Cuviers.cvs90.cvs\n",
      "      1323       2646    3403592 DT.01.Cuviers.cvs91.cvs\n",
      "      1453       2906    3715647 DT.01.Cuviers.cvs92.cvs\n",
      "      2081       4162    5377836 DT.01.Cuviers.cvs93.cvs\n",
      "       275        550     708599 DT.01.Cuviers.cvs94.cvs\n",
      "      1711       3422    4432767 DT.01.Cuviers.cvs95.cvs\n",
      "      4488       8976   11668864 DT.01.Cuviers.cvs96.cvs\n",
      "       545       1090    1409683 DT.01.Cuviers.cvs97.cvs\n",
      "      1632       3264    4207464 DT.01.Cuviers.cvs98.cvs\n",
      "       112        224     287832 DT.01.Cuviers.cvs99.cvs\n",
      "       145        290     370293 DT.01.Cuviers.cvs9.cvs\n",
      "         9         87       3215 DT01_Cuviers_FD2.mat\n",
      "        93        571      26317 DT01_Cuviers_FD.mat\n",
      "         1         15        174 DT01_Cuviers_MD2.mat\n",
      "       756       4524     214885 DT01_Cuviers_MD.mat\n",
      "   1746383    9747400  460082649 DT01_Cuviers_TPWS2.mat\n",
      "   2411780   13462944  639387282 DT01_Cuviers_TPWS.mat\n",
      "   4433968   23765433 1808656488 total\n"
     ]
    }
   ],
   "source": [
    "!wc *\n"
   ]
  },
  {
   "cell_type": "code",
   "execution_count": 54,
   "metadata": {
    "collapsed": true
   },
   "outputs": [],
   "source": [
    "s3helper.local_to_s3('DT.01.Cuviers.cvs101.cvs','CVS/DT.01.Cuviers/DT.01.Cuviers.cvs101.cvs')"
   ]
  },
  {
   "cell_type": "code",
   "execution_count": null,
   "metadata": {
    "collapsed": true
   },
   "outputs": [],
   "source": []
  }
 ],
 "metadata": {
  "kernelspec": {
   "display_name": "Python 2",
   "language": "python",
   "name": "python2"
  },
  "language_info": {
   "codemirror_mode": {
    "name": "ipython",
    "version": 2
   },
   "file_extension": ".py",
   "mimetype": "text/x-python",
   "name": "python",
   "nbconvert_exporter": "python",
   "pygments_lexer": "ipython2",
   "version": "2.7.10"
  }
 },
 "nbformat": 4,
 "nbformat_minor": 0
}
