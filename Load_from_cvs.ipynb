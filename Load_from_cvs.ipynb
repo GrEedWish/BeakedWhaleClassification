{
 "cells": [
  {
   "cell_type": "markdown",
   "metadata": {},
   "source": [
    "## Load from CVS\n",
    "The code in this notebook copies the cvs files for beaked whales from S3 to HDFS and then loads the data into \n",
    "a spark DataFrame.\n"
   ]
  },
  {
   "cell_type": "code",
   "execution_count": null,
   "metadata": {
    "collapsed": false
   },
   "outputs": [],
   "source": [
    "#sc.stop()"
   ]
  },
  {
   "cell_type": "code",
   "execution_count": 2,
   "metadata": {
    "collapsed": false
   },
   "outputs": [
    {
     "name": "stdout",
     "output_type": "stream",
     "text": [
      "Populating the interactive namespace from numpy and matplotlib\n"
     ]
    }
   ],
   "source": [
    "from pyspark import SparkContext\n",
    "sc = SparkContext(master=master_url, pyFiles=['lib/numpy_pack.py','lib/row_parser.py','lib/spark_PCA.py'])\n",
    "\n",
    "from pyspark.sql import Row, SQLContext,DataFrame\n",
    "from pyspark.sql.types import *\n",
    "\n",
    "sqlContext = SQLContext(sc)\n",
    "\n",
    "%pylab inline"
   ]
  },
  {
   "cell_type": "code",
   "execution_count": 175,
   "metadata": {
    "collapsed": false
   },
   "outputs": [
    {
     "name": "stdout",
     "output_type": "stream",
     "text": [
      "\u001b[33mYou are using pip version 6.1.1, however version 9.0.1 is available.\n",
      "You should consider upgrading via the 'pip install --upgrade pip' command.\u001b[0m\n",
      "Requirement already up-to-date: pandas in /usr/local/lib64/python2.7/site-packages\n",
      "Requirement already up-to-date: python-dateutil in /usr/local/lib/python2.7/site-packages (from pandas)\n",
      "Requirement already up-to-date: pytz>=2011k in /usr/local/lib/python2.7/site-packages (from pandas)\n",
      "Requirement already up-to-date: numpy>=1.7.0 in /usr/local/lib64/python2.7/site-packages (from pandas)\n",
      "Requirement already up-to-date: six>=1.5 in /usr/local/lib/python2.7/site-packages (from python-dateutil->pandas)\n"
     ]
    },
    {
     "ename": "ImportError",
     "evalue": "C extension: hashtable not built. If you want to import pandas from the source directory, you may need to run 'python setup.py build_ext --inplace --force' to build the C extensions first.",
     "output_type": "error",
     "traceback": [
      "\u001b[0;31m\u001b[0m",
      "\u001b[0;31mImportError\u001b[0mTraceback (most recent call last)",
      "\u001b[0;32m<ipython-input-175-5ddfc2f8721e>\u001b[0m in \u001b[0;36m<module>\u001b[0;34m()\u001b[0m\n\u001b[1;32m      3\u001b[0m \u001b[0;31m#!sudo yum install -y gcc gcc-c++\u001b[0m\u001b[0;34m\u001b[0m\u001b[0;34m\u001b[0m\u001b[0m\n\u001b[1;32m      4\u001b[0m \u001b[0mget_ipython\u001b[0m\u001b[0;34m(\u001b[0m\u001b[0;34m)\u001b[0m\u001b[0;34m.\u001b[0m\u001b[0msystem\u001b[0m\u001b[0;34m(\u001b[0m\u001b[0;34mu'sudo pip install --upgrade pandas'\u001b[0m\u001b[0;34m)\u001b[0m\u001b[0;34m\u001b[0m\u001b[0m\n\u001b[0;32m----> 5\u001b[0;31m \u001b[0;32mimport\u001b[0m \u001b[0mpandas\u001b[0m \u001b[0;32mas\u001b[0m \u001b[0mpd\u001b[0m\u001b[0;34m\u001b[0m\u001b[0m\n\u001b[0m",
      "\u001b[0;32m/usr/local/lib64/python2.7/site-packages/pandas/__init__.py\u001b[0m in \u001b[0;36m<module>\u001b[0;34m()\u001b[0m\n\u001b[1;32m     29\u001b[0m                       \u001b[0;34m\"pandas from the source directory, you may need to run \"\u001b[0m\u001b[0;34m\u001b[0m\u001b[0m\n\u001b[1;32m     30\u001b[0m                       \u001b[0;34m\"'python setup.py build_ext --inplace --force' to build \"\u001b[0m\u001b[0;34m\u001b[0m\u001b[0m\n\u001b[0;32m---> 31\u001b[0;31m                       \"the C extensions first.\".format(module))\n\u001b[0m\u001b[1;32m     32\u001b[0m \u001b[0;34m\u001b[0m\u001b[0m\n\u001b[1;32m     33\u001b[0m \u001b[0;32mfrom\u001b[0m \u001b[0mdatetime\u001b[0m \u001b[0;32mimport\u001b[0m \u001b[0mdatetime\u001b[0m\u001b[0;34m\u001b[0m\u001b[0m\n",
      "\u001b[0;31mImportError\u001b[0m: C extension: hashtable not built. If you want to import pandas from the source directory, you may need to run 'python setup.py build_ext --inplace --force' to build the C extensions first."
     ]
    }
   ],
   "source": [
    "#!pip install --upgrade pip\n",
    "\n",
    "#!sudo yum install -y gcc gcc-c++\n",
    "!sudo pip install --upgrade pandas\n",
    "import pandas as pd"
   ]
  },
  {
   "cell_type": "code",
   "execution_count": 174,
   "metadata": {
    "collapsed": false
   },
   "outputs": [
    {
     "name": "stdout",
     "output_type": "stream",
     "text": [
      "sudo: /usr/local/bin/pip: command not found\n",
      "The autoreload extension is already loaded. To reload it, use:\n",
      "  %reload_ext autoreload\n"
     ]
    },
    {
     "ename": "ImportError",
     "evalue": "C extension: hashtable not built. If you want to import pandas from the source directory, you may need to run 'python setup.py build_ext --inplace --force' to build the C extensions first.",
     "output_type": "error",
     "traceback": [
      "\u001b[0;31m\u001b[0m",
      "\u001b[0;31mImportError\u001b[0mTraceback (most recent call last)",
      "\u001b[0;32m<ipython-input-174-d963253e2be0>\u001b[0m in \u001b[0;36m<module>\u001b[0;34m()\u001b[0m\n\u001b[1;32m      5\u001b[0m \u001b[0mget_ipython\u001b[0m\u001b[0;34m(\u001b[0m\u001b[0;34m)\u001b[0m\u001b[0;34m.\u001b[0m\u001b[0mmagic\u001b[0m\u001b[0;34m(\u001b[0m\u001b[0;34mu'autoreload # use this magic to reload modules'\u001b[0m\u001b[0;34m)\u001b[0m\u001b[0;34m\u001b[0m\u001b[0m\n\u001b[1;32m      6\u001b[0m \u001b[0;34m\u001b[0m\u001b[0m\n\u001b[0;32m----> 7\u001b[0;31m \u001b[0;32mimport\u001b[0m \u001b[0mpandas\u001b[0m \u001b[0;32mas\u001b[0m \u001b[0mpd\u001b[0m\u001b[0;34m\u001b[0m\u001b[0m\n\u001b[0m\u001b[1;32m      8\u001b[0m \u001b[0;32mimport\u001b[0m \u001b[0mdatetime\u001b[0m \u001b[0;32mas\u001b[0m \u001b[0mdt\u001b[0m\u001b[0;34m\u001b[0m\u001b[0m\n\u001b[1;32m      9\u001b[0m \u001b[0;34m\u001b[0m\u001b[0m\n",
      "\u001b[0;32m/usr/local/lib64/python2.7/site-packages/pandas/__init__.py\u001b[0m in \u001b[0;36m<module>\u001b[0;34m()\u001b[0m\n\u001b[1;32m     29\u001b[0m                       \u001b[0;34m\"pandas from the source directory, you may need to run \"\u001b[0m\u001b[0;34m\u001b[0m\u001b[0m\n\u001b[1;32m     30\u001b[0m                       \u001b[0;34m\"'python setup.py build_ext --inplace --force' to build \"\u001b[0m\u001b[0;34m\u001b[0m\u001b[0m\n\u001b[0;32m---> 31\u001b[0;31m                       \"the C extensions first.\".format(module))\n\u001b[0m\u001b[1;32m     32\u001b[0m \u001b[0;34m\u001b[0m\u001b[0m\n\u001b[1;32m     33\u001b[0m \u001b[0;32mfrom\u001b[0m \u001b[0mdatetime\u001b[0m \u001b[0;32mimport\u001b[0m \u001b[0mdatetime\u001b[0m\u001b[0;34m\u001b[0m\u001b[0m\n",
      "\u001b[0;31mImportError\u001b[0m: C extension: hashtable not built. If you want to import pandas from the source directory, you may need to run 'python setup.py build_ext --inplace --force' to build the C extensions first."
     ]
    }
   ],
   "source": [
    "#!sudo /usr/local/bin/pip install scipy\n",
    "!sudo /usr/local/bin/pip install --upgrade numpy\n",
    "\n",
    "%load_ext autoreload\n",
    "%autoreload # use this magic to reload modules\n",
    "\n",
    "import pandas as pd\n",
    "import datetime as dt\n",
    "\n",
    "#import scipy\n",
    "#from scipy.io import loadmat,savemat,whosmat\n",
    "\n",
    "from string import split\n",
    "from collections import Counter\n",
    "import re\n",
    "import numpy as np\n",
    "from numpy import shape\n",
    "\n",
    "from glob import glob\n",
    "\n",
    "print 'numpy version=',np.__version__, 'should be > 1.10'\n",
    "#print 'scipy version=',scipy.__version__\n",
    "#print 'pandas version=',pd.__version__"
   ]
  },
  {
   "cell_type": "markdown",
   "metadata": {},
   "source": [
    "### Format of cvs files\n",
    "|field name     | Description               | Data Type\n",
    "|---------------|---------------------------|--------------\n",
    "|0: time        | time of click             | string in datetime format `%Y-%m-%d %H:%M:%S.%f`\n",
    "|1: species\t\t| Initial species classification\t        | 'str'\n",
    "|2: site\t\t| name of site\t\t        | 'str'\n",
    "|3: rec_no\t\t| recording number\t\t    | 'str'\n",
    "|4: bout_i\t\t| bout number\t\t        | numpy.int64\n",
    "|5: peak2peak\t| peak to peak magnitude    | \t\t\tnumpy.float64\n",
    "|6: MSN\t        |\twave form |\t\t an array of length 202\n",
    "|208: MSP\t\t|\tspectra |\t an array of length 101  \n",
    "|309: TPWS1\t\t| 1 if click appears in TPWS1\t| \tbool\n",
    "|310: MD1\t\t|\t--- \" ---\tin MD1|\tbool\n",
    "|311: FD1\t    |\t--- \" ---\tin FD1|\tbool\n",
    "|312: TPWS2\t\t| 1 if click appears in TPWS2\t| \tbool\n",
    "|313: MD2\t\t|\t--- \" ---\tin MD2|\tbool\n",
    "|314: FD2\t    |\t--- \" ---\tin FD2|\tbool\n",
    "|315: TPWS3\t\t| 1 if click appears in TPWS3\t| \tbool\n",
    "|316: MD3\t\t|\t--- \" ---\tin MD3|\tbool\n",
    "|317: FD3\t    |\t--- \" ---\tin FD3|\tbool\n",
    "total number of fields= 318\n"
   ]
  },
  {
   "cell_type": "code",
   "execution_count": 4,
   "metadata": {
    "collapsed": true
   },
   "outputs": [],
   "source": [
    "%autoreload # use this magic to reload modules"
   ]
  },
  {
   "cell_type": "markdown",
   "metadata": {},
   "source": [
    "### check  S3 contents"
   ]
  },
  {
   "cell_type": "code",
   "execution_count": 5,
   "metadata": {
    "collapsed": false
   },
   "outputs": [],
   "source": [
    "#%cd /root/ipython/BeakedWhaleClassification/"
   ]
  },
  {
   "cell_type": "code",
   "execution_count": 6,
   "metadata": {
    "collapsed": false
   },
   "outputs": [
    {
     "data": {
      "text/plain": [
       "[u'CVS',\n",
       " u'DT_Cuviers',\n",
       " u'DT_Gervais',\n",
       " u'GC_Cuviers',\n",
       " u'GC_Gervais',\n",
       " u'MC_Cuviers',\n",
       " u'MC_Gervais']"
      ]
     },
     "execution_count": 6,
     "metadata": {},
     "output_type": "execute_result"
    }
   ],
   "source": [
    "#remember to set credentials under \"setup S3\" in the cluster setup page\n",
    "s3helper.open_bucket('while-classification')\n",
    "s3helper.ls_s3()"
   ]
  },
  {
   "cell_type": "code",
   "execution_count": 7,
   "metadata": {
    "collapsed": false
   },
   "outputs": [
    {
     "data": {
      "text/plain": [
       "[u'CVS/DT.01.Cuviers',\n",
       " u'CVS/DT.01.Gervais',\n",
       " u'CVS/DT.02.Cuviers',\n",
       " u'CVS/DT.02.Gervais',\n",
       " u'CVS/DT.03.Cuviers',\n",
       " u'CVS/DT.03.Gervais',\n",
       " u'CVS/DT.04.Cuviers',\n",
       " u'CVS/DT.04.Gervais',\n",
       " u'CVS/DT.05.Cuviers',\n",
       " u'CVS/DT.05.Gervais']"
      ]
     },
     "execution_count": 7,
     "metadata": {},
     "output_type": "execute_result"
    }
   ],
   "source": [
    "dirs=s3helper.ls_s3('CVS')\n",
    "dirs[:10]"
   ]
  },
  {
   "cell_type": "code",
   "execution_count": 8,
   "metadata": {
    "collapsed": false
   },
   "outputs": [],
   "source": [
    "from time import time"
   ]
  },
  {
   "cell_type": "markdown",
   "metadata": {},
   "source": [
    "### Copy from S3 to HDFS"
   ]
  },
  {
   "cell_type": "code",
   "execution_count": 10,
   "metadata": {
    "collapsed": true
   },
   "outputs": [
    {
     "name": "stdout",
     "output_type": "stream",
     "text": [
      "Found 556 items\n",
      "-rw-r--r--   3 ec2-user supergroup   26169314 2017-01-17 20:28 /CVS/DT.01.Cuviers.1.cvs\n",
      "-rw-r--r--   3 ec2-user supergroup   28240917 2017-01-17 20:28 /CVS/DT.01.Cuviers.10.cvs\n",
      "-rw-r--r--   3 ec2-user supergroup   30325964 2017-01-17 20:28 /CVS/DT.01.Cuviers.11.cvs\n",
      "-rw-r--r--   3 ec2-user supergroup   28216304 2017-01-17 20:28 /CVS/DT.01.Cuviers.12.cvs\n",
      "-rw-r--r--   3 ec2-user supergroup   27627479 2017-01-17 20:28 /CVS/DT.01.Cuviers.13.cvs\n",
      "-rw-r--r--   3 ec2-user supergroup   29293718 2017-01-17 20:28 /CVS/DT.01.Cuviers.14.cvs\n",
      "-rw-r--r--   3 ec2-user supergroup   35160719 2017-01-17 20:28 /CVS/DT.01.Cuviers.15.cvs\n",
      "-rw-r--r--   3 ec2-user supergroup   26283569 2017-01-17 20:28 /CVS/DT.01.Cuviers.16.cvs\n",
      "-rw-r--r--   3 ec2-user supergroup   27017861 2017-01-17 20:28 /CVS/DT.01.Cuviers.17.cvs\n",
      "-rw-r--r--   3 ec2-user supergroup   25641677 2017-01-17 20:28 /CVS/DT.01.Cuviers.18.cvs\n",
      "-rw-r--r--   3 ec2-user supergroup   28301586 2017-01-17 20:28 /CVS/DT.01.Cuviers.19.cvs\n",
      "-rw-r--r--   3 ec2-user supergroup   26940179 2017-01-17 20:28 /CVS/DT.01.Cuviers.2.cvs\n",
      "-rw-r--r--   3 ec2-user supergroup   26406925 2017-01-17 20:28 /CVS/DT.01.Cuviers.20.cvs\n",
      "-rw-r--r--   3 ec2-user supergroup   26216069 2017-01-17 20:28 /CVS/DT.01.Cuviers.21.cvs\n",
      "-rw-r--r--   3 ec2-user supergroup   32558664 2017-01-17 20:28 /CVS/DT.01.Cuviers.22.cvs\n",
      "-rw-r--r--   3 ec2-user supergroup   41510645 2017-01-17 20:28 /CVS/DT.01.Cuviers.23.cvs\n",
      "-rw-r--r--   3 ec2-user supergroup   41980637 2017-01-17 20:28 /CVS/DT.01.Cuviers.3.cvs\n",
      "-rw-r--r--   3 ec2-user supergroup   35909161 2017-01-17 20:28 /CVS/DT.01.Cuviers.4.cvs\n",
      "-rw-r--r--   3 ec2-user supergroup   30132432 2017-01-17 20:28 /CVS/DT.01.Cuviers.5.cvs\n",
      "-rw-r--r--   3 ec2-user supergroup   29736749 2017-01-17 20:28 /CVS/DT.01.Cuviers.6.cvs\n",
      "-rw-r--r--   3 ec2-user supergroup   31586464 2017-01-17 20:28 /CVS/DT.01.Cuviers.7.cvs\n",
      "-rw-r--r--   3 ec2-user supergroup   33783180 2017-01-17 20:28 /CVS/DT.01.Cuviers.8.cvs\n",
      "-rw-r--r--   3 ec2-user supergroup   42101321 2017-01-17 20:28 /CVS/DT.01.Cuviers.9.cvs\n",
      "-rw-r--r--   3 ec2-user supergroup   38681420 2017-01-17 20:28 /CVS/DT.01.Gervais.1.cvs\n",
      "-rw-r--r--   3 ec2-user supergroup   35810366 2017-01-17 20:28 /CVS/DT.01.Gervais.10.cvs\n",
      "-rw-r--r--   3 ec2-user supergroup   28441408 2017-01-17 20:28 /CVS/DT.01.Gervais.11.cvs\n",
      "-rw-r--r--   3 ec2-user supergroup   42369519 2017-01-17 20:28 /CVS/DT.01.Gervais.12.cvs\n",
      "-rw-r--r--   3 ec2-user supergroup   28401648 2017-01-17 20:28 /CVS/DT.01.Gervais.13.cvs\n",
      "-rw-r--r--   3 ec2-user supergroup   30011961 2017-01-17 20:28 /CVS/DT.01.Gervais.14.cvs\n",
      "-rw-r--r--   3 ec2-user supergroup   26726336 2017-01-17 20:28 /CVS/DT.01.Gervais.15.cvs\n",
      "-rw-r--r--   3 ec2-user supergroup   26775995 2017-01-17 20:28 /CVS/DT.01.Gervais.16.cvs\n",
      "-rw-r--r--   3 ec2-user supergroup   35111806 2017-01-17 20:28 /CVS/DT.01.Gervais.17.cvs\n",
      "-rw-r--r--   3 ec2-user supergroup   86557066 2017-01-17 20:28 /CVS/DT.01.Gervais.18.cvs\n",
      "-rw-r--r--   3 ec2-user supergroup   36537676 2017-01-17 20:28 /CVS/DT.01.Gervais.19.cvs\n",
      "-rw-r--r--   3 ec2-user supergroup   25931827 2017-01-17 20:28 /CVS/DT.01.Gervais.2.cvs\n",
      "-rw-r--r--   3 ec2-user supergroup   28731638 2017-01-17 20:28 /CVS/DT.01.Gervais.20.cvs\n",
      "-rw-r--r--   3 ec2-user supergroup   25694321 2017-01-17 20:28 /CVS/DT.01.Gervais.21.cvs\n",
      "-rw-r--r--   3 ec2-user supergroup   25822810 2017-01-17 20:28 /CVS/DT.01.Gervais.22.cvs\n",
      "-rw-r--r--   3 ec2-user supergroup   29195508 2017-01-17 20:28 /CVS/DT.01.Gervais.23.cvs\n",
      "-rw-r--r--   3 ec2-user supergroup   28903605 2017-01-17 20:28 /CVS/DT.01.Gervais.24.cvs\n",
      "-rw-r--r--   3 ec2-user supergroup   26652624 2017-01-17 20:28 /CVS/DT.01.Gervais.25.cvs\n",
      "-rw-r--r--   3 ec2-user supergroup   30474081 2017-01-17 20:28 /CVS/DT.01.Gervais.26.cvs\n",
      "-rw-r--r--   3 ec2-user supergroup   25208774 2017-01-17 20:28 /CVS/DT.01.Gervais.27.cvs\n",
      "-rw-r--r--   3 ec2-user supergroup   27069925 2017-01-17 20:28 /CVS/DT.01.Gervais.3.cvs\n",
      "-rw-r--r--   3 ec2-user supergroup   26252804 2017-01-17 20:28 /CVS/DT.01.Gervais.4.cvs\n",
      "-rw-r--r--   3 ec2-user supergroup   25924876 2017-01-17 20:28 /CVS/DT.01.Gervais.5.cvs\n",
      "-rw-r--r--   3 ec2-user supergroup   26705229 2017-01-17 20:28 /CVS/DT.01.Gervais.6.cvs\n",
      "-rw-r--r--   3 ec2-user supergroup   31053167 2017-01-17 20:28 /CVS/DT.01.Gervais.7.cvs\n",
      "-rw-r--r--   3 ec2-user supergroup   26262104 2017-01-17 20:28 /CVS/DT.01.Gervais.8.cvs\n",
      "-rw-r--r--   3 ec2-user supergroup   25693752 2017-01-17 20:28 /CVS/DT.01.Gervais.9.cvs\n",
      "-rw-r--r--   3 ec2-user supergroup   32066136 2017-01-17 20:28 /CVS/DT.02.Cuviers.1.cvs\n",
      "-rw-r--r--   3 ec2-user supergroup   29188347 2017-01-17 20:28 /CVS/DT.02.Cuviers.10.cvs\n",
      "-rw-r--r--   3 ec2-user supergroup   29456083 2017-01-17 20:28 /CVS/DT.02.Cuviers.11.cvs\n",
      "-rw-r--r--   3 ec2-user supergroup   81838406 2017-01-17 20:28 /CVS/DT.02.Cuviers.12.cvs\n",
      "-rw-r--r--   3 ec2-user supergroup   26474359 2017-01-17 20:28 /CVS/DT.02.Cuviers.13.cvs\n",
      "-rw-r--r--   3 ec2-user supergroup   33994638 2017-01-17 20:28 /CVS/DT.02.Cuviers.14.cvs\n",
      "-rw-r--r--   3 ec2-user supergroup   26659078 2017-01-17 20:28 /CVS/DT.02.Cuviers.15.cvs\n",
      "-rw-r--r--   3 ec2-user supergroup   45157062 2017-01-17 20:28 /CVS/DT.02.Cuviers.16.cvs\n",
      "-rw-r--r--   3 ec2-user supergroup   33804863 2017-01-17 20:28 /CVS/DT.02.Cuviers.17.cvs\n",
      "-rw-r--r--   3 ec2-user supergroup   30125491 2017-01-17 20:28 /CVS/DT.02.Cuviers.18.cvs\n",
      "-rw-r--r--   3 ec2-user supergroup   26187453 2017-01-17 20:28 /CVS/DT.02.Cuviers.19.cvs\n",
      "-rw-r--r--   3 ec2-user supergroup   31994616 2017-01-17 20:28 /CVS/DT.02.Cuviers.2.cvs\n",
      "-rw-r--r--   3 ec2-user supergroup   52982396 2017-01-17 20:28 /CVS/DT.02.Cuviers.20.cvs\n",
      "-rw-r--r--   3 ec2-user supergroup   41871464 2017-01-17 20:28 /CVS/DT.02.Cuviers.21.cvs\n",
      "-rw-r--r--   3 ec2-user supergroup   44961599 2017-01-17 20:28 /CVS/DT.02.Cuviers.22.cvs\n",
      "-rw-r--r--   3 ec2-user supergroup   28322440 2017-01-17 20:28 /CVS/DT.02.Cuviers.23.cvs\n",
      "-rw-r--r--   3 ec2-user supergroup   26112944 2017-01-17 20:28 /CVS/DT.02.Cuviers.24.cvs\n",
      "-rw-r--r--   3 ec2-user supergroup   27580664 2017-01-17 20:28 /CVS/DT.02.Cuviers.25.cvs\n",
      "-rw-r--r--   3 ec2-user supergroup   26031095 2017-01-17 20:28 /CVS/DT.02.Cuviers.26.cvs\n",
      "-rw-r--r--   3 ec2-user supergroup   26039081 2017-01-17 20:28 /CVS/DT.02.Cuviers.27.cvs\n",
      "-rw-r--r--   3 ec2-user supergroup   28444123 2017-01-17 20:28 /CVS/DT.02.Cuviers.28.cvs\n",
      "-rw-r--r--   3 ec2-user supergroup   26869057 2017-01-17 20:28 /CVS/DT.02.Cuviers.29.cvs\n",
      "-rw-r--r--   3 ec2-user supergroup   29255412 2017-01-17 20:28 /CVS/DT.02.Cuviers.3.cvs\n",
      "-rw-r--r--   3 ec2-user supergroup   26680012 2017-01-17 20:28 /CVS/DT.02.Cuviers.30.cvs\n",
      "-rw-r--r--   3 ec2-user supergroup   26410559 2017-01-17 20:28 /CVS/DT.02.Cuviers.31.cvs\n",
      "-rw-r--r--   3 ec2-user supergroup   32462617 2017-01-17 20:28 /CVS/DT.02.Cuviers.32.cvs\n",
      "-rw-r--r--   3 ec2-user supergroup   27612116 2017-01-17 20:28 /CVS/DT.02.Cuviers.33.cvs\n",
      "-rw-r--r--   3 ec2-user supergroup   27348731 2017-01-17 20:29 /CVS/DT.02.Cuviers.34.cvs\n",
      "-rw-r--r--   3 ec2-user supergroup   27596321 2017-01-17 20:29 /CVS/DT.02.Cuviers.35.cvs\n",
      "-rw-r--r--   3 ec2-user supergroup   26445600 2017-01-17 20:29 /CVS/DT.02.Cuviers.36.cvs\n",
      "-rw-r--r--   3 ec2-user supergroup   30503372 2017-01-17 20:29 /CVS/DT.02.Cuviers.37.cvs\n",
      "-rw-r--r--   3 ec2-user supergroup   31481404 2017-01-17 20:29 /CVS/DT.02.Cuviers.38.cvs\n",
      "-rw-r--r--   3 ec2-user supergroup   41901562 2017-01-17 20:29 /CVS/DT.02.Cuviers.39.cvs\n",
      "-rw-r--r--   3 ec2-user supergroup   25915684 2017-01-17 20:29 /CVS/DT.02.Cuviers.4.cvs\n",
      "-rw-r--r--   3 ec2-user supergroup   26954440 2017-01-17 20:29 /CVS/DT.02.Cuviers.40.cvs\n",
      "-rw-r--r--   3 ec2-user supergroup   26020574 2017-01-17 20:29 /CVS/DT.02.Cuviers.41.cvs\n",
      "-rw-r--r--   3 ec2-user supergroup   26095474 2017-01-17 20:29 /CVS/DT.02.Cuviers.42.cvs\n",
      "-rw-r--r--   3 ec2-user supergroup   31096915 2017-01-17 20:29 /CVS/DT.02.Cuviers.43.cvs\n",
      "-rw-r--r--   3 ec2-user supergroup   35905839 2017-01-17 20:29 /CVS/DT.02.Cuviers.44.cvs\n",
      "-rw-r--r--   3 ec2-user supergroup   33910260 2017-01-17 20:29 /CVS/DT.02.Cuviers.45.cvs\n",
      "-rw-r--r--   3 ec2-user supergroup   26664136 2017-01-17 20:29 /CVS/DT.02.Cuviers.46.cvs\n",
      "-rw-r--r--   3 ec2-user supergroup   29915200 2017-01-17 20:29 /CVS/DT.02.Cuviers.47.cvs\n",
      "-rw-r--r--   3 ec2-user supergroup   28950623 2017-01-17 20:29 /CVS/DT.02.Cuviers.48.cvs\n",
      "-rw-r--r--   3 ec2-user supergroup     135839 2017-01-17 20:29 /CVS/DT.02.Cuviers.49.cvs\n",
      "-rw-r--r--   3 ec2-user supergroup   36832572 2017-01-17 20:29 /CVS/DT.02.Cuviers.5.cvs\n",
      "-rw-r--r--   3 ec2-user supergroup   26095254 2017-01-17 20:29 /CVS/DT.02.Cuviers.6.cvs\n",
      "-rw-r--r--   3 ec2-user supergroup   41598921 2017-01-17 20:29 /CVS/DT.02.Cuviers.7.cvs\n",
      "-rw-r--r--   3 ec2-user supergroup   28272229 2017-01-17 20:29 /CVS/DT.02.Cuviers.8.cvs\n",
      "-rw-r--r--   3 ec2-user supergroup   28745636 2017-01-17 20:29 /CVS/DT.02.Cuviers.9.cvs\n",
      "-rw-r--r--   3 ec2-user supergroup   45667243 2017-01-17 20:29 /CVS/DT.02.Gervais.1.cvs\n",
      "-rw-r--r--   3 ec2-user supergroup   29835403 2017-01-17 20:29 /CVS/DT.02.Gervais.10.cvs\n",
      "-rw-r--r--   3 ec2-user supergroup   38843592 2017-01-17 20:29 /CVS/DT.02.Gervais.11.cvs\n",
      "-rw-r--r--   3 ec2-user supergroup   33289092 2017-01-17 20:29 /CVS/DT.02.Gervais.12.cvs\n",
      "-rw-r--r--   3 ec2-user supergroup   26519967 2017-01-17 20:29 /CVS/DT.02.Gervais.13.cvs\n",
      "-rw-r--r--   3 ec2-user supergroup   26908815 2017-01-17 20:29 /CVS/DT.02.Gervais.14.cvs\n",
      "-rw-r--r--   3 ec2-user supergroup   25792087 2017-01-17 20:29 /CVS/DT.02.Gervais.15.cvs\n",
      "-rw-r--r--   3 ec2-user supergroup   26950287 2017-01-17 20:29 /CVS/DT.02.Gervais.16.cvs\n",
      "-rw-r--r--   3 ec2-user supergroup   26064403 2017-01-17 20:29 /CVS/DT.02.Gervais.17.cvs\n",
      "-rw-r--r--   3 ec2-user supergroup   26807992 2017-01-17 20:29 /CVS/DT.02.Gervais.18.cvs\n",
      "-rw-r--r--   3 ec2-user supergroup   26243568 2017-01-17 20:29 /CVS/DT.02.Gervais.19.cvs\n",
      "-rw-r--r--   3 ec2-user supergroup   38640076 2017-01-17 20:29 /CVS/DT.02.Gervais.2.cvs\n",
      "-rw-r--r--   3 ec2-user supergroup   32601213 2017-01-17 20:29 /CVS/DT.02.Gervais.20.cvs\n",
      "-rw-r--r--   3 ec2-user supergroup   32665563 2017-01-17 20:29 /CVS/DT.02.Gervais.21.cvs\n",
      "-rw-r--r--   3 ec2-user supergroup   34587400 2017-01-17 20:29 /CVS/DT.02.Gervais.22.cvs\n",
      "-rw-r--r--   3 ec2-user supergroup   30167605 2017-01-17 20:29 /CVS/DT.02.Gervais.23.cvs\n",
      "-rw-r--r--   3 ec2-user supergroup   26197934 2017-01-17 20:29 /CVS/DT.02.Gervais.24.cvs\n",
      "-rw-r--r--   3 ec2-user supergroup   44722264 2017-01-17 20:29 /CVS/DT.02.Gervais.25.cvs\n",
      "-rw-r--r--   3 ec2-user supergroup   29610254 2017-01-17 20:29 /CVS/DT.02.Gervais.26.cvs\n",
      "-rw-r--r--   3 ec2-user supergroup   33802903 2017-01-17 20:29 /CVS/DT.02.Gervais.27.cvs\n",
      "-rw-r--r--   3 ec2-user supergroup    4024541 2017-01-17 20:29 /CVS/DT.02.Gervais.28.cvs\n",
      "-rw-r--r--   3 ec2-user supergroup   29512945 2017-01-17 20:29 /CVS/DT.02.Gervais.3.cvs\n",
      "-rw-r--r--   3 ec2-user supergroup   34432042 2017-01-17 20:29 /CVS/DT.02.Gervais.4.cvs\n",
      "-rw-r--r--   3 ec2-user supergroup   40333872 2017-01-17 20:29 /CVS/DT.02.Gervais.5.cvs\n",
      "-rw-r--r--   3 ec2-user supergroup   56219949 2017-01-17 20:29 /CVS/DT.02.Gervais.6.cvs\n",
      "-rw-r--r--   3 ec2-user supergroup   26769657 2017-01-17 20:29 /CVS/DT.02.Gervais.7.cvs\n",
      "-rw-r--r--   3 ec2-user supergroup   37952839 2017-01-17 20:29 /CVS/DT.02.Gervais.8.cvs\n",
      "-rw-r--r--   3 ec2-user supergroup   44794677 2017-01-17 20:29 /CVS/DT.02.Gervais.9.cvs\n",
      "-rw-r--r--   3 ec2-user supergroup   32563616 2017-01-17 20:29 /CVS/DT.03.Cuviers.1.cvs\n",
      "-rw-r--r--   3 ec2-user supergroup   42488144 2017-01-17 20:29 /CVS/DT.03.Cuviers.10.cvs\n",
      "-rw-r--r--   3 ec2-user supergroup   26445825 2017-01-17 20:29 /CVS/DT.03.Cuviers.11.cvs\n",
      "-rw-r--r--   3 ec2-user supergroup   26656138 2017-01-17 20:29 /CVS/DT.03.Cuviers.12.cvs\n",
      "-rw-r--r--   3 ec2-user supergroup   30599638 2017-01-17 20:29 /CVS/DT.03.Cuviers.13.cvs\n",
      "-rw-r--r--   3 ec2-user supergroup   27033207 2017-01-17 20:29 /CVS/DT.03.Cuviers.14.cvs\n",
      "-rw-r--r--   3 ec2-user supergroup   27071497 2017-01-17 20:29 /CVS/DT.03.Cuviers.15.cvs\n",
      "-rw-r--r--   3 ec2-user supergroup   35994930 2017-01-17 20:29 /CVS/DT.03.Cuviers.16.cvs\n",
      "-rw-r--r--   3 ec2-user supergroup   27664708 2017-01-17 20:29 /CVS/DT.03.Cuviers.17.cvs\n",
      "-rw-r--r--   3 ec2-user supergroup   27501005 2017-01-17 20:29 /CVS/DT.03.Cuviers.18.cvs\n",
      "-rw-r--r--   3 ec2-user supergroup   31716352 2017-01-17 20:29 /CVS/DT.03.Cuviers.19.cvs\n",
      "-rw-r--r--   3 ec2-user supergroup   26115734 2017-01-17 20:29 /CVS/DT.03.Cuviers.2.cvs\n",
      "-rw-r--r--   3 ec2-user supergroup   28504230 2017-01-17 20:29 /CVS/DT.03.Cuviers.20.cvs\n",
      "-rw-r--r--   3 ec2-user supergroup   27828110 2017-01-17 20:29 /CVS/DT.03.Cuviers.21.cvs\n",
      "-rw-r--r--   3 ec2-user supergroup   27454254 2017-01-17 20:29 /CVS/DT.03.Cuviers.22.cvs\n",
      "-rw-r--r--   3 ec2-user supergroup   27034955 2017-01-17 20:29 /CVS/DT.03.Cuviers.23.cvs\n",
      "-rw-r--r--   3 ec2-user supergroup   26206788 2017-01-17 20:29 /CVS/DT.03.Cuviers.24.cvs\n",
      "-rw-r--r--   3 ec2-user supergroup   27368800 2017-01-17 20:29 /CVS/DT.03.Cuviers.25.cvs\n",
      "-rw-r--r--   3 ec2-user supergroup   34523513 2017-01-17 20:29 /CVS/DT.03.Cuviers.26.cvs\n",
      "-rw-r--r--   3 ec2-user supergroup   26028607 2017-01-17 20:29 /CVS/DT.03.Cuviers.27.cvs\n",
      "-rw-r--r--   3 ec2-user supergroup  167401910 2017-01-17 20:29 /CVS/DT.03.Cuviers.28.cvs\n",
      "-rw-r--r--   3 ec2-user supergroup   31280232 2017-01-17 20:29 /CVS/DT.03.Cuviers.29.cvs\n",
      "-rw-r--r--   3 ec2-user supergroup   39434304 2017-01-17 20:29 /CVS/DT.03.Cuviers.3.cvs\n",
      "-rw-r--r--   3 ec2-user supergroup   64639693 2017-01-17 20:29 /CVS/DT.03.Cuviers.30.cvs\n",
      "-rw-r--r--   3 ec2-user supergroup   47279645 2017-01-17 20:29 /CVS/DT.03.Cuviers.31.cvs\n",
      "-rw-r--r--   3 ec2-user supergroup   29857136 2017-01-17 20:29 /CVS/DT.03.Cuviers.32.cvs\n",
      "-rw-r--r--   3 ec2-user supergroup   28884717 2017-01-17 20:29 /CVS/DT.03.Cuviers.33.cvs\n",
      "-rw-r--r--   3 ec2-user supergroup   28031996 2017-01-17 20:29 /CVS/DT.03.Cuviers.34.cvs\n",
      "-rw-r--r--   3 ec2-user supergroup   26208291 2017-01-17 20:29 /CVS/DT.03.Cuviers.35.cvs\n",
      "-rw-r--r--   3 ec2-user supergroup   28134860 2017-01-17 20:29 /CVS/DT.03.Cuviers.36.cvs\n",
      "-rw-r--r--   3 ec2-user supergroup   47122849 2017-01-17 20:29 /CVS/DT.03.Cuviers.37.cvs\n",
      "-rw-r--r--   3 ec2-user supergroup   26508103 2017-01-17 20:29 /CVS/DT.03.Cuviers.38.cvs\n",
      "-rw-r--r--   3 ec2-user supergroup   27302274 2017-01-17 20:29 /CVS/DT.03.Cuviers.39.cvs\n",
      "-rw-r--r--   3 ec2-user supergroup   26783226 2017-01-17 20:29 /CVS/DT.03.Cuviers.4.cvs\n",
      "-rw-r--r--   3 ec2-user supergroup   29675803 2017-01-17 20:29 /CVS/DT.03.Cuviers.40.cvs\n",
      "-rw-r--r--   3 ec2-user supergroup   30898697 2017-01-17 20:29 /CVS/DT.03.Cuviers.41.cvs\n",
      "-rw-r--r--   3 ec2-user supergroup   26282860 2017-01-17 20:29 /CVS/DT.03.Cuviers.42.cvs\n",
      "-rw-r--r--   3 ec2-user supergroup   28624487 2017-01-17 20:29 /CVS/DT.03.Cuviers.43.cvs\n",
      "-rw-r--r--   3 ec2-user supergroup   33062809 2017-01-17 20:29 /CVS/DT.03.Cuviers.44.cvs\n",
      "-rw-r--r--   3 ec2-user supergroup   30507827 2017-01-17 20:29 /CVS/DT.03.Cuviers.45.cvs\n",
      "-rw-r--r--   3 ec2-user supergroup   34408606 2017-01-17 20:29 /CVS/DT.03.Cuviers.46.cvs\n",
      "-rw-r--r--   3 ec2-user supergroup   28553703 2017-01-17 20:29 /CVS/DT.03.Cuviers.47.cvs\n",
      "-rw-r--r--   3 ec2-user supergroup   38140038 2017-01-17 20:29 /CVS/DT.03.Cuviers.48.cvs\n",
      "-rw-r--r--   3 ec2-user supergroup   35450424 2017-01-17 20:29 /CVS/DT.03.Cuviers.49.cvs\n",
      "-rw-r--r--   3 ec2-user supergroup   28656936 2017-01-17 20:29 /CVS/DT.03.Cuviers.5.cvs\n",
      "-rw-r--r--   3 ec2-user supergroup   53154842 2017-01-17 20:29 /CVS/DT.03.Cuviers.50.cvs\n",
      "-rw-r--r--   3 ec2-user supergroup   27742200 2017-01-17 20:29 /CVS/DT.03.Cuviers.51.cvs\n",
      "-rw-r--r--   3 ec2-user supergroup   43786335 2017-01-17 20:29 /CVS/DT.03.Cuviers.52.cvs\n",
      "-rw-r--r--   3 ec2-user supergroup   27190849 2017-01-17 20:29 /CVS/DT.03.Cuviers.53.cvs\n",
      "-rw-r--r--   3 ec2-user supergroup   28664436 2017-01-17 20:29 /CVS/DT.03.Cuviers.54.cvs\n",
      "-rw-r--r--   3 ec2-user supergroup   29647275 2017-01-17 20:29 /CVS/DT.03.Cuviers.55.cvs\n",
      "-rw-r--r--   3 ec2-user supergroup   37175833 2017-01-17 20:29 /CVS/DT.03.Cuviers.56.cvs\n",
      "-rw-r--r--   3 ec2-user supergroup   26096480 2017-01-17 20:29 /CVS/DT.03.Cuviers.57.cvs\n",
      "-rw-r--r--   3 ec2-user supergroup   26070877 2017-01-17 20:29 /CVS/DT.03.Cuviers.58.cvs\n",
      "-rw-r--r--   3 ec2-user supergroup   28185760 2017-01-17 20:29 /CVS/DT.03.Cuviers.59.cvs\n",
      "-rw-r--r--   3 ec2-user supergroup   26040211 2017-01-17 20:29 /CVS/DT.03.Cuviers.6.cvs\n",
      "-rw-r--r--   3 ec2-user supergroup   27341935 2017-01-17 20:29 /CVS/DT.03.Cuviers.60.cvs\n",
      "-rw-r--r--   3 ec2-user supergroup   41668093 2017-01-17 20:29 /CVS/DT.03.Cuviers.61.cvs\n",
      "-rw-r--r--   3 ec2-user supergroup   33489022 2017-01-17 20:29 /CVS/DT.03.Cuviers.62.cvs\n",
      "-rw-r--r--   3 ec2-user supergroup   28610119 2017-01-17 20:29 /CVS/DT.03.Cuviers.63.cvs\n",
      "-rw-r--r--   3 ec2-user supergroup   34560341 2017-01-17 20:29 /CVS/DT.03.Cuviers.64.cvs\n",
      "-rw-r--r--   3 ec2-user supergroup   26271690 2017-01-17 20:29 /CVS/DT.03.Cuviers.65.cvs\n",
      "-rw-r--r--   3 ec2-user supergroup   26300159 2017-01-17 20:29 /CVS/DT.03.Cuviers.66.cvs\n",
      "-rw-r--r--   3 ec2-user supergroup   26434334 2017-01-17 20:29 /CVS/DT.03.Cuviers.67.cvs\n",
      "-rw-r--r--   3 ec2-user supergroup   34109386 2017-01-17 20:29 /CVS/DT.03.Cuviers.68.cvs\n",
      "-rw-r--r--   3 ec2-user supergroup   26361781 2017-01-17 20:29 /CVS/DT.03.Cuviers.69.cvs\n",
      "-rw-r--r--   3 ec2-user supergroup   26189868 2017-01-17 20:29 /CVS/DT.03.Cuviers.7.cvs\n",
      "-rw-r--r--   3 ec2-user supergroup   29784451 2017-01-17 20:29 /CVS/DT.03.Cuviers.70.cvs\n",
      "-rw-r--r--   3 ec2-user supergroup   27968889 2017-01-17 20:30 /CVS/DT.03.Cuviers.71.cvs\n",
      "-rw-r--r--   3 ec2-user supergroup   36214126 2017-01-17 20:30 /CVS/DT.03.Cuviers.72.cvs\n",
      "-rw-r--r--   3 ec2-user supergroup    3241707 2017-01-17 20:30 /CVS/DT.03.Cuviers.73.cvs\n",
      "-rw-r--r--   3 ec2-user supergroup   37292767 2017-01-17 20:30 /CVS/DT.03.Cuviers.8.cvs\n",
      "-rw-r--r--   3 ec2-user supergroup   29175770 2017-01-17 20:30 /CVS/DT.03.Cuviers.9.cvs\n",
      "-rw-r--r--   3 ec2-user supergroup   29631397 2017-01-17 20:30 /CVS/DT.03.Gervais.1.cvs\n",
      "-rw-r--r--   3 ec2-user supergroup   25986732 2017-01-17 20:30 /CVS/DT.03.Gervais.10.cvs\n",
      "-rw-r--r--   3 ec2-user supergroup   29805376 2017-01-17 20:30 /CVS/DT.03.Gervais.11.cvs\n",
      "-rw-r--r--   3 ec2-user supergroup   77735683 2017-01-17 20:30 /CVS/DT.03.Gervais.12.cvs\n",
      "-rw-r--r--   3 ec2-user supergroup   28240875 2017-01-17 20:30 /CVS/DT.03.Gervais.13.cvs\n",
      "-rw-r--r--   3 ec2-user supergroup   31745595 2017-01-17 20:30 /CVS/DT.03.Gervais.14.cvs\n",
      "-rw-r--r--   3 ec2-user supergroup   29774566 2017-01-17 20:30 /CVS/DT.03.Gervais.15.cvs\n",
      "-rw-r--r--   3 ec2-user supergroup   26225760 2017-01-17 20:30 /CVS/DT.03.Gervais.16.cvs\n",
      "-rw-r--r--   3 ec2-user supergroup   27394841 2017-01-17 20:30 /CVS/DT.03.Gervais.17.cvs\n",
      "-rw-r--r--   3 ec2-user supergroup   27021278 2017-01-17 20:30 /CVS/DT.03.Gervais.18.cvs\n",
      "-rw-r--r--   3 ec2-user supergroup   29992497 2017-01-17 20:30 /CVS/DT.03.Gervais.19.cvs\n",
      "-rw-r--r--   3 ec2-user supergroup   36532758 2017-01-17 20:30 /CVS/DT.03.Gervais.2.cvs\n",
      "-rw-r--r--   3 ec2-user supergroup   26058023 2017-01-17 20:30 /CVS/DT.03.Gervais.20.cvs\n",
      "-rw-r--r--   3 ec2-user supergroup   30867866 2017-01-17 20:30 /CVS/DT.03.Gervais.21.cvs\n",
      "-rw-r--r--   3 ec2-user supergroup   26824033 2017-01-17 20:30 /CVS/DT.03.Gervais.22.cvs\n",
      "-rw-r--r--   3 ec2-user supergroup   26042443 2017-01-17 20:30 /CVS/DT.03.Gervais.23.cvs\n",
      "-rw-r--r--   3 ec2-user supergroup   26347675 2017-01-17 20:30 /CVS/DT.03.Gervais.24.cvs\n",
      "-rw-r--r--   3 ec2-user supergroup   27539031 2017-01-17 20:30 /CVS/DT.03.Gervais.25.cvs\n",
      "-rw-r--r--   3 ec2-user supergroup   27509662 2017-01-17 20:30 /CVS/DT.03.Gervais.26.cvs\n",
      "-rw-r--r--   3 ec2-user supergroup   26556198 2017-01-17 20:30 /CVS/DT.03.Gervais.27.cvs\n",
      "-rw-r--r--   3 ec2-user supergroup   28801374 2017-01-17 20:30 /CVS/DT.03.Gervais.28.cvs\n",
      "-rw-r--r--   3 ec2-user supergroup   26032032 2017-01-17 20:30 /CVS/DT.03.Gervais.3.cvs\n",
      "-rw-r--r--   3 ec2-user supergroup   29890017 2017-01-17 20:30 /CVS/DT.03.Gervais.4.cvs\n",
      "-rw-r--r--   3 ec2-user supergroup   27933467 2017-01-17 20:30 /CVS/DT.03.Gervais.5.cvs\n",
      "-rw-r--r--   3 ec2-user supergroup   49048147 2017-01-17 20:30 /CVS/DT.03.Gervais.6.cvs\n",
      "-rw-r--r--   3 ec2-user supergroup   31587104 2017-01-17 20:30 /CVS/DT.03.Gervais.7.cvs\n",
      "-rw-r--r--   3 ec2-user supergroup   26132786 2017-01-17 20:30 /CVS/DT.03.Gervais.8.cvs\n",
      "-rw-r--r--   3 ec2-user supergroup   28976061 2017-01-17 20:30 /CVS/DT.03.Gervais.9.cvs\n",
      "-rw-r--r--   3 ec2-user supergroup   27380282 2017-01-17 20:30 /CVS/DT.04.Cuviers.1.cvs\n",
      "-rw-r--r--   3 ec2-user supergroup   34050982 2017-01-17 20:30 /CVS/DT.04.Cuviers.2.cvs\n",
      "-rw-r--r--   3 ec2-user supergroup   29098854 2017-01-17 20:30 /CVS/DT.04.Cuviers.3.cvs\n",
      "-rw-r--r--   3 ec2-user supergroup   27066518 2017-01-17 20:30 /CVS/DT.04.Cuviers.4.cvs\n",
      "-rw-r--r--   3 ec2-user supergroup   27222559 2017-01-17 20:30 /CVS/DT.04.Cuviers.5.cvs\n",
      "-rw-r--r--   3 ec2-user supergroup   26833143 2017-01-17 20:30 /CVS/DT.04.Cuviers.6.cvs\n",
      "-rw-r--r--   3 ec2-user supergroup   15759938 2017-01-17 20:30 /CVS/DT.04.Cuviers.7.cvs\n",
      "-rw-r--r--   3 ec2-user supergroup   26371599 2017-01-17 20:30 /CVS/DT.04.Gervais.1.cvs\n",
      "-rw-r--r--   3 ec2-user supergroup   26398184 2017-01-17 20:30 /CVS/DT.04.Gervais.2.cvs\n",
      "-rw-r--r--   3 ec2-user supergroup   28830595 2017-01-17 20:30 /CVS/DT.04.Gervais.3.cvs\n",
      "-rw-r--r--   3 ec2-user supergroup   12282014 2017-01-17 20:30 /CVS/DT.04.Gervais.4.cvs\n",
      "-rw-r--r--   3 ec2-user supergroup   26516951 2017-01-17 20:30 /CVS/DT.05.Cuviers.1.cvs\n",
      "-rw-r--r--   3 ec2-user supergroup   30641496 2017-01-17 20:30 /CVS/DT.05.Cuviers.10.cvs\n",
      "-rw-r--r--   3 ec2-user supergroup   27031356 2017-01-17 20:30 /CVS/DT.05.Cuviers.11.cvs\n",
      "-rw-r--r--   3 ec2-user supergroup   29939819 2017-01-17 20:30 /CVS/DT.05.Cuviers.12.cvs\n",
      "-rw-r--r--   3 ec2-user supergroup   30260596 2017-01-17 20:30 /CVS/DT.05.Cuviers.13.cvs\n",
      "-rw-r--r--   3 ec2-user supergroup   30369974 2017-01-17 20:30 /CVS/DT.05.Cuviers.14.cvs\n",
      "-rw-r--r--   3 ec2-user supergroup   39314708 2017-01-17 20:30 /CVS/DT.05.Cuviers.15.cvs\n",
      "-rw-r--r--   3 ec2-user supergroup   29571067 2017-01-17 20:30 /CVS/DT.05.Cuviers.16.cvs\n",
      "-rw-r--r--   3 ec2-user supergroup   28867233 2017-01-17 20:30 /CVS/DT.05.Cuviers.17.cvs\n",
      "-rw-r--r--   3 ec2-user supergroup   32915792 2017-01-17 20:30 /CVS/DT.05.Cuviers.18.cvs\n",
      "-rw-r--r--   3 ec2-user supergroup   26098272 2017-01-17 20:30 /CVS/DT.05.Cuviers.19.cvs\n",
      "-rw-r--r--   3 ec2-user supergroup   28900390 2017-01-17 20:30 /CVS/DT.05.Cuviers.2.cvs\n",
      "-rw-r--r--   3 ec2-user supergroup   26151730 2017-01-17 20:30 /CVS/DT.05.Cuviers.20.cvs\n",
      "-rw-r--r--   3 ec2-user supergroup   30408292 2017-01-17 20:30 /CVS/DT.05.Cuviers.21.cvs\n",
      "-rw-r--r--   3 ec2-user supergroup   33923438 2017-01-17 20:30 /CVS/DT.05.Cuviers.22.cvs\n",
      "-rw-r--r--   3 ec2-user supergroup   26123711 2017-01-17 20:30 /CVS/DT.05.Cuviers.23.cvs\n",
      "-rw-r--r--   3 ec2-user supergroup   26455403 2017-01-17 20:30 /CVS/DT.05.Cuviers.24.cvs\n",
      "-rw-r--r--   3 ec2-user supergroup   36800527 2017-01-17 20:30 /CVS/DT.05.Cuviers.25.cvs\n",
      "-rw-r--r--   3 ec2-user supergroup   28319226 2017-01-17 20:30 /CVS/DT.05.Cuviers.26.cvs\n",
      "-rw-r--r--   3 ec2-user supergroup   28960202 2017-01-17 20:30 /CVS/DT.05.Cuviers.27.cvs\n",
      "-rw-r--r--   3 ec2-user supergroup   36123829 2017-01-17 20:30 /CVS/DT.05.Cuviers.28.cvs\n",
      "-rw-r--r--   3 ec2-user supergroup   29870735 2017-01-17 20:30 /CVS/DT.05.Cuviers.29.cvs\n",
      "-rw-r--r--   3 ec2-user supergroup   26236242 2017-01-17 20:30 /CVS/DT.05.Cuviers.3.cvs\n",
      "-rw-r--r--   3 ec2-user supergroup   28093256 2017-01-17 20:30 /CVS/DT.05.Cuviers.30.cvs\n",
      "-rw-r--r--   3 ec2-user supergroup   28942967 2017-01-17 20:30 /CVS/DT.05.Cuviers.31.cvs\n",
      "-rw-r--r--   3 ec2-user supergroup   29765517 2017-01-17 20:30 /CVS/DT.05.Cuviers.32.cvs\n",
      "-rw-r--r--   3 ec2-user supergroup   28071571 2017-01-17 20:30 /CVS/DT.05.Cuviers.33.cvs\n",
      "-rw-r--r--   3 ec2-user supergroup   30013440 2017-01-17 20:30 /CVS/DT.05.Cuviers.34.cvs\n",
      "-rw-r--r--   3 ec2-user supergroup   31820233 2017-01-17 20:30 /CVS/DT.05.Cuviers.35.cvs\n",
      "-rw-r--r--   3 ec2-user supergroup   37904734 2017-01-17 20:30 /CVS/DT.05.Cuviers.36.cvs\n",
      "-rw-r--r--   3 ec2-user supergroup   26037084 2017-01-17 20:30 /CVS/DT.05.Cuviers.37.cvs\n",
      "-rw-r--r--   3 ec2-user supergroup   32871622 2017-01-17 20:30 /CVS/DT.05.Cuviers.38.cvs\n",
      "-rw-r--r--   3 ec2-user supergroup   31304974 2017-01-17 20:30 /CVS/DT.05.Cuviers.39.cvs\n",
      "-rw-r--r--   3 ec2-user supergroup   29561587 2017-01-17 20:30 /CVS/DT.05.Cuviers.4.cvs\n",
      "-rw-r--r--   3 ec2-user supergroup   28558524 2017-01-17 20:30 /CVS/DT.05.Cuviers.40.cvs\n",
      "-rw-r--r--   3 ec2-user supergroup   26243555 2017-01-17 20:30 /CVS/DT.05.Cuviers.41.cvs\n",
      "-rw-r--r--   3 ec2-user supergroup   26891391 2017-01-17 20:30 /CVS/DT.05.Cuviers.42.cvs\n",
      "-rw-r--r--   3 ec2-user supergroup   27551777 2017-01-17 20:30 /CVS/DT.05.Cuviers.43.cvs\n",
      "-rw-r--r--   3 ec2-user supergroup   26341354 2017-01-17 20:30 /CVS/DT.05.Cuviers.44.cvs\n",
      "-rw-r--r--   3 ec2-user supergroup   30411683 2017-01-17 20:30 /CVS/DT.05.Cuviers.45.cvs\n",
      "-rw-r--r--   3 ec2-user supergroup   26018514 2017-01-17 20:30 /CVS/DT.05.Cuviers.46.cvs\n",
      "-rw-r--r--   3 ec2-user supergroup   29176370 2017-01-17 20:30 /CVS/DT.05.Cuviers.47.cvs\n",
      "-rw-r--r--   3 ec2-user supergroup   33988624 2017-01-17 20:30 /CVS/DT.05.Cuviers.48.cvs\n",
      "-rw-r--r--   3 ec2-user supergroup   29254730 2017-01-17 20:30 /CVS/DT.05.Cuviers.49.cvs\n",
      "-rw-r--r--   3 ec2-user supergroup   26097462 2017-01-17 20:30 /CVS/DT.05.Cuviers.5.cvs\n",
      "-rw-r--r--   3 ec2-user supergroup   31934546 2017-01-17 20:30 /CVS/DT.05.Cuviers.50.cvs\n",
      "-rw-r--r--   3 ec2-user supergroup   27962129 2017-01-17 20:30 /CVS/DT.05.Cuviers.51.cvs\n",
      "-rw-r--r--   3 ec2-user supergroup   27988396 2017-01-17 20:30 /CVS/DT.05.Cuviers.52.cvs\n",
      "-rw-r--r--   3 ec2-user supergroup   28889476 2017-01-17 20:30 /CVS/DT.05.Cuviers.53.cvs\n",
      "-rw-r--r--   3 ec2-user supergroup   26993455 2017-01-17 20:30 /CVS/DT.05.Cuviers.54.cvs\n",
      "-rw-r--r--   3 ec2-user supergroup   26202160 2017-01-17 20:30 /CVS/DT.05.Cuviers.55.cvs\n",
      "-rw-r--r--   3 ec2-user supergroup   27890742 2017-01-17 20:30 /CVS/DT.05.Cuviers.56.cvs\n",
      "-rw-r--r--   3 ec2-user supergroup   31460810 2017-01-17 20:30 /CVS/DT.05.Cuviers.57.cvs\n",
      "-rw-r--r--   3 ec2-user supergroup   26495169 2017-01-17 20:30 /CVS/DT.05.Cuviers.58.cvs\n",
      "-rw-r--r--   3 ec2-user supergroup   30083924 2017-01-17 20:30 /CVS/DT.05.Cuviers.59.cvs\n",
      "-rw-r--r--   3 ec2-user supergroup   27371768 2017-01-17 20:30 /CVS/DT.05.Cuviers.6.cvs\n",
      "-rw-r--r--   3 ec2-user supergroup   31183822 2017-01-17 20:31 /CVS/DT.05.Cuviers.60.cvs\n",
      "-rw-r--r--   3 ec2-user supergroup   27684765 2017-01-17 20:31 /CVS/DT.05.Cuviers.61.cvs\n",
      "-rw-r--r--   3 ec2-user supergroup   34345343 2017-01-17 20:31 /CVS/DT.05.Cuviers.62.cvs\n",
      "-rw-r--r--   3 ec2-user supergroup   29868227 2017-01-17 20:31 /CVS/DT.05.Cuviers.63.cvs\n",
      "-rw-r--r--   3 ec2-user supergroup   35691808 2017-01-17 20:31 /CVS/DT.05.Cuviers.64.cvs\n",
      "-rw-r--r--   3 ec2-user supergroup   26508372 2017-01-17 20:31 /CVS/DT.05.Cuviers.65.cvs\n",
      "-rw-r--r--   3 ec2-user supergroup   27874047 2017-01-17 20:31 /CVS/DT.05.Cuviers.7.cvs\n",
      "-rw-r--r--   3 ec2-user supergroup   29065846 2017-01-17 20:31 /CVS/DT.05.Cuviers.8.cvs\n",
      "-rw-r--r--   3 ec2-user supergroup   25994463 2017-01-17 20:31 /CVS/DT.05.Cuviers.9.cvs\n",
      "-rw-r--r--   3 ec2-user supergroup   27041412 2017-01-17 20:31 /CVS/DT.05.Gervais.1.cvs\n",
      "-rw-r--r--   3 ec2-user supergroup   31426395 2017-01-17 20:31 /CVS/DT.05.Gervais.10.cvs\n",
      "-rw-r--r--   3 ec2-user supergroup   27534872 2017-01-17 20:31 /CVS/DT.05.Gervais.11.cvs\n",
      "-rw-r--r--   3 ec2-user supergroup   26353719 2017-01-17 20:31 /CVS/DT.05.Gervais.12.cvs\n",
      "-rw-r--r--   3 ec2-user supergroup   34521052 2017-01-17 20:31 /CVS/DT.05.Gervais.13.cvs\n",
      "-rw-r--r--   3 ec2-user supergroup   26379853 2017-01-17 20:31 /CVS/DT.05.Gervais.14.cvs\n",
      "-rw-r--r--   3 ec2-user supergroup   27789451 2017-01-17 20:31 /CVS/DT.05.Gervais.15.cvs\n",
      "-rw-r--r--   3 ec2-user supergroup   25959239 2017-01-17 20:31 /CVS/DT.05.Gervais.16.cvs\n",
      "-rw-r--r--   3 ec2-user supergroup   27987103 2017-01-17 20:31 /CVS/DT.05.Gervais.17.cvs\n",
      "-rw-r--r--   3 ec2-user supergroup   25778145 2017-01-17 20:31 /CVS/DT.05.Gervais.18.cvs\n",
      "-rw-r--r--   3 ec2-user supergroup   29491434 2017-01-17 20:31 /CVS/DT.05.Gervais.19.cvs\n",
      "-rw-r--r--   3 ec2-user supergroup   26384424 2017-01-17 20:31 /CVS/DT.05.Gervais.2.cvs\n",
      "-rw-r--r--   3 ec2-user supergroup   28496162 2017-01-17 20:31 /CVS/DT.05.Gervais.20.cvs\n",
      "-rw-r--r--   3 ec2-user supergroup   27094576 2017-01-17 20:31 /CVS/DT.05.Gervais.21.cvs\n",
      "-rw-r--r--   3 ec2-user supergroup   26737997 2017-01-17 20:31 /CVS/DT.05.Gervais.22.cvs\n",
      "-rw-r--r--   3 ec2-user supergroup   64993537 2017-01-17 20:31 /CVS/DT.05.Gervais.23.cvs\n",
      "-rw-r--r--   3 ec2-user supergroup   26420995 2017-01-17 20:31 /CVS/DT.05.Gervais.24.cvs\n",
      "-rw-r--r--   3 ec2-user supergroup   26664336 2017-01-17 20:31 /CVS/DT.05.Gervais.25.cvs\n",
      "-rw-r--r--   3 ec2-user supergroup    2712022 2017-01-17 20:31 /CVS/DT.05.Gervais.26.cvs\n",
      "-rw-r--r--   3 ec2-user supergroup   35190634 2017-01-17 20:31 /CVS/DT.05.Gervais.3.cvs\n",
      "-rw-r--r--   3 ec2-user supergroup   28896986 2017-01-17 20:31 /CVS/DT.05.Gervais.4.cvs\n",
      "-rw-r--r--   3 ec2-user supergroup   25833536 2017-01-17 20:31 /CVS/DT.05.Gervais.5.cvs\n",
      "-rw-r--r--   3 ec2-user supergroup   29909246 2017-01-17 20:31 /CVS/DT.05.Gervais.6.cvs\n",
      "-rw-r--r--   3 ec2-user supergroup   26284396 2017-01-17 20:31 /CVS/DT.05.Gervais.7.cvs\n",
      "-rw-r--r--   3 ec2-user supergroup   26278924 2017-01-17 20:31 /CVS/DT.05.Gervais.8.cvs\n",
      "-rw-r--r--   3 ec2-user supergroup   30752356 2017-01-17 20:31 /CVS/DT.05.Gervais.9.cvs\n",
      "-rw-r--r--   3 ec2-user supergroup   42126745 2017-01-17 20:31 /CVS/DT.06.Cuviers.1.cvs\n",
      "-rw-r--r--   3 ec2-user supergroup   27468611 2017-01-17 20:31 /CVS/DT.06.Cuviers.10.cvs\n",
      "-rw-r--r--   3 ec2-user supergroup   28235106 2017-01-17 20:31 /CVS/DT.06.Cuviers.11.cvs\n",
      "-rw-r--r--   3 ec2-user supergroup   26423527 2017-01-17 20:31 /CVS/DT.06.Cuviers.12.cvs\n",
      "-rw-r--r--   3 ec2-user supergroup   35182735 2017-01-17 20:31 /CVS/DT.06.Cuviers.13.cvs\n",
      "-rw-r--r--   3 ec2-user supergroup   28532946 2017-01-17 20:31 /CVS/DT.06.Cuviers.14.cvs\n",
      "-rw-r--r--   3 ec2-user supergroup   29136408 2017-01-17 20:31 /CVS/DT.06.Cuviers.15.cvs\n",
      "-rw-r--r--   3 ec2-user supergroup   26307282 2017-01-17 20:31 /CVS/DT.06.Cuviers.16.cvs\n",
      "-rw-r--r--   3 ec2-user supergroup   28064261 2017-01-17 20:31 /CVS/DT.06.Cuviers.17.cvs\n",
      "-rw-r--r--   3 ec2-user supergroup   29775737 2017-01-17 20:31 /CVS/DT.06.Cuviers.18.cvs\n",
      "-rw-r--r--   3 ec2-user supergroup   27483785 2017-01-17 20:31 /CVS/DT.06.Cuviers.19.cvs\n",
      "-rw-r--r--   3 ec2-user supergroup   26016041 2017-01-17 20:31 /CVS/DT.06.Cuviers.2.cvs\n",
      "-rw-r--r--   3 ec2-user supergroup   26193475 2017-01-17 20:31 /CVS/DT.06.Cuviers.20.cvs\n",
      "-rw-r--r--   3 ec2-user supergroup   29923596 2017-01-17 20:31 /CVS/DT.06.Cuviers.21.cvs\n",
      "-rw-r--r--   3 ec2-user supergroup   27760965 2017-01-17 20:31 /CVS/DT.06.Cuviers.22.cvs\n",
      "-rw-r--r--   3 ec2-user supergroup   26746761 2017-01-17 20:31 /CVS/DT.06.Cuviers.23.cvs\n",
      "-rw-r--r--   3 ec2-user supergroup   26007483 2017-01-17 20:31 /CVS/DT.06.Cuviers.24.cvs\n",
      "-rw-r--r--   3 ec2-user supergroup   27814807 2017-01-17 20:31 /CVS/DT.06.Cuviers.25.cvs\n",
      "-rw-r--r--   3 ec2-user supergroup   27163939 2017-01-17 20:31 /CVS/DT.06.Cuviers.26.cvs\n",
      "-rw-r--r--   3 ec2-user supergroup   40513117 2017-01-17 20:31 /CVS/DT.06.Cuviers.27.cvs\n",
      "-rw-r--r--   3 ec2-user supergroup   25804375 2017-01-17 20:31 /CVS/DT.06.Cuviers.28.cvs\n",
      "-rw-r--r--   3 ec2-user supergroup   34199742 2017-01-17 20:31 /CVS/DT.06.Cuviers.29.cvs\n",
      "-rw-r--r--   3 ec2-user supergroup   26578257 2017-01-17 20:31 /CVS/DT.06.Cuviers.3.cvs\n",
      "-rw-r--r--   3 ec2-user supergroup   32719629 2017-01-17 20:31 /CVS/DT.06.Cuviers.30.cvs\n",
      "-rw-r--r--   3 ec2-user supergroup   29065432 2017-01-17 20:31 /CVS/DT.06.Cuviers.31.cvs\n",
      "-rw-r--r--   3 ec2-user supergroup   26173094 2017-01-17 20:31 /CVS/DT.06.Cuviers.32.cvs\n",
      "-rw-r--r--   3 ec2-user supergroup   28278171 2017-01-17 20:31 /CVS/DT.06.Cuviers.33.cvs\n",
      "-rw-r--r--   3 ec2-user supergroup   31775122 2017-01-17 20:31 /CVS/DT.06.Cuviers.34.cvs\n",
      "-rw-r--r--   3 ec2-user supergroup   27068316 2017-01-17 20:31 /CVS/DT.06.Cuviers.35.cvs\n",
      "-rw-r--r--   3 ec2-user supergroup   31630127 2017-01-17 20:31 /CVS/DT.06.Cuviers.36.cvs\n",
      "-rw-r--r--   3 ec2-user supergroup   26007696 2017-01-17 20:31 /CVS/DT.06.Cuviers.37.cvs\n",
      "-rw-r--r--   3 ec2-user supergroup   26023333 2017-01-17 20:31 /CVS/DT.06.Cuviers.38.cvs\n",
      "-rw-r--r--   3 ec2-user supergroup   30946740 2017-01-17 20:31 /CVS/DT.06.Cuviers.39.cvs\n",
      "-rw-r--r--   3 ec2-user supergroup   37848274 2017-01-17 20:31 /CVS/DT.06.Cuviers.4.cvs\n",
      "-rw-r--r--   3 ec2-user supergroup   28093905 2017-01-17 20:31 /CVS/DT.06.Cuviers.40.cvs\n",
      "-rw-r--r--   3 ec2-user supergroup   35137858 2017-01-17 20:31 /CVS/DT.06.Cuviers.41.cvs\n",
      "-rw-r--r--   3 ec2-user supergroup   28726311 2017-01-17 20:31 /CVS/DT.06.Cuviers.42.cvs\n",
      "-rw-r--r--   3 ec2-user supergroup   27579521 2017-01-17 20:31 /CVS/DT.06.Cuviers.43.cvs\n",
      "-rw-r--r--   3 ec2-user supergroup   27513232 2017-01-17 20:31 /CVS/DT.06.Cuviers.44.cvs\n",
      "-rw-r--r--   3 ec2-user supergroup   26796673 2017-01-17 20:31 /CVS/DT.06.Cuviers.45.cvs\n",
      "-rw-r--r--   3 ec2-user supergroup   43045172 2017-01-17 20:31 /CVS/DT.06.Cuviers.46.cvs\n",
      "-rw-r--r--   3 ec2-user supergroup   27315024 2017-01-17 20:31 /CVS/DT.06.Cuviers.47.cvs\n",
      "-rw-r--r--   3 ec2-user supergroup   28778583 2017-01-17 20:31 /CVS/DT.06.Cuviers.48.cvs\n",
      "-rw-r--r--   3 ec2-user supergroup   27026482 2017-01-17 20:31 /CVS/DT.06.Cuviers.49.cvs\n",
      "-rw-r--r--   3 ec2-user supergroup   37259987 2017-01-17 20:31 /CVS/DT.06.Cuviers.5.cvs\n",
      "-rw-r--r--   3 ec2-user supergroup   28634041 2017-01-17 20:31 /CVS/DT.06.Cuviers.50.cvs\n",
      "-rw-r--r--   3 ec2-user supergroup   27072697 2017-01-17 20:31 /CVS/DT.06.Cuviers.51.cvs\n",
      "-rw-r--r--   3 ec2-user supergroup   27241687 2017-01-17 20:31 /CVS/DT.06.Cuviers.52.cvs\n",
      "-rw-r--r--   3 ec2-user supergroup   31780900 2017-01-17 20:31 /CVS/DT.06.Cuviers.53.cvs\n",
      "-rw-r--r--   3 ec2-user supergroup   26931749 2017-01-17 20:31 /CVS/DT.06.Cuviers.54.cvs\n",
      "-rw-r--r--   3 ec2-user supergroup   19542484 2017-01-17 20:31 /CVS/DT.06.Cuviers.55.cvs\n",
      "-rw-r--r--   3 ec2-user supergroup   26357630 2017-01-17 20:31 /CVS/DT.06.Cuviers.6.cvs\n",
      "-rw-r--r--   3 ec2-user supergroup   27625574 2017-01-17 20:31 /CVS/DT.06.Cuviers.7.cvs\n",
      "-rw-r--r--   3 ec2-user supergroup   32157686 2017-01-17 20:31 /CVS/DT.06.Cuviers.8.cvs\n",
      "-rw-r--r--   3 ec2-user supergroup   28410969 2017-01-17 20:31 /CVS/DT.06.Cuviers.9.cvs\n",
      "-rw-r--r--   3 ec2-user supergroup   27714624 2017-01-17 20:31 /CVS/DT.06.Gervais.1.cvs\n",
      "-rw-r--r--   3 ec2-user supergroup   30683579 2017-01-17 20:31 /CVS/DT.06.Gervais.10.cvs\n",
      "-rw-r--r--   3 ec2-user supergroup   35516650 2017-01-17 20:31 /CVS/DT.06.Gervais.11.cvs\n",
      "-rw-r--r--   3 ec2-user supergroup   25856983 2017-01-17 20:31 /CVS/DT.06.Gervais.12.cvs\n",
      "-rw-r--r--   3 ec2-user supergroup   26537566 2017-01-17 20:31 /CVS/DT.06.Gervais.13.cvs\n",
      "-rw-r--r--   3 ec2-user supergroup   28262389 2017-01-17 20:31 /CVS/DT.06.Gervais.14.cvs\n",
      "-rw-r--r--   3 ec2-user supergroup   27709594 2017-01-17 20:31 /CVS/DT.06.Gervais.15.cvs\n",
      "-rw-r--r--   3 ec2-user supergroup   25876492 2017-01-17 20:31 /CVS/DT.06.Gervais.16.cvs\n",
      "-rw-r--r--   3 ec2-user supergroup   28520735 2017-01-17 20:31 /CVS/DT.06.Gervais.17.cvs\n",
      "-rw-r--r--   3 ec2-user supergroup   30079507 2017-01-17 20:31 /CVS/DT.06.Gervais.18.cvs\n",
      "-rw-r--r--   3 ec2-user supergroup   38883310 2017-01-17 20:31 /CVS/DT.06.Gervais.19.cvs\n",
      "-rw-r--r--   3 ec2-user supergroup   28928606 2017-01-17 20:31 /CVS/DT.06.Gervais.2.cvs\n",
      "-rw-r--r--   3 ec2-user supergroup   28149325 2017-01-17 20:31 /CVS/DT.06.Gervais.20.cvs\n",
      "-rw-r--r--   3 ec2-user supergroup   25921304 2017-01-17 20:31 /CVS/DT.06.Gervais.21.cvs\n",
      "-rw-r--r--   3 ec2-user supergroup   27027995 2017-01-17 20:31 /CVS/DT.06.Gervais.22.cvs\n",
      "-rw-r--r--   3 ec2-user supergroup   36188348 2017-01-17 20:31 /CVS/DT.06.Gervais.23.cvs\n",
      "-rw-r--r--   3 ec2-user supergroup   25923788 2017-01-17 20:31 /CVS/DT.06.Gervais.24.cvs\n",
      "-rw-r--r--   3 ec2-user supergroup   26286233 2017-01-17 20:31 /CVS/DT.06.Gervais.25.cvs\n",
      "-rw-r--r--   3 ec2-user supergroup   25931978 2017-01-17 20:31 /CVS/DT.06.Gervais.26.cvs\n",
      "-rw-r--r--   3 ec2-user supergroup   27528198 2017-01-17 20:31 /CVS/DT.06.Gervais.27.cvs\n",
      "-rw-r--r--   3 ec2-user supergroup   33354828 2017-01-17 20:31 /CVS/DT.06.Gervais.28.cvs\n",
      "-rw-r--r--   3 ec2-user supergroup   27615223 2017-01-17 20:31 /CVS/DT.06.Gervais.29.cvs\n",
      "-rw-r--r--   3 ec2-user supergroup   30974182 2017-01-17 20:31 /CVS/DT.06.Gervais.3.cvs\n",
      "-rw-r--r--   3 ec2-user supergroup   28309959 2017-01-17 20:31 /CVS/DT.06.Gervais.30.cvs\n",
      "-rw-r--r--   3 ec2-user supergroup   27481588 2017-01-17 20:31 /CVS/DT.06.Gervais.31.cvs\n",
      "-rw-r--r--   3 ec2-user supergroup   28670064 2017-01-17 20:31 /CVS/DT.06.Gervais.32.cvs\n",
      "-rw-r--r--   3 ec2-user supergroup   33754834 2017-01-17 20:32 /CVS/DT.06.Gervais.33.cvs\n",
      "-rw-r--r--   3 ec2-user supergroup   33328346 2017-01-17 20:32 /CVS/DT.06.Gervais.34.cvs\n",
      "-rw-r--r--   3 ec2-user supergroup   19108827 2017-01-17 20:32 /CVS/DT.06.Gervais.35.cvs\n",
      "-rw-r--r--   3 ec2-user supergroup   26656564 2017-01-17 20:32 /CVS/DT.06.Gervais.4.cvs\n",
      "-rw-r--r--   3 ec2-user supergroup   26588279 2017-01-17 20:32 /CVS/DT.06.Gervais.5.cvs\n",
      "-rw-r--r--   3 ec2-user supergroup   31500221 2017-01-17 20:32 /CVS/DT.06.Gervais.6.cvs\n",
      "-rw-r--r--   3 ec2-user supergroup   28340822 2017-01-17 20:32 /CVS/DT.06.Gervais.7.cvs\n",
      "-rw-r--r--   3 ec2-user supergroup   25864517 2017-01-17 20:32 /CVS/DT.06.Gervais.8.cvs\n",
      "-rw-r--r--   3 ec2-user supergroup   26375155 2017-01-17 20:32 /CVS/DT.06.Gervais.9.cvs\n",
      "-rw-r--r--   3 ec2-user supergroup    1326199 2017-01-17 20:32 /CVS/GC.01.Cuviers.1.cvs\n",
      "-rw-r--r--   3 ec2-user supergroup   28054299 2017-01-17 20:32 /CVS/GC.01.Gervais.1.cvs\n",
      "-rw-r--r--   3 ec2-user supergroup   26081084 2017-01-17 20:32 /CVS/GC.01.Gervais.2.cvs\n",
      "-rw-r--r--   3 ec2-user supergroup   14415763 2017-01-17 20:32 /CVS/GC.01.Gervais.3.cvs\n",
      "-rw-r--r--   3 ec2-user supergroup   17597297 2017-01-17 20:32 /CVS/GC.02.Cuviers.1.cvs\n",
      "-rw-r--r--   3 ec2-user supergroup   33506378 2017-01-17 20:32 /CVS/GC.02.Gervais.1.cvs\n",
      "-rw-r--r--   3 ec2-user supergroup   34114363 2017-01-17 20:32 /CVS/GC.02.Gervais.2.cvs\n",
      "-rw-r--r--   3 ec2-user supergroup   23362707 2017-01-17 20:32 /CVS/GC.02.Gervais.3.cvs\n",
      "-rw-r--r--   3 ec2-user supergroup   24530130 2017-01-17 20:32 /CVS/GC.03.Cuviers.1.cvs\n",
      "-rw-r--r--   3 ec2-user supergroup   27265823 2017-01-17 20:32 /CVS/GC.03.Gervais.1.cvs\n",
      "-rw-r--r--   3 ec2-user supergroup   41703435 2017-01-17 20:32 /CVS/GC.03.Gervais.2.cvs\n",
      "-rw-r--r--   3 ec2-user supergroup   26700600 2017-01-17 20:32 /CVS/GC.03.Gervais.3.cvs\n",
      "-rw-r--r--   3 ec2-user supergroup   27145955 2017-01-17 20:32 /CVS/GC.03.Gervais.4.cvs\n",
      "-rw-r--r--   3 ec2-user supergroup   32928547 2017-01-17 20:32 /CVS/GC.03.Gervais.5.cvs\n",
      "-rw-r--r--   3 ec2-user supergroup   26431494 2017-01-17 20:32 /CVS/GC.03.Gervais.6.cvs\n",
      "-rw-r--r--   3 ec2-user supergroup    9581900 2017-01-17 20:32 /CVS/GC.03.Gervais.7.cvs\n",
      "-rw-r--r--   3 ec2-user supergroup   26184531 2017-01-17 20:32 /CVS/GC.04.Cuviers.1.cvs\n",
      "-rw-r--r--   3 ec2-user supergroup   13422662 2017-01-17 20:32 /CVS/GC.04.Cuviers.2.cvs\n",
      "-rw-r--r--   3 ec2-user supergroup   25995647 2017-01-17 20:32 /CVS/GC.04.Gervais.1.cvs\n",
      "-rw-r--r--   3 ec2-user supergroup   28033127 2017-01-17 20:32 /CVS/GC.04.Gervais.2.cvs\n",
      "-rw-r--r--   3 ec2-user supergroup   26449641 2017-01-17 20:32 /CVS/GC.04.Gervais.3.cvs\n",
      "-rw-r--r--   3 ec2-user supergroup   25931458 2017-01-17 20:32 /CVS/GC.04.Gervais.4.cvs\n",
      "-rw-r--r--   3 ec2-user supergroup   15007223 2017-01-17 20:32 /CVS/GC.04.Gervais.5.cvs\n",
      "-rw-r--r--   3 ec2-user supergroup   28353822 2017-01-17 20:32 /CVS/GC.05.Cuviers.1.cvs\n",
      "-rw-r--r--   3 ec2-user supergroup   27870099 2017-01-17 20:32 /CVS/GC.05.Cuviers.2.cvs\n",
      "-rw-r--r--   3 ec2-user supergroup    7000947 2017-01-17 20:32 /CVS/GC.05.Cuviers.3.cvs\n",
      "-rw-r--r--   3 ec2-user supergroup   30142874 2017-01-17 20:32 /CVS/GC.05.Gervais.1.cvs\n",
      "-rw-r--r--   3 ec2-user supergroup   26556183 2017-01-17 20:32 /CVS/GC.05.Gervais.10.cvs\n",
      "-rw-r--r--   3 ec2-user supergroup   26020654 2017-01-17 20:32 /CVS/GC.05.Gervais.11.cvs\n",
      "-rw-r--r--   3 ec2-user supergroup   26624212 2017-01-17 20:32 /CVS/GC.05.Gervais.12.cvs\n",
      "-rw-r--r--   3 ec2-user supergroup   28853278 2017-01-17 20:32 /CVS/GC.05.Gervais.13.cvs\n",
      "-rw-r--r--   3 ec2-user supergroup    4375119 2017-01-17 20:32 /CVS/GC.05.Gervais.14.cvs\n",
      "-rw-r--r--   3 ec2-user supergroup   30239282 2017-01-17 20:32 /CVS/GC.05.Gervais.2.cvs\n",
      "-rw-r--r--   3 ec2-user supergroup   32029997 2017-01-17 20:32 /CVS/GC.05.Gervais.3.cvs\n",
      "-rw-r--r--   3 ec2-user supergroup   28439713 2017-01-17 20:32 /CVS/GC.05.Gervais.4.cvs\n",
      "-rw-r--r--   3 ec2-user supergroup   31086244 2017-01-17 20:32 /CVS/GC.05.Gervais.5.cvs\n",
      "-rw-r--r--   3 ec2-user supergroup   29512817 2017-01-17 20:32 /CVS/GC.05.Gervais.6.cvs\n",
      "-rw-r--r--   3 ec2-user supergroup   28653309 2017-01-17 20:32 /CVS/GC.05.Gervais.7.cvs\n",
      "-rw-r--r--   3 ec2-user supergroup   29875577 2017-01-17 20:32 /CVS/GC.05.Gervais.8.cvs\n",
      "-rw-r--r--   3 ec2-user supergroup   33491672 2017-01-17 20:32 /CVS/GC.05.Gervais.9.cvs\n",
      "-rw-r--r--   3 ec2-user supergroup   26872309 2017-01-17 20:32 /CVS/GC.06.Cuviers.1.cvs\n",
      "-rw-r--r--   3 ec2-user supergroup    3586362 2017-01-17 20:32 /CVS/GC.06.Cuviers.2.cvs\n",
      "-rw-r--r--   3 ec2-user supergroup   30370709 2017-01-17 20:32 /CVS/GC.06.Gervais.1.cvs\n",
      "-rw-r--r--   3 ec2-user supergroup   25999633 2017-01-17 20:32 /CVS/GC.06.Gervais.10.cvs\n",
      "-rw-r--r--   3 ec2-user supergroup   31800404 2017-01-17 20:32 /CVS/GC.06.Gervais.11.cvs\n",
      "-rw-r--r--   3 ec2-user supergroup   26415054 2017-01-17 20:32 /CVS/GC.06.Gervais.12.cvs\n",
      "-rw-r--r--   3 ec2-user supergroup   30347885 2017-01-17 20:32 /CVS/GC.06.Gervais.13.cvs\n",
      "-rw-r--r--   3 ec2-user supergroup   16156173 2017-01-17 20:32 /CVS/GC.06.Gervais.14.cvs\n",
      "-rw-r--r--   3 ec2-user supergroup   27133528 2017-01-17 20:32 /CVS/GC.06.Gervais.2.cvs\n",
      "-rw-r--r--   3 ec2-user supergroup   33995289 2017-01-17 20:32 /CVS/GC.06.Gervais.3.cvs\n",
      "-rw-r--r--   3 ec2-user supergroup   30254522 2017-01-17 20:32 /CVS/GC.06.Gervais.4.cvs\n",
      "-rw-r--r--   3 ec2-user supergroup   30045749 2017-01-17 20:32 /CVS/GC.06.Gervais.5.cvs\n",
      "-rw-r--r--   3 ec2-user supergroup   27081434 2017-01-17 20:32 /CVS/GC.06.Gervais.6.cvs\n",
      "-rw-r--r--   3 ec2-user supergroup   31863285 2017-01-17 20:32 /CVS/GC.06.Gervais.7.cvs\n",
      "-rw-r--r--   3 ec2-user supergroup   26744890 2017-01-17 20:32 /CVS/GC.06.Gervais.8.cvs\n",
      "-rw-r--r--   3 ec2-user supergroup   26285886 2017-01-17 20:32 /CVS/GC.06.Gervais.9.cvs\n",
      "-rw-r--r--   3 ec2-user supergroup    6097543 2017-01-17 20:32 /CVS/MC.01.Cuviers.1.cvs\n",
      "-rw-r--r--   3 ec2-user supergroup   40308471 2017-01-17 20:32 /CVS/MC.01.Gervais.1.cvs\n",
      "-rw-r--r--   3 ec2-user supergroup   26946964 2017-01-17 20:32 /CVS/MC.01.Gervais.2.cvs\n",
      "-rw-r--r--   3 ec2-user supergroup   27008647 2017-01-17 20:32 /CVS/MC.01.Gervais.3.cvs\n",
      "-rw-r--r--   3 ec2-user supergroup   11296423 2017-01-17 20:32 /CVS/MC.01.Gervais.4.cvs\n",
      "-rw-r--r--   3 ec2-user supergroup   62500663 2017-01-17 20:32 /CVS/MC.02.Cuviers.1.cvs\n",
      "-rw-r--r--   3 ec2-user supergroup   26085176 2017-01-17 20:32 /CVS/MC.02.Cuviers.2.cvs\n",
      "-rw-r--r--   3 ec2-user supergroup    9730884 2017-01-17 20:32 /CVS/MC.02.Cuviers.3.cvs\n",
      "-rw-r--r--   3 ec2-user supergroup   29528421 2017-01-17 20:32 /CVS/MC.02.Gervais.1.cvs\n",
      "-rw-r--r--   3 ec2-user supergroup   29886968 2017-01-17 20:32 /CVS/MC.02.Gervais.2.cvs\n",
      "-rw-r--r--   3 ec2-user supergroup   30056827 2017-01-17 20:32 /CVS/MC.02.Gervais.3.cvs\n",
      "-rw-r--r--   3 ec2-user supergroup   27855519 2017-01-17 20:32 /CVS/MC.03.Cuviers.1.cvs\n",
      "-rw-r--r--   3 ec2-user supergroup   30803368 2017-01-17 20:32 /CVS/MC.03.Cuviers.2.cvs\n",
      "-rw-r--r--   3 ec2-user supergroup   26872757 2017-01-17 20:32 /CVS/MC.03.Cuviers.3.cvs\n",
      "-rw-r--r--   3 ec2-user supergroup   31684964 2017-01-17 20:32 /CVS/MC.03.Cuviers.4.cvs\n",
      "-rw-r--r--   3 ec2-user supergroup    2546357 2017-01-17 20:32 /CVS/MC.03.Cuviers.5.cvs\n",
      "-rw-r--r--   3 ec2-user supergroup   27651291 2017-01-17 20:32 /CVS/MC.03.Gervais.1.cvs\n",
      "-rw-r--r--   3 ec2-user supergroup   26678050 2017-01-17 20:32 /CVS/MC.03.Gervais.2.cvs\n",
      "-rw-r--r--   3 ec2-user supergroup   15155742 2017-01-17 20:32 /CVS/MC.03.Gervais.3.cvs\n",
      "-rw-r--r--   3 ec2-user supergroup    6372331 2017-01-17 20:32 /CVS/MC.04.Cuviers.1.cvs\n",
      "-rw-r--r--   3 ec2-user supergroup   26466953 2017-01-17 20:32 /CVS/MC.04.Gervais.1.cvs\n",
      "-rw-r--r--   3 ec2-user supergroup   27669021 2017-01-17 20:32 /CVS/MC.04.Gervais.2.cvs\n",
      "-rw-r--r--   3 ec2-user supergroup   26549016 2017-01-17 20:32 /CVS/MC.04.Gervais.3.cvs\n",
      "-rw-r--r--   3 ec2-user supergroup   27800975 2017-01-17 20:32 /CVS/MC.04.Gervais.4.cvs\n",
      "-rw-r--r--   3 ec2-user supergroup   27196684 2017-01-17 20:32 /CVS/MC.04.Gervais.5.cvs\n",
      "-rw-r--r--   3 ec2-user supergroup   28988325 2017-01-17 20:32 /CVS/MC.04.Gervais.6.cvs\n",
      "-rw-r--r--   3 ec2-user supergroup     986299 2017-01-17 20:32 /CVS/MC.04.Gervais.7.cvs\n",
      "-rw-r--r--   3 ec2-user supergroup   26579492 2017-01-17 20:32 /CVS/MC.05.Cuviers.1.cvs\n",
      "-rw-r--r--   3 ec2-user supergroup   30568054 2017-01-17 20:32 /CVS/MC.05.Cuviers.2.cvs\n",
      "-rw-r--r--   3 ec2-user supergroup     327350 2017-01-17 20:32 /CVS/MC.05.Cuviers.3.cvs\n",
      "-rw-r--r--   3 ec2-user supergroup   33879999 2017-01-17 20:32 /CVS/MC.05.Gervais.1.cvs\n",
      "-rw-r--r--   3 ec2-user supergroup   40506092 2017-01-17 20:32 /CVS/MC.05.Gervais.2.cvs\n",
      "-rw-r--r--   3 ec2-user supergroup   26154673 2017-01-17 20:32 /CVS/MC.05.Gervais.3.cvs\n",
      "-rw-r--r--   3 ec2-user supergroup   26051822 2017-01-17 20:32 /CVS/MC.05.Gervais.4.cvs\n",
      "-rw-r--r--   3 ec2-user supergroup   34271543 2017-01-17 20:32 /CVS/MC.05.Gervais.5.cvs\n",
      "-rw-r--r--   3 ec2-user supergroup   28912842 2017-01-17 20:32 /CVS/MC.05.Gervais.6.cvs\n",
      "-rw-r--r--   3 ec2-user supergroup   29926358 2017-01-17 20:32 /CVS/MC.05.Gervais.7.cvs\n",
      "-rw-r--r--   3 ec2-user supergroup   17671175 2017-01-17 20:32 /CVS/MC.05.Gervais.8.cvs\n",
      "-rw-r--r--   3 ec2-user supergroup   26957655 2017-01-17 20:32 /CVS/MC.06.Cuviers.1.cvs\n",
      "-rw-r--r--   3 ec2-user supergroup   18648816 2017-01-17 20:32 /CVS/MC.06.Cuviers.2.cvs\n",
      "-rw-r--r--   3 ec2-user supergroup   53169842 2017-01-17 20:32 /CVS/MC.06.Gervais.1.cvs\n",
      "-rw-r--r--   3 ec2-user supergroup   27514357 2017-01-17 20:32 /CVS/MC.06.Gervais.10.cvs\n",
      "-rw-r--r--   3 ec2-user supergroup   28006693 2017-01-17 20:32 /CVS/MC.06.Gervais.11.cvs\n",
      "-rw-r--r--   3 ec2-user supergroup   32276965 2017-01-17 20:32 /CVS/MC.06.Gervais.12.cvs\n",
      "-rw-r--r--   3 ec2-user supergroup   29201867 2017-01-17 20:32 /CVS/MC.06.Gervais.13.cvs\n",
      "-rw-r--r--   3 ec2-user supergroup   34175201 2017-01-17 20:32 /CVS/MC.06.Gervais.14.cvs\n",
      "-rw-r--r--   3 ec2-user supergroup   29012821 2017-01-17 20:32 /CVS/MC.06.Gervais.15.cvs\n",
      "-rw-r--r--   3 ec2-user supergroup   25906198 2017-01-17 20:32 /CVS/MC.06.Gervais.16.cvs\n",
      "-rw-r--r--   3 ec2-user supergroup   31703782 2017-01-17 20:32 /CVS/MC.06.Gervais.17.cvs\n",
      "-rw-r--r--   3 ec2-user supergroup   36335125 2017-01-17 20:32 /CVS/MC.06.Gervais.18.cvs\n",
      "-rw-r--r--   3 ec2-user supergroup   26148563 2017-01-17 20:32 /CVS/MC.06.Gervais.19.cvs\n",
      "-rw-r--r--   3 ec2-user supergroup   31149533 2017-01-17 20:32 /CVS/MC.06.Gervais.2.cvs\n",
      "-rw-r--r--   3 ec2-user supergroup   10671076 2017-01-17 20:32 /CVS/MC.06.Gervais.20.cvs\n",
      "-rw-r--r--   3 ec2-user supergroup   26810236 2017-01-17 20:32 /CVS/MC.06.Gervais.3.cvs\n",
      "-rw-r--r--   3 ec2-user supergroup   26150158 2017-01-17 20:32 /CVS/MC.06.Gervais.4.cvs\n",
      "-rw-r--r--   3 ec2-user supergroup   26154438 2017-01-17 20:32 /CVS/MC.06.Gervais.5.cvs\n",
      "-rw-r--r--   3 ec2-user supergroup   51267412 2017-01-17 20:32 /CVS/MC.06.Gervais.6.cvs\n",
      "-rw-r--r--   3 ec2-user supergroup   31268584 2017-01-17 20:33 /CVS/MC.06.Gervais.7.cvs\n",
      "-rw-r--r--   3 ec2-user supergroup   30115450 2017-01-17 20:33 /CVS/MC.06.Gervais.8.cvs\n",
      "-rw-r--r--   3 ec2-user supergroup   39665119 2017-01-17 20:33 /CVS/MC.06.Gervais.9.cvs\n",
      "-rw-r--r--   3 ec2-user supergroup   28066003 2017-01-17 20:33 /CVS/MC.07.Cuviers.1.cvs\n",
      "-rw-r--r--   3 ec2-user supergroup   27814533 2017-01-17 20:33 /CVS/MC.07.Cuviers.2.cvs\n",
      "-rw-r--r--   3 ec2-user supergroup   26729349 2017-01-17 20:33 /CVS/MC.07.Cuviers.3.cvs\n",
      "-rw-r--r--   3 ec2-user supergroup   26965676 2017-01-17 20:33 /CVS/MC.07.Cuviers.4.cvs\n",
      "-rw-r--r--   3 ec2-user supergroup   26507326 2017-01-17 20:33 /CVS/MC.07.Cuviers.5.cvs\n",
      "-rw-r--r--   3 ec2-user supergroup   13779657 2017-01-17 20:33 /CVS/MC.07.Cuviers.6.cvs\n",
      "-rw-r--r--   3 ec2-user supergroup   28186567 2017-01-17 20:33 /CVS/MC.07.Gervais.1.cvs\n",
      "-rw-r--r--   3 ec2-user supergroup   28130097 2017-01-17 20:33 /CVS/MC.07.Gervais.10.cvs\n",
      "-rw-r--r--   3 ec2-user supergroup   26664350 2017-01-17 20:33 /CVS/MC.07.Gervais.11.cvs\n",
      "-rw-r--r--   3 ec2-user supergroup   27080001 2017-01-17 20:33 /CVS/MC.07.Gervais.12.cvs\n",
      "-rw-r--r--   3 ec2-user supergroup   29673929 2017-01-17 20:33 /CVS/MC.07.Gervais.13.cvs\n",
      "-rw-r--r--   3 ec2-user supergroup    1727330 2017-01-17 20:33 /CVS/MC.07.Gervais.14.cvs\n",
      "-rw-r--r--   3 ec2-user supergroup   34370067 2017-01-17 20:33 /CVS/MC.07.Gervais.2.cvs\n",
      "-rw-r--r--   3 ec2-user supergroup   30887090 2017-01-17 20:33 /CVS/MC.07.Gervais.3.cvs\n",
      "-rw-r--r--   3 ec2-user supergroup   31622137 2017-01-17 20:33 /CVS/MC.07.Gervais.4.cvs\n",
      "-rw-r--r--   3 ec2-user supergroup   26390653 2017-01-17 20:33 /CVS/MC.07.Gervais.5.cvs\n",
      "-rw-r--r--   3 ec2-user supergroup   33743134 2017-01-17 20:33 /CVS/MC.07.Gervais.6.cvs\n",
      "-rw-r--r--   3 ec2-user supergroup   32502013 2017-01-17 20:33 /CVS/MC.07.Gervais.7.cvs\n",
      "-rw-r--r--   3 ec2-user supergroup   40701411 2017-01-17 20:33 /CVS/MC.07.Gervais.8.cvs\n",
      "-rw-r--r--   3 ec2-user supergroup   29286321 2017-01-17 20:33 /CVS/MC.07.Gervais.9.cvs\n",
      "\n"
     ]
    }
   ],
   "source": [
    "s3helper.ls_hdfs('CVS')"
   ]
  },
  {
   "cell_type": "code",
   "execution_count": null,
   "metadata": {
    "collapsed": false
   },
   "outputs": [],
   "source": [
    "t1=time()\n",
    "s3helper.s3_to_hdfs('CVS', 'CVS')\n",
    "time()-t1\n"
   ]
  },
  {
   "cell_type": "code",
   "execution_count": 11,
   "metadata": {
    "collapsed": false
   },
   "outputs": [],
   "source": [
    "# %load lib/row_parser.py\n",
    "from pyspark.sql import Row, SQLContext,DataFrame\n",
    "from pyspark.sql.types import *\n",
    "import datetime as dt\n",
    "\n",
    "def packArray(a):\n",
    "    if type(a)!=np.ndarray:\n",
    "        raise Exception(\"input to packArray should be numpy.ndarray. It is instead \"+str(type(a)))\n",
    "    return bytearray(a.tobytes())\n",
    "def unpackArray(x,data_type=np.int16):\n",
    "    return np.frombuffer(x,dtype=data_type)\n",
    "\n",
    "def init_parser_parameters():\n",
    "    def parse_date(s):\n",
    "        return dt.datetime.strptime(s,'%Y-%m-%d %H:%M:%S.%f')\n",
    "    def parse_array(a):\n",
    "        np_array=np.array([np.float64(x) for x in a])\n",
    "        return packArray(np_array)\n",
    "    def parse_int(s):\n",
    "        return int(s)\n",
    "    def parse_float(s):\n",
    "        return float(s)\n",
    "    def parse_string(s):\n",
    "        return(s)\n",
    "\n",
    "    Fields=[('time', 'datetime'),\n",
    "        ('species', 'str'),\n",
    "        ('site', 'str'),\n",
    "        ('rec_no', 'str'),\n",
    "        ('bout_i', 'int'),\n",
    "        ('peak2peak', 'float'),\n",
    "        ('MSN', 'array',202),\n",
    "        ('MSP', 'array',101),\n",
    "        ('TPWS1', 'bool'),\n",
    "        ('MD1', 'bool'),\n",
    "        ('FD1', 'bool'),\n",
    "        ('TPWS2', 'bool'),\n",
    "        ('MD2', 'bool'),\n",
    "        ('FD2', 'bool'),\n",
    "        ('TPWS3', 'bool'),\n",
    "        ('MD3', 'bool'),\n",
    "        ('FD3', 'bool')]\n",
    "\n",
    "    #global Parse_rules, RowObject\n",
    "    #prepare date structure for parsing\n",
    "    Parse_rules=[]\n",
    "    index=0\n",
    "    for field in Fields:\n",
    "        _type=field[1]\n",
    "        #print _type\n",
    "        _len=1 # default length in terms of csv fields\n",
    "        if _type =='array': \n",
    "            parser=parse_array\n",
    "            _len=int(field[2])\n",
    "        elif _type=='datetime': \n",
    "            parser=parse_date\n",
    "        elif _type=='int': \n",
    "            parser=parse_int\n",
    "        elif _type=='float': \n",
    "            parser=parse_float\n",
    "        elif _type=='bool': \n",
    "            parser=parse_int\n",
    "        elif _type=='str': \n",
    "            parser=parse_string\n",
    "        else:\n",
    "            print 'unrecognized type',_type\n",
    "        rule={'name':field[0],\n",
    "              'start':index,\n",
    "              'end':index+_len,\n",
    "              'parser':parser}\n",
    "        print field,rule\n",
    "        Parse_rules.append(rule)\n",
    "        index+=_len\n",
    "\n",
    "    field_names=[a['name'] for a in Parse_rules]\n",
    "    RowObject= Row(*field_names)\n",
    "    return Parse_rules,field_names,RowObject\n"
   ]
  },
  {
   "cell_type": "markdown",
   "metadata": {
    "collapsed": false
   },
   "source": [
    "### Read data into dataframe"
   ]
  },
  {
   "cell_type": "code",
   "execution_count": 12,
   "metadata": {
    "collapsed": false
   },
   "outputs": [
    {
     "name": "stdout",
     "output_type": "stream",
     "text": [
      "('time', 'datetime') {'start': 0, 'parser': <function parse_date at 0x7f1ebade5848>, 'end': 1, 'name': 'time'}\n",
      "('species', 'str') {'start': 1, 'parser': <function parse_string at 0x7f1ebade50c8>, 'end': 2, 'name': 'species'}\n",
      "('site', 'str') {'start': 2, 'parser': <function parse_string at 0x7f1ebade50c8>, 'end': 3, 'name': 'site'}\n",
      "('rec_no', 'str') {'start': 3, 'parser': <function parse_string at 0x7f1ebade50c8>, 'end': 4, 'name': 'rec_no'}\n",
      "('bout_i', 'int') {'start': 4, 'parser': <function parse_int at 0x7f1ebade58c0>, 'end': 5, 'name': 'bout_i'}\n",
      "('peak2peak', 'float') {'start': 5, 'parser': <function parse_float at 0x7f1ebade51b8>, 'end': 6, 'name': 'peak2peak'}\n",
      "('MSN', 'array', 202) {'start': 6, 'parser': <function parse_array at 0x7f1ebade5758>, 'end': 208, 'name': 'MSN'}\n",
      "('MSP', 'array', 101) {'start': 208, 'parser': <function parse_array at 0x7f1ebade5758>, 'end': 309, 'name': 'MSP'}\n",
      "('TPWS1', 'bool') {'start': 309, 'parser': <function parse_int at 0x7f1ebade58c0>, 'end': 310, 'name': 'TPWS1'}\n",
      "('MD1', 'bool') {'start': 310, 'parser': <function parse_int at 0x7f1ebade58c0>, 'end': 311, 'name': 'MD1'}\n",
      "('FD1', 'bool') {'start': 311, 'parser': <function parse_int at 0x7f1ebade58c0>, 'end': 312, 'name': 'FD1'}\n",
      "('TPWS2', 'bool') {'start': 312, 'parser': <function parse_int at 0x7f1ebade58c0>, 'end': 313, 'name': 'TPWS2'}\n",
      "('MD2', 'bool') {'start': 313, 'parser': <function parse_int at 0x7f1ebade58c0>, 'end': 314, 'name': 'MD2'}\n",
      "('FD2', 'bool') {'start': 314, 'parser': <function parse_int at 0x7f1ebade58c0>, 'end': 315, 'name': 'FD2'}\n",
      "('TPWS3', 'bool') {'start': 315, 'parser': <function parse_int at 0x7f1ebade58c0>, 'end': 316, 'name': 'TPWS3'}\n",
      "('MD3', 'bool') {'start': 316, 'parser': <function parse_int at 0x7f1ebade58c0>, 'end': 317, 'name': 'MD3'}\n",
      "('FD3', 'bool') {'start': 317, 'parser': <function parse_int at 0x7f1ebade58c0>, 'end': 318, 'name': 'FD3'}\n"
     ]
    }
   ],
   "source": [
    "import sys\n",
    "sys.path.append('lib')\n",
    "from row_parser import *\n",
    "\n",
    "Parse_rules,field_names,RowObject = init_parser_parameters()\n"
   ]
  },
  {
   "cell_type": "code",
   "execution_count": 13,
   "metadata": {
    "collapsed": true
   },
   "outputs": [],
   "source": [
    "def parse(row):\n",
    "    #Parse_rules,field_names,RowObject = parser_data.value\n",
    "    items=row.split(',')\n",
    "    D=[]\n",
    "    for pr in Parse_rules:\n",
    "        start=pr['start']\n",
    "        end=pr['end']\n",
    "        parser=pr['parser']\n",
    "        if end-start==1:\n",
    "            D.append(parser(items[start]))\n",
    "        else:\n",
    "            D.append(parser(items[start:end]))\n",
    "    return RowObject(*D)"
   ]
  },
  {
   "cell_type": "code",
   "execution_count": 14,
   "metadata": {
    "collapsed": false
   },
   "outputs": [
    {
     "name": "stdout",
     "output_type": "stream",
     "text": [
      "15.1562740803\n"
     ]
    }
   ],
   "source": [
    "from pyspark.sql import DataFrame\n",
    "t1=time()\n",
    "CVS_Data=sc.textFile(\"/CVS/\")\n",
    "CVS_Data.cache().count()\n",
    "print time()-t1"
   ]
  },
  {
   "cell_type": "code",
   "execution_count": 88,
   "metadata": {
    "collapsed": false,
    "scrolled": true
   },
   "outputs": [
    {
     "name": "stdout",
     "output_type": "stream",
     "text": [
      "a row:\n",
      "2010-08-09 07:01:15.000002,Cuviers,DT,01,0,45.9858,0.0000,0.0000,0.0000,0.0000,0.0000,0.0000,0.0000,0.0000,0.0000,0.0000,0.0000,0.0000,0.0000,0.0000,0.0000,0.0000,0.0000,0.0000,0.0000,0.0000,0.0000,0.0000,0.0000,0.0000,0.0000,0.0000,0.0000,0.0000,0.0000,0.0000,0.0000,0.0000,0.0000,0.0000,0.0000,0.0000,0.0000,0.0000,0.0000,0.0000,0.0000,0.0000,0.0000,0.0000,0.0000,0.0000,0.0000,0.0000,0.0000,0.0000,0.0000,0.0000,0.0000,0.0000,0.0000,0.0000,0.0000,0.0000,0.0000,0.0000,0.0000,0.0000,0.0000,0.0000,0.0000,0.0000,0.0000,0.0000,0.0000,0.0000,0.0000,0.0000,0.0000,0.0000,0.0000,0.0000,0.0000,0.0000,0.0000,0.0000,0.0000,0.0000,0.0000,0.0000,0.0000,0.0000,0.0000,0.0000,0.0000,0.0000,0.0000,0.0000,0.0000,0.0000,0.0000,0.0000,0.0000,0.0000,0.0000,0.0000,0.0000,123.1518,75.2794,-33.2284,-23.9326,-76.0488,-52.1295,-66.5504,-37.8580,-30.1298,2.2544,20.0773,19.0220,39.8708,36.0729,39.3590,28.7682,39.1766,18.8269,16.5995,-2.7279,-4.6016,-17.2059,-16.9708,-16.5006,-13.6036,-21.0872,-22.0780,-22.2508,-18.2976,-9.0913,-2.0112,7.5746,13.1378,24.1131,12.1962,17.9776,9.4793,8.8812,4.1018,17.1092,10.4360,3.6324,4.8961,1.4236,-6.6083,-10.9176,0.1229,-15.3517,-3.7683,-0.9111,5.4279,-8.5201,5.0741,-0.2132,-13.6014,8.7208,1.7601,20.0928,2.1951,11.4091,2.7065,0.2956,0.5107,-3.0019,4.8259,-0.4049,-3.2785,-3.1422,1.3298,-0.4801,7.5559,2.3911,5.7374,-8.0482,-0.0434,0.0378,10.4176,3.6086,-2.6427,-7.6031,-12.7951,8.7463,0.5914,-0.0388,6.7526,7.6352,4.2096,4.4034,-2.7787,-1.7566,6.6177,-18.3412,3.1898,14.0889,1.1156,-5.9159,-1.2386,5.6845,-7.2699,11.7000,-2.9539,-34.2238,-33.9033,-45.0310,-47.8457,-47.1611,-46.5836,-31.0557,-22.6870,-17.3832,-14.3108,-12.9905,-13.0394,-13.8941,-14.6441,-15.2878,-16.2532,-16.6215,-16.6206,-16.9976,-17.4435,-18.0617,-19.3168,-21.2616,-20.6810,-18.8653,-18.7143,-19.9128,-21.6954,-22.4543,-23.0892,-24.4656,-23.4138,-22.9504,-24.1552,-23.5533,-22.9531,-23.2596,-23.7252,-24.8302,-24.7406,-24.3184,-24.4116,-24.0277,-24.2984,-24.8872,-24.9365,-24.9002,-24.7977,-25.4393,-25.1422,-24.5324,-25.2250,-25.9022,-26.1996,-27.4110,-29.3391,-27.5361,-26.2795,-27.7208,-29.2339,-26.7324,-24.4358,-24.4630,-26.7423,-27.4951,-25.8256,-25.3701,-26.1414,-26.9244,-26.5900,-27.3737,-28.5090,-28.7962,-28.4409,-28.0141,-28.8132,-28.4144,-27.5241,-27.7150,-28.2131,-27.2487,-26.7068,-28.5241,-28.7847,-26.4997,-26.9417,-28.3392,-26.6263,-25.5226,-26.7814,-30.4323,-28.2765,-25.4706,-26.4270,-30.3568,-34.5929,-37.8343,-44.4147,-60.3294,-71.2182,-81.8603,1,0,1,0,0,0,0,0,0\n"
     ]
    },
    {
     "data": {
      "text/plain": [
       "Row(time=datetime.datetime(2010, 8, 9, 7, 1, 15, 2), species=u'Cuviers', site=u'DT', rec_no=u'01', bout_i=0, peak2peak=45.9858, MSN=bytearray(b'\\x00\\x00\\x00\\x00\\x00\\x00\\x00\\x00\\x00\\x00\\x00\\x00\\x00\\x00\\x00\\x00\\x00\\x00\\x00\\x00\\x00\\x00\\x00\\x00\\x00\\x00\\x00\\x00\\x00\\x00\\x00\\x00\\x00\\x00\\x00\\x00\\x00\\x00\\x00\\x00\\x00\\x00\\x00\\x00\\x00\\x00\\x00\\x00\\x00\\x00\\x00\\x00\\x00\\x00\\x00\\x00\\x00\\x00\\x00\\x00\\x00\\x00\\x00\\x00\\x00\\x00\\x00\\x00\\x00\\x00\\x00\\x00\\x00\\x00\\x00\\x00\\x00\\x00\\x00\\x00\\x00\\x00\\x00\\x00\\x00\\x00\\x00\\x00\\x00\\x00\\x00\\x00\\x00\\x00\\x00\\x00\\x00\\x00\\x00\\x00\\x00\\x00\\x00\\x00\\x00\\x00\\x00\\x00\\x00\\x00\\x00\\x00\\x00\\x00\\x00\\x00\\x00\\x00\\x00\\x00\\x00\\x00\\x00\\x00\\x00\\x00\\x00\\x00\\x00\\x00\\x00\\x00\\x00\\x00\\x00\\x00\\x00\\x00\\x00\\x00\\x00\\x00\\x00\\x00\\x00\\x00\\x00\\x00\\x00\\x00\\x00\\x00\\x00\\x00\\x00\\x00\\x00\\x00\\x00\\x00\\x00\\x00\\x00\\x00\\x00\\x00\\x00\\x00\\x00\\x00\\x00\\x00\\x00\\x00\\x00\\x00\\x00\\x00\\x00\\x00\\x00\\x00\\x00\\x00\\x00\\x00\\x00\\x00\\x00\\x00\\x00\\x00\\x00\\x00\\x00\\x00\\x00\\x00\\x00\\x00\\x00\\x00\\x00\\x00\\x00\\x00\\x00\\x00\\x00\\x00\\x00\\x00\\x00\\x00\\x00\\x00\\x00\\x00\\x00\\x00\\x00\\x00\\x00\\x00\\x00\\x00\\x00\\x00\\x00\\x00\\x00\\x00\\x00\\x00\\x00\\x00\\x00\\x00\\x00\\x00\\x00\\x00\\x00\\x00\\x00\\x00\\x00\\x00\\x00\\x00\\x00\\x00\\x00\\x00\\x00\\x00\\x00\\x00\\x00\\x00\\x00\\x00\\x00\\x00\\x00\\x00\\x00\\x00\\x00\\x00\\x00\\x00\\x00\\x00\\x00\\x00\\x00\\x00\\x00\\x00\\x00\\x00\\x00\\x00\\x00\\x00\\x00\\x00\\x00\\x00\\x00\\x00\\x00\\x00\\x00\\x00\\x00\\x00\\x00\\x00\\x00\\x00\\x00\\x00\\x00\\x00\\x00\\x00\\x00\\x00\\x00\\x00\\x00\\x00\\x00\\x00\\x00\\x00\\x00\\x00\\x00\\x00\\x00\\x00\\x00\\x00\\x00\\x00\\x00\\x00\\x00\\x00\\x00\\x00\\x00\\x00\\x00\\x00\\x00\\x00\\x00\\x00\\x00\\x00\\x00\\x00\\x00\\x00\\x00\\x00\\x00\\x00\\x00\\x00\\x00\\x00\\x00\\x00\\x00\\x00\\x00\\x00\\x00\\x00\\x00\\x00\\x00\\x00\\x00\\x00\\x00\\x00\\x00\\x00\\x00\\x00\\x00\\x00\\x00\\x00\\x00\\x00\\x00\\x00\\x00\\x00\\x00\\x00\\x00\\x00\\x00\\x00\\x00\\x00\\x00\\x00\\x00\\x00\\x00\\x00\\x00\\x00\\x00\\x00\\x00\\x00\\x00\\x00\\x00\\x00\\x00\\x00\\x00\\x00\\x00\\x00\\x00\\x00\\x00\\x00\\x00\\x00\\x00\\x00\\x00\\x00\\x00\\x00\\x00\\x00\\x00\\x00\\x00\\x00\\x00\\x00\\x00\\x00\\x00\\x00\\x00\\x00\\x00\\x00\\x00\\x00\\x00\\x00\\x00\\x00\\x00\\x00\\x00\\x00\\x00\\x00\\x00\\x00\\x00\\x00\\x00\\x00\\x00\\x00\\x00\\x00\\x00\\x00\\x00\\x00\\x00\\x00\\x00\\x00\\x00\\x00\\x00\\x00\\x00\\x00\\x00\\x00\\x00\\x00\\x00\\x00\\x00\\x00\\x00\\x00\\x00\\x00\\x00\\x00\\x00\\x00\\x00\\x00\\x00\\x00\\x00\\x00\\x00\\x00\\x00\\x00\\x00\\x00\\x00\\x00\\x00\\x00\\x00\\x00\\x00\\x00\\x00\\x00\\x00\\x00\\x00\\x00\\x00\\x00\\x00\\x00\\x00\\x00\\x00\\x00\\x00\\x00\\x00\\x00\\x00\\x00\\x00\\x00\\x00\\x00\\x00\\x00\\x00\\x00\\x00\\x00\\x00\\x00\\x00\\x00\\x00\\x00\\x00\\x00\\x00\\x00\\x00\\x00\\x00\\x00\\x00\\x00\\x00\\x00\\x00\\x00\\x00\\x00\\x00\\x00\\x00\\x00\\x00\\x00\\x00\\x00\\x00\\x00\\x00\\x00\\x00\\x00\\x00\\x00\\x00\\x00\\x00\\x00\\x00\\x00\\x00\\x00\\x00\\x00\\x00\\x00\\x00\\x00\\x00\\x00\\x00\\x00\\x00\\x00\\x00\\x00\\x00\\x00\\x00\\x00\\x00\\x00\\x00\\x00\\x00\\x00\\x00\\x00\\x00\\x00\\x00\\x00\\x00\\x00\\x00\\x00\\x00\\x00\\x00\\x00\\x00\\x00\\x00\\x00\\x00\\x00\\x00\\x00\\x00\\x00\\x00\\x00\\x00\\x00\\x00\\x00\\x00\\x00\\x00\\x00\\x00\\x00\\x00\\x00\\x00\\x00\\x00\\x00\\x00\\x00\\x00\\x00\\x00\\x00\\x00\\x00\\x00\\x00\\x00\\x00\\x00\\x00\\x00\\x00\\x00\\x00\\x00\\x00\\x00\\x00\\x00\\x00\\x00\\x00\\x00\\x00\\x00\\x00\\x00\\x00\\x00\\x00\\x00\\x00\\x00\\x00\\x00\\x00\\x00\\x00\\x00\\x00\\x00\\x00\\x00\\x00\\x00\\x00\\x00\\x00\\x00\\x00\\x00\\x00\\x00\\x00\\x00\\x00\\x00\\x00\\x00\\x00\\x00\\x00\\x00\\x00\\x00\\x00\\x00\\x00\\x00\\x00\\x00\\x00\\x00\\x00\\x00\\x00\\x00\\x00\\x00\\x00\\x00\\x00\\x00\\x00\\x00\\x00\\x00\\x00\\x00\\x00\\x00\\x00\\x00\\x00\\x00\\x00\\x00\\x00\\x00\\x00\\x00\\x00\\x00\\x00\\x00\\x00\\x00\\x00\\x00\\x00\\x00\\x00\\x00\\x00\\x00\\x00\\x00\\x00\\x00\\x00\\x00\\x00\\x00\\x00\\x00\\x00\\x00\\x00\\x00\\x00\\x00\\x00\\x00\\x00\\x00\\x00\\x00\\x00\\x00\\x00\\x00\\x00\\x00\\x00\\x00\\x00\\x19\\xe2X\\x17\\xb7\\xc9^@\\'\\xa0\\x89\\xb0\\xe1\\xd1R@\\x054\\x116<\\x9d@\\xc0\\xe6?\\xa4\\xdf\\xbe\\xee7\\xc0\\xde\\x02\\t\\x8a\\x1f\\x03S\\xc0\\x7fj\\xbct\\x93\\x10J\\xc0\\xfa\\xed\\xeb\\xc09\\xa3P\\xc0\\xe7\\xfb\\xa9\\xf1\\xd2\\xedB\\xc0S\\x05\\xa3\\x92:!>\\xc0\\xb7\\xd1\\x00\\xde\\x02\\t\\x02@\\x16\\xfb\\xcb\\xee\\xc9\\x134@\\x12\\x83\\xc0\\xca\\xa1\\x053@\\xac\\xad\\xd8_v\\xefC@o\\xf0\\x85\\xc9T\\tB@\\xcb\\xa1E\\xb6\\xf3\\xadC@\\x86\\xc9T\\xc1\\xa8\\xc4<@\\x9f<,\\xd4\\x9a\\x96C@\\xf9\\x0f\\xe9\\xb7\\xaf\\xd32@\\xb6\\xf3\\xfd\\xd4x\\x990@4\\x116<\\xbd\\xd2\\x05\\xc0+\\x18\\x95\\xd4\\th\\x12\\xc0\\x14?\\xc6\\xdc\\xb541\\xc0\\xf1\\xf4JY\\x86\\xf80\\xc0\\xaa`TR\\'\\x800\\xc00\\xbb\\'\\x0f\\x0b5+\\xc0\\x116<\\xbdR\\x165\\xc0\\x87\\x16\\xd9\\xce\\xf7\\x136\\xc09\\xd6\\xc5m4@6\\xc0#J{\\x83/L2\\xc0\\xe6?\\xa4\\xdf\\xbe.\"\\xc0\\xbb\\xb8\\x8d\\x06\\xf0\\x16\\x00\\xc0\\\\ A\\xf1cL\\x1e@\\x11\\xc7\\xba\\xb8\\x8dF*@w-!\\x1f\\xf4\\x1c8@M\\xf3\\x8eStd(@\\xd1\\x91\\\\\\xfeC\\xfa1@\\x13\\xf2A\\xcff\\xf5\"@lxz\\xa5,\\xc3!@c\\xeeZB>h\\x10@$\\xb9\\xfc\\x87\\xf4\\x1b1@\\xac\\x1cZd;\\xdf$@W\\xec/\\xbb\\'\\x0f\\r@K\\xc8\\x07=\\x9b\\x95\\x13@\\x9e^)\\xcb\\x10\\xc7\\xf6?\\x90\\xa0\\xf81\\xe6n\\x1a\\xc0\\x84\\x9e\\xcd\\xaa\\xcf\\xd5%\\xc0\\x9f\\xab\\xad\\xd8_v\\xbf?\\xa3\\x01\\xbc\\x05\\x12\\xb4.\\xc0h\"lxz%\\x0e\\xc0\\xd6V\\xec/\\xbb\\'\\xed\\xbfg\\xd5\\xe7j+\\xb6\\x15@\\x98L\\x15\\x8cJ\\n!\\xc0\\xce\\x88\\xd2\\xde\\xe0K\\x14@\\xee\\xeb\\xc09#J\\xcb\\xbf\\xf9\\xa0g\\xb3\\xea3+\\xc0\\xe2\\xe9\\x95\\xb2\\x0cq!@\\x9a\\x08\\x1b\\x9e^)\\xfc?\\x9d\\x11\\xa5\\xbd\\xc1\\x174@\\xc8\\x98\\xbb\\x96\\x90\\x8f\\x01@S\\x96!\\x8eu\\xd1&@\\xf4\\xfd\\xd4x\\xe9\\xa6\\x05@z\\xa5,C\\x1c\\xeb\\xd2?\\x81&\\xc2\\x86\\xa7W\\xe0?2\\xe6\\xae%\\xe4\\x03\\x08\\xc0\\xcb\\x10\\xc7\\xba\\xb8M\\x13@\\'\\xa0\\x89\\xb0\\xe1\\xe9\\xd9\\xbf\\xee|?5^:\\n\\xc0\\xfa\\xed\\xeb\\xc09#\\t\\xc0f\\x88c]\\xdcF\\xf5?}\\xd0\\xb3Y\\xf5\\xb9\\xde\\xbf\\xb7b\\x7f\\xd9=9\\x1e@\\x8c\\xb9k\\t\\xf9 \\x03@\\x17HP\\xfc\\x18\\xf3\\x16@\\x9bU\\x9f\\xab\\xad\\x18 \\xc0\\xf1\\xf4JY\\x868\\xa6\\xbf\\x98\\xdd\\x93\\x87\\x85Z\\xa3?\\x84\\x9e\\xcd\\xaa\\xcf\\xd5$@\\xca\\xc3B\\xadi\\xde\\x0c@\\x15\\x1d\\xc9\\xe5?$\\x05\\xc0\\xd3\\xde\\xe0\\x0b\\x93i\\x1e\\xc0e\\x19\\xe2X\\x17\\x97)\\xc0u\\x02\\x9a\\x08\\x1b~!@?W[\\xb1\\xbf\\xec\\xe2?\\xe8j+\\xf6\\x97\\xdd\\xa3\\xbf\\xdf\\xe0\\x0b\\x93\\xa9\\x02\\x1b@C\\xadi\\xdeq\\x8a\\x1e@f\\xf7\\xe4a\\xa1\\xd6\\x10@[\\xd3\\xbc\\xe3\\x14\\x9d\\x11@_)\\xcb\\x10\\xc7:\\x06\\xc0%u\\x02\\x9a\\x08\\x1b\\xfc\\xbf\\xf1\\xf4JY\\x86x\\x1a@,e\\x19\\xe2XW2\\xc0\\x14?\\xc6\\xdc\\xb5\\x84\\t@\\x93:\\x01M\\x84-,@}\\xae\\xb6b\\x7f\\xd9\\xf1?\\'\\xa0\\x89\\xb0\\xe1\\xa9\\x17\\xc0\\xa85\\xcd;N\\xd1\\xf3\\xbf\\xb0rh\\x91\\xed\\xbc\\x16@\\xf8\\xc2d\\xaa`\\x14\\x1d\\xc0ffffff\\'@6<\\xbdR\\x96\\xa1\\x07\\xc0'), MSP=bytearray(b'\"lxz\\xa5\\x1cA\\xc0\\x08=\\x9bU\\x9f\\xf3@\\xc0\\x87\\x16\\xd9\\xce\\xf7\\x83F\\xc0\\x15\\x1d\\xc9\\xe5?\\xecG\\xc0[\\xb1\\xbf\\xec\\x9e\\x94G\\xc0\\t\\xf9\\xa0g\\xb3JG\\xc0 c\\xeeZB\\x0e?\\xc0\\x1dZd;\\xdf\\xaf6\\xc0\\xc3\\xd3+e\\x19b1\\xc0\\x901w-!\\x9f,\\xc0B`\\xe5\\xd0\"\\xfb)\\xc0\\xc0\\xec\\x9e<,\\x14*\\xc0\\x0b\\xb5\\xa6y\\xc7\\xc9+\\xc0\\x0b\\xb5\\xa6y\\xc7I-\\xc0\\xde\\x93\\x87\\x85Z\\x93.\\xc0\\xe2X\\x17\\xb7\\xd1@0\\xc0\\xc9v\\xbe\\x9f\\x1a\\x9f0\\xc0\\xc9\\xe5?\\xa4\\xdf\\x9e0\\xc0V}\\xae\\xb6b\\xff0\\xc0\\xa8\\xc6K7\\x89q1\\xc0\\xc7):\\x92\\xcb\\x0f2\\xc0p_\\x07\\xce\\x19Q3\\xc04\\xa2\\xb47\\xf8B5\\xc0u\\x93\\x18\\x04V\\xae4\\xc0\\x93:\\x01M\\x84\\xdd2\\xc0f\\x88c]\\xdc\\xb62\\xc0\\xef\\xc9\\xc3B\\xad\\xe93\\xc0n\\xa3\\x01\\xbc\\x05\\xb25\\xc0\\xa3\\x92:\\x01Mt6\\xc0\\x9f\\xcd\\xaa\\xcf\\xd5\\x167\\xc0\\x81\\x04\\xc5\\x8f1w8\\xc0\\xb5\\x15\\xfb\\xcb\\xeei7\\xc0O\\x1e\\x16jM\\xf36\\xc0\\xd6V\\xec/\\xbb\\'8\\xc0v\\xe0\\x9c\\x11\\xa5\\x8d7\\xc0N\\xd1\\x91\\\\\\xfe\\xf36\\xc0\\xa6\\nF%uB7\\xc0(\\x0f\\x0b\\xb5\\xa6\\xb97\\xc0\\xa3#\\xb9\\xfc\\x87\\xd48\\xc0\\xe8j+\\xf6\\x97\\xbd8\\xc0\\xe1\\x0b\\x93\\xa9\\x82Q8\\xc0\\x9a\\x08\\x1b\\x9e^i8\\xc0e\\x19\\xe2X\\x17\\x078\\xc0\\\\ A\\xf1cL8\\xc0\\xde\\x02\\t\\x8a\\x1f\\xe38\\xc09\\xb4\\xc8v\\xbe\\xef8\\xc0\\xf5\\xdb\\xd7\\x81s\\xe68\\xc0\\xea\\x044\\x116\\xcc8\\xc0\\xff!\\xfd\\xf6up9\\xc0\\xbf}\\x1d8g$9\\xc0\\xf1c\\xcc]K\\x888\\xc0\\x9a\\x99\\x99\\x99\\x9999\\xc0\\x82sF\\x94\\xf6\\xe69\\xc0\\x17HP\\xfc\\x183:\\xc0\\xf0\\xa7\\xc6K7i;\\xc0\\xd7\\x12\\xf2A\\xcfV=\\xc0\\xb7b\\x7f\\xd9=\\x89;\\xc0d;\\xdfO\\x8dG:\\xc0\\xf1\\xf4JY\\x86\\xb8;\\xc0\\xce\\x88\\xd2\\xde\\xe0;=\\xc0$\\x97\\xff\\x90~\\xbb:\\xc0\\xc8\\x98\\xbb\\x96\\x90o8\\xc0J\\x0c\\x02+\\x87v8\\xc0 \\xd2o_\\x07\\xbe:\\xc0\\xe6?\\xa4\\xdf\\xbe~;\\xc0\\xde\\x93\\x87\\x85Z\\xd39\\xc0\\xe6?\\xa4\\xdf\\xbe^9\\xc0\\x87\\xa7W\\xca2$:\\xc0\"lxz\\xa5\\xec:\\xc0\\xd7\\xa3p=\\n\\x97:\\xc0\\xe4\\x83\\x9e\\xcd\\xaa_;\\xc0\\xfc\\xa9\\xf1\\xd2M\\x82<\\xc0@\\x13a\\xc3\\xd3\\xcb<\\xc0p\\xce\\x88\\xd2\\xdep<\\xc0\\xa4\\xdf\\xbe\\x0e\\x9c\\x03<\\xc0q\\x1b\\r\\xe0-\\xd0<\\xc0`vO\\x1e\\x16j<\\xc0g\\xd5\\xe7j+\\x86;\\xc0\\xd7\\xa3p=\\n\\xb7;\\xc0\\x11\\xc7\\xba\\xb8\\x8d6<\\xc0\\xe4\\x83\\x9e\\xcd\\xaa?;\\xc0\\x14\\xd0D\\xd8\\xf0\\xb4:\\xc0g\\xd5\\xe7j+\\x86<\\xc0\\xd4+e\\x19\\xe2\\xc8<\\xc0\\xab\\xcf\\xd5V\\xec\\x7f:\\xc0\\xa9\\xa4N@\\x13\\xf1:\\xc0\\x9f\\xcd\\xaa\\xcf\\xd5V<\\xc0\\x1c|a2U\\xa0:\\xc0\\xbd\\xe3\\x14\\x1d\\xc9\\x859\\xc0+\\x18\\x95\\xd4\\t\\xc8:\\xc0\\x91\\x0fz6\\xabn>\\xc0\\x10X9\\xb4\\xc8F<\\xc0c\\x7f\\xd9=yx9\\xc0Zd;\\xdfOm:\\xc0z6\\xab>W[>\\xc02\\xe6\\xae%\\xe4KA\\xc0\\xc2\\x86\\xa7W\\xca\\xeaB\\xc0[\\xd3\\xbc\\xe3\\x145F\\xc0\\xb5\\xa6y\\xc7)*N\\xc0.\\xff!\\xfd\\xf6\\xcdQ\\xc0\\xec/\\xbb\\'\\x0fwT\\xc0'), TPWS1=1, MD1=0, FD1=1, TPWS2=0, MD2=0, FD2=0, TPWS3=0, MD3=0, FD3=0)"
      ]
     },
     "execution_count": 88,
     "metadata": {},
     "output_type": "execute_result"
    }
   ],
   "source": [
    "row=CVS_Data.first()\n",
    "\n",
    "print 'a row:\\n',row\n",
    "\n",
    "parse(row)"
   ]
  },
  {
   "cell_type": "code",
   "execution_count": 17,
   "metadata": {
    "collapsed": true
   },
   "outputs": [],
   "source": [
    "RDD=CVS_Data.map(parse)"
   ]
  },
  {
   "cell_type": "code",
   "execution_count": 18,
   "metadata": {
    "collapsed": true
   },
   "outputs": [
    {
     "data": {
      "text/plain": [
       "[Row(time=datetime.datetime(2010, 8, 9, 7, 1, 15, 2), species=u'Cuviers', site=u'DT', rec_no=u'01', bout_i=0, peak2peak=45.9858, MSN=bytearray(b'\\x00\\x00\\x00\\x00\\x00\\x00\\x00\\x00\\x00\\x00\\x00\\x00\\x00\\x00\\x00\\x00\\x00\\x00\\x00\\x00\\x00\\x00\\x00\\x00\\x00\\x00\\x00\\x00\\x00\\x00\\x00\\x00\\x00\\x00\\x00\\x00\\x00\\x00\\x00\\x00\\x00\\x00\\x00\\x00\\x00\\x00\\x00\\x00\\x00\\x00\\x00\\x00\\x00\\x00\\x00\\x00\\x00\\x00\\x00\\x00\\x00\\x00\\x00\\x00\\x00\\x00\\x00\\x00\\x00\\x00\\x00\\x00\\x00\\x00\\x00\\x00\\x00\\x00\\x00\\x00\\x00\\x00\\x00\\x00\\x00\\x00\\x00\\x00\\x00\\x00\\x00\\x00\\x00\\x00\\x00\\x00\\x00\\x00\\x00\\x00\\x00\\x00\\x00\\x00\\x00\\x00\\x00\\x00\\x00\\x00\\x00\\x00\\x00\\x00\\x00\\x00\\x00\\x00\\x00\\x00\\x00\\x00\\x00\\x00\\x00\\x00\\x00\\x00\\x00\\x00\\x00\\x00\\x00\\x00\\x00\\x00\\x00\\x00\\x00\\x00\\x00\\x00\\x00\\x00\\x00\\x00\\x00\\x00\\x00\\x00\\x00\\x00\\x00\\x00\\x00\\x00\\x00\\x00\\x00\\x00\\x00\\x00\\x00\\x00\\x00\\x00\\x00\\x00\\x00\\x00\\x00\\x00\\x00\\x00\\x00\\x00\\x00\\x00\\x00\\x00\\x00\\x00\\x00\\x00\\x00\\x00\\x00\\x00\\x00\\x00\\x00\\x00\\x00\\x00\\x00\\x00\\x00\\x00\\x00\\x00\\x00\\x00\\x00\\x00\\x00\\x00\\x00\\x00\\x00\\x00\\x00\\x00\\x00\\x00\\x00\\x00\\x00\\x00\\x00\\x00\\x00\\x00\\x00\\x00\\x00\\x00\\x00\\x00\\x00\\x00\\x00\\x00\\x00\\x00\\x00\\x00\\x00\\x00\\x00\\x00\\x00\\x00\\x00\\x00\\x00\\x00\\x00\\x00\\x00\\x00\\x00\\x00\\x00\\x00\\x00\\x00\\x00\\x00\\x00\\x00\\x00\\x00\\x00\\x00\\x00\\x00\\x00\\x00\\x00\\x00\\x00\\x00\\x00\\x00\\x00\\x00\\x00\\x00\\x00\\x00\\x00\\x00\\x00\\x00\\x00\\x00\\x00\\x00\\x00\\x00\\x00\\x00\\x00\\x00\\x00\\x00\\x00\\x00\\x00\\x00\\x00\\x00\\x00\\x00\\x00\\x00\\x00\\x00\\x00\\x00\\x00\\x00\\x00\\x00\\x00\\x00\\x00\\x00\\x00\\x00\\x00\\x00\\x00\\x00\\x00\\x00\\x00\\x00\\x00\\x00\\x00\\x00\\x00\\x00\\x00\\x00\\x00\\x00\\x00\\x00\\x00\\x00\\x00\\x00\\x00\\x00\\x00\\x00\\x00\\x00\\x00\\x00\\x00\\x00\\x00\\x00\\x00\\x00\\x00\\x00\\x00\\x00\\x00\\x00\\x00\\x00\\x00\\x00\\x00\\x00\\x00\\x00\\x00\\x00\\x00\\x00\\x00\\x00\\x00\\x00\\x00\\x00\\x00\\x00\\x00\\x00\\x00\\x00\\x00\\x00\\x00\\x00\\x00\\x00\\x00\\x00\\x00\\x00\\x00\\x00\\x00\\x00\\x00\\x00\\x00\\x00\\x00\\x00\\x00\\x00\\x00\\x00\\x00\\x00\\x00\\x00\\x00\\x00\\x00\\x00\\x00\\x00\\x00\\x00\\x00\\x00\\x00\\x00\\x00\\x00\\x00\\x00\\x00\\x00\\x00\\x00\\x00\\x00\\x00\\x00\\x00\\x00\\x00\\x00\\x00\\x00\\x00\\x00\\x00\\x00\\x00\\x00\\x00\\x00\\x00\\x00\\x00\\x00\\x00\\x00\\x00\\x00\\x00\\x00\\x00\\x00\\x00\\x00\\x00\\x00\\x00\\x00\\x00\\x00\\x00\\x00\\x00\\x00\\x00\\x00\\x00\\x00\\x00\\x00\\x00\\x00\\x00\\x00\\x00\\x00\\x00\\x00\\x00\\x00\\x00\\x00\\x00\\x00\\x00\\x00\\x00\\x00\\x00\\x00\\x00\\x00\\x00\\x00\\x00\\x00\\x00\\x00\\x00\\x00\\x00\\x00\\x00\\x00\\x00\\x00\\x00\\x00\\x00\\x00\\x00\\x00\\x00\\x00\\x00\\x00\\x00\\x00\\x00\\x00\\x00\\x00\\x00\\x00\\x00\\x00\\x00\\x00\\x00\\x00\\x00\\x00\\x00\\x00\\x00\\x00\\x00\\x00\\x00\\x00\\x00\\x00\\x00\\x00\\x00\\x00\\x00\\x00\\x00\\x00\\x00\\x00\\x00\\x00\\x00\\x00\\x00\\x00\\x00\\x00\\x00\\x00\\x00\\x00\\x00\\x00\\x00\\x00\\x00\\x00\\x00\\x00\\x00\\x00\\x00\\x00\\x00\\x00\\x00\\x00\\x00\\x00\\x00\\x00\\x00\\x00\\x00\\x00\\x00\\x00\\x00\\x00\\x00\\x00\\x00\\x00\\x00\\x00\\x00\\x00\\x00\\x00\\x00\\x00\\x00\\x00\\x00\\x00\\x00\\x00\\x00\\x00\\x00\\x00\\x00\\x00\\x00\\x00\\x00\\x00\\x00\\x00\\x00\\x00\\x00\\x00\\x00\\x00\\x00\\x00\\x00\\x00\\x00\\x00\\x00\\x00\\x00\\x00\\x00\\x00\\x00\\x00\\x00\\x00\\x00\\x00\\x00\\x00\\x00\\x00\\x00\\x00\\x00\\x00\\x00\\x00\\x00\\x00\\x00\\x00\\x00\\x00\\x00\\x00\\x00\\x00\\x00\\x00\\x00\\x00\\x00\\x00\\x00\\x00\\x00\\x00\\x00\\x00\\x00\\x00\\x00\\x00\\x00\\x00\\x00\\x00\\x00\\x00\\x00\\x00\\x00\\x00\\x00\\x00\\x00\\x00\\x00\\x00\\x00\\x00\\x00\\x00\\x00\\x00\\x00\\x00\\x00\\x00\\x00\\x00\\x00\\x00\\x00\\x00\\x00\\x00\\x00\\x00\\x00\\x00\\x00\\x00\\x00\\x00\\x00\\x00\\x00\\x00\\x00\\x00\\x00\\x00\\x00\\x00\\x00\\x00\\x00\\x00\\x00\\x00\\x00\\x00\\x00\\x00\\x00\\x00\\x00\\x00\\x00\\x00\\x00\\x00\\x00\\x00\\x00\\x00\\x00\\x00\\x00\\x00\\x00\\x00\\x00\\x00\\x00\\x00\\x00\\x00\\x00\\x00\\x00\\x00\\x00\\x00\\x00\\x00\\x00\\x00\\x00\\x00\\x00\\x00\\x00\\x00\\x00\\x00\\x00\\x00\\x00\\x00\\x00\\x00\\x00\\x00\\x19\\xe2X\\x17\\xb7\\xc9^@\\'\\xa0\\x89\\xb0\\xe1\\xd1R@\\x054\\x116<\\x9d@\\xc0\\xe6?\\xa4\\xdf\\xbe\\xee7\\xc0\\xde\\x02\\t\\x8a\\x1f\\x03S\\xc0\\x7fj\\xbct\\x93\\x10J\\xc0\\xfa\\xed\\xeb\\xc09\\xa3P\\xc0\\xe7\\xfb\\xa9\\xf1\\xd2\\xedB\\xc0S\\x05\\xa3\\x92:!>\\xc0\\xb7\\xd1\\x00\\xde\\x02\\t\\x02@\\x16\\xfb\\xcb\\xee\\xc9\\x134@\\x12\\x83\\xc0\\xca\\xa1\\x053@\\xac\\xad\\xd8_v\\xefC@o\\xf0\\x85\\xc9T\\tB@\\xcb\\xa1E\\xb6\\xf3\\xadC@\\x86\\xc9T\\xc1\\xa8\\xc4<@\\x9f<,\\xd4\\x9a\\x96C@\\xf9\\x0f\\xe9\\xb7\\xaf\\xd32@\\xb6\\xf3\\xfd\\xd4x\\x990@4\\x116<\\xbd\\xd2\\x05\\xc0+\\x18\\x95\\xd4\\th\\x12\\xc0\\x14?\\xc6\\xdc\\xb541\\xc0\\xf1\\xf4JY\\x86\\xf80\\xc0\\xaa`TR\\'\\x800\\xc00\\xbb\\'\\x0f\\x0b5+\\xc0\\x116<\\xbdR\\x165\\xc0\\x87\\x16\\xd9\\xce\\xf7\\x136\\xc09\\xd6\\xc5m4@6\\xc0#J{\\x83/L2\\xc0\\xe6?\\xa4\\xdf\\xbe.\"\\xc0\\xbb\\xb8\\x8d\\x06\\xf0\\x16\\x00\\xc0\\\\ A\\xf1cL\\x1e@\\x11\\xc7\\xba\\xb8\\x8dF*@w-!\\x1f\\xf4\\x1c8@M\\xf3\\x8eStd(@\\xd1\\x91\\\\\\xfeC\\xfa1@\\x13\\xf2A\\xcff\\xf5\"@lxz\\xa5,\\xc3!@c\\xeeZB>h\\x10@$\\xb9\\xfc\\x87\\xf4\\x1b1@\\xac\\x1cZd;\\xdf$@W\\xec/\\xbb\\'\\x0f\\r@K\\xc8\\x07=\\x9b\\x95\\x13@\\x9e^)\\xcb\\x10\\xc7\\xf6?\\x90\\xa0\\xf81\\xe6n\\x1a\\xc0\\x84\\x9e\\xcd\\xaa\\xcf\\xd5%\\xc0\\x9f\\xab\\xad\\xd8_v\\xbf?\\xa3\\x01\\xbc\\x05\\x12\\xb4.\\xc0h\"lxz%\\x0e\\xc0\\xd6V\\xec/\\xbb\\'\\xed\\xbfg\\xd5\\xe7j+\\xb6\\x15@\\x98L\\x15\\x8cJ\\n!\\xc0\\xce\\x88\\xd2\\xde\\xe0K\\x14@\\xee\\xeb\\xc09#J\\xcb\\xbf\\xf9\\xa0g\\xb3\\xea3+\\xc0\\xe2\\xe9\\x95\\xb2\\x0cq!@\\x9a\\x08\\x1b\\x9e^)\\xfc?\\x9d\\x11\\xa5\\xbd\\xc1\\x174@\\xc8\\x98\\xbb\\x96\\x90\\x8f\\x01@S\\x96!\\x8eu\\xd1&@\\xf4\\xfd\\xd4x\\xe9\\xa6\\x05@z\\xa5,C\\x1c\\xeb\\xd2?\\x81&\\xc2\\x86\\xa7W\\xe0?2\\xe6\\xae%\\xe4\\x03\\x08\\xc0\\xcb\\x10\\xc7\\xba\\xb8M\\x13@\\'\\xa0\\x89\\xb0\\xe1\\xe9\\xd9\\xbf\\xee|?5^:\\n\\xc0\\xfa\\xed\\xeb\\xc09#\\t\\xc0f\\x88c]\\xdcF\\xf5?}\\xd0\\xb3Y\\xf5\\xb9\\xde\\xbf\\xb7b\\x7f\\xd9=9\\x1e@\\x8c\\xb9k\\t\\xf9 \\x03@\\x17HP\\xfc\\x18\\xf3\\x16@\\x9bU\\x9f\\xab\\xad\\x18 \\xc0\\xf1\\xf4JY\\x868\\xa6\\xbf\\x98\\xdd\\x93\\x87\\x85Z\\xa3?\\x84\\x9e\\xcd\\xaa\\xcf\\xd5$@\\xca\\xc3B\\xadi\\xde\\x0c@\\x15\\x1d\\xc9\\xe5?$\\x05\\xc0\\xd3\\xde\\xe0\\x0b\\x93i\\x1e\\xc0e\\x19\\xe2X\\x17\\x97)\\xc0u\\x02\\x9a\\x08\\x1b~!@?W[\\xb1\\xbf\\xec\\xe2?\\xe8j+\\xf6\\x97\\xdd\\xa3\\xbf\\xdf\\xe0\\x0b\\x93\\xa9\\x02\\x1b@C\\xadi\\xdeq\\x8a\\x1e@f\\xf7\\xe4a\\xa1\\xd6\\x10@[\\xd3\\xbc\\xe3\\x14\\x9d\\x11@_)\\xcb\\x10\\xc7:\\x06\\xc0%u\\x02\\x9a\\x08\\x1b\\xfc\\xbf\\xf1\\xf4JY\\x86x\\x1a@,e\\x19\\xe2XW2\\xc0\\x14?\\xc6\\xdc\\xb5\\x84\\t@\\x93:\\x01M\\x84-,@}\\xae\\xb6b\\x7f\\xd9\\xf1?\\'\\xa0\\x89\\xb0\\xe1\\xa9\\x17\\xc0\\xa85\\xcd;N\\xd1\\xf3\\xbf\\xb0rh\\x91\\xed\\xbc\\x16@\\xf8\\xc2d\\xaa`\\x14\\x1d\\xc0ffffff\\'@6<\\xbdR\\x96\\xa1\\x07\\xc0'), MSP=bytearray(b'\"lxz\\xa5\\x1cA\\xc0\\x08=\\x9bU\\x9f\\xf3@\\xc0\\x87\\x16\\xd9\\xce\\xf7\\x83F\\xc0\\x15\\x1d\\xc9\\xe5?\\xecG\\xc0[\\xb1\\xbf\\xec\\x9e\\x94G\\xc0\\t\\xf9\\xa0g\\xb3JG\\xc0 c\\xeeZB\\x0e?\\xc0\\x1dZd;\\xdf\\xaf6\\xc0\\xc3\\xd3+e\\x19b1\\xc0\\x901w-!\\x9f,\\xc0B`\\xe5\\xd0\"\\xfb)\\xc0\\xc0\\xec\\x9e<,\\x14*\\xc0\\x0b\\xb5\\xa6y\\xc7\\xc9+\\xc0\\x0b\\xb5\\xa6y\\xc7I-\\xc0\\xde\\x93\\x87\\x85Z\\x93.\\xc0\\xe2X\\x17\\xb7\\xd1@0\\xc0\\xc9v\\xbe\\x9f\\x1a\\x9f0\\xc0\\xc9\\xe5?\\xa4\\xdf\\x9e0\\xc0V}\\xae\\xb6b\\xff0\\xc0\\xa8\\xc6K7\\x89q1\\xc0\\xc7):\\x92\\xcb\\x0f2\\xc0p_\\x07\\xce\\x19Q3\\xc04\\xa2\\xb47\\xf8B5\\xc0u\\x93\\x18\\x04V\\xae4\\xc0\\x93:\\x01M\\x84\\xdd2\\xc0f\\x88c]\\xdc\\xb62\\xc0\\xef\\xc9\\xc3B\\xad\\xe93\\xc0n\\xa3\\x01\\xbc\\x05\\xb25\\xc0\\xa3\\x92:\\x01Mt6\\xc0\\x9f\\xcd\\xaa\\xcf\\xd5\\x167\\xc0\\x81\\x04\\xc5\\x8f1w8\\xc0\\xb5\\x15\\xfb\\xcb\\xeei7\\xc0O\\x1e\\x16jM\\xf36\\xc0\\xd6V\\xec/\\xbb\\'8\\xc0v\\xe0\\x9c\\x11\\xa5\\x8d7\\xc0N\\xd1\\x91\\\\\\xfe\\xf36\\xc0\\xa6\\nF%uB7\\xc0(\\x0f\\x0b\\xb5\\xa6\\xb97\\xc0\\xa3#\\xb9\\xfc\\x87\\xd48\\xc0\\xe8j+\\xf6\\x97\\xbd8\\xc0\\xe1\\x0b\\x93\\xa9\\x82Q8\\xc0\\x9a\\x08\\x1b\\x9e^i8\\xc0e\\x19\\xe2X\\x17\\x078\\xc0\\\\ A\\xf1cL8\\xc0\\xde\\x02\\t\\x8a\\x1f\\xe38\\xc09\\xb4\\xc8v\\xbe\\xef8\\xc0\\xf5\\xdb\\xd7\\x81s\\xe68\\xc0\\xea\\x044\\x116\\xcc8\\xc0\\xff!\\xfd\\xf6up9\\xc0\\xbf}\\x1d8g$9\\xc0\\xf1c\\xcc]K\\x888\\xc0\\x9a\\x99\\x99\\x99\\x9999\\xc0\\x82sF\\x94\\xf6\\xe69\\xc0\\x17HP\\xfc\\x183:\\xc0\\xf0\\xa7\\xc6K7i;\\xc0\\xd7\\x12\\xf2A\\xcfV=\\xc0\\xb7b\\x7f\\xd9=\\x89;\\xc0d;\\xdfO\\x8dG:\\xc0\\xf1\\xf4JY\\x86\\xb8;\\xc0\\xce\\x88\\xd2\\xde\\xe0;=\\xc0$\\x97\\xff\\x90~\\xbb:\\xc0\\xc8\\x98\\xbb\\x96\\x90o8\\xc0J\\x0c\\x02+\\x87v8\\xc0 \\xd2o_\\x07\\xbe:\\xc0\\xe6?\\xa4\\xdf\\xbe~;\\xc0\\xde\\x93\\x87\\x85Z\\xd39\\xc0\\xe6?\\xa4\\xdf\\xbe^9\\xc0\\x87\\xa7W\\xca2$:\\xc0\"lxz\\xa5\\xec:\\xc0\\xd7\\xa3p=\\n\\x97:\\xc0\\xe4\\x83\\x9e\\xcd\\xaa_;\\xc0\\xfc\\xa9\\xf1\\xd2M\\x82<\\xc0@\\x13a\\xc3\\xd3\\xcb<\\xc0p\\xce\\x88\\xd2\\xdep<\\xc0\\xa4\\xdf\\xbe\\x0e\\x9c\\x03<\\xc0q\\x1b\\r\\xe0-\\xd0<\\xc0`vO\\x1e\\x16j<\\xc0g\\xd5\\xe7j+\\x86;\\xc0\\xd7\\xa3p=\\n\\xb7;\\xc0\\x11\\xc7\\xba\\xb8\\x8d6<\\xc0\\xe4\\x83\\x9e\\xcd\\xaa?;\\xc0\\x14\\xd0D\\xd8\\xf0\\xb4:\\xc0g\\xd5\\xe7j+\\x86<\\xc0\\xd4+e\\x19\\xe2\\xc8<\\xc0\\xab\\xcf\\xd5V\\xec\\x7f:\\xc0\\xa9\\xa4N@\\x13\\xf1:\\xc0\\x9f\\xcd\\xaa\\xcf\\xd5V<\\xc0\\x1c|a2U\\xa0:\\xc0\\xbd\\xe3\\x14\\x1d\\xc9\\x859\\xc0+\\x18\\x95\\xd4\\t\\xc8:\\xc0\\x91\\x0fz6\\xabn>\\xc0\\x10X9\\xb4\\xc8F<\\xc0c\\x7f\\xd9=yx9\\xc0Zd;\\xdfOm:\\xc0z6\\xab>W[>\\xc02\\xe6\\xae%\\xe4KA\\xc0\\xc2\\x86\\xa7W\\xca\\xeaB\\xc0[\\xd3\\xbc\\xe3\\x145F\\xc0\\xb5\\xa6y\\xc7)*N\\xc0.\\xff!\\xfd\\xf6\\xcdQ\\xc0\\xec/\\xbb\\'\\x0fwT\\xc0'), TPWS1=1, MD1=0, FD1=1, TPWS2=0, MD2=0, FD2=0, TPWS3=0, MD3=0, FD3=0)]"
      ]
     },
     "execution_count": 18,
     "metadata": {},
     "output_type": "execute_result"
    }
   ],
   "source": [
    "RDD.take(1)"
   ]
  },
  {
   "cell_type": "code",
   "execution_count": 19,
   "metadata": {
    "collapsed": false,
    "scrolled": true
   },
   "outputs": [
    {
     "name": "stdout",
     "output_type": "stream",
     "text": [
      "+--------------------+-------+----+------+------+---------+--------------------+--------------------+-----+---+---+-----+---+---+-----+---+---+\n",
      "|                time|species|site|rec_no|bout_i|peak2peak|                 MSN|                 MSP|TPWS1|MD1|FD1|TPWS2|MD2|FD2|TPWS3|MD3|FD3|\n",
      "+--------------------+-------+----+------+------+---------+--------------------+--------------------+-----+---+---+-----+---+---+-----+---+---+\n",
      "|2010-08-09 07:01:...|Cuviers|  DT|    01|     0|  45.9858|[00 00 00 00 00 0...|[22 6C 78 7A A5 1...|    1|  0|  1|    0|  0|  0|    0|  0|  0|\n",
      "|2010-08-09 07:02:...|Cuviers|  DT|    01|     0|  44.8432|[00 00 00 00 00 0...|[E3 36 1A C0 5B A...|    1|  0|  1|    0|  0|  0|    0|  0|  0|\n",
      "|2010-08-09 07:03:...|Cuviers|  DT|    01|     0|  45.8631|[00 00 00 00 00 0...|[AC 8B DB 68 00 D...|    1|  0|  1|    0|  0|  0|    0|  0|  0|\n",
      "|2010-08-09 07:05:...|Cuviers|  DT|    01|     0|  54.2039|[24 28 7E 8C B9 2...|[66 F7 E4 61 A1 6...|    1|  0|  1|    0|  0|  0|    0|  0|  0|\n",
      "|2010-08-09 07:06:...|Cuviers|  DT|    01|     0|  53.9538|[19 E2 58 17 B7 1...|[64 3B DF 4F 8D 8...|    1|  0|  1|    0|  0|  0|    0|  0|  0|\n",
      "|2010-08-09 07:06:...|Cuviers|  DT|    01|     0|  49.8424|[A9 A4 4E 40 13 6...|[2D 21 1F F4 6C F...|    1|  0|  1|    0|  0|  0|    0|  0|  0|\n",
      "|2010-08-09 07:06:...|Cuviers|  DT|    01|     0|  49.0103|[D9 3D 79 58 A8 3...|[2F DD 24 06 81 2...|    1|  0|  1|    0|  0|  0|    0|  0|  0|\n",
      "|2010-08-09 07:06:...|Cuviers|  DT|    01|     0|  47.1188|[30 4C A6 0A 46 8...|[AC AD D8 5F 76 D...|    1|  0|  1|    0|  0|  0|    0|  0|  0|\n",
      "|2010-08-09 07:06:...|Cuviers|  DT|    01|     0|  48.3096|[B1 BF EC 9E 3C A...|[96 43 8B 6C E7 C...|    1|  0|  1|    0|  0|  0|    0|  0|  0|\n",
      "|2010-08-09 07:06:...|Cuviers|  DT|    01|     0|  51.5011|[D0 D5 56 EC 2F 7...|[C8 98 BB 96 90 6...|    1|  0|  1|    0|  0|  0|    0|  0|  0|\n",
      "|2010-08-09 07:06:...|Cuviers|  DT|    01|     0|  54.0929|[BC 05 12 14 3F 4...|[C1 A8 A4 4E 40 5...|    1|  0|  1|    0|  0|  0|    0|  0|  0|\n",
      "|2010-08-09 07:06:...|Cuviers|  DT|    01|     0|  56.2738|[98 4C 15 8C 4A E...|[12 14 3F C6 DC 1...|    1|  0|  1|    0|  0|  0|    0|  0|  0|\n",
      "|2010-08-09 07:06:...|Cuviers|  DT|    01|     0|  48.8158|[C4 42 AD 69 DE 8...|[79 E9 26 31 08 C...|    1|  0|  1|    0|  0|  0|    0|  0|  0|\n",
      "|2010-08-09 07:06:...|Cuviers|  DT|    01|     0|  49.0238|[50 8D 97 6E 12 0...|[37 89 41 60 E5 2...|    1|  0|  1|    0|  0|  0|    0|  0|  0|\n",
      "|2010-08-09 07:06:...|Cuviers|  DT|    01|     0|  47.0987|[72 8A 8E E4 F2 1...|[29 CB 10 C7 BA 2...|    1|  0|  1|    0|  0|  0|    0|  0|  0|\n",
      "|2010-08-09 07:06:...|Cuviers|  DT|    01|     0|  48.2219|[18 26 53 05 A3 2...|[0B 24 28 7E 8C 8...|    1|  0|  1|    0|  0|  0|    0|  0|  0|\n",
      "|2010-08-09 07:06:...|Cuviers|  DT|    01|     0|  46.0384|[89 41 60 E5 D0 A...|[57 5B B1 BF EC 8...|    1|  0|  1|    0|  0|  0|    0|  0|  0|\n",
      "|2010-08-09 07:06:...|Cuviers|  DT|    01|     0|  46.0234|[45 47 72 F9 0F 2...|[D5 78 E9 26 31 B...|    1|  0|  1|    0|  0|  0|    0|  0|  0|\n",
      "|2010-08-09 07:06:...|Cuviers|  DT|    01|     0|  52.0325|[AD FA 5C 6D C5 F...|[AD 69 DE 71 8A 5...|    1|  0|  1|    0|  0|  0|    0|  0|  0|\n",
      "|2010-08-09 07:06:...|Cuviers|  DT|    01|     0|  49.1263|[48 BF 7D 1D 38 6...|[78 0B 24 28 7E F...|    1|  0|  1|    0|  0|  0|    0|  0|  0|\n",
      "+--------------------+-------+----+------+------+---------+--------------------+--------------------+-----+---+---+-----+---+---+-----+---+---+\n",
      "only showing top 20 rows\n",
      "\n"
     ]
    }
   ],
   "source": [
    "df=sqlContext.createDataFrame(RDD)\n",
    "df.show()"
   ]
  },
  {
   "cell_type": "code",
   "execution_count": 20,
   "metadata": {
    "collapsed": false
   },
   "outputs": [
    {
     "name": "stdout",
     "output_type": "stream",
     "text": [
      "6353182\n",
      "67.7606070042\n",
      "6353182\n"
     ]
    },
    {
     "data": {
      "text/plain": [
       "0.7946248054504395"
      ]
     },
     "execution_count": 20,
     "metadata": {},
     "output_type": "execute_result"
    }
   ],
   "source": [
    "t0=time()\n",
    "print df.cache().count()\n",
    "print time()-t0\n",
    "\n",
    "t0=time()\n",
    "print df.count()\n",
    "time()-t0"
   ]
  },
  {
   "cell_type": "code",
   "execution_count": null,
   "metadata": {
    "collapsed": false
   },
   "outputs": [],
   "source": [
    "5.*350/60."
   ]
  },
  {
   "cell_type": "code",
   "execution_count": 21,
   "metadata": {
    "collapsed": false
   },
   "outputs": [
    {
     "name": "stdout",
     "output_type": "stream",
     "text": [
      "17\n",
      "<class 'pyspark.sql.types.Row'>\n"
     ]
    }
   ],
   "source": [
    "A=df.first()\n",
    "print len(A)\n",
    "print type(A)"
   ]
  },
  {
   "cell_type": "code",
   "execution_count": 22,
   "metadata": {
    "collapsed": false
   },
   "outputs": [
    {
     "name": "stdout",
     "output_type": "stream",
     "text": [
      "bout_i 1 1\n",
      "MD1 1 2\n",
      "TPWS3 1 3\n",
      "TPWS2 1 4\n",
      "TPWS1 1 5\n",
      "site 1 6\n",
      "species 1 7\n",
      "FD1 1 8\n",
      "MSN 1616 1624\n",
      "FD3 1 1625\n",
      "FD2 1 1626\n",
      "time 1 1627\n",
      "MD2 1 1628\n",
      "MD3 1 1629\n",
      "MSP 808 2437\n",
      "peak2peak 1 2438\n",
      "rec_no 1 2439\n"
     ]
    }
   ],
   "source": [
    "D=A.asDict()\n",
    "\n",
    "t=0\n",
    "for k in D.keys():\n",
    "    t+=size(D[k])\n",
    "    print k, size(D[k]),t"
   ]
  },
  {
   "cell_type": "code",
   "execution_count": 27,
   "metadata": {
    "collapsed": false
   },
   "outputs": [
    {
     "data": {
      "text/plain": [
       "15.495410898"
      ]
     },
     "execution_count": 27,
     "metadata": {},
     "output_type": "execute_result"
    }
   ],
   "source": [
    "2439.*6353182./1000000000"
   ]
  },
  {
   "cell_type": "code",
   "execution_count": 23,
   "metadata": {
    "collapsed": false
   },
   "outputs": [],
   "source": [
    "import datetime as dt\n",
    "\n",
    "from string import split\n",
    "from collections import Counter\n",
    "import re\n",
    "import numpy as np\n",
    "from numpy import shape\n",
    "\n",
    "from glob import glob\n",
    "from time import time"
   ]
  },
  {
   "cell_type": "code",
   "execution_count": 26,
   "metadata": {
    "collapsed": false
   },
   "outputs": [
    {
     "data": {
      "image/png": "[encoded data removed]",
      "text/plain": [
       "<matplotlib.figure.Figure at 0x7f1eba433950>"
      ]
     },
     "metadata": {},
     "output_type": "display_data"
    }
   ],
   "source": [
    "from row_parser import unpackArray\n",
    "import numpy\n",
    "def g(row):\n",
    "    return unpackArray(row[field],data_type=numpy.float64)\n",
    "def unpackArray(x,data_type=numpy.int16):\n",
    "    return numpy.frombuffer(x,dtype=data_type)\n",
    "L=df.take(20)\n",
    "field='MSN'\n",
    "for a in L:\n",
    "    plot(g(a))\n",
    "title(field);"
   ]
  },
  {
   "cell_type": "code",
   "execution_count": 27,
   "metadata": {
    "collapsed": false
   },
   "outputs": [
    {
     "data": {
      "image/png": "[encoded data removed]",
      "text/plain": [
       "<matplotlib.figure.Figure at 0x7f1eba688d50>"
      ]
     },
     "metadata": {},
     "output_type": "display_data"
    }
   ],
   "source": [
    "field='MSP'\n",
    "for a in L:\n",
    "    plot(g(a))\n",
    "title(field);"
   ]
  },
  {
   "cell_type": "code",
   "execution_count": 28,
   "metadata": {
    "collapsed": true
   },
   "outputs": [],
   "source": [
    "from time import time\n",
    "from spark_PCA import *\n"
   ]
  },
  {
   "cell_type": "code",
   "execution_count": 29,
   "metadata": {
    "collapsed": false
   },
   "outputs": [
    {
     "name": "stdout",
     "output_type": "stream",
     "text": [
      "<class 'pyspark.rdd.PipelinedRDD'>\n"
     ]
    },
    {
     "data": {
      "text/plain": [
       "array([-34.2238, -33.9033, -45.031 , -47.8457, -47.1611, -46.5836,\n",
       "       -31.0557, -22.687 , -17.3832, -14.3108, -12.9905, -13.0394,\n",
       "       -13.8941, -14.6441, -15.2878, -16.2532, -16.6215, -16.6206,\n",
       "       -16.9976, -17.4435, -18.0617, -19.3168, -21.2616, -20.681 ,\n",
       "       -18.8653, -18.7143, -19.9128, -21.6954, -22.4543, -23.0892,\n",
       "       -24.4656, -23.4138, -22.9504, -24.1552, -23.5533, -22.9531,\n",
       "       -23.2596, -23.7252, -24.8302, -24.7406, -24.3184, -24.4116,\n",
       "       -24.0277, -24.2984, -24.8872, -24.9365, -24.9002, -24.7977,\n",
       "       -25.4393, -25.1422, -24.5324, -25.225 , -25.9022, -26.1996,\n",
       "       -27.411 , -29.3391, -27.5361, -26.2795, -27.7208, -29.2339,\n",
       "       -26.7324, -24.4358, -24.463 , -26.7423, -27.4951, -25.8256,\n",
       "       -25.3701, -26.1414, -26.9244, -26.59  , -27.3737, -28.509 ,\n",
       "       -28.7962, -28.4409, -28.0141, -28.8132, -28.4144, -27.5241,\n",
       "       -27.715 , -28.2131, -27.2487, -26.7068, -28.5241, -28.7847,\n",
       "       -26.4997, -26.9417, -28.3392, -26.6263, -25.5226, -26.7814,\n",
       "       -30.4323, -28.2765, -25.4706, -26.427 , -30.3568, -34.5929,\n",
       "       -37.8343, -44.4147, -60.3294, -71.2182, -81.8603])"
      ]
     },
     "execution_count": 29,
     "metadata": {},
     "output_type": "execute_result"
    }
   ],
   "source": [
    "def unpack(bytearray):\n",
    "    return unpackArray(bytearray,data_type=numpy.float64)\n",
    "feature='MSP'\n",
    "rdd=df.rdd.map(g)\n",
    "print type(rdd)\n",
    "rdd.first()"
   ]
  },
  {
   "cell_type": "code",
   "execution_count": 30,
   "metadata": {
    "collapsed": false
   },
   "outputs": [
    {
     "name": "stdout",
     "output_type": "stream",
     "text": [
      "16.9310259819\n"
     ]
    }
   ],
   "source": [
    "t0=time()\n",
    "rdd.cache().count()\n",
    "print time()-t0"
   ]
  },
  {
   "cell_type": "code",
   "execution_count": 31,
   "metadata": {
    "collapsed": false
   },
   "outputs": [
    {
     "name": "stdout",
     "output_type": "stream",
     "text": [
      "shape of E= (101,) shape of NE= (101,)\n",
      "51.7302320004\n"
     ]
    }
   ],
   "source": [
    "t0=time()\n",
    "COV=computeCov(rdd)\n",
    "print time()-t0"
   ]
  },
  {
   "cell_type": "code",
   "execution_count": null,
   "metadata": {
    "collapsed": false
   },
   "outputs": [],
   "source": [
    "M=COV['Mean']\n",
    "S=np.sqrt(COV['Var'])\n",
    "plot(M-S)\n",
    "plot(M)\n",
    "plot(M+S)"
   ]
  },
  {
   "cell_type": "code",
   "execution_count": 32,
   "metadata": {
    "collapsed": false
   },
   "outputs": [
    {
     "data": {
      "text/plain": [
       "[<matplotlib.lines.Line2D at 0x7f1eba53bbd0>]"
      ]
     },
     "execution_count": 32,
     "metadata": {},
     "output_type": "execute_result"
    },
    {
     "data": {
      "image/png": "[encoded data removed]",
      "text/plain": [
       "<matplotlib.figure.Figure at 0x7f1eba756050>"
      ]
     },
     "metadata": {},
     "output_type": "display_data"
    }
   ],
   "source": [
    "plot(np.sqrt(COV['Var']))"
   ]
  },
  {
   "cell_type": "code",
   "execution_count": 33,
   "metadata": {
    "collapsed": true
   },
   "outputs": [],
   "source": [
    "eigval,eigvec=LA.eig(COV['Cov'])"
   ]
  },
  {
   "cell_type": "code",
   "execution_count": 34,
   "metadata": {
    "collapsed": false
   },
   "outputs": [
    {
     "data": {
      "text/plain": [
       "1.0"
      ]
     },
     "execution_count": 34,
     "metadata": {},
     "output_type": "execute_result"
    }
   ],
   "source": [
    "eigval=eigval/sum(eigval)\n",
    "sum(eigval)"
   ]
  },
  {
   "cell_type": "code",
   "execution_count": 35,
   "metadata": {
    "collapsed": false
   },
   "outputs": [
    {
     "data": {
      "text/plain": [
       "[<matplotlib.lines.Line2D at 0x7f1eba756090>]"
      ]
     },
     "execution_count": 35,
     "metadata": {},
     "output_type": "execute_result"
    },
    {
     "data": {
      "image/png": "[encoded data removed]",
      "text/plain": [
       "<matplotlib.figure.Figure at 0x7f1eba428c50>"
      ]
     },
     "metadata": {},
     "output_type": "display_data"
    }
   ],
   "source": [
    "plot(cumsum(eigval[:10]))"
   ]
  },
  {
   "cell_type": "code",
   "execution_count": 36,
   "metadata": {
    "collapsed": false
   },
   "outputs": [
    {
     "data": {
      "text/plain": [
       "(101, 101)"
      ]
     },
     "execution_count": 36,
     "metadata": {},
     "output_type": "execute_result"
    }
   ],
   "source": [
    "shape(eigvec)"
   ]
  },
  {
   "cell_type": "code",
   "execution_count": 37,
   "metadata": {
    "collapsed": false
   },
   "outputs": [
    {
     "data": {
      "image/png": "[encoded data removed]",
      "text/plain": [
       "<matplotlib.figure.Figure at 0x7f1eba41bb50>"
      ]
     },
     "metadata": {},
     "output_type": "display_data"
    }
   ],
   "source": [
    "figure(figsize=[10,7])\n",
    "for i in range(4):\n",
    "    plot(eigvec[:,i],label='ev'+str(i))\n",
    "legend()\n",
    "grid()"
   ]
  },
  {
   "cell_type": "code",
   "execution_count": 47,
   "metadata": {
    "collapsed": false
   },
   "outputs": [
    {
     "data": {
      "text/plain": [
       "['time',\n",
       " 'species',\n",
       " 'site',\n",
       " 'rec_no',\n",
       " 'bout_i',\n",
       " 'peak2peak',\n",
       " 'MSN',\n",
       " 'MSP',\n",
       " 'TPWS1',\n",
       " 'MD1',\n",
       " 'FD1',\n",
       " 'TPWS2',\n",
       " 'MD2',\n",
       " 'FD2',\n",
       " 'TPWS3',\n",
       " 'MD3',\n",
       " 'FD3']"
      ]
     },
     "execution_count": 47,
     "metadata": {},
     "output_type": "execute_result"
    }
   ],
   "source": [
    "df.columns"
   ]
  },
  {
   "cell_type": "code",
   "execution_count": 40,
   "metadata": {
    "collapsed": false
   },
   "outputs": [],
   "source": [
    "sdf=df.sort([df.site,df.time])"
   ]
  },
  {
   "cell_type": "code",
   "execution_count": 48,
   "metadata": {
    "collapsed": false
   },
   "outputs": [
    {
     "data": {
      "text/plain": [
       "6353182"
      ]
     },
     "execution_count": 48,
     "metadata": {},
     "output_type": "execute_result"
    }
   ],
   "source": [
    "sdf.cache().count()"
   ]
  },
  {
   "cell_type": "code",
   "execution_count": 46,
   "metadata": {
    "collapsed": false
   },
   "outputs": [
    {
     "name": "stdout",
     "output_type": "stream",
     "text": [
      "+-----+-----+\n",
      "|TPWS1|TPWS2|\n",
      "+-----+-----+\n",
      "|    1|    1|\n",
      "|    1|    1|\n",
      "|    1|    1|\n",
      "|    1|    1|\n",
      "|    1|    1|\n",
      "+-----+-----+\n",
      "only showing top 5 rows\n",
      "\n"
     ]
    }
   ],
   "source": [
    "sdf.sele"
   ]
  },
  {
   "cell_type": "code",
   "execution_count": 57,
   "metadata": {
    "collapsed": true
   },
   "outputs": [],
   "source": [
    "from pyspark.sql import SparkSession\n",
    "\n",
    "spark = SparkSession \\\n",
    "    .builder \\\n",
    "    .appName(\"Python Spark SQL basic example\") \\\n",
    "    .config(\"spark.some.config.option\", \"some-value\") \\\n",
    "    .getOrCreate()"
   ]
  },
  {
   "cell_type": "code",
   "execution_count": 137,
   "metadata": {
    "collapsed": false,
    "scrolled": true
   },
   "outputs": [
    {
     "name": "stdout",
     "output_type": "stream",
     "text": [
      "+----+\n",
      "|site|\n",
      "+----+\n",
      "|  MC|\n",
      "|  GC|\n",
      "|  DT|\n",
      "+----+\n",
      "\n"
     ]
    }
   ],
   "source": [
    "import pyspark\n",
    "sdf.createOrReplaceTempView(\"sc\")\n",
    "\n",
    "sites=spark.sql(\"SELECT sc.site FROM sc\")\n",
    "sites.distinct().show()"
   ]
  },
  {
   "cell_type": "code",
   "execution_count": 170,
   "metadata": {
    "collapsed": false
   },
   "outputs": [
    {
     "ename": "ImportError",
     "evalue": "No module named pandas",
     "output_type": "error",
     "traceback": [
      "\u001b[0;31m\u001b[0m",
      "\u001b[0;31mImportError\u001b[0mTraceback (most recent call last)",
      "\u001b[0;32m<ipython-input-170-c5ab857b8112>\u001b[0m in \u001b[0;36m<module>\u001b[0;34m()\u001b[0m\n\u001b[1;32m      1\u001b[0m \u001b[0;32mfrom\u001b[0m \u001b[0mpyspark\u001b[0m\u001b[0;34m.\u001b[0m\u001b[0msql\u001b[0m\u001b[0;34m.\u001b[0m\u001b[0mfunctions\u001b[0m \u001b[0;32mimport\u001b[0m \u001b[0mto_utc_timestamp\u001b[0m\u001b[0;34m,\u001b[0m \u001b[0mdatediff\u001b[0m\u001b[0;34m,\u001b[0m \u001b[0mudf\u001b[0m\u001b[0;34m\u001b[0m\u001b[0m\n\u001b[0;32m----> 2\u001b[0;31m \u001b[0;32mimport\u001b[0m \u001b[0mpandas\u001b[0m \u001b[0;32mas\u001b[0m \u001b[0mpd\u001b[0m\u001b[0;34m\u001b[0m\u001b[0m\n\u001b[0m",
      "\u001b[0;31mImportError\u001b[0m: No module named pandas"
     ]
    }
   ],
   "source": [
    "from pyspark.sql.functions import to_utc_timestamp, datediff, udf\n",
    "import pandas as pd"
   ]
  },
  {
   "cell_type": "code",
   "execution_count": null,
   "metadata": {
    "collapsed": false
   },
   "outputs": [],
   "source": [
    "# Function to calculate time delta\n",
    "def time_delta(y,x): \n",
    "    end = pd.to_datetime(y)\n",
    "    start = pd.to_datetime(x)\n",
    "    delta = (end-start)\n",
    "    return delta\n",
    "spark.udf.register(\"time_delta\", time_delta)"
   ]
  },
  {
   "cell_type": "code",
   "execution_count": 166,
   "metadata": {
    "collapsed": false
   },
   "outputs": [
    {
     "ename": "Py4JJavaError",
     "evalue": "An error occurred while calling o1395.showString.\n: org.apache.spark.SparkException: Job aborted due to stage failure: Task 185 in stage 195.0 failed 4 times, most recent failure: Lost task 185.3 in stage 195.0 (TID 14934, 10.0.0.227): org.apache.spark.api.python.PythonException: Traceback (most recent call last):\n  File \"/home/ec2-user/spark/python/lib/pyspark.zip/pyspark/worker.py\", line 172, in main\n    process()\n  File \"/home/ec2-user/spark/python/lib/pyspark.zip/pyspark/worker.py\", line 167, in process\n    serializer.dump_stream(func(split_index, iterator), outfile)\n  File \"/home/ec2-user/spark/python/lib/pyspark.zip/pyspark/worker.py\", line 106, in <lambda>\n    func = lambda _, it: map(mapper, it)\n  File \"/home/ec2-user/spark/python/lib/pyspark.zip/pyspark/worker.py\", line 92, in <lambda>\n    mapper = lambda a: udf(*a)\n  File \"/home/ec2-user/spark/python/lib/pyspark.zip/pyspark/worker.py\", line 70, in <lambda>\n    return lambda *a: f(*a)\n  File \"<ipython-input-165-ec42d5d75b3b>\", line 4, in time_delta\nNameError: global name 'to_datetime' is not defined\n\n\tat org.apache.spark.api.python.PythonRunner$$anon$1.read(PythonRDD.scala:193)\n\tat org.apache.spark.api.python.PythonRunner$$anon$1.<init>(PythonRDD.scala:234)\n\tat org.apache.spark.api.python.PythonRunner.compute(PythonRDD.scala:152)\n\tat org.apache.spark.sql.execution.python.BatchEvalPythonExec$$anonfun$doExecute$1.apply(BatchEvalPythonExec.scala:124)\n\tat org.apache.spark.sql.execution.python.BatchEvalPythonExec$$anonfun$doExecute$1.apply(BatchEvalPythonExec.scala:68)\n\tat org.apache.spark.rdd.RDD$$anonfun$mapPartitions$1$$anonfun$apply$23.apply(RDD.scala:766)\n\tat org.apache.spark.rdd.RDD$$anonfun$mapPartitions$1$$anonfun$apply$23.apply(RDD.scala:766)\n\tat org.apache.spark.rdd.MapPartitionsRDD.compute(MapPartitionsRDD.scala:38)\n\tat org.apache.spark.rdd.RDD.computeOrReadCheckpoint(RDD.scala:319)\n\tat org.apache.spark.rdd.RDD.iterator(RDD.scala:283)\n\tat org.apache.spark.rdd.MapPartitionsRDD.compute(MapPartitionsRDD.scala:38)\n\tat org.apache.spark.rdd.RDD.computeOrReadCheckpoint(RDD.scala:319)\n\tat org.apache.spark.rdd.RDD.iterator(RDD.scala:283)\n\tat org.apache.spark.rdd.MapPartitionsRDD.compute(MapPartitionsRDD.scala:38)\n\tat org.apache.spark.rdd.RDD.computeOrReadCheckpoint(RDD.scala:319)\n\tat org.apache.spark.rdd.RDD.iterator(RDD.scala:283)\n\tat org.apache.spark.scheduler.ResultTask.runTask(ResultTask.scala:70)\n\tat org.apache.spark.scheduler.Task.run(Task.scala:85)\n\tat org.apache.spark.executor.Executor$TaskRunner.run(Executor.scala:274)\n\tat java.util.concurrent.ThreadPoolExecutor.runWorker(ThreadPoolExecutor.java:1145)\n\tat java.util.concurrent.ThreadPoolExecutor$Worker.run(ThreadPoolExecutor.java:615)\n\tat java.lang.Thread.run(Thread.java:745)\n\nDriver stacktrace:\n\tat org.apache.spark.scheduler.DAGScheduler.org$apache$spark$scheduler$DAGScheduler$$failJobAndIndependentStages(DAGScheduler.scala:1450)\n\tat org.apache.spark.scheduler.DAGScheduler$$anonfun$abortStage$1.apply(DAGScheduler.scala:1438)\n\tat org.apache.spark.scheduler.DAGScheduler$$anonfun$abortStage$1.apply(DAGScheduler.scala:1437)\n\tat scala.collection.mutable.ResizableArray$class.foreach(ResizableArray.scala:59)\n\tat scala.collection.mutable.ArrayBuffer.foreach(ArrayBuffer.scala:48)\n\tat org.apache.spark.scheduler.DAGScheduler.abortStage(DAGScheduler.scala:1437)\n\tat org.apache.spark.scheduler.DAGScheduler$$anonfun$handleTaskSetFailed$1.apply(DAGScheduler.scala:811)\n\tat org.apache.spark.scheduler.DAGScheduler$$anonfun$handleTaskSetFailed$1.apply(DAGScheduler.scala:811)\n\tat scala.Option.foreach(Option.scala:257)\n\tat org.apache.spark.scheduler.DAGScheduler.handleTaskSetFailed(DAGScheduler.scala:811)\n\tat org.apache.spark.scheduler.DAGSchedulerEventProcessLoop.doOnReceive(DAGScheduler.scala:1659)\n\tat org.apache.spark.scheduler.DAGSchedulerEventProcessLoop.onReceive(DAGScheduler.scala:1618)\n\tat org.apache.spark.scheduler.DAGSchedulerEventProcessLoop.onReceive(DAGScheduler.scala:1607)\n\tat org.apache.spark.util.EventLoop$$anon$1.run(EventLoop.scala:48)\n\tat org.apache.spark.scheduler.DAGScheduler.runJob(DAGScheduler.scala:632)\n\tat org.apache.spark.SparkContext.runJob(SparkContext.scala:1871)\n\tat org.apache.spark.SparkContext.runJob(SparkContext.scala:1884)\n\tat org.apache.spark.SparkContext.runJob(SparkContext.scala:1897)\n\tat org.apache.spark.sql.execution.SparkPlan.executeTake(SparkPlan.scala:347)\n\tat org.apache.spark.sql.execution.CollectLimitExec.executeCollect(limit.scala:39)\n\tat org.apache.spark.sql.Dataset$$anonfun$org$apache$spark$sql$Dataset$$execute$1$1.apply(Dataset.scala:2183)\n\tat org.apache.spark.sql.execution.SQLExecution$.withNewExecutionId(SQLExecution.scala:57)\n\tat org.apache.spark.sql.Dataset.withNewExecutionId(Dataset.scala:2532)\n\tat org.apache.spark.sql.Dataset.org$apache$spark$sql$Dataset$$execute$1(Dataset.scala:2182)\n\tat org.apache.spark.sql.Dataset.org$apache$spark$sql$Dataset$$collect(Dataset.scala:2189)\n\tat org.apache.spark.sql.Dataset$$anonfun$head$1.apply(Dataset.scala:1925)\n\tat org.apache.spark.sql.Dataset$$anonfun$head$1.apply(Dataset.scala:1924)\n\tat org.apache.spark.sql.Dataset.withTypedCallback(Dataset.scala:2562)\n\tat org.apache.spark.sql.Dataset.head(Dataset.scala:1924)\n\tat org.apache.spark.sql.Dataset.take(Dataset.scala:2139)\n\tat org.apache.spark.sql.Dataset.showString(Dataset.scala:239)\n\tat sun.reflect.GeneratedMethodAccessor42.invoke(Unknown Source)\n\tat sun.reflect.DelegatingMethodAccessorImpl.invoke(DelegatingMethodAccessorImpl.java:43)\n\tat java.lang.reflect.Method.invoke(Method.java:606)\n\tat py4j.reflection.MethodInvoker.invoke(MethodInvoker.java:237)\n\tat py4j.reflection.ReflectionEngine.invoke(ReflectionEngine.java:357)\n\tat py4j.Gateway.invoke(Gateway.java:280)\n\tat py4j.commands.AbstractCommand.invokeMethod(AbstractCommand.java:128)\n\tat py4j.commands.CallCommand.execute(CallCommand.java:79)\n\tat py4j.GatewayConnection.run(GatewayConnection.java:211)\n\tat java.lang.Thread.run(Thread.java:745)\nCaused by: org.apache.spark.api.python.PythonException: Traceback (most recent call last):\n  File \"/home/ec2-user/spark/python/lib/pyspark.zip/pyspark/worker.py\", line 172, in main\n    process()\n  File \"/home/ec2-user/spark/python/lib/pyspark.zip/pyspark/worker.py\", line 167, in process\n    serializer.dump_stream(func(split_index, iterator), outfile)\n  File \"/home/ec2-user/spark/python/lib/pyspark.zip/pyspark/worker.py\", line 106, in <lambda>\n    func = lambda _, it: map(mapper, it)\n  File \"/home/ec2-user/spark/python/lib/pyspark.zip/pyspark/worker.py\", line 92, in <lambda>\n    mapper = lambda a: udf(*a)\n  File \"/home/ec2-user/spark/python/lib/pyspark.zip/pyspark/worker.py\", line 70, in <lambda>\n    return lambda *a: f(*a)\n  File \"<ipython-input-165-ec42d5d75b3b>\", line 4, in time_delta\nNameError: global name 'to_datetime' is not defined\n\n\tat org.apache.spark.api.python.PythonRunner$$anon$1.read(PythonRDD.scala:193)\n\tat org.apache.spark.api.python.PythonRunner$$anon$1.<init>(PythonRDD.scala:234)\n\tat org.apache.spark.api.python.PythonRunner.compute(PythonRDD.scala:152)\n\tat org.apache.spark.sql.execution.python.BatchEvalPythonExec$$anonfun$doExecute$1.apply(BatchEvalPythonExec.scala:124)\n\tat org.apache.spark.sql.execution.python.BatchEvalPythonExec$$anonfun$doExecute$1.apply(BatchEvalPythonExec.scala:68)\n\tat org.apache.spark.rdd.RDD$$anonfun$mapPartitions$1$$anonfun$apply$23.apply(RDD.scala:766)\n\tat org.apache.spark.rdd.RDD$$anonfun$mapPartitions$1$$anonfun$apply$23.apply(RDD.scala:766)\n\tat org.apache.spark.rdd.MapPartitionsRDD.compute(MapPartitionsRDD.scala:38)\n\tat org.apache.spark.rdd.RDD.computeOrReadCheckpoint(RDD.scala:319)\n\tat org.apache.spark.rdd.RDD.iterator(RDD.scala:283)\n\tat org.apache.spark.rdd.MapPartitionsRDD.compute(MapPartitionsRDD.scala:38)\n\tat org.apache.spark.rdd.RDD.computeOrReadCheckpoint(RDD.scala:319)\n\tat org.apache.spark.rdd.RDD.iterator(RDD.scala:283)\n\tat org.apache.spark.rdd.MapPartitionsRDD.compute(MapPartitionsRDD.scala:38)\n\tat org.apache.spark.rdd.RDD.computeOrReadCheckpoint(RDD.scala:319)\n\tat org.apache.spark.rdd.RDD.iterator(RDD.scala:283)\n\tat org.apache.spark.scheduler.ResultTask.runTask(ResultTask.scala:70)\n\tat org.apache.spark.scheduler.Task.run(Task.scala:85)\n\tat org.apache.spark.executor.Executor$TaskRunner.run(Executor.scala:274)\n\tat java.util.concurrent.ThreadPoolExecutor.runWorker(ThreadPoolExecutor.java:1145)\n\tat java.util.concurrent.ThreadPoolExecutor$Worker.run(ThreadPoolExecutor.java:615)\n\t... 1 more\n",
     "output_type": "error",
     "traceback": [
      "\u001b[0;31m\u001b[0m",
      "\u001b[0;31mPy4JJavaError\u001b[0mTraceback (most recent call last)",
      "\u001b[0;32m<ipython-input-166-f7c7ea985f73>\u001b[0m in \u001b[0;36m<module>\u001b[0;34m()\u001b[0m\n\u001b[1;32m      7\u001b[0m \"\"\"\n\u001b[1;32m      8\u001b[0m \u001b[0mexpand\u001b[0m \u001b[0;34m=\u001b[0m\u001b[0mspark\u001b[0m\u001b[0;34m.\u001b[0m\u001b[0msql\u001b[0m\u001b[0;34m(\u001b[0m\u001b[0mquery\u001b[0m\u001b[0;34m)\u001b[0m\u001b[0;34m\u001b[0m\u001b[0m\n\u001b[0;32m----> 9\u001b[0;31m \u001b[0mexpand\u001b[0m\u001b[0;34m.\u001b[0m\u001b[0mshow\u001b[0m\u001b[0;34m(\u001b[0m\u001b[0;36m10\u001b[0m\u001b[0;34m)\u001b[0m\u001b[0;34m\u001b[0m\u001b[0m\n\u001b[0m",
      "\u001b[0;32m/home/ec2-user/spark/python/pyspark/sql/dataframe.pyc\u001b[0m in \u001b[0;36mshow\u001b[0;34m(self, n, truncate)\u001b[0m\n\u001b[1;32m    285\u001b[0m         \u001b[0;34m+\u001b[0m\u001b[0;34m-\u001b[0m\u001b[0;34m-\u001b[0m\u001b[0;34m-\u001b[0m\u001b[0;34m+\u001b[0m\u001b[0;34m-\u001b[0m\u001b[0;34m-\u001b[0m\u001b[0;34m-\u001b[0m\u001b[0;34m-\u001b[0m\u001b[0;34m-\u001b[0m\u001b[0;34m+\u001b[0m\u001b[0;34m\u001b[0m\u001b[0m\n\u001b[1;32m    286\u001b[0m         \"\"\"\n\u001b[0;32m--> 287\u001b[0;31m         \u001b[0;32mprint\u001b[0m\u001b[0;34m(\u001b[0m\u001b[0mself\u001b[0m\u001b[0;34m.\u001b[0m\u001b[0m_jdf\u001b[0m\u001b[0;34m.\u001b[0m\u001b[0mshowString\u001b[0m\u001b[0;34m(\u001b[0m\u001b[0mn\u001b[0m\u001b[0;34m,\u001b[0m \u001b[0mtruncate\u001b[0m\u001b[0;34m)\u001b[0m\u001b[0;34m)\u001b[0m\u001b[0;34m\u001b[0m\u001b[0m\n\u001b[0m\u001b[1;32m    288\u001b[0m \u001b[0;34m\u001b[0m\u001b[0m\n\u001b[1;32m    289\u001b[0m     \u001b[0;32mdef\u001b[0m \u001b[0m__repr__\u001b[0m\u001b[0;34m(\u001b[0m\u001b[0mself\u001b[0m\u001b[0;34m)\u001b[0m\u001b[0;34m:\u001b[0m\u001b[0;34m\u001b[0m\u001b[0m\n",
      "\u001b[0;32m/home/ec2-user/spark/python/lib/py4j-0.10.1-src.zip/py4j/java_gateway.py\u001b[0m in \u001b[0;36m__call__\u001b[0;34m(self, *args)\u001b[0m\n\u001b[1;32m    931\u001b[0m         \u001b[0manswer\u001b[0m \u001b[0;34m=\u001b[0m \u001b[0mself\u001b[0m\u001b[0;34m.\u001b[0m\u001b[0mgateway_client\u001b[0m\u001b[0;34m.\u001b[0m\u001b[0msend_command\u001b[0m\u001b[0;34m(\u001b[0m\u001b[0mcommand\u001b[0m\u001b[0;34m)\u001b[0m\u001b[0;34m\u001b[0m\u001b[0m\n\u001b[1;32m    932\u001b[0m         return_value = get_return_value(\n\u001b[0;32m--> 933\u001b[0;31m             answer, self.gateway_client, self.target_id, self.name)\n\u001b[0m\u001b[1;32m    934\u001b[0m \u001b[0;34m\u001b[0m\u001b[0m\n\u001b[1;32m    935\u001b[0m         \u001b[0;32mfor\u001b[0m \u001b[0mtemp_arg\u001b[0m \u001b[0;32min\u001b[0m \u001b[0mtemp_args\u001b[0m\u001b[0;34m:\u001b[0m\u001b[0;34m\u001b[0m\u001b[0m\n",
      "\u001b[0;32m/home/ec2-user/spark/python/pyspark/sql/utils.pyc\u001b[0m in \u001b[0;36mdeco\u001b[0;34m(*a, **kw)\u001b[0m\n\u001b[1;32m     61\u001b[0m     \u001b[0;32mdef\u001b[0m \u001b[0mdeco\u001b[0m\u001b[0;34m(\u001b[0m\u001b[0;34m*\u001b[0m\u001b[0ma\u001b[0m\u001b[0;34m,\u001b[0m \u001b[0;34m**\u001b[0m\u001b[0mkw\u001b[0m\u001b[0;34m)\u001b[0m\u001b[0;34m:\u001b[0m\u001b[0;34m\u001b[0m\u001b[0m\n\u001b[1;32m     62\u001b[0m         \u001b[0;32mtry\u001b[0m\u001b[0;34m:\u001b[0m\u001b[0;34m\u001b[0m\u001b[0m\n\u001b[0;32m---> 63\u001b[0;31m             \u001b[0;32mreturn\u001b[0m \u001b[0mf\u001b[0m\u001b[0;34m(\u001b[0m\u001b[0;34m*\u001b[0m\u001b[0ma\u001b[0m\u001b[0;34m,\u001b[0m \u001b[0;34m**\u001b[0m\u001b[0mkw\u001b[0m\u001b[0;34m)\u001b[0m\u001b[0;34m\u001b[0m\u001b[0m\n\u001b[0m\u001b[1;32m     64\u001b[0m         \u001b[0;32mexcept\u001b[0m \u001b[0mpy4j\u001b[0m\u001b[0;34m.\u001b[0m\u001b[0mprotocol\u001b[0m\u001b[0;34m.\u001b[0m\u001b[0mPy4JJavaError\u001b[0m \u001b[0;32mas\u001b[0m \u001b[0me\u001b[0m\u001b[0;34m:\u001b[0m\u001b[0;34m\u001b[0m\u001b[0m\n\u001b[1;32m     65\u001b[0m             \u001b[0ms\u001b[0m \u001b[0;34m=\u001b[0m \u001b[0me\u001b[0m\u001b[0;34m.\u001b[0m\u001b[0mjava_exception\u001b[0m\u001b[0;34m.\u001b[0m\u001b[0mtoString\u001b[0m\u001b[0;34m(\u001b[0m\u001b[0;34m)\u001b[0m\u001b[0;34m\u001b[0m\u001b[0m\n",
      "\u001b[0;32m/home/ec2-user/spark/python/lib/py4j-0.10.1-src.zip/py4j/protocol.py\u001b[0m in \u001b[0;36mget_return_value\u001b[0;34m(answer, gateway_client, target_id, name)\u001b[0m\n\u001b[1;32m    310\u001b[0m                 raise Py4JJavaError(\n\u001b[1;32m    311\u001b[0m                     \u001b[0;34m\"An error occurred while calling {0}{1}{2}.\\n\"\u001b[0m\u001b[0;34m.\u001b[0m\u001b[0;34m\u001b[0m\u001b[0m\n\u001b[0;32m--> 312\u001b[0;31m                     format(target_id, \".\", name), value)\n\u001b[0m\u001b[1;32m    313\u001b[0m             \u001b[0;32melse\u001b[0m\u001b[0;34m:\u001b[0m\u001b[0;34m\u001b[0m\u001b[0m\n\u001b[1;32m    314\u001b[0m                 raise Py4JError(\n",
      "\u001b[0;31mPy4JJavaError\u001b[0m: An error occurred while calling o1395.showString.\n: org.apache.spark.SparkException: Job aborted due to stage failure: Task 185 in stage 195.0 failed 4 times, most recent failure: Lost task 185.3 in stage 195.0 (TID 14934, 10.0.0.227): org.apache.spark.api.python.PythonException: Traceback (most recent call last):\n  File \"/home/ec2-user/spark/python/lib/pyspark.zip/pyspark/worker.py\", line 172, in main\n    process()\n  File \"/home/ec2-user/spark/python/lib/pyspark.zip/pyspark/worker.py\", line 167, in process\n    serializer.dump_stream(func(split_index, iterator), outfile)\n  File \"/home/ec2-user/spark/python/lib/pyspark.zip/pyspark/worker.py\", line 106, in <lambda>\n    func = lambda _, it: map(mapper, it)\n  File \"/home/ec2-user/spark/python/lib/pyspark.zip/pyspark/worker.py\", line 92, in <lambda>\n    mapper = lambda a: udf(*a)\n  File \"/home/ec2-user/spark/python/lib/pyspark.zip/pyspark/worker.py\", line 70, in <lambda>\n    return lambda *a: f(*a)\n  File \"<ipython-input-165-ec42d5d75b3b>\", line 4, in time_delta\nNameError: global name 'to_datetime' is not defined\n\n\tat org.apache.spark.api.python.PythonRunner$$anon$1.read(PythonRDD.scala:193)\n\tat org.apache.spark.api.python.PythonRunner$$anon$1.<init>(PythonRDD.scala:234)\n\tat org.apache.spark.api.python.PythonRunner.compute(PythonRDD.scala:152)\n\tat org.apache.spark.sql.execution.python.BatchEvalPythonExec$$anonfun$doExecute$1.apply(BatchEvalPythonExec.scala:124)\n\tat org.apache.spark.sql.execution.python.BatchEvalPythonExec$$anonfun$doExecute$1.apply(BatchEvalPythonExec.scala:68)\n\tat org.apache.spark.rdd.RDD$$anonfun$mapPartitions$1$$anonfun$apply$23.apply(RDD.scala:766)\n\tat org.apache.spark.rdd.RDD$$anonfun$mapPartitions$1$$anonfun$apply$23.apply(RDD.scala:766)\n\tat org.apache.spark.rdd.MapPartitionsRDD.compute(MapPartitionsRDD.scala:38)\n\tat org.apache.spark.rdd.RDD.computeOrReadCheckpoint(RDD.scala:319)\n\tat org.apache.spark.rdd.RDD.iterator(RDD.scala:283)\n\tat org.apache.spark.rdd.MapPartitionsRDD.compute(MapPartitionsRDD.scala:38)\n\tat org.apache.spark.rdd.RDD.computeOrReadCheckpoint(RDD.scala:319)\n\tat org.apache.spark.rdd.RDD.iterator(RDD.scala:283)\n\tat org.apache.spark.rdd.MapPartitionsRDD.compute(MapPartitionsRDD.scala:38)\n\tat org.apache.spark.rdd.RDD.computeOrReadCheckpoint(RDD.scala:319)\n\tat org.apache.spark.rdd.RDD.iterator(RDD.scala:283)\n\tat org.apache.spark.scheduler.ResultTask.runTask(ResultTask.scala:70)\n\tat org.apache.spark.scheduler.Task.run(Task.scala:85)\n\tat org.apache.spark.executor.Executor$TaskRunner.run(Executor.scala:274)\n\tat java.util.concurrent.ThreadPoolExecutor.runWorker(ThreadPoolExecutor.java:1145)\n\tat java.util.concurrent.ThreadPoolExecutor$Worker.run(ThreadPoolExecutor.java:615)\n\tat java.lang.Thread.run(Thread.java:745)\n\nDriver stacktrace:\n\tat org.apache.spark.scheduler.DAGScheduler.org$apache$spark$scheduler$DAGScheduler$$failJobAndIndependentStages(DAGScheduler.scala:1450)\n\tat org.apache.spark.scheduler.DAGScheduler$$anonfun$abortStage$1.apply(DAGScheduler.scala:1438)\n\tat org.apache.spark.scheduler.DAGScheduler$$anonfun$abortStage$1.apply(DAGScheduler.scala:1437)\n\tat scala.collection.mutable.ResizableArray$class.foreach(ResizableArray.scala:59)\n\tat scala.collection.mutable.ArrayBuffer.foreach(ArrayBuffer.scala:48)\n\tat org.apache.spark.scheduler.DAGScheduler.abortStage(DAGScheduler.scala:1437)\n\tat org.apache.spark.scheduler.DAGScheduler$$anonfun$handleTaskSetFailed$1.apply(DAGScheduler.scala:811)\n\tat org.apache.spark.scheduler.DAGScheduler$$anonfun$handleTaskSetFailed$1.apply(DAGScheduler.scala:811)\n\tat scala.Option.foreach(Option.scala:257)\n\tat org.apache.spark.scheduler.DAGScheduler.handleTaskSetFailed(DAGScheduler.scala:811)\n\tat org.apache.spark.scheduler.DAGSchedulerEventProcessLoop.doOnReceive(DAGScheduler.scala:1659)\n\tat org.apache.spark.scheduler.DAGSchedulerEventProcessLoop.onReceive(DAGScheduler.scala:1618)\n\tat org.apache.spark.scheduler.DAGSchedulerEventProcessLoop.onReceive(DAGScheduler.scala:1607)\n\tat org.apache.spark.util.EventLoop$$anon$1.run(EventLoop.scala:48)\n\tat org.apache.spark.scheduler.DAGScheduler.runJob(DAGScheduler.scala:632)\n\tat org.apache.spark.SparkContext.runJob(SparkContext.scala:1871)\n\tat org.apache.spark.SparkContext.runJob(SparkContext.scala:1884)\n\tat org.apache.spark.SparkContext.runJob(SparkContext.scala:1897)\n\tat org.apache.spark.sql.execution.SparkPlan.executeTake(SparkPlan.scala:347)\n\tat org.apache.spark.sql.execution.CollectLimitExec.executeCollect(limit.scala:39)\n\tat org.apache.spark.sql.Dataset$$anonfun$org$apache$spark$sql$Dataset$$execute$1$1.apply(Dataset.scala:2183)\n\tat org.apache.spark.sql.execution.SQLExecution$.withNewExecutionId(SQLExecution.scala:57)\n\tat org.apache.spark.sql.Dataset.withNewExecutionId(Dataset.scala:2532)\n\tat org.apache.spark.sql.Dataset.org$apache$spark$sql$Dataset$$execute$1(Dataset.scala:2182)\n\tat org.apache.spark.sql.Dataset.org$apache$spark$sql$Dataset$$collect(Dataset.scala:2189)\n\tat org.apache.spark.sql.Dataset$$anonfun$head$1.apply(Dataset.scala:1925)\n\tat org.apache.spark.sql.Dataset$$anonfun$head$1.apply(Dataset.scala:1924)\n\tat org.apache.spark.sql.Dataset.withTypedCallback(Dataset.scala:2562)\n\tat org.apache.spark.sql.Dataset.head(Dataset.scala:1924)\n\tat org.apache.spark.sql.Dataset.take(Dataset.scala:2139)\n\tat org.apache.spark.sql.Dataset.showString(Dataset.scala:239)\n\tat sun.reflect.GeneratedMethodAccessor42.invoke(Unknown Source)\n\tat sun.reflect.DelegatingMethodAccessorImpl.invoke(DelegatingMethodAccessorImpl.java:43)\n\tat java.lang.reflect.Method.invoke(Method.java:606)\n\tat py4j.reflection.MethodInvoker.invoke(MethodInvoker.java:237)\n\tat py4j.reflection.ReflectionEngine.invoke(ReflectionEngine.java:357)\n\tat py4j.Gateway.invoke(Gateway.java:280)\n\tat py4j.commands.AbstractCommand.invokeMethod(AbstractCommand.java:128)\n\tat py4j.commands.CallCommand.execute(CallCommand.java:79)\n\tat py4j.GatewayConnection.run(GatewayConnection.java:211)\n\tat java.lang.Thread.run(Thread.java:745)\nCaused by: org.apache.spark.api.python.PythonException: Traceback (most recent call last):\n  File \"/home/ec2-user/spark/python/lib/pyspark.zip/pyspark/worker.py\", line 172, in main\n    process()\n  File \"/home/ec2-user/spark/python/lib/pyspark.zip/pyspark/worker.py\", line 167, in process\n    serializer.dump_stream(func(split_index, iterator), outfile)\n  File \"/home/ec2-user/spark/python/lib/pyspark.zip/pyspark/worker.py\", line 106, in <lambda>\n    func = lambda _, it: map(mapper, it)\n  File \"/home/ec2-user/spark/python/lib/pyspark.zip/pyspark/worker.py\", line 92, in <lambda>\n    mapper = lambda a: udf(*a)\n  File \"/home/ec2-user/spark/python/lib/pyspark.zip/pyspark/worker.py\", line 70, in <lambda>\n    return lambda *a: f(*a)\n  File \"<ipython-input-165-ec42d5d75b3b>\", line 4, in time_delta\nNameError: global name 'to_datetime' is not defined\n\n\tat org.apache.spark.api.python.PythonRunner$$anon$1.read(PythonRDD.scala:193)\n\tat org.apache.spark.api.python.PythonRunner$$anon$1.<init>(PythonRDD.scala:234)\n\tat org.apache.spark.api.python.PythonRunner.compute(PythonRDD.scala:152)\n\tat org.apache.spark.sql.execution.python.BatchEvalPythonExec$$anonfun$doExecute$1.apply(BatchEvalPythonExec.scala:124)\n\tat org.apache.spark.sql.execution.python.BatchEvalPythonExec$$anonfun$doExecute$1.apply(BatchEvalPythonExec.scala:68)\n\tat org.apache.spark.rdd.RDD$$anonfun$mapPartitions$1$$anonfun$apply$23.apply(RDD.scala:766)\n\tat org.apache.spark.rdd.RDD$$anonfun$mapPartitions$1$$anonfun$apply$23.apply(RDD.scala:766)\n\tat org.apache.spark.rdd.MapPartitionsRDD.compute(MapPartitionsRDD.scala:38)\n\tat org.apache.spark.rdd.RDD.computeOrReadCheckpoint(RDD.scala:319)\n\tat org.apache.spark.rdd.RDD.iterator(RDD.scala:283)\n\tat org.apache.spark.rdd.MapPartitionsRDD.compute(MapPartitionsRDD.scala:38)\n\tat org.apache.spark.rdd.RDD.computeOrReadCheckpoint(RDD.scala:319)\n\tat org.apache.spark.rdd.RDD.iterator(RDD.scala:283)\n\tat org.apache.spark.rdd.MapPartitionsRDD.compute(MapPartitionsRDD.scala:38)\n\tat org.apache.spark.rdd.RDD.computeOrReadCheckpoint(RDD.scala:319)\n\tat org.apache.spark.rdd.RDD.iterator(RDD.scala:283)\n\tat org.apache.spark.scheduler.ResultTask.runTask(ResultTask.scala:70)\n\tat org.apache.spark.scheduler.Task.run(Task.scala:85)\n\tat org.apache.spark.executor.Executor$TaskRunner.run(Executor.scala:274)\n\tat java.util.concurrent.ThreadPoolExecutor.runWorker(ThreadPoolExecutor.java:1145)\n\tat java.util.concurrent.ThreadPoolExecutor$Worker.run(ThreadPoolExecutor.java:615)\n\t... 1 more\n"
     ]
    }
   ],
   "source": [
    "query=\"\"\"\n",
    "SELECT sc.species,sc.TPWS1 as tpws1,sc.TPWS2 as tpws2,sc.time as current,\n",
    "       (LAG(sc.time) OVER (PARTITION BY sc.species ORDER BY sc.time)) as prev, \n",
    "       time_delta(sc.time,\n",
    "                (LAG(sc.time) OVER (PARTITION BY sc.species ORDER BY sc.time)))\n",
    "       from sc\n",
    "\"\"\"\n",
    "expand =spark.sql(query)\n",
    "expand.show(10)"
   ]
  },
  {
   "cell_type": "code",
   "execution_count": 140,
   "metadata": {
    "collapsed": false
   },
   "outputs": [
    {
     "ename": "KeyboardInterrupt",
     "evalue": "(None, <function <lambda> at 0x7f1eb8be9938>, (u'Cuviers', 1, 0, 1302677247885388, 1302677245664569))",
     "output_type": "error",
     "traceback": [
      "\u001b[0;31m\u001b[0m",
      "\u001b[0;31mKeyboardInterrupt\u001b[0mTraceback (most recent call last)",
      "\u001b[0;32m<ipython-input-140-963592ec1f4e>\u001b[0m in \u001b[0;36m<module>\u001b[0;34m()\u001b[0m\n\u001b[1;32m      6\u001b[0m \u001b[0mexpand\u001b[0m \u001b[0;34m=\u001b[0m\u001b[0mspark\u001b[0m\u001b[0;34m.\u001b[0m\u001b[0msql\u001b[0m\u001b[0;34m(\u001b[0m\u001b[0mquery\u001b[0m\u001b[0;34m)\u001b[0m\u001b[0;34m\u001b[0m\u001b[0m\n\u001b[1;32m      7\u001b[0m \u001b[0;31m#expand.createOr\u001b[0m\u001b[0;34m\u001b[0m\u001b[0;34m\u001b[0m\u001b[0m\n\u001b[0;32m----> 8\u001b[0;31m \u001b[0mpairs\u001b[0m\u001b[0;34m=\u001b[0m\u001b[0mexpand\u001b[0m\u001b[0;34m.\u001b[0m\u001b[0mcollect\u001b[0m\u001b[0;34m(\u001b[0m\u001b[0;34m)\u001b[0m\u001b[0;34m\u001b[0m\u001b[0m\n\u001b[0m\u001b[1;32m      9\u001b[0m \u001b[0mpairs\u001b[0m\u001b[0;34m[\u001b[0m\u001b[0;36m1\u001b[0m\u001b[0;34m]\u001b[0m\u001b[0;34m\u001b[0m\u001b[0m\n",
      "\u001b[0;32m/home/ec2-user/spark/python/pyspark/sql/dataframe.pyc\u001b[0m in \u001b[0;36mcollect\u001b[0;34m(self)\u001b[0m\n\u001b[1;32m    309\u001b[0m         \u001b[0;32mwith\u001b[0m \u001b[0mSCCallSiteSync\u001b[0m\u001b[0;34m(\u001b[0m\u001b[0mself\u001b[0m\u001b[0;34m.\u001b[0m\u001b[0m_sc\u001b[0m\u001b[0;34m)\u001b[0m \u001b[0;32mas\u001b[0m \u001b[0mcss\u001b[0m\u001b[0;34m:\u001b[0m\u001b[0;34m\u001b[0m\u001b[0m\n\u001b[1;32m    310\u001b[0m             \u001b[0mport\u001b[0m \u001b[0;34m=\u001b[0m \u001b[0mself\u001b[0m\u001b[0;34m.\u001b[0m\u001b[0m_jdf\u001b[0m\u001b[0;34m.\u001b[0m\u001b[0mcollectToPython\u001b[0m\u001b[0;34m(\u001b[0m\u001b[0;34m)\u001b[0m\u001b[0;34m\u001b[0m\u001b[0m\n\u001b[0;32m--> 311\u001b[0;31m         \u001b[0;32mreturn\u001b[0m \u001b[0mlist\u001b[0m\u001b[0;34m(\u001b[0m\u001b[0m_load_from_socket\u001b[0m\u001b[0;34m(\u001b[0m\u001b[0mport\u001b[0m\u001b[0;34m,\u001b[0m \u001b[0mBatchedSerializer\u001b[0m\u001b[0;34m(\u001b[0m\u001b[0mPickleSerializer\u001b[0m\u001b[0;34m(\u001b[0m\u001b[0;34m)\u001b[0m\u001b[0;34m)\u001b[0m\u001b[0;34m)\u001b[0m\u001b[0;34m)\u001b[0m\u001b[0;34m\u001b[0m\u001b[0m\n\u001b[0m\u001b[1;32m    312\u001b[0m \u001b[0;34m\u001b[0m\u001b[0m\n\u001b[1;32m    313\u001b[0m     \u001b[0;34m@\u001b[0m\u001b[0mignore_unicode_prefix\u001b[0m\u001b[0;34m\u001b[0m\u001b[0m\n",
      "\u001b[0;32m/home/ec2-user/spark/python/pyspark/rdd.pyc\u001b[0m in \u001b[0;36m_load_from_socket\u001b[0;34m(port, serializer)\u001b[0m\n\u001b[1;32m    140\u001b[0m     \u001b[0;32mtry\u001b[0m\u001b[0;34m:\u001b[0m\u001b[0;34m\u001b[0m\u001b[0m\n\u001b[1;32m    141\u001b[0m         \u001b[0mrf\u001b[0m \u001b[0;34m=\u001b[0m \u001b[0msock\u001b[0m\u001b[0;34m.\u001b[0m\u001b[0mmakefile\u001b[0m\u001b[0;34m(\u001b[0m\u001b[0;34m\"rb\"\u001b[0m\u001b[0;34m,\u001b[0m \u001b[0;36m65536\u001b[0m\u001b[0;34m)\u001b[0m\u001b[0;34m\u001b[0m\u001b[0m\n\u001b[0;32m--> 142\u001b[0;31m         \u001b[0;32mfor\u001b[0m \u001b[0mitem\u001b[0m \u001b[0;32min\u001b[0m \u001b[0mserializer\u001b[0m\u001b[0;34m.\u001b[0m\u001b[0mload_stream\u001b[0m\u001b[0;34m(\u001b[0m\u001b[0mrf\u001b[0m\u001b[0;34m)\u001b[0m\u001b[0;34m:\u001b[0m\u001b[0;34m\u001b[0m\u001b[0m\n\u001b[0m\u001b[1;32m    143\u001b[0m             \u001b[0;32myield\u001b[0m \u001b[0mitem\u001b[0m\u001b[0;34m\u001b[0m\u001b[0m\n\u001b[1;32m    144\u001b[0m     \u001b[0;32mfinally\u001b[0m\u001b[0;34m:\u001b[0m\u001b[0;34m\u001b[0m\u001b[0m\n",
      "\u001b[0;32m/home/ec2-user/spark/python/pyspark/serializers.pyc\u001b[0m in \u001b[0;36mload_stream\u001b[0;34m(self, stream)\u001b[0m\n\u001b[1;32m    137\u001b[0m         \u001b[0;32mwhile\u001b[0m \u001b[0mTrue\u001b[0m\u001b[0;34m:\u001b[0m\u001b[0;34m\u001b[0m\u001b[0m\n\u001b[1;32m    138\u001b[0m             \u001b[0;32mtry\u001b[0m\u001b[0;34m:\u001b[0m\u001b[0;34m\u001b[0m\u001b[0m\n\u001b[0;32m--> 139\u001b[0;31m                 \u001b[0;32myield\u001b[0m \u001b[0mself\u001b[0m\u001b[0;34m.\u001b[0m\u001b[0m_read_with_length\u001b[0m\u001b[0;34m(\u001b[0m\u001b[0mstream\u001b[0m\u001b[0;34m)\u001b[0m\u001b[0;34m\u001b[0m\u001b[0m\n\u001b[0m\u001b[1;32m    140\u001b[0m             \u001b[0;32mexcept\u001b[0m \u001b[0mEOFError\u001b[0m\u001b[0;34m:\u001b[0m\u001b[0;34m\u001b[0m\u001b[0m\n\u001b[1;32m    141\u001b[0m                 \u001b[0;32mreturn\u001b[0m\u001b[0;34m\u001b[0m\u001b[0m\n",
      "\u001b[0;32m/home/ec2-user/spark/python/pyspark/serializers.pyc\u001b[0m in \u001b[0;36m_read_with_length\u001b[0;34m(self, stream)\u001b[0m\n\u001b[1;32m    162\u001b[0m         \u001b[0;32mif\u001b[0m \u001b[0mlen\u001b[0m\u001b[0;34m(\u001b[0m\u001b[0mobj\u001b[0m\u001b[0;34m)\u001b[0m \u001b[0;34m<\u001b[0m \u001b[0mlength\u001b[0m\u001b[0;34m:\u001b[0m\u001b[0;34m\u001b[0m\u001b[0m\n\u001b[1;32m    163\u001b[0m             \u001b[0;32mraise\u001b[0m \u001b[0mEOFError\u001b[0m\u001b[0;34m\u001b[0m\u001b[0m\n\u001b[0;32m--> 164\u001b[0;31m         \u001b[0;32mreturn\u001b[0m \u001b[0mself\u001b[0m\u001b[0;34m.\u001b[0m\u001b[0mloads\u001b[0m\u001b[0;34m(\u001b[0m\u001b[0mobj\u001b[0m\u001b[0;34m)\u001b[0m\u001b[0;34m\u001b[0m\u001b[0m\n\u001b[0m\u001b[1;32m    165\u001b[0m \u001b[0;34m\u001b[0m\u001b[0m\n\u001b[1;32m    166\u001b[0m     \u001b[0;32mdef\u001b[0m \u001b[0mdumps\u001b[0m\u001b[0;34m(\u001b[0m\u001b[0mself\u001b[0m\u001b[0;34m,\u001b[0m \u001b[0mobj\u001b[0m\u001b[0;34m)\u001b[0m\u001b[0;34m:\u001b[0m\u001b[0;34m\u001b[0m\u001b[0m\n",
      "\u001b[0;32m/home/ec2-user/spark/python/pyspark/serializers.pyc\u001b[0m in \u001b[0;36mloads\u001b[0;34m(self, obj, encoding)\u001b[0m\n\u001b[1;32m    420\u001b[0m     \u001b[0;32melse\u001b[0m\u001b[0;34m:\u001b[0m\u001b[0;34m\u001b[0m\u001b[0m\n\u001b[1;32m    421\u001b[0m         \u001b[0;32mdef\u001b[0m \u001b[0mloads\u001b[0m\u001b[0;34m(\u001b[0m\u001b[0mself\u001b[0m\u001b[0;34m,\u001b[0m \u001b[0mobj\u001b[0m\u001b[0;34m,\u001b[0m \u001b[0mencoding\u001b[0m\u001b[0;34m=\u001b[0m\u001b[0mNone\u001b[0m\u001b[0;34m)\u001b[0m\u001b[0;34m:\u001b[0m\u001b[0;34m\u001b[0m\u001b[0m\n\u001b[0;32m--> 422\u001b[0;31m             \u001b[0;32mreturn\u001b[0m \u001b[0mpickle\u001b[0m\u001b[0;34m.\u001b[0m\u001b[0mloads\u001b[0m\u001b[0;34m(\u001b[0m\u001b[0mobj\u001b[0m\u001b[0;34m)\u001b[0m\u001b[0;34m\u001b[0m\u001b[0m\n\u001b[0m\u001b[1;32m    423\u001b[0m \u001b[0;34m\u001b[0m\u001b[0m\n\u001b[1;32m    424\u001b[0m \u001b[0;34m\u001b[0m\u001b[0m\n",
      "\u001b[0;32m/home/ec2-user/spark/python/pyspark/sql/types.pyc\u001b[0m in \u001b[0;36m<lambda>\u001b[0;34m(*a)\u001b[0m\n\u001b[1;32m   1352\u001b[0m \u001b[0;31m# This is used to unpickle a Row from JVM\u001b[0m\u001b[0;34m\u001b[0m\u001b[0;34m\u001b[0m\u001b[0m\n\u001b[1;32m   1353\u001b[0m \u001b[0;32mdef\u001b[0m \u001b[0m_create_row_inbound_converter\u001b[0m\u001b[0;34m(\u001b[0m\u001b[0mdataType\u001b[0m\u001b[0;34m)\u001b[0m\u001b[0;34m:\u001b[0m\u001b[0;34m\u001b[0m\u001b[0m\n\u001b[0;32m-> 1354\u001b[0;31m     \u001b[0;32mreturn\u001b[0m \u001b[0;32mlambda\u001b[0m \u001b[0;34m*\u001b[0m\u001b[0ma\u001b[0m\u001b[0;34m:\u001b[0m \u001b[0mdataType\u001b[0m\u001b[0;34m.\u001b[0m\u001b[0mfromInternal\u001b[0m\u001b[0;34m(\u001b[0m\u001b[0ma\u001b[0m\u001b[0;34m)\u001b[0m\u001b[0;34m\u001b[0m\u001b[0m\n\u001b[0m\u001b[1;32m   1355\u001b[0m \u001b[0;34m\u001b[0m\u001b[0m\n\u001b[1;32m   1356\u001b[0m \u001b[0;34m\u001b[0m\u001b[0m\n",
      "\u001b[0;32m/home/ec2-user/spark/python/pyspark/sql/types.pyc\u001b[0m in \u001b[0;36mfromInternal\u001b[0;34m(self, obj)\u001b[0m\n\u001b[1;32m    598\u001b[0m             \u001b[0;32mreturn\u001b[0m \u001b[0mobj\u001b[0m\u001b[0;34m\u001b[0m\u001b[0m\n\u001b[1;32m    599\u001b[0m         \u001b[0;32mif\u001b[0m \u001b[0mself\u001b[0m\u001b[0;34m.\u001b[0m\u001b[0m_needSerializeAnyField\u001b[0m\u001b[0;34m:\u001b[0m\u001b[0;34m\u001b[0m\u001b[0m\n\u001b[0;32m--> 600\u001b[0;31m             \u001b[0mvalues\u001b[0m \u001b[0;34m=\u001b[0m \u001b[0;34m[\u001b[0m\u001b[0mf\u001b[0m\u001b[0;34m.\u001b[0m\u001b[0mfromInternal\u001b[0m\u001b[0;34m(\u001b[0m\u001b[0mv\u001b[0m\u001b[0;34m)\u001b[0m \u001b[0;32mfor\u001b[0m \u001b[0mf\u001b[0m\u001b[0;34m,\u001b[0m \u001b[0mv\u001b[0m \u001b[0;32min\u001b[0m \u001b[0mzip\u001b[0m\u001b[0;34m(\u001b[0m\u001b[0mself\u001b[0m\u001b[0;34m.\u001b[0m\u001b[0mfields\u001b[0m\u001b[0;34m,\u001b[0m \u001b[0mobj\u001b[0m\u001b[0;34m)\u001b[0m\u001b[0;34m]\u001b[0m\u001b[0;34m\u001b[0m\u001b[0m\n\u001b[0m\u001b[1;32m    601\u001b[0m         \u001b[0;32melse\u001b[0m\u001b[0;34m:\u001b[0m\u001b[0;34m\u001b[0m\u001b[0m\n\u001b[1;32m    602\u001b[0m             \u001b[0mvalues\u001b[0m \u001b[0;34m=\u001b[0m \u001b[0mobj\u001b[0m\u001b[0;34m\u001b[0m\u001b[0m\n",
      "\u001b[0;31mKeyboardInterrupt\u001b[0m: (None, <function <lambda> at 0x7f1eb8be9938>, (u'Cuviers', 1, 0, 1302677247885388, 1302677245664569))"
     ]
    }
   ],
   "source": [
    "#expand.createOr\n",
    "pairs=expand.collect()\n",
    "pairs[1]"
   ]
  },
  {
   "cell_type": "code",
   "execution_count": 113,
   "metadata": {
    "collapsed": false
   },
   "outputs": [
    {
     "name": "stdout",
     "output_type": "stream",
     "text": [
      "new site 0\n",
      "new site 3478055\n",
      "6300000 \r"
     ]
    },
    {
     "data": {
      "text/plain": [
       "([5.16865,\n",
       "  20.207203,\n",
       "  0.509915,\n",
       "  76.753788,\n",
       "  1.104158,\n",
       "  0.399304,\n",
       "  6.384284,\n",
       "  0.520627,\n",
       "  0.695671,\n",
       "  2.330806],\n",
       " [0, 3478055])"
      ]
     },
     "execution_count": 113,
     "metadata": {},
     "output_type": "execute_result"
    }
   ],
   "source": [
    "diff=[]\n",
    "sites=[]\n",
    "i=0;\n",
    "for r in pairs:\n",
    "    if r.prev is None:\n",
    "        print 'new site',i\n",
    "        sites.append(i)\n",
    "        continue\n",
    "    diff.append((r.current-r.prev).total_seconds())\n",
    "    i+=1\n",
    "    if i%100000==0:\n",
    "        print i,'\\r',\n",
    "diff[:10], sites"
   ]
  },
  {
   "cell_type": "code",
   "execution_count": 115,
   "metadata": {
    "collapsed": false
   },
   "outputs": [
    {
     "data": {
      "text/plain": [
       "[0.340564,\n",
       " 183.243434,\n",
       " 0.360448,\n",
       " 2.000794,\n",
       " 0.224229,\n",
       " 0.322942,\n",
       " 0.288733,\n",
       " 0.282346,\n",
       " 0.320678,\n",
       " 0.230335]"
      ]
     },
     "execution_count": 115,
     "metadata": {},
     "output_type": "execute_result"
    }
   ],
   "source": [
    "diff[-10:]"
   ]
  },
  {
   "cell_type": "code",
   "execution_count": 116,
   "metadata": {
    "collapsed": false
   },
   "outputs": [],
   "source": [
    "adiff=np.array(diff)"
   ]
  },
  {
   "cell_type": "code",
   "execution_count": 124,
   "metadata": {
    "collapsed": false
   },
   "outputs": [
    {
     "data": {
      "text/plain": [
       "array([ 3286569.950581,  2215608.044567,  1616404.238263,  1467938.455337,\n",
       "        1243815.925264,  1102038.05046 ,   975306.587567,   948201.111787,\n",
       "         854235.63025 ,   812123.235174])"
      ]
     },
     "execution_count": 124,
     "metadata": {},
     "output_type": "execute_result"
    }
   ],
   "source": [
    "adiff.sort()\n",
    "adiff=adiff[::-1]\n",
    "adiff[:10]"
   ]
  },
  {
   "cell_type": "code",
   "execution_count": 127,
   "metadata": {
    "collapsed": false
   },
   "outputs": [
    {
     "data": {
      "text/plain": [
       "[<matplotlib.lines.Line2D at 0x7f1dd4f76550>]"
      ]
     },
     "execution_count": 127,
     "metadata": {},
     "output_type": "execute_result"
    },
    {
     "data": {
      "image/png": "[encoded data removed]",
      "text/plain": [
       "<matplotlib.figure.Figure at 0x7f1eb8bdbb90>"
      ]
     },
     "metadata": {},
     "output_type": "display_data"
    }
   ],
   "source": [
    "loglog(adiff[:100000])"
   ]
  },
  {
   "cell_type": "code",
   "execution_count": 131,
   "metadata": {
    "collapsed": false
   },
   "outputs": [
    {
     "data": {
      "text/plain": [
       "6221"
      ]
     },
     "execution_count": 131,
     "metadata": {},
     "output_type": "execute_result"
    }
   ],
   "source": [
    "sum(adiff>40*60)"
   ]
  },
  {
   "cell_type": "code",
   "execution_count": 269,
   "metadata": {
    "collapsed": false
   },
   "outputs": [],
   "source": [
    "st=sort(times_array[1:]-times_array[:-1])"
   ]
  },
  {
   "cell_type": "code",
   "execution_count": 273,
   "metadata": {
    "collapsed": false
   },
   "outputs": [
    {
     "data": {
      "text/plain": [
       "[3, 2, 1]"
      ]
     },
     "execution_count": 273,
     "metadata": {},
     "output_type": "execute_result"
    }
   ],
   "source": [
    "a=[1,2,3]\n",
    "a.reverse()\n",
    "a"
   ]
  },
  {
   "cell_type": "code",
   "execution_count": null,
   "metadata": {
    "collapsed": true
   },
   "outputs": [],
   "source": [
    "[1,2,3].reverse"
   ]
  },
  {
   "cell_type": "code",
   "execution_count": 275,
   "metadata": {
    "collapsed": false
   },
   "outputs": [
    {
     "data": {
      "text/plain": [
       "[12198011.460947,\n",
       " 11125207.962398,\n",
       " 2558266.29093,\n",
       " 1649921.091146,\n",
       " 603516.794639,\n",
       " 526309.618293,\n",
       " 298048.448728,\n",
       " 181301.964808,\n",
       " 165656.691039,\n",
       " 162366.666418]"
      ]
     },
     "execution_count": 275,
     "metadata": {},
     "output_type": "execute_result"
    }
   ],
   "source": [
    "st_sec=[t.total_seconds() for t in st]\n",
    "st_sec.reverse()\n",
    "st_sec[:10]"
   ]
  },
  {
   "cell_type": "code",
   "execution_count": 289,
   "metadata": {
    "collapsed": false
   },
   "outputs": [
    {
     "data": {
      "text/plain": [
       "4963043"
      ]
     },
     "execution_count": 289,
     "metadata": {},
     "output_type": "execute_result"
    },
    {
     "data": {
      "image/png": "[encoded data removed]",
      "text/plain": [
       "<matplotlib.figure.Figure at 0x7fd7b2a3f1d0>"
      ]
     },
     "metadata": {},
     "output_type": "display_data"
    }
   ],
   "source": [
    "loglog(st_sec[:5000])\n",
    "len(st_sec)"
   ]
  },
  {
   "cell_type": "code",
   "execution_count": 290,
   "metadata": {
    "collapsed": false
   },
   "outputs": [
    {
     "data": {
      "text/plain": [
       "[<matplotlib.lines.Line2D at 0x7fd7b2927250>]"
      ]
     },
     "execution_count": 290,
     "metadata": {},
     "output_type": "execute_result"
    },
    {
     "data": {
      "image/png": "[encoded data removed]",
      "text/plain": [
       "<matplotlib.figure.Figure at 0x7fd7b2af04d0>"
      ]
     },
     "metadata": {},
     "output_type": "display_data"
    }
   ],
   "source": [
    "st_sec[4000]\n",
    "plot(st_sec[4000:5000])"
   ]
  },
  {
   "cell_type": "markdown",
   "metadata": {},
   "source": [
    "Group by time, then find groups that contain more than one element.\n",
    "\n",
    "sort by time, translate time to float, collect time/index into list, find all equalities."
   ]
  },
  {
   "cell_type": "code",
   "execution_count": 66,
   "metadata": {
    "collapsed": false
   },
   "outputs": [],
   "source": [
    "C=df.groupBy(['site','time']).count()"
   ]
  },
  {
   "cell_type": "code",
   "execution_count": 67,
   "metadata": {
    "collapsed": false
   },
   "outputs": [
    {
     "data": {
      "text/plain": [
       "['site', 'time', 'count']"
      ]
     },
     "execution_count": 67,
     "metadata": {},
     "output_type": "execute_result"
    }
   ],
   "source": [
    "C.columns"
   ]
  },
  {
   "cell_type": "code",
   "execution_count": 77,
   "metadata": {
    "collapsed": false,
    "scrolled": false
   },
   "outputs": [],
   "source": [
    "doubles=C.filter(\"count>1\")"
   ]
  },
  {
   "cell_type": "code",
   "execution_count": 78,
   "metadata": {
    "collapsed": false
   },
   "outputs": [
    {
     "data": {
      "text/plain": [
       "111649"
      ]
     },
     "execution_count": 78,
     "metadata": {},
     "output_type": "execute_result"
    }
   ],
   "source": [
    "doubles.count()"
   ]
  },
  {
   "cell_type": "code",
   "execution_count": 101,
   "metadata": {
    "collapsed": false,
    "scrolled": true
   },
   "outputs": [
    {
     "data": {
      "text/plain": [
       "['site',\n",
       " 'time',\n",
       " 'count',\n",
       " 'species',\n",
       " 'rec_no',\n",
       " 'bout_i',\n",
       " 'peak2peak',\n",
       " 'MSN',\n",
       " 'MSP',\n",
       " 'TPWS1',\n",
       " 'MD1',\n",
       " 'FD1',\n",
       " 'TPWS2',\n",
       " 'MD2',\n",
       " 'FD2',\n",
       " 'TPWS3',\n",
       " 'MD3',\n",
       " 'FD3']"
      ]
     },
     "execution_count": 101,
     "metadata": {},
     "output_type": "execute_result"
    }
   ],
   "source": [
    "X=doubles.join(df,['site','time'])\n",
    "X.columns"
   ]
  },
  {
   "cell_type": "code",
   "execution_count": null,
   "metadata": {
    "collapsed": true
   },
   "outputs": [],
   "source": [
    "pairs=X.select('site','time','bout_i','species','TPWS1','TPWS2').collect()"
   ]
  },
  {
   "cell_type": "code",
   "execution_count": 130,
   "metadata": {
    "collapsed": true
   },
   "outputs": [
    {
     "data": {
      "text/plain": [
       "[(37, u'Cuviers', 1, 1),\n",
       " (36, u'Gervais', 1, 0),\n",
       " (37, u'Cuviers', 1, 1),\n",
       " (36, u'Gervais', 1, 0),\n",
       " (37, u'Cuviers', 1, 1),\n",
       " (36, u'Gervais', 1, 0),\n",
       " (37, u'Cuviers', 1, 1),\n",
       " (36, u'Gervais', 1, 1),\n",
       " (37, u'Cuviers', 1, 0),\n",
       " (36, u'Gervais', 1, 1),\n",
       " (41, u'Cuviers', 1, 0),\n",
       " (40, u'Gervais', 1, 1),\n",
       " (41, u'Gervais', 1, 1),\n",
       " (43, u'Cuviers', 1, 1),\n",
       " (41, u'Gervais', 1, 1),\n",
       " (43, u'Cuviers', 1, 0),\n",
       " (41, u'Gervais', 1, 1),\n",
       " (43, u'Cuviers', 1, 0),\n",
       " (53, u'Gervais', 1, 1),\n",
       " (46, u'Cuviers', 1, 0),\n",
       " (49, u'Cuviers', 1, 1),\n",
       " (66, u'Gervais', 1, 0),\n",
       " (60, u'Cuviers', 1, 1),\n",
       " (75, u'Gervais', 1, 1),\n",
       " (63, u'Cuviers', 1, 1),\n",
       " (77, u'Gervais', 1, 1),\n",
       " (63, u'Cuviers', 1, 0),\n",
       " (77, u'Gervais', 1, 1),\n",
       " (65, u'Cuviers', 1, 0),\n",
       " (79, u'Gervais', 1, 1),\n",
       " (65, u'Cuviers', 1, 0),\n",
       " (79, u'Gervais', 1, 1),\n",
       " (65, u'Cuviers', 1, 1),\n",
       " (79, u'Gervais', 1, 0),\n",
       " (65, u'Cuviers', 1, 1),\n",
       " (79, u'Gervais', 1, 0),\n",
       " (65, u'Cuviers', 1, 1),\n",
       " (79, u'Gervais', 1, 0),\n",
       " (65, u'Cuviers', 1, 1),\n",
       " (79, u'Gervais', 1, 0),\n",
       " (84, u'Gervais', 1, 1),\n",
       " (74, u'Cuviers', 1, 0),\n",
       " (91, u'Gervais', 1, 0),\n",
       " (87, u'Cuviers', 1, 1),\n",
       " (95, u'Gervais', 1, 1),\n",
       " (91, u'Cuviers', 1, 0),\n",
       " (95, u'Gervais', 1, 0),\n",
       " (91, u'Cuviers', 1, 1),\n",
       " (105, u'Gervais', 1, 0),\n",
       " (105, u'Cuviers', 1, 1),\n",
       " (105, u'Gervais', 1, 0),\n",
       " (105, u'Cuviers', 1, 1),\n",
       " (106, u'Gervais', 1, 0),\n",
       " (111, u'Cuviers', 0, 1),\n",
       " (106, u'Gervais', 1, 0),\n",
       " (111, u'Cuviers', 1, 1),\n",
       " (141, u'Gervais', 1, 1),\n",
       " (133, u'Cuviers', 1, 0),\n",
       " (139, u'Cuviers', 1, 1),\n",
       " (151, u'Gervais', 1, 0),\n",
       " (139, u'Cuviers', 1, 1),\n",
       " (151, u'Gervais', 1, 0),\n",
       " (139, u'Cuviers', 1, 1),\n",
       " (151, u'Gervais', 1, 0),\n",
       " (139, u'Cuviers', 1, 1),\n",
       " (151, u'Gervais', 1, 0),\n",
       " (140, u'Cuviers', 1, 0),\n",
       " (153, u'Gervais', 1, 1),\n",
       " (140, u'Cuviers', 1, 0),\n",
       " (153, u'Gervais', 1, 0),\n",
       " (140, u'Cuviers', 1, 0),\n",
       " (153, u'Gervais', 1, 0),\n",
       " (140, u'Cuviers', 1, 0),\n",
       " (153, u'Gervais', 1, 0),\n",
       " (140, u'Cuviers', 1, 0),\n",
       " (153, u'Gervais', 1, 0),\n",
       " (140, u'Cuviers', 1, 0),\n",
       " (153, u'Gervais', 1, 0),\n",
       " (140, u'Cuviers', 1, 0),\n",
       " (153, u'Gervais', 1, 0),\n",
       " (140, u'Cuviers', 1, 0),\n",
       " (153, u'Gervais', 1, 0),\n",
       " (140, u'Cuviers', 1, 0),\n",
       " (153, u'Gervais', 1, 0),\n",
       " (140, u'Cuviers', 1, 0),\n",
       " (153, u'Gervais', 1, 0),\n",
       " (140, u'Cuviers', 1, 0),\n",
       " (153, u'Gervais', 1, 0),\n",
       " (140, u'Cuviers', 1, 0),\n",
       " (153, u'Gervais', 1, 0),\n",
       " (146, u'Cuviers', 1, 1),\n",
       " (159, u'Gervais', 1, 0),\n",
       " (146, u'Cuviers', 1, 1),\n",
       " (159, u'Gervais', 1, 0),\n",
       " (146, u'Cuviers', 1, 1),\n",
       " (159, u'Gervais', 1, 0),\n",
       " (155, u'Cuviers', 1, 1),\n",
       " (192, u'Gervais', 1, 0),\n",
       " (155, u'Cuviers', 1, 0),\n",
       " (192, u'Gervais', 1, 1),\n",
       " (155, u'Cuviers', 1, 0),\n",
       " (192, u'Gervais', 1, 1),\n",
       " (155, u'Cuviers', 1, 0),\n",
       " (192, u'Gervais', 1, 1),\n",
       " (155, u'Cuviers', 1, 0),\n",
       " (192, u'Gervais', 1, 1),\n",
       " (155, u'Cuviers', 1, 0),\n",
       " (192, u'Gervais', 1, 1),\n",
       " (155, u'Cuviers', 1, 0),\n",
       " (192, u'Gervais', 1, 1),\n",
       " (155, u'Cuviers', 1, 0),\n",
       " (192, u'Gervais', 1, 1),\n",
       " (155, u'Cuviers', 1, 0),\n",
       " (192, u'Gervais', 1, 1),\n",
       " (155, u'Cuviers', 1, 0),\n",
       " (192, u'Gervais', 1, 1),\n",
       " (155, u'Cuviers', 1, 0),\n",
       " (192, u'Gervais', 1, 1),\n",
       " (155, u'Cuviers', 1, 0),\n",
       " (192, u'Gervais', 1, 1),\n",
       " (155, u'Cuviers', 1, 0),\n",
       " (192, u'Gervais', 1, 1),\n",
       " (155, u'Cuviers', 1, 0),\n",
       " (192, u'Gervais', 1, 1),\n",
       " (155, u'Cuviers', 1, 0),\n",
       " (192, u'Gervais', 1, 1),\n",
       " (155, u'Cuviers', 1, 1),\n",
       " (192, u'Gervais', 1, 0),\n",
       " (155, u'Cuviers', 1, 1),\n",
       " (192, u'Gervais', 1, 0),\n",
       " (155, u'Cuviers', 1, 1),\n",
       " (192, u'Gervais', 1, 0),\n",
       " (197, u'Gervais', 1, 1),\n",
       " (161, u'Cuviers', 1, 0),\n",
       " (197, u'Gervais', 1, 1),\n",
       " (161, u'Cuviers', 1, 0),\n",
       " (205, u'Gervais', 1, 0),\n",
       " (165, u'Cuviers', 1, 1),\n",
       " (206, u'Gervais', 1, 1),\n",
       " (167, u'Cuviers', 1, 0),\n",
       " (210, u'Gervais', 1, 1),\n",
       " (172, u'Cuviers', 1, 1),\n",
       " (0, u'Gervais', 1, 0),\n",
       " (0, u'Cuviers', 1, 1),\n",
       " (30, u'Gervais', 0, 1),\n",
       " (28, u'Cuviers', 1, 0),\n",
       " (30, u'Gervais', 0, 1),\n",
       " (28, u'Cuviers', 1, 0),\n",
       " (30, u'Gervais', 0, 1),\n",
       " (28, u'Cuviers', 1, 0),\n",
       " (30, u'Gervais', 0, 1),\n",
       " (28, u'Cuviers', 1, 0),\n",
       " (30, u'Gervais', 1, 1),\n",
       " (28, u'Cuviers', 1, 0),\n",
       " (30, u'Gervais', 1, 1),\n",
       " (28, u'Cuviers', 1, 0),\n",
       " (30, u'Gervais', 1, 1),\n",
       " (28, u'Cuviers', 1, 0),\n",
       " (30, u'Gervais', 1, 1),\n",
       " (28, u'Cuviers', 1, 0),\n",
       " (35, u'Gervais', 1, 0),\n",
       " (38, u'Cuviers', 1, 0),\n",
       " (35, u'Gervais', 1, 0),\n",
       " (38, u'Cuviers', 1, 0),\n",
       " (39, u'Gervais', 1, 0),\n",
       " (49, u'Cuviers', 1, 1),\n",
       " (39, u'Gervais', 1, 0),\n",
       " (49, u'Cuviers', 1, 1),\n",
       " (39, u'Gervais', 1, 0),\n",
       " (49, u'Cuviers', 1, 1),\n",
       " (40, u'Gervais', 1, 0),\n",
       " (50, u'Cuviers', 1, 1),\n",
       " (56, u'Gervais', 1, 1),\n",
       " (57, u'Cuviers', 1, 0),\n",
       " (56, u'Gervais', 1, 0),\n",
       " (57, u'Cuviers', 1, 1),\n",
       " (124, u'Cuviers', 1, 1),\n",
       " (89, u'Gervais', 1, 1),\n",
       " (124, u'Cuviers', 0, 1),\n",
       " (89, u'Gervais', 1, 0),\n",
       " (124, u'Cuviers', 0, 1),\n",
       " (89, u'Gervais', 1, 0),\n",
       " (126, u'Cuviers', 1, 0),\n",
       " (90, u'Gervais', 1, 0),\n",
       " (126, u'Cuviers', 1, 0),\n",
       " (90, u'Gervais', 1, 1),\n",
       " (126, u'Cuviers', 1, 0),\n",
       " (90, u'Gervais', 1, 0),\n",
       " (126, u'Cuviers', 1, 0),\n",
       " (90, u'Gervais', 1, 1),\n",
       " (126, u'Cuviers', 1, 0),\n",
       " (90, u'Gervais', 1, 1),\n",
       " (126, u'Cuviers', 1, 1),\n",
       " (90, u'Gervais', 1, 0),\n",
       " (126, u'Cuviers', 1, 1),\n",
       " (90, u'Gervais', 1, 0),\n",
       " (126, u'Cuviers', 1, 0),\n",
       " (90, u'Gervais', 1, 1),\n",
       " (126, u'Cuviers', 1, 0),\n",
       " (90, u'Gervais', 1, 0),\n",
       " (126, u'Cuviers', 1, 0),\n",
       " (90, u'Gervais', 1, 1),\n",
       " (126, u'Cuviers', 1, 0),\n",
       " (90, u'Gervais', 1, 0),\n",
       " (126, u'Cuviers', 1, 0),\n",
       " (90, u'Gervais', 1, 0),\n",
       " (126, u'Cuviers', 1, 0),\n",
       " (90, u'Gervais', 1, 0),\n",
       " (126, u'Cuviers', 1, 0),\n",
       " (90, u'Gervais', 1, 0),\n",
       " (126, u'Cuviers', 1, 0),\n",
       " (90, u'Gervais', 1, 0),\n",
       " (126, u'Cuviers', 1, 0),\n",
       " (90, u'Gervais', 1, 0),\n",
       " (126, u'Cuviers', 1, 0),\n",
       " (90, u'Gervais', 1, 0),\n",
       " (126, u'Cuviers', 1, 0),\n",
       " (90, u'Gervais', 1, 0),\n",
       " (126, u'Cuviers', 1, 0),\n",
       " (90, u'Gervais', 1, 0),\n",
       " (174, u'Cuviers', 0, 1),\n",
       " (99, u'Gervais', 1, 0),\n",
       " (174, u'Cuviers', 1, 1),\n",
       " (99, u'Gervais', 1, 0),\n",
       " (178, u'Cuviers', 1, 0),\n",
       " (105, u'Gervais', 1, 0),\n",
       " (178, u'Cuviers', 1, 0),\n",
       " (105, u'Gervais', 1, 0),\n",
       " (178, u'Cuviers', 1, 0),\n",
       " (105, u'Gervais', 1, 0),\n",
       " (178, u'Cuviers', 1, 0),\n",
       " (105, u'Gervais', 1, 0),\n",
       " (192, u'Cuviers', 1, 0),\n",
       " (116, u'Gervais', 1, 0),\n",
       " (192, u'Cuviers', 1, 0),\n",
       " (116, u'Gervais', 1, 0),\n",
       " (192, u'Cuviers', 1, 0),\n",
       " (116, u'Gervais', 1, 0),\n",
       " (192, u'Cuviers', 1, 0),\n",
       " (116, u'Gervais', 1, 0),\n",
       " (192, u'Cuviers', 1, 0),\n",
       " (116, u'Gervais', 1, 0),\n",
       " (193, u'Cuviers', 1, 1),\n",
       " (117, u'Gervais', 1, 0),\n",
       " (193, u'Cuviers', 1, 1),\n",
       " (117, u'Gervais', 1, 0),\n",
       " (209, u'Cuviers', 1, 0),\n",
       " (123, u'Gervais', 0, 1),\n",
       " (209, u'Cuviers', 1, 0),\n",
       " (123, u'Gervais', 0, 1),\n",
       " (265, u'Cuviers', 1, 0),\n",
       " (133, u'Gervais', 1, 1),\n",
       " (139, u'Gervais', 1, 1),\n",
       " (295, u'Cuviers', 1, 0),\n",
       " (139, u'Gervais', 1, 1),\n",
       " (295, u'Cuviers', 1, 0),\n",
       " (139, u'Gervais', 1, 1),\n",
       " (295, u'Cuviers', 1, 0),\n",
       " (139, u'Gervais', 1, 1),\n",
       " (295, u'Cuviers', 1, 0),\n",
       " (139, u'Gervais', 1, 0),\n",
       " (295, u'Cuviers', 1, 1),\n",
       " (335, u'Cuviers', 0, 1),\n",
       " (159, u'Gervais', 1, 0),\n",
       " (335, u'Cuviers', 0, 1),\n",
       " (159, u'Gervais', 1, 0),\n",
       " (335, u'Cuviers', 0, 1),\n",
       " (159, u'Gervais', 1, 0),\n",
       " (335, u'Cuviers', 0, 1),\n",
       " (159, u'Gervais', 1, 0),\n",
       " (172, u'Gervais', 0, 1),\n",
       " (349, u'Cuviers', 1, 0),\n",
       " (172, u'Gervais', 0, 1),\n",
       " (349, u'Cuviers', 1, 0),\n",
       " (172, u'Gervais', 0, 1),\n",
       " (349, u'Cuviers', 1, 0),\n",
       " (172, u'Gervais', 0, 1),\n",
       " (349, u'Cuviers', 1, 0),\n",
       " (179, u'Gervais', 1, 0),\n",
       " (372, u'Cuviers', 1, 1),\n",
       " (179, u'Gervais', 1, 0),\n",
       " (372, u'Cuviers', 1, 0),\n",
       " (194, u'Gervais', 1, 0),\n",
       " (396, u'Cuviers', 1, 0),\n",
       " (194, u'Gervais', 1, 0),\n",
       " (396, u'Cuviers', 1, 0),\n",
       " (194, u'Gervais', 1, 0),\n",
       " (396, u'Cuviers', 1, 0),\n",
       " (194, u'Gervais', 1, 0),\n",
       " (396, u'Cuviers', 1, 1),\n",
       " (194, u'Gervais', 1, 0),\n",
       " (396, u'Cuviers', 1, 1),\n",
       " (194, u'Gervais', 1, 0),\n",
       " (396, u'Cuviers', 1, 0),\n",
       " (194, u'Gervais', 1, 0),\n",
       " (396, u'Cuviers', 1, 0),\n",
       " (194, u'Gervais', 1, 0),\n",
       " (396, u'Cuviers', 1, 0),\n",
       " (194, u'Gervais', 1, 1),\n",
       " (396, u'Cuviers', 1, 0),\n",
       " (194, u'Gervais', 1, 1),\n",
       " (396, u'Cuviers', 1, 0),\n",
       " (194, u'Gervais', 1, 0),\n",
       " (396, u'Cuviers', 1, 0),\n",
       " (194, u'Gervais', 1, 0),\n",
       " (396, u'Cuviers', 1, 0),\n",
       " (194, u'Gervais', 1, 0),\n",
       " (396, u'Cuviers', 1, 0),\n",
       " (194, u'Gervais', 1, 0),\n",
       " (396, u'Cuviers', 1, 0),\n",
       " (194, u'Gervais', 1, 1),\n",
       " (396, u'Cuviers', 1, 0),\n",
       " (397, u'Cuviers', 0, 1),\n",
       " (196, u'Gervais', 1, 0),\n",
       " (397, u'Cuviers', 0, 1),\n",
       " (196, u'Gervais', 1, 0),\n",
       " (397, u'Cuviers', 0, 1),\n",
       " (196, u'Gervais', 1, 0),\n",
       " (397, u'Cuviers', 0, 1),\n",
       " (196, u'Gervais', 1, 0),\n",
       " (397, u'Cuviers', 0, 1),\n",
       " (196, u'Gervais', 1, 0),\n",
       " (397, u'Cuviers', 0, 1),\n",
       " (196, u'Gervais', 1, 0),\n",
       " (397, u'Cuviers', 0, 1),\n",
       " (196, u'Gervais', 1, 0),\n",
       " (402, u'Cuviers', 1, 0),\n",
       " (200, u'Gervais', 1, 0),\n",
       " (402, u'Cuviers', 1, 0),\n",
       " (200, u'Gervais', 1, 0),\n",
       " (402, u'Cuviers', 1, 1),\n",
       " (200, u'Gervais', 1, 0),\n",
       " (402, u'Cuviers', 1, 0),\n",
       " (200, u'Gervais', 1, 1),\n",
       " (402, u'Cuviers', 1, 0),\n",
       " (200, u'Gervais', 1, 1),\n",
       " (402, u'Cuviers', 1, 0),\n",
       " (200, u'Gervais', 1, 1),\n",
       " (402, u'Cuviers', 1, 0),\n",
       " (200, u'Gervais', 1, 0),\n",
       " (402, u'Cuviers', 1, 0),\n",
       " (200, u'Gervais', 1, 1),\n",
       " (402, u'Cuviers', 1, 0),\n",
       " (200, u'Gervais', 1, 1),\n",
       " (402, u'Cuviers', 1, 0),\n",
       " (200, u'Gervais', 1, 0),\n",
       " (402, u'Cuviers', 1, 0),\n",
       " (200, u'Gervais', 1, 1),\n",
       " (209, u'Gervais', 1, 1),\n",
       " (405, u'Cuviers', 1, 0),\n",
       " (9, u'Cuviers', 1, 0),\n",
       " (12, u'Gervais', 0, 1),\n",
       " (9, u'Cuviers', 1, 0),\n",
       " (12, u'Gervais', 0, 1),\n",
       " (9, u'Cuviers', 1, 0),\n",
       " (12, u'Gervais', 0, 1),\n",
       " (9, u'Cuviers', 1, 0),\n",
       " (12, u'Gervais', 0, 1),\n",
       " (9, u'Cuviers', 1, 0),\n",
       " (12, u'Gervais', 0, 1),\n",
       " (47, u'Gervais', 1, 1),\n",
       " (123, u'Cuviers', 1, 0),\n",
       " (47, u'Gervais', 1, 0),\n",
       " (123, u'Cuviers', 1, 0),\n",
       " (47, u'Gervais', 1, 0),\n",
       " (123, u'Cuviers', 1, 0),\n",
       " (47, u'Gervais', 1, 1),\n",
       " (123, u'Cuviers', 1, 0),\n",
       " (47, u'Gervais', 1, 0),\n",
       " (123, u'Cuviers', 1, 0),\n",
       " (50, u'Gervais', 1, 0),\n",
       " (151, u'Cuviers', 1, 1),\n",
       " (54, u'Gervais', 1, 1),\n",
       " (172, u'Cuviers', 1, 0),\n",
       " (95, u'Gervais', 1, 1),\n",
       " (218, u'Cuviers', 1, 0),\n",
       " (95, u'Gervais', 0, 1),\n",
       " (218, u'Cuviers', 1, 0),\n",
       " (95, u'Gervais', 0, 1),\n",
       " (218, u'Cuviers', 1, 0),\n",
       " (95, u'Gervais', 0, 1),\n",
       " (218, u'Cuviers', 1, 0),\n",
       " (96, u'Gervais', 1, 0),\n",
       " (219, u'Cuviers', 1, 1),\n",
       " (226, u'Cuviers', 1, 0),\n",
       " (107, u'Gervais', 0, 1),\n",
       " (226, u'Cuviers', 1, 0),\n",
       " (107, u'Gervais', 0, 1),\n",
       " (226, u'Cuviers', 1, 0),\n",
       " (107, u'Gervais', 0, 1),\n",
       " (226, u'Cuviers', 1, 0),\n",
       " (107, u'Gervais', 0, 1),\n",
       " (226, u'Cuviers', 1, 0),\n",
       " (107, u'Gervais', 0, 1),\n",
       " (226, u'Cuviers', 1, 0),\n",
       " (107, u'Gervais', 0, 1),\n",
       " (226, u'Cuviers', 1, 0),\n",
       " (107, u'Gervais', 0, 1),\n",
       " (246, u'Cuviers', 1, 0),\n",
       " (114, u'Gervais', 1, 1),\n",
       " (246, u'Cuviers', 1, 0),\n",
       " (114, u'Gervais', 1, 1),\n",
       " (246, u'Cuviers', 1, 0),\n",
       " (114, u'Gervais', 1, 0),\n",
       " (246, u'Cuviers', 1, 0),\n",
       " (114, u'Gervais', 1, 0),\n",
       " (263, u'Cuviers', 1, 0),\n",
       " (120, u'Gervais', 1, 1),\n",
       " (263, u'Cuviers', 1, 1),\n",
       " (120, u'Gervais', 1, 0),\n",
       " (263, u'Cuviers', 1, 1),\n",
       " (120, u'Gervais', 1, 0),\n",
       " (267, u'Cuviers', 1, 0),\n",
       " (138, u'Gervais', 1, 1),\n",
       " (287, u'Cuviers', 1, 0),\n",
       " (152, u'Gervais', 1, 1),\n",
       " (287, u'Cuviers', 1, 0),\n",
       " (152, u'Gervais', 1, 1),\n",
       " (287, u'Cuviers', 1, 0),\n",
       " (152, u'Gervais', 1, 1),\n",
       " (287, u'Cuviers', 1, 0),\n",
       " (152, u'Gervais', 0, 1),\n",
       " (287, u'Cuviers', 1, 0),\n",
       " (152, u'Gervais', 0, 1),\n",
       " (287, u'Cuviers', 1, 0),\n",
       " (152, u'Gervais', 0, 1),\n",
       " (161, u'Gervais', 1, 0),\n",
       " (308, u'Cuviers', 1, 1),\n",
       " (172, u'Gervais', 1, 1),\n",
       " (340, u'Cuviers', 1, 0),\n",
       " (172, u'Gervais', 1, 0),\n",
       " (340, u'Cuviers', 1, 1),\n",
       " (172, u'Gervais', 1, 0),\n",
       " (340, u'Cuviers', 1, 1),\n",
       " (172, u'Gervais', 1, 0),\n",
       " (340, u'Cuviers', 1, 1),\n",
       " (174, u'Gervais', 0, 1),\n",
       " (354, u'Cuviers', 1, 0),\n",
       " (174, u'Gervais', 0, 1),\n",
       " (354, u'Cuviers', 1, 0),\n",
       " (174, u'Gervais', 0, 1),\n",
       " (354, u'Cuviers', 1, 0),\n",
       " (174, u'Gervais', 0, 1),\n",
       " (354, u'Cuviers', 1, 0),\n",
       " (174, u'Gervais', 0, 1),\n",
       " (354, u'Cuviers', 1, 0),\n",
       " (174, u'Gervais', 0, 1),\n",
       " (354, u'Cuviers', 1, 0),\n",
       " (388, u'Cuviers', 0, 1),\n",
       " (182, u'Gervais', 1, 0),\n",
       " (388, u'Cuviers', 0, 1),\n",
       " (182, u'Gervais', 1, 0),\n",
       " (388, u'Cuviers', 0, 1),\n",
       " (182, u'Gervais', 1, 0),\n",
       " (195, u'Gervais', 1, 0),\n",
       " (398, u'Cuviers', 1, 1),\n",
       " (195, u'Gervais', 1, 0),\n",
       " (398, u'Cuviers', 1, 1),\n",
       " (201, u'Gervais', 0, 1),\n",
       " (420, u'Cuviers', 1, 0),\n",
       " (202, u'Gervais', 0, 1),\n",
       " (431, u'Cuviers', 1, 0),\n",
       " (436, u'Cuviers', 1, 0),\n",
       " (207, u'Gervais', 1, 1),\n",
       " (436, u'Cuviers', 1, 0),\n",
       " (207, u'Gervais', 1, 1),\n",
       " (436, u'Cuviers', 1, 0),\n",
       " (207, u'Gervais', 1, 1),\n",
       " (436, u'Cuviers', 1, 0),\n",
       " (207, u'Gervais', 1, 1),\n",
       " (436, u'Cuviers', 1, 0),\n",
       " (207, u'Gervais', 1, 1),\n",
       " (439, u'Cuviers', 1, 0),\n",
       " (208, u'Gervais', 0, 1),\n",
       " (439, u'Cuviers', 1, 0),\n",
       " (208, u'Gervais', 0, 1),\n",
       " (439, u'Cuviers', 1, 0),\n",
       " (208, u'Gervais', 0, 1),\n",
       " (439, u'Cuviers', 1, 0),\n",
       " (208, u'Gervais', 0, 1),\n",
       " (439, u'Cuviers', 1, 0),\n",
       " (208, u'Gervais', 0, 1),\n",
       " (439, u'Cuviers', 1, 0),\n",
       " (208, u'Gervais', 0, 1),\n",
       " (439, u'Cuviers', 1, 0),\n",
       " (208, u'Gervais', 0, 1),\n",
       " (439, u'Cuviers', 1, 0),\n",
       " (208, u'Gervais', 0, 1),\n",
       " (450, u'Cuviers', 1, 0),\n",
       " (217, u'Gervais', 1, 1),\n",
       " (472, u'Cuviers', 1, 0),\n",
       " (237, u'Gervais', 0, 1),\n",
       " (475, u'Cuviers', 1, 1),\n",
       " (239, u'Gervais', 1, 1),\n",
       " (476, u'Cuviers', 1, 0),\n",
       " (240, u'Gervais', 1, 1),\n",
       " (476, u'Cuviers', 1, 0),\n",
       " (240, u'Gervais', 1, 1),\n",
       " (479, u'Cuviers', 1, 0),\n",
       " (245, u'Gervais', 1, 1),\n",
       " (479, u'Cuviers', 1, 0),\n",
       " (245, u'Gervais', 1, 1),\n",
       " (479, u'Cuviers', 1, 1),\n",
       " (245, u'Gervais', 1, 0),\n",
       " (251, u'Gervais', 1, 0),\n",
       " (490, u'Cuviers', 1, 1),\n",
       " (254, u'Gervais', 1, 0),\n",
       " (494, u'Cuviers', 1, 1),\n",
       " (254, u'Gervais', 1, 1),\n",
       " (494, u'Cuviers', 1, 1),\n",
       " (261, u'Gervais', 0, 1),\n",
       " (508, u'Cuviers', 1, 0),\n",
       " (566, u'Cuviers', 1, 0),\n",
       " (280, u'Gervais', 1, 1),\n",
       " (566, u'Cuviers', 1, 0),\n",
       " (280, u'Gervais', 0, 1),\n",
       " (566, u'Cuviers', 1, 0),\n",
       " (280, u'Gervais', 0, 1),\n",
       " (7, u'Gervais', 1, 0),\n",
       " (35, u'Cuviers', 1, 1),\n",
       " (58, u'Cuviers', 1, 1),\n",
       " (22, u'Gervais', 1, 0),\n",
       " (58, u'Cuviers', 1, 0),\n",
       " (22, u'Gervais', 1, 1),\n",
       " (58, u'Cuviers', 1, 0),\n",
       " (22, u'Gervais', 1, 1),\n",
       " (64, u'Cuviers', 1, 1),\n",
       " (26, u'Gervais', 1, 0),\n",
       " (64, u'Cuviers', 1, 1),\n",
       " (26, u'Gervais', 1, 0),\n",
       " (64, u'Cuviers', 1, 0),\n",
       " (26, u'Gervais', 1, 1),\n",
       " (82, u'Cuviers', 1, 0),\n",
       " (52, u'Gervais', 1, 1),\n",
       " (50, u'Gervais', 1, 1),\n",
       " (83, u'Cuviers', 1, 0),\n",
       " (50, u'Gervais', 1, 1),\n",
       " (83, u'Cuviers', 1, 0),\n",
       " (50, u'Gervais', 1, 1),\n",
       " (83, u'Cuviers', 1, 0),\n",
       " (50, u'Gervais', 1, 1),\n",
       " (83, u'Cuviers', 1, 0),\n",
       " (50, u'Gervais', 1, 1),\n",
       " (83, u'Cuviers', 1, 0),\n",
       " (50, u'Gervais', 1, 0),\n",
       " (83, u'Cuviers', 1, 0),\n",
       " (50, u'Gervais', 1, 1),\n",
       " (83, u'Cuviers', 1, 0),\n",
       " (50, u'Gervais', 1, 0),\n",
       " (83, u'Cuviers', 1, 0),\n",
       " (50, u'Gervais', 1, 0),\n",
       " (83, u'Cuviers', 1, 0),\n",
       " (50, u'Gervais', 1, 0),\n",
       " (83, u'Cuviers', 1, 0),\n",
       " (50, u'Gervais', 1, 0),\n",
       " (83, u'Cuviers', 1, 0),\n",
       " (50, u'Gervais', 1, 0),\n",
       " (83, u'Cuviers', 1, 0),\n",
       " (50, u'Gervais', 1, 0),\n",
       " (83, u'Cuviers', 1, 0),\n",
       " (50, u'Gervais', 1, 0),\n",
       " (83, u'Cuviers', 1, 0),\n",
       " (50, u'Gervais', 1, 0),\n",
       " (83, u'Cuviers', 1, 0),\n",
       " (50, u'Gervais', 1, 0),\n",
       " (83, u'Cuviers', 1, 0),\n",
       " (50, u'Gervais', 1, 0),\n",
       " (83, u'Cuviers', 1, 0),\n",
       " (50, u'Gervais', 1, 0),\n",
       " (83, u'Cuviers', 1, 0),\n",
       " (50, u'Gervais', 1, 0),\n",
       " (83, u'Cuviers', 1, 0),\n",
       " (50, u'Gervais', 1, 0),\n",
       " (83, u'Cuviers', 1, 0),\n",
       " (50, u'Gervais', 1, 0),\n",
       " (83, u'Cuviers', 1, 0),\n",
       " (50, u'Gervais', 1, 0),\n",
       " (83, u'Cuviers', 1, 0),\n",
       " (50, u'Gervais', 1, 0),\n",
       " (83, u'Cuviers', 1, 0),\n",
       " (50, u'Gervais', 1, 0),\n",
       " (83, u'Cuviers', 1, 0),\n",
       " (104, u'Cuviers', 0, 1),\n",
       " (61, u'Gervais', 1, 0),\n",
       " (104, u'Cuviers', 0, 1),\n",
       " (61, u'Gervais', 1, 0),\n",
       " (104, u'Cuviers', 0, 1),\n",
       " (61, u'Gervais', 1, 0),\n",
       " (104, u'Cuviers', 0, 1),\n",
       " (61, u'Gervais', 1, 0),\n",
       " (106, u'Cuviers', 1, 0),\n",
       " (64, u'Gervais', 0, 1),\n",
       " (106, u'Cuviers', 1, 0),\n",
       " (64, u'Gervais', 0, 1),\n",
       " (106, u'Cuviers', 1, 0),\n",
       " (64, u'Gervais', 0, 1),\n",
       " (106, u'Cuviers', 1, 0),\n",
       " (64, u'Gervais', 0, 1),\n",
       " (106, u'Cuviers', 1, 0),\n",
       " (64, u'Gervais', 0, 1),\n",
       " (106, u'Cuviers', 1, 0),\n",
       " (64, u'Gervais', 0, 1),\n",
       " (106, u'Cuviers', 1, 0),\n",
       " (64, u'Gervais', 0, 1),\n",
       " (106, u'Cuviers', 1, 0),\n",
       " (64, u'Gervais', 0, 1),\n",
       " (106, u'Cuviers', 1, 0),\n",
       " (64, u'Gervais', 0, 1),\n",
       " (106, u'Cuviers', 1, 0),\n",
       " (64, u'Gervais', 0, 1),\n",
       " (107, u'Cuviers', 1, 1),\n",
       " (68, u'Gervais', 1, 0),\n",
       " (109, u'Cuviers', 1, 0),\n",
       " (69, u'Gervais', 1, 1),\n",
       " (109, u'Cuviers', 1, 1),\n",
       " (69, u'Gervais', 1, 0),\n",
       " (115, u'Cuviers', 0, 1),\n",
       " (73, u'Gervais', 1, 0),\n",
       " (115, u'Cuviers', 0, 1),\n",
       " (73, u'Gervais', 1, 0),\n",
       " (115, u'Cuviers', 0, 1),\n",
       " (73, u'Gervais', 1, 0),\n",
       " (115, u'Cuviers', 0, 1),\n",
       " (73, u'Gervais', 1, 0),\n",
       " (118, u'Gervais', 1, 0),\n",
       " (159, u'Cuviers', 1, 0),\n",
       " (118, u'Gervais', 1, 1),\n",
       " (159, u'Cuviers', 1, 0),\n",
       " (118, u'Gervais', 1, 1),\n",
       " (159, u'Cuviers', 1, 0),\n",
       " (118, u'Gervais', 1, 1),\n",
       " (159, u'Cuviers', 1, 0),\n",
       " (118, u'Gervais', 1, 0),\n",
       " (159, u'Cuviers', 1, 0),\n",
       " (124, u'Gervais', 1, 0),\n",
       " (165, u'Cuviers', 1, 1),\n",
       " (124, u'Gervais', 1, 0),\n",
       " (165, u'Cuviers', 1, 1),\n",
       " (124, u'Gervais', 1, 0),\n",
       " (165, u'Cuviers', 1, 1),\n",
       " (128, u'Gervais', 1, 0),\n",
       " (171, u'Cuviers', 1, 0),\n",
       " (128, u'Gervais', 1, 0),\n",
       " (171, u'Cuviers', 1, 0),\n",
       " (128, u'Gervais', 1, 0),\n",
       " (171, u'Cuviers', 1, 0),\n",
       " (231, u'Cuviers', 1, 0),\n",
       " (148, u'Gervais', 1, 1),\n",
       " (231, u'Cuviers', 1, 1),\n",
       " (148, u'Gervais', 1, 1),\n",
       " (231, u'Cuviers', 1, 0),\n",
       " (148, u'Gervais', 1, 1),\n",
       " (231, u'Cuviers', 1, 0),\n",
       " (148, u'Gervais', 1, 1),\n",
       " (231, u'Cuviers', 1, 0),\n",
       " (148, u'Gervais', 1, 1),\n",
       " (231, u'Cuviers', 1, 1),\n",
       " (148, u'Gervais', 1, 0),\n",
       " (231, u'Cuviers', 1, 1),\n",
       " (148, u'Gervais', 1, 0),\n",
       " (231, u'Cuviers', 1, 1),\n",
       " (148, u'Gervais', 1, 0),\n",
       " (231, u'Cuviers', 1, 1),\n",
       " (148, u'Gervais', 1, 0),\n",
       " (263, u'Cuviers', 1, 1),\n",
       " (171, u'Gervais', 1, 0),\n",
       " (289, u'Gervais', 1, 0),\n",
       " (385, u'Cuviers', 1, 1),\n",
       " (299, u'Gervais', 1, 1),\n",
       " (395, u'Cuviers', 1, 1),\n",
       " (299, u'Gervais', 1, 1),\n",
       " (395, u'Cuviers', 1, 1),\n",
       " (406, u'Cuviers', 1, 0),\n",
       " (314, u'Gervais', 0, 1),\n",
       " (412, u'Cuviers', 1, 1),\n",
       " (318, u'Gervais', 1, 0),\n",
       " (414, u'Cuviers', 1, 0),\n",
       " (320, u'Gervais', 1, 1),\n",
       " (419, u'Cuviers', 0, 1),\n",
       " (329, u'Gervais', 1, 0),\n",
       " (419, u'Cuviers', 0, 1),\n",
       " (329, u'Gervais', 1, 0),\n",
       " (419, u'Cuviers', 0, 1),\n",
       " (329, u'Gervais', 1, 0),\n",
       " (419, u'Cuviers', 0, 1),\n",
       " (329, u'Gervais', 1, 0),\n",
       " (419, u'Cuviers', 0, 1),\n",
       " (329, u'Gervais', 1, 0),\n",
       " (419, u'Cuviers', 0, 1),\n",
       " (329, u'Gervais', 1, 0),\n",
       " (419, u'Cuviers', 0, 1),\n",
       " (329, u'Gervais', 1, 0),\n",
       " (419, u'Cuviers', 0, 1),\n",
       " (329, u'Gervais', 1, 0),\n",
       " (427, u'Cuviers', 1, 1),\n",
       " (331, u'Gervais', 1, 1),\n",
       " (427, u'Cuviers', 1, 1),\n",
       " (331, u'Gervais', 1, 0),\n",
       " (427, u'Cuviers', 1, 0),\n",
       " (331, u'Gervais', 1, 1),\n",
       " (427, u'Cuviers', 1, 1),\n",
       " (331, u'Gervais', 1, 0),\n",
       " (427, u'Cuviers', 1, 1),\n",
       " (331, u'Gervais', 1, 0),\n",
       " (440, u'Cuviers', 1, 1),\n",
       " (337, u'Gervais', 1, 1),\n",
       " (391, u'Gervais', 1, 1),\n",
       " (558, u'Cuviers', 1, 0),\n",
       " (391, u'Gervais', 1, 0),\n",
       " (558, u'Cuviers', 1, 1),\n",
       " (392, u'Gervais', 1, 1),\n",
       " (560, u'Cuviers', 1, 0),\n",
       " (398, u'Gervais', 1, 0),\n",
       " (568, u'Cuviers', 1, 0),\n",
       " (614, u'Cuviers', 1, 0),\n",
       " (419, u'Gervais', 1, 0),\n",
       " (614, u'Cuviers', 1, 0),\n",
       " (419, u'Gervais', 1, 0),\n",
       " (614, u'Cuviers', 1, 0),\n",
       " (419, u'Gervais', 1, 0),\n",
       " (625, u'Cuviers', 1, 0),\n",
       " (423, u'Gervais', 1, 0),\n",
       " (625, u'Cuviers', 1, 0),\n",
       " (423, u'Gervais', 1, 0),\n",
       " (625, u'Cuviers', 1, 0),\n",
       " (423, u'Gervais', 1, 1),\n",
       " (625, u'Cuviers', 1, 0),\n",
       " (423, u'Gervais', 1, 1),\n",
       " (642, u'Cuviers', 1, 0),\n",
       " (432, u'Gervais', 1, 1),\n",
       " (642, u'Cuviers', 1, 0),\n",
       " (432, u'Gervais', 0, 1),\n",
       " (433, u'Gervais', 1, 0),\n",
       " (649, u'Cuviers', 1, 0),\n",
       " (433, u'Gervais', 1, 0),\n",
       " (649, u'Cuviers', 1, 0),\n",
       " (433, u'Gervais', 1, 0),\n",
       " (649, u'Cuviers', 1, 0),\n",
       " (433, u'Gervais', 1, 1),\n",
       " (649, u'Cuviers', 1, 0),\n",
       " (434, u'Gervais', 0, 1),\n",
       " (651, u'Cuviers', 1, 0),\n",
       " (437, u'Gervais', 1, 0),\n",
       " (656, u'Cuviers', 0, 1),\n",
       " (437, u'Gervais', 1, 0),\n",
       " (656, u'Cuviers', 0, 1),\n",
       " (437, u'Gervais', 1, 0),\n",
       " (656, u'Cuviers', 0, 1),\n",
       " (437, u'Gervais', 1, 0),\n",
       " (656, u'Cuviers', 0, 1),\n",
       " (447, u'Gervais', 1, 0),\n",
       " (700, u'Cuviers', 0, 1),\n",
       " (448, u'Gervais', 1, 0),\n",
       " (701, u'Cuviers', 1, 0),\n",
       " (448, u'Gervais', 1, 0),\n",
       " (701, u'Cuviers', 1, 0),\n",
       " (448, u'Gervais', 1, 0),\n",
       " (701, u'Cuviers', 1, 0),\n",
       " (20, u'Gervais', 1, 0),\n",
       " (68, u'Cuviers', 1, 1),\n",
       " (20, u'Gervais', 1, 0),\n",
       " (68, u'Cuviers', 1, 1),\n",
       " (20, u'Gervais', 1, 0),\n",
       " (68, u'Cuviers', 1, 1),\n",
       " (20, u'Gervais', 1, 0),\n",
       " (68, u'Cuviers', 1, 1),\n",
       " (20, u'Gervais', 1, 0),\n",
       " (68, u'Cuviers', 1, 1),\n",
       " (20, u'Gervais', 1, 0),\n",
       " (68, u'Cuviers', 1, 1),\n",
       " (20, u'Gervais', 1, 0),\n",
       " (68, u'Cuviers', 1, 1),\n",
       " (20, u'Gervais', 1, 1),\n",
       " (68, u'Cuviers', 1, 1),\n",
       " (20, u'Gervais', 1, 1),\n",
       " (68, u'Cuviers', 1, 1),\n",
       " (20, u'Gervais', 1, 1),\n",
       " (68, u'Cuviers', 1, 1),\n",
       " (20, u'Gervais', 1, 1),\n",
       " (68, u'Cuviers', 1, 1),\n",
       " (20, u'Gervais', 1, 1),\n",
       " (68, u'Cuviers', 1, 1),\n",
       " (20, u'Gervais', 1, 1),\n",
       " (68, u'Cuviers', 1, 1),\n",
       " (20, u'Gervais', 1, 1),\n",
       " (68, u'Cuviers', 1, 1),\n",
       " (20, u'Gervais', 1, 1),\n",
       " (68, u'Cuviers', 1, 1),\n",
       " (20, u'Gervais', 1, 1),\n",
       " (68, u'Cuviers', 1, 1),\n",
       " (20, u'Gervais', 1, 0),\n",
       " (68, u'Cuviers', 1, 1),\n",
       " (20, u'Gervais', 1, 1),\n",
       " (68, u'Cuviers', 1, 1),\n",
       " (20, u'Gervais', 1, 0),\n",
       " (68, u'Cuviers', 1, 1),\n",
       " (24, u'Gervais', 1, 1),\n",
       " (78, u'Cuviers', 1, 1),\n",
       " (24, u'Gervais', 1, 1),\n",
       " (78, u'Cuviers', 1, 1),\n",
       " (24, u'Gervais', 1, 0),\n",
       " (78, u'Cuviers', 1, 1),\n",
       " (24, u'Gervais', 1, 1),\n",
       " (78, u'Cuviers', 1, 1),\n",
       " (109, u'Cuviers', 0, 1),\n",
       " (28, u'Gervais', 1, 0),\n",
       " (109, u'Cuviers', 1, 1),\n",
       " (28, u'Gervais', 1, 0),\n",
       " (185, u'Cuviers', 1, 1),\n",
       " (57, u'Gervais', 1, 0),\n",
       " (185, u'Cuviers', 1, 1),\n",
       " (57, u'Gervais', 1, 0),\n",
       " (185, u'Cuviers', 1, 0),\n",
       " (57, u'Gervais', 1, 1),\n",
       " (185, u'Cuviers', 1, 0),\n",
       " (57, u'Gervais', 1, 1),\n",
       " (185, u'Cuviers', 1, 0),\n",
       " (57, u'Gervais', 1, 1),\n",
       " (185, u'Cuviers', 1, 0),\n",
       " (57, u'Gervais', 1, 1),\n",
       " (185, u'Cuviers', 1, 0),\n",
       " (57, u'Gervais', 1, 1),\n",
       " (89, u'Gervais', 1, 0),\n",
       " (200, u'Cuviers', 1, 1),\n",
       " (89, u'Gervais', 1, 0),\n",
       " (200, u'Cuviers', 1, 1),\n",
       " (91, u'Gervais', 1, 1),\n",
       " (202, u'Cuviers', 1, 0),\n",
       " (91, u'Gervais', 1, 1),\n",
       " (202, u'Cuviers', 1, 0),\n",
       " (91, u'Gervais', 1, 1),\n",
       " (202, u'Cuviers', 1, 0),\n",
       " (91, u'Gervais', 1, 1),\n",
       " (202, u'Cuviers', 1, 0),\n",
       " (91, u'Gervais', 1, 1),\n",
       " (202, u'Cuviers', 1, 0),\n",
       " (91, u'Gervais', 1, 1),\n",
       " (202, u'Cuviers', 1, 0),\n",
       " (91, u'Gervais', 1, 0),\n",
       " (202, u'Cuviers', 1, 1),\n",
       " (216, u'Cuviers', 1, 0),\n",
       " (96, u'Gervais', 1, 1),\n",
       " (116, u'Gervais', 1, 1),\n",
       " (254, u'Cuviers', 1, 0),\n",
       " (262, u'Cuviers', 1, 1),\n",
       " (119, u'Gervais', 1, 0),\n",
       " (275, u'Cuviers', 1, 0),\n",
       " (132, u'Gervais', 1, 0),\n",
       " (275, u'Cuviers', 1, 0),\n",
       " (132, u'Gervais', 1, 1),\n",
       " (275, u'Cuviers', 1, 0),\n",
       " (132, u'Gervais', 1, 1),\n",
       " (283, u'Cuviers', 1, 0),\n",
       " (140, u'Gervais', 1, 1),\n",
       " (291, u'Cuviers', 1, 1),\n",
       " (144, u'Gervais', 1, 1),\n",
       " (291, u'Cuviers', 1, 1),\n",
       " (144, u'Gervais', 1, 1),\n",
       " (291, u'Cuviers', 1, 1),\n",
       " (144, u'Gervais', 1, 1),\n",
       " (291, u'Cuviers', 1, 1),\n",
       " (144, u'Gervais', 1, 1),\n",
       " (291, u'Cuviers', 1, 0),\n",
       " (144, u'Gervais', 1, 1),\n",
       " (291, u'Cuviers', 1, 0),\n",
       " (144, u'Gervais', 1, 1),\n",
       " (291, u'Cuviers', 1, 0),\n",
       " (144, u'Gervais', 1, 1),\n",
       " (291, u'Cuviers', 1, 0),\n",
       " (144, u'Gervais', 1, 1),\n",
       " (291, u'Cuviers', 1, 1),\n",
       " (144, u'Gervais', 1, 0),\n",
       " (296, u'Cuviers', 1, 0),\n",
       " (149, u'Gervais', 1, 1),\n",
       " (296, u'Cuviers', 1, 0),\n",
       " (149, u'Gervais', 1, 1),\n",
       " (298, u'Cuviers', 1, 0),\n",
       " (150, u'Gervais', 1, 0),\n",
       " (298, u'Cuviers', 1, 1),\n",
       " (150, u'Gervais', 1, 1),\n",
       " (299, u'Cuviers', 1, 0),\n",
       " (151, u'Gervais', 1, 1),\n",
       " (299, u'Cuviers', 1, 0),\n",
       " (151, u'Gervais', 1, 1),\n",
       " (299, u'Cuviers', 1, 0),\n",
       " (151, u'Gervais', 1, 1),\n",
       " (299, u'Cuviers', 1, 0),\n",
       " (151, u'Gervais', 1, 1),\n",
       " (299, u'Cuviers', 1, 0),\n",
       " (151, u'Gervais', 1, 1),\n",
       " (305, u'Cuviers', 1, 0),\n",
       " (153, u'Gervais', 0, 1),\n",
       " (305, u'Cuviers', 1, 0),\n",
       " (153, u'Gervais', 0, 1),\n",
       " (305, u'Cuviers', 1, 0),\n",
       " (153, u'Gervais', 1, 1),\n",
       " (305, u'Cuviers', 1, 0),\n",
       " (153, u'Gervais', 1, 1),\n",
       " (305, u'Cuviers', 1, 1),\n",
       " (153, u'Gervais', 1, 1),\n",
       " (305, u'Cuviers', 1, 0),\n",
       " (153, u'Gervais', 1, 1),\n",
       " (305, u'Cuviers', 1, 1),\n",
       " (153, u'Gervais', 1, 0),\n",
       " (307, u'Cuviers', 1, 0),\n",
       " (154, u'Gervais', 0, 1),\n",
       " (307, u'Cuviers', 1, 0),\n",
       " (154, u'Gervais', 0, 1),\n",
       " (307, u'Cuviers', 1, 0),\n",
       " (154, u'Gervais', 0, 1),\n",
       " (308, u'Cuviers', 1, 0),\n",
       " (155, u'Gervais', 1, 0),\n",
       " (308, u'Cuviers', 1, 0),\n",
       " (155, u'Gervais', 1, 0),\n",
       " (308, u'Cuviers', 1, 0),\n",
       " (155, u'Gervais', 1, 0),\n",
       " (308, u'Cuviers', 1, 0),\n",
       " (155, u'Gervais', 1, 0),\n",
       " (308, u'Cuviers', 1, 0),\n",
       " (155, u'Gervais', 1, 0),\n",
       " (176, u'Gervais', 1, 0),\n",
       " (327, u'Cuviers', 1, 0),\n",
       " (176, u'Gervais', 1, 0),\n",
       " (327, u'Cuviers', 1, 1),\n",
       " (176, u'Gervais', 1, 0),\n",
       " (327, u'Cuviers', 1, 0),\n",
       " (176, u'Gervais', 1, 0),\n",
       " (327, u'Cuviers', 1, 0),\n",
       " (176, u'Gervais', 1, 0),\n",
       " (327, u'Cuviers', 1, 0),\n",
       " (176, u'Gervais', 1, 0),\n",
       " (327, u'Cuviers', 1, 0),\n",
       " (179, u'Gervais', 1, 1),\n",
       " (329, u'Cuviers', 1, 0),\n",
       " (179, u'Gervais', 1, 1),\n",
       " (329, u'Cuviers', 1, 0),\n",
       " (179, u'Gervais', 1, 1),\n",
       " (329, u'Cuviers', 1, 0),\n",
       " (179, u'Gervais', 1, 1),\n",
       " (329, u'Cuviers', 1, 0),\n",
       " (179, u'Gervais', 1, 1),\n",
       " (329, u'Cuviers', 1, 0),\n",
       " (179, u'Gervais', 1, 1),\n",
       " (329, u'Cuviers', 1, 0),\n",
       " (179, u'Gervais', 1, 1),\n",
       " (329, u'Cuviers', 1, 0),\n",
       " (189, u'Gervais', 1, 0),\n",
       " (336, u'Cuviers', 0, 1),\n",
       " (189, u'Gervais', 1, 0),\n",
       " (336, u'Cuviers', 0, 1),\n",
       " (363, u'Cuviers', 0, 1),\n",
       " (259, u'Gervais', 1, 0),\n",
       " (365, u'Cuviers', 1, 0),\n",
       " (260, u'Gervais', 1, 1),\n",
       " (365, u'Cuviers', 1, 0),\n",
       " (260, u'Gervais', 1, 1),\n",
       " (266, u'Gervais', 1, 0),\n",
       " (384, u'Cuviers', 1, 1),\n",
       " (266, u'Gervais', 1, 1),\n",
       " (384, u'Cuviers', 1, 0),\n",
       " (417, u'Cuviers', 1, 0),\n",
       " (307, u'Gervais', 1, 1),\n",
       " (417, u'Cuviers', 1, 1),\n",
       " (307, u'Gervais', 1, 1),\n",
       " (434, u'Cuviers', 1, 0),\n",
       " (312, u'Gervais', 1, 1),\n",
       " (434, u'Cuviers', 1, 0),\n",
       " (312, u'Gervais', 1, 1),\n",
       " (434, u'Cuviers', 1, 0),\n",
       " (312, u'Gervais', 1, 1),\n",
       " (444, u'Cuviers', 1, 0),\n",
       " (327, u'Gervais', 1, 1),\n",
       " (466, u'Cuviers', 1, 0),\n",
       " (347, u'Gervais', 1, 1),\n",
       " (468, u'Cuviers', 1, 0),\n",
       " (350, u'Gervais', 1, 1),\n",
       " (485, u'Cuviers', 1, 0),\n",
       " (366, u'Gervais', 1, 1),\n",
       " (535, u'Cuviers', 0, 1),\n",
       " (392, u'Gervais', 1, 0),\n",
       " (535, u'Cuviers', 0, 1),\n",
       " (392, u'Gervais', 1, 0),\n",
       " (535, u'Cuviers', 0, 1),\n",
       " (392, u'Gervais', 1, 0),\n",
       " (546, u'Cuviers', 0, 1),\n",
       " (397, u'Gervais', 1, 0),\n",
       " (417, u'Gervais', 1, 1),\n",
       " (563, u'Cuviers', 1, 0),\n",
       " (417, u'Gervais', 1, 1),\n",
       " (563, u'Cuviers', 1, 0),\n",
       " (417, u'Gervais', 1, 1),\n",
       " (563, u'Cuviers', 1, 0),\n",
       " (417, u'Gervais', 1, 1),\n",
       " (563, u'Cuviers', 1, 0),\n",
       " (417, u'Gervais', 1, 1),\n",
       " (563, u'Cuviers', 1, 0),\n",
       " (417, u'Gervais', 1, 1),\n",
       " (563, u'Cuviers', 1, 0),\n",
       " (417, u'Gervais', 1, 1),\n",
       " (563, u'Cuviers', 1, 0),\n",
       " ...]"
      ]
     },
     "execution_count": 130,
     "metadata": {},
     "output_type": "execute_result"
    }
   ],
   "source": [
    "[(a.bout_i,a.species,a.TPWS1, a.TPWS2) for a in pairs]"
   ]
  },
  {
   "cell_type": "code",
   "execution_count": 131,
   "metadata": {
    "collapsed": false
   },
   "outputs": [
    {
     "data": {
      "text/plain": [
       "[Row(site=u'DT', time=datetime.datetime(2010, 8, 31, 11, 46, 55, 681060), bout_i=37, species=u'Cuviers', TPWS1=1, TPWS2=1),\n",
       " Row(site=u'DT', time=datetime.datetime(2010, 8, 31, 11, 46, 55, 681060), bout_i=36, species=u'Gervais', TPWS1=1, TPWS2=0),\n",
       " Row(site=u'DT', time=datetime.datetime(2010, 8, 31, 11, 47, 1, 376824), bout_i=37, species=u'Cuviers', TPWS1=1, TPWS2=1),\n",
       " Row(site=u'DT', time=datetime.datetime(2010, 8, 31, 11, 47, 1, 376824), bout_i=36, species=u'Gervais', TPWS1=1, TPWS2=0)]"
      ]
     },
     "execution_count": 131,
     "metadata": {},
     "output_type": "execute_result"
    }
   ],
   "source": [
    "pairs[:4]"
   ]
  },
  {
   "cell_type": "code",
   "execution_count": 143,
   "metadata": {
    "collapsed": false,
    "scrolled": true
   },
   "outputs": [
    {
     "name": "stdout",
     "output_type": "stream",
     "text": [
      "1 1 Row(site=u'DT', time=datetime.datetime(2010, 8, 31, 11, 48, 33, 106371), bout_i=37, species=u'Cuviers', TPWS1=1, TPWS2=1)\n",
      "1 2 Row(site=u'DT', time=datetime.datetime(2010, 8, 31, 11, 48, 33, 106371), bout_i=36, species=u'Gervais', TPWS1=1, TPWS2=1)\n",
      "2 1 Row(site=u'DT', time=datetime.datetime(2010, 9, 1, 9, 30, 23, 9203), bout_i=41, species=u'Gervais', TPWS1=1, TPWS2=1)\n",
      "2 2 Row(site=u'DT', time=datetime.datetime(2010, 9, 1, 9, 30, 23, 9203), bout_i=43, species=u'Cuviers', TPWS1=1, TPWS2=1)\n",
      "3 1 Row(site=u'DT', time=datetime.datetime(2010, 9, 6, 23, 12, 43, 914075), bout_i=60, species=u'Cuviers', TPWS1=1, TPWS2=1)\n",
      "3 2 Row(site=u'DT', time=datetime.datetime(2010, 9, 6, 23, 12, 43, 914075), bout_i=75, species=u'Gervais', TPWS1=1, TPWS2=1)\n",
      "4 1 Row(site=u'DT', time=datetime.datetime(2010, 9, 7, 4, 5, 35, 184952), bout_i=63, species=u'Cuviers', TPWS1=1, TPWS2=1)\n",
      "4 2 Row(site=u'DT', time=datetime.datetime(2010, 9, 7, 4, 5, 35, 184952), bout_i=77, species=u'Gervais', TPWS1=1, TPWS2=1)\n"
     ]
    },
    {
     "data": {
      "text/plain": [
       "10894"
      ]
     },
     "execution_count": 143,
     "metadata": {},
     "output_type": "execute_result"
    }
   ],
   "source": [
    "j=0\n",
    "for i in range(0,len(pairs),2):\n",
    "    F=pairs[i]\n",
    "    S=pairs[i+1]\n",
    "    if F.TPWS2 ==1 and S.TPWS2==1:\n",
    "        j+=1\n",
    "        if j<5:\n",
    "            print j,1,F\n",
    "            print j,2,S\n",
    "\n",
    "j"
   ]
  },
  {
   "cell_type": "code",
   "execution_count": 119,
   "metadata": {
    "collapsed": false
   },
   "outputs": [
    {
     "name": "stdout",
     "output_type": "stream",
     "text": [
      "+----+-------+----+------+------+---------+---+---+-----+---+---+-----+---+---+-----+---+---+\n",
      "|time|species|site|rec_no|bout_i|peak2peak|MSN|MSP|TPWS1|MD1|FD1|TPWS2|MD2|FD2|TPWS3|MD3|FD3|\n",
      "+----+-------+----+------+------+---------+---+---+-----+---+---+-----+---+---+-----+---+---+\n",
      "+----+-------+----+------+------+---------+---+---+-----+---+---+-----+---+---+-----+---+---+\n",
      "\n"
     ]
    }
   ],
   "source": [
    "df.filter(df.TPWS3>0).show()"
   ]
  },
  {
   "cell_type": "code",
   "execution_count": 124,
   "metadata": {
    "collapsed": false
   },
   "outputs": [
    {
     "name": "stdout",
     "output_type": "stream",
     "text": [
      "+----+--------------------+-------+-----+-----+\n",
      "|site|                time|species|TPWS1|TPWS2|\n",
      "+----+--------------------+-------+-----+-----+\n",
      "|  DT|2010-09-18 19:58:...|Cuviers|    0|    1|\n",
      "|  DT|2011-03-13 13:09:...|Gervais|    0|    1|\n",
      "|  DT|2011-03-13 13:11:...|Gervais|    0|    1|\n",
      "|  DT|2011-03-13 13:11:...|Gervais|    0|    1|\n",
      "|  DT|2011-03-13 13:14:...|Gervais|    0|    1|\n",
      "|  DT|2011-04-04 20:02:...|Cuviers|    0|    1|\n",
      "|  DT|2011-04-04 20:11:...|Cuviers|    0|    1|\n",
      "|  DT|2011-04-13 12:29:...|Cuviers|    0|    1|\n",
      "|  DT|2011-04-20 21:43:...|Gervais|    0|    1|\n",
      "|  DT|2011-04-20 21:43:...|Gervais|    0|    1|\n",
      "|  DT|2011-05-25 01:30:...|Cuviers|    0|    1|\n",
      "|  DT|2011-05-25 01:31:...|Cuviers|    0|    1|\n",
      "|  DT|2011-05-25 01:38:...|Cuviers|    0|    1|\n",
      "|  DT|2011-05-25 01:39:...|Cuviers|    0|    1|\n",
      "|  DT|2011-05-31 01:06:...|Gervais|    0|    1|\n",
      "|  DT|2011-05-31 01:06:...|Gervais|    0|    1|\n",
      "|  DT|2011-05-31 01:08:...|Gervais|    0|    1|\n",
      "|  DT|2011-05-31 01:16:...|Gervais|    0|    1|\n",
      "|  DT|2011-06-11 12:15:...|Cuviers|    0|    1|\n",
      "|  DT|2011-06-11 12:25:...|Cuviers|    0|    1|\n",
      "+----+--------------------+-------+-----+-----+\n",
      "only showing top 20 rows\n",
      "\n"
     ]
    }
   ],
   "source": [
    "pairs.filter(pairs.TPWS1 != 1).show()"
   ]
  },
  {
   "cell_type": "code",
   "execution_count": 204,
   "metadata": {
    "collapsed": false
   },
   "outputs": [
    {
     "data": {
      "text/plain": [
       "[Row(site=u'DT', bout_i=792, count=224),\n",
       " Row(site=u'MC', bout_i=134, count=1783),\n",
       " Row(site=u'GC', bout_i=67, count=4363),\n",
       " Row(site=u'DT', bout_i=166, count=6923),\n",
       " Row(site=u'DT', bout_i=102, count=11598),\n",
       " Row(site=u'DT', bout_i=11, count=17723),\n",
       " Row(site=u'DT', bout_i=297, count=2015),\n",
       " Row(site=u'DT', bout_i=682, count=121),\n",
       " Row(site=u'MC', bout_i=14, count=7563),\n",
       " Row(site=u'GC', bout_i=133, count=152)]"
      ]
     },
     "execution_count": 204,
     "metadata": {},
     "output_type": "execute_result"
    }
   ],
   "source": [
    "Bouts=sdf.groupby(['site','bout_i']).count().collect()\n",
    "Bouts[-10:]"
   ]
  },
  {
   "cell_type": "code",
   "execution_count": 205,
   "metadata": {
    "collapsed": false
   },
   "outputs": [
    {
     "data": {
      "text/plain": [
       "1282"
      ]
     },
     "execution_count": 205,
     "metadata": {},
     "output_type": "execute_result"
    }
   ],
   "source": [
    "len(Bouts)"
   ]
  },
  {
   "cell_type": "code",
   "execution_count": 231,
   "metadata": {
    "collapsed": false
   },
   "outputs": [
    {
     "data": {
      "text/plain": [
       "17723"
      ]
     },
     "execution_count": 231,
     "metadata": {},
     "output_type": "execute_result"
    }
   ],
   "source": [
    "bout=sdf.where(\"site='DT' and bout_i=11\").collect()\n",
    "bout.sort(key=lambda x:x.time)\n",
    "len(bout)"
   ]
  },
  {
   "cell_type": "code",
   "execution_count": 232,
   "metadata": {
    "collapsed": true
   },
   "outputs": [],
   "source": [
    "from collections import Counter"
   ]
  },
  {
   "cell_type": "code",
   "execution_count": 233,
   "metadata": {
    "collapsed": false
   },
   "outputs": [
    {
     "data": {
      "text/plain": [
       "Counter({(u'Cuviers', 1, 0): 3,\n",
       "         (u'Cuviers', 1, 1): 4640,\n",
       "         (u'Gervais', 1, 0): 7649,\n",
       "         (u'Gervais', 1, 1): 5431})"
      ]
     },
     "execution_count": 233,
     "metadata": {},
     "output_type": "execute_result"
    }
   ],
   "source": [
    "Counter([(b.species,b.TPWS1,b.TPWS2) for b in bout])"
   ]
  },
  {
   "cell_type": "code",
   "execution_count": 234,
   "metadata": {
    "collapsed": true
   },
   "outputs": [],
   "source": [
    "s=[]\n",
    "c=[]\n",
    "t0=bout[0].time\n",
    "for i in range(len(bout)):\n",
    "    s.append((bout[i].time-t0).total_seconds())\n",
    "    c.append('b' if bout[i].species==u'Cuviers' else 'r')"
   ]
  },
  {
   "cell_type": "code",
   "execution_count": 235,
   "metadata": {
    "collapsed": false
   },
   "outputs": [
    {
     "data": {
      "text/plain": [
       "(17723, 17723)"
      ]
     },
     "execution_count": 235,
     "metadata": {},
     "output_type": "execute_result"
    }
   ],
   "source": [
    "len(s),len(c)"
   ]
  },
  {
   "cell_type": "code",
   "execution_count": 236,
   "metadata": {
    "collapsed": false
   },
   "outputs": [
    {
     "data": {
      "image/png": "[encoded data removed]",
      "text/plain": [
       "<matplotlib.figure.Figure at 0x7fd88efd44d0>"
      ]
     },
     "metadata": {},
     "output_type": "display_data"
    }
   ],
   "source": [
    "scatter(range(len(s)),s,marker='.',edgecolors='none',c=c);"
   ]
  },
  {
   "cell_type": "code",
   "execution_count": 242,
   "metadata": {
    "collapsed": false
   },
   "outputs": [
    {
     "data": {
      "text/plain": [
       "[0.029772,\n",
       " 0.029943,\n",
       " 0.029954,\n",
       " 0.029994,\n",
       " 0.029994,\n",
       " 0.030004,\n",
       " 0.030014,\n",
       " 0.030014,\n",
       " 0.030014,\n",
       " 0.030014]"
      ]
     },
     "execution_count": 242,
     "metadata": {},
     "output_type": "execute_result"
    }
   ],
   "source": [
    "dt=[]\n",
    "for i in range(len(bout)-1):\n",
    "    dt.append((bout[i+1].time-bout[i].time).total_seconds())\n",
    "dt.sort()\n",
    "dt[:10]"
   ]
  },
  {
   "cell_type": "code",
   "execution_count": 241,
   "metadata": {
    "collapsed": false
   },
   "outputs": [
    {
     "data": {
      "text/plain": [
       "128.2936574074074"
      ]
     },
     "execution_count": 241,
     "metadata": {},
     "output_type": "execute_result"
    }
   ],
   "source": [
    "11084572.0/(24*3600)"
   ]
  },
  {
   "cell_type": "code",
   "execution_count": 292,
   "metadata": {
    "collapsed": false
   },
   "outputs": [
    {
     "ename": "AttributeError",
     "evalue": "type object 'Window' has no attribute 'unboundedPreceding'",
     "output_type": "error",
     "traceback": [
      "\u001b[0;31m\u001b[0m",
      "\u001b[0;31mAttributeError\u001b[0mTraceback (most recent call last)",
      "\u001b[0;32m<ipython-input-292-28bfd99a029b>\u001b[0m in \u001b[0;36m<module>\u001b[0;34m()\u001b[0m\n\u001b[0;32m----> 1\u001b[0;31m \u001b[0mwindow\u001b[0m \u001b[0;34m=\u001b[0m \u001b[0mWindow\u001b[0m\u001b[0;34m.\u001b[0m\u001b[0morderBy\u001b[0m\u001b[0;34m(\u001b[0m\u001b[0;34m\"date\"\u001b[0m\u001b[0;34m)\u001b[0m\u001b[0;34m.\u001b[0m\u001b[0mrowsBetween\u001b[0m\u001b[0;34m(\u001b[0m\u001b[0mWindow\u001b[0m\u001b[0;34m.\u001b[0m\u001b[0munboundedPreceding\u001b[0m\u001b[0;34m,\u001b[0m \u001b[0mWindow\u001b[0m\u001b[0;34m.\u001b[0m\u001b[0mcurrentRow\u001b[0m\u001b[0;34m)\u001b[0m\u001b[0;34m\u001b[0m\u001b[0m\n\u001b[0m\u001b[1;32m      2\u001b[0m \u001b[0mget_ipython\u001b[0m\u001b[0;34m(\u001b[0m\u001b[0;34m)\u001b[0m\u001b[0;34m.\u001b[0m\u001b[0mmagic\u001b[0m\u001b[0;34m(\u001b[0m\u001b[0;34mu'pinfo Window'\u001b[0m\u001b[0;34m)\u001b[0m\u001b[0;34m\u001b[0m\u001b[0m\n",
      "\u001b[0;31mAttributeError\u001b[0m: type object 'Window' has no attribute 'unboundedPreceding'"
     ]
    }
   ],
   "source": [
    "window = Window.orderBy(\"date\").rowsBetween(Window.unboundedPreceding, Window.currentRow)\n",
    "Window?"
   ]
  },
  {
   "cell_type": "code",
   "execution_count": 296,
   "metadata": {
    "collapsed": true
   },
   "outputs": [],
   "source": [
    "from pyspark.sql.window import Window\n",
    "w = Window.partitionBy(\"site\").orderBy(\"time\").rowsBetween(0,1)"
   ]
  },
  {
   "cell_type": "code",
   "execution_count": 298,
   "metadata": {
    "collapsed": false
   },
   "outputs": [
    {
     "ename": "AnalysisException",
     "evalue": "u\"Expression 'time#0' not supported within a window function.;\"",
     "output_type": "error",
     "traceback": [
      "\u001b[0;31m\u001b[0m",
      "\u001b[0;31mAnalysisException\u001b[0mTraceback (most recent call last)",
      "\u001b[0;32m<ipython-input-298-fee44c7a89e6>\u001b[0m in \u001b[0;36m<module>\u001b[0;34m()\u001b[0m\n\u001b[0;32m----> 1\u001b[0;31m \u001b[0msdf\u001b[0m\u001b[0;34m.\u001b[0m\u001b[0mselect\u001b[0m\u001b[0;34m(\u001b[0m\u001b[0msdf\u001b[0m\u001b[0;34m.\u001b[0m\u001b[0mtime\u001b[0m\u001b[0;34m.\u001b[0m\u001b[0mover\u001b[0m\u001b[0;34m(\u001b[0m\u001b[0mw\u001b[0m\u001b[0;34m)\u001b[0m\u001b[0;34m)\u001b[0m\u001b[0;34m.\u001b[0m\u001b[0mshow\u001b[0m\u001b[0;34m(\u001b[0m\u001b[0;34m)\u001b[0m\u001b[0;34m\u001b[0m\u001b[0m\n\u001b[0m",
      "\u001b[0;32m/home/ec2-user/spark/python/pyspark/sql/dataframe.pyc\u001b[0m in \u001b[0;36mselect\u001b[0;34m(self, *cols)\u001b[0m\n\u001b[1;32m    862\u001b[0m         \u001b[0;34m[\u001b[0m\u001b[0mRow\u001b[0m\u001b[0;34m(\u001b[0m\u001b[0mname\u001b[0m\u001b[0;34m=\u001b[0m\u001b[0;34mu'Alice'\u001b[0m\u001b[0;34m,\u001b[0m \u001b[0mage\u001b[0m\u001b[0;34m=\u001b[0m\u001b[0;36m12\u001b[0m\u001b[0;34m)\u001b[0m\u001b[0;34m,\u001b[0m \u001b[0mRow\u001b[0m\u001b[0;34m(\u001b[0m\u001b[0mname\u001b[0m\u001b[0;34m=\u001b[0m\u001b[0;34mu'Bob'\u001b[0m\u001b[0;34m,\u001b[0m \u001b[0mage\u001b[0m\u001b[0;34m=\u001b[0m\u001b[0;36m15\u001b[0m\u001b[0;34m)\u001b[0m\u001b[0;34m]\u001b[0m\u001b[0;34m\u001b[0m\u001b[0m\n\u001b[1;32m    863\u001b[0m         \"\"\"\n\u001b[0;32m--> 864\u001b[0;31m         \u001b[0mjdf\u001b[0m \u001b[0;34m=\u001b[0m \u001b[0mself\u001b[0m\u001b[0;34m.\u001b[0m\u001b[0m_jdf\u001b[0m\u001b[0;34m.\u001b[0m\u001b[0mselect\u001b[0m\u001b[0;34m(\u001b[0m\u001b[0mself\u001b[0m\u001b[0;34m.\u001b[0m\u001b[0m_jcols\u001b[0m\u001b[0;34m(\u001b[0m\u001b[0;34m*\u001b[0m\u001b[0mcols\u001b[0m\u001b[0;34m)\u001b[0m\u001b[0;34m)\u001b[0m\u001b[0;34m\u001b[0m\u001b[0m\n\u001b[0m\u001b[1;32m    865\u001b[0m         \u001b[0;32mreturn\u001b[0m \u001b[0mDataFrame\u001b[0m\u001b[0;34m(\u001b[0m\u001b[0mjdf\u001b[0m\u001b[0;34m,\u001b[0m \u001b[0mself\u001b[0m\u001b[0;34m.\u001b[0m\u001b[0msql_ctx\u001b[0m\u001b[0;34m)\u001b[0m\u001b[0;34m\u001b[0m\u001b[0m\n\u001b[1;32m    866\u001b[0m \u001b[0;34m\u001b[0m\u001b[0m\n",
      "\u001b[0;32m/home/ec2-user/spark/python/lib/py4j-0.10.1-src.zip/py4j/java_gateway.py\u001b[0m in \u001b[0;36m__call__\u001b[0;34m(self, *args)\u001b[0m\n\u001b[1;32m    931\u001b[0m         \u001b[0manswer\u001b[0m \u001b[0;34m=\u001b[0m \u001b[0mself\u001b[0m\u001b[0;34m.\u001b[0m\u001b[0mgateway_client\u001b[0m\u001b[0;34m.\u001b[0m\u001b[0msend_command\u001b[0m\u001b[0;34m(\u001b[0m\u001b[0mcommand\u001b[0m\u001b[0;34m)\u001b[0m\u001b[0;34m\u001b[0m\u001b[0m\n\u001b[1;32m    932\u001b[0m         return_value = get_return_value(\n\u001b[0;32m--> 933\u001b[0;31m             answer, self.gateway_client, self.target_id, self.name)\n\u001b[0m\u001b[1;32m    934\u001b[0m \u001b[0;34m\u001b[0m\u001b[0m\n\u001b[1;32m    935\u001b[0m         \u001b[0;32mfor\u001b[0m \u001b[0mtemp_arg\u001b[0m \u001b[0;32min\u001b[0m \u001b[0mtemp_args\u001b[0m\u001b[0;34m:\u001b[0m\u001b[0;34m\u001b[0m\u001b[0m\n",
      "\u001b[0;32m/home/ec2-user/spark/python/pyspark/sql/utils.pyc\u001b[0m in \u001b[0;36mdeco\u001b[0;34m(*a, **kw)\u001b[0m\n\u001b[1;32m     67\u001b[0m                                              e.java_exception.getStackTrace()))\n\u001b[1;32m     68\u001b[0m             \u001b[0;32mif\u001b[0m \u001b[0ms\u001b[0m\u001b[0;34m.\u001b[0m\u001b[0mstartswith\u001b[0m\u001b[0;34m(\u001b[0m\u001b[0;34m'org.apache.spark.sql.AnalysisException: '\u001b[0m\u001b[0;34m)\u001b[0m\u001b[0;34m:\u001b[0m\u001b[0;34m\u001b[0m\u001b[0m\n\u001b[0;32m---> 69\u001b[0;31m                 \u001b[0;32mraise\u001b[0m \u001b[0mAnalysisException\u001b[0m\u001b[0;34m(\u001b[0m\u001b[0ms\u001b[0m\u001b[0;34m.\u001b[0m\u001b[0msplit\u001b[0m\u001b[0;34m(\u001b[0m\u001b[0;34m': '\u001b[0m\u001b[0;34m,\u001b[0m \u001b[0;36m1\u001b[0m\u001b[0;34m)\u001b[0m\u001b[0;34m[\u001b[0m\u001b[0;36m1\u001b[0m\u001b[0;34m]\u001b[0m\u001b[0;34m,\u001b[0m \u001b[0mstackTrace\u001b[0m\u001b[0;34m)\u001b[0m\u001b[0;34m\u001b[0m\u001b[0m\n\u001b[0m\u001b[1;32m     70\u001b[0m             \u001b[0;32mif\u001b[0m \u001b[0ms\u001b[0m\u001b[0;34m.\u001b[0m\u001b[0mstartswith\u001b[0m\u001b[0;34m(\u001b[0m\u001b[0;34m'org.apache.spark.sql.catalyst.analysis'\u001b[0m\u001b[0;34m)\u001b[0m\u001b[0;34m:\u001b[0m\u001b[0;34m\u001b[0m\u001b[0m\n\u001b[1;32m     71\u001b[0m                 \u001b[0;32mraise\u001b[0m \u001b[0mAnalysisException\u001b[0m\u001b[0;34m(\u001b[0m\u001b[0ms\u001b[0m\u001b[0;34m.\u001b[0m\u001b[0msplit\u001b[0m\u001b[0;34m(\u001b[0m\u001b[0;34m': '\u001b[0m\u001b[0;34m,\u001b[0m \u001b[0;36m1\u001b[0m\u001b[0;34m)\u001b[0m\u001b[0;34m[\u001b[0m\u001b[0;36m1\u001b[0m\u001b[0;34m]\u001b[0m\u001b[0;34m,\u001b[0m \u001b[0mstackTrace\u001b[0m\u001b[0;34m)\u001b[0m\u001b[0;34m\u001b[0m\u001b[0m\n",
      "\u001b[0;31mAnalysisException\u001b[0m: u\"Expression 'time#0' not supported within a window function.;\""
     ]
    }
   ],
   "source": [
    "sdf.select(sdf.time.over(w)).show()"
   ]
  },
  {
   "cell_type": "code",
   "execution_count": 309,
   "metadata": {
    "collapsed": false
   },
   "outputs": [
    {
     "ename": "AnalysisException",
     "evalue": "u\"cannot resolve '(lag(`time`, 1, NULL) OVER (PARTITION BY `site` ORDER BY `time` ASC ROWS BETWEEN 1 PRECEDING AND 1 PRECEDING) - `time`)' due to data type mismatch: '(lag(`time`, 1, NULL) OVER (PARTITION BY `site` ORDER BY `time` ASC ROWS BETWEEN 1 PRECEDING AND 1 PRECEDING) - `time`)' requires (numeric or calendarinterval) type, not timestamp;\"",
     "output_type": "error",
     "traceback": [
      "\u001b[0;31m\u001b[0m",
      "\u001b[0;31mAnalysisException\u001b[0mTraceback (most recent call last)",
      "\u001b[0;32m<ipython-input-309-5480020f2376>\u001b[0m in \u001b[0;36m<module>\u001b[0;34m()\u001b[0m\n\u001b[1;32m      2\u001b[0m \u001b[0;32mfrom\u001b[0m \u001b[0mpyspark\u001b[0m\u001b[0;34m.\u001b[0m\u001b[0msql\u001b[0m\u001b[0;34m.\u001b[0m\u001b[0mwindow\u001b[0m \u001b[0;32mimport\u001b[0m \u001b[0mWindow\u001b[0m\u001b[0;34m\u001b[0m\u001b[0m\n\u001b[1;32m      3\u001b[0m \u001b[0mw\u001b[0m \u001b[0;34m=\u001b[0m \u001b[0mWindow\u001b[0m\u001b[0;34m.\u001b[0m\u001b[0mpartitionBy\u001b[0m\u001b[0;34m(\u001b[0m\u001b[0;34m\"site\"\u001b[0m\u001b[0;34m)\u001b[0m\u001b[0;34m.\u001b[0m\u001b[0morderBy\u001b[0m\u001b[0;34m(\u001b[0m\u001b[0;34m\"time\"\u001b[0m\u001b[0;34m)\u001b[0m\u001b[0;34m\u001b[0m\u001b[0m\n\u001b[0;32m----> 4\u001b[0;31m \u001b[0msdf\u001b[0m\u001b[0;34m.\u001b[0m\u001b[0mselect\u001b[0m\u001b[0;34m(\u001b[0m\u001b[0;34m'time'\u001b[0m\u001b[0;34m,\u001b[0m\u001b[0;34m(\u001b[0m\u001b[0mlag\u001b[0m\u001b[0;34m(\u001b[0m\u001b[0msdf\u001b[0m\u001b[0;34m[\u001b[0m\u001b[0;34m'time'\u001b[0m\u001b[0;34m]\u001b[0m\u001b[0;34m)\u001b[0m\u001b[0;34m.\u001b[0m\u001b[0mover\u001b[0m\u001b[0;34m(\u001b[0m\u001b[0mw\u001b[0m\u001b[0;34m)\u001b[0m \u001b[0;34m-\u001b[0m \u001b[0msdf\u001b[0m\u001b[0;34m[\u001b[0m\u001b[0;34m'time'\u001b[0m\u001b[0;34m]\u001b[0m\u001b[0;34m)\u001b[0m\u001b[0;34m.\u001b[0m\u001b[0malias\u001b[0m\u001b[0;34m(\u001b[0m\u001b[0;34m'diff'\u001b[0m\u001b[0;34m)\u001b[0m\u001b[0;34m)\u001b[0m\u001b[0;34m.\u001b[0m\u001b[0mshow\u001b[0m\u001b[0;34m(\u001b[0m\u001b[0;34m)\u001b[0m\u001b[0;34m\u001b[0m\u001b[0m\n\u001b[0m",
      "\u001b[0;32m/home/ec2-user/spark/python/pyspark/sql/dataframe.pyc\u001b[0m in \u001b[0;36mselect\u001b[0;34m(self, *cols)\u001b[0m\n\u001b[1;32m    862\u001b[0m         \u001b[0;34m[\u001b[0m\u001b[0mRow\u001b[0m\u001b[0;34m(\u001b[0m\u001b[0mname\u001b[0m\u001b[0;34m=\u001b[0m\u001b[0;34mu'Alice'\u001b[0m\u001b[0;34m,\u001b[0m \u001b[0mage\u001b[0m\u001b[0;34m=\u001b[0m\u001b[0;36m12\u001b[0m\u001b[0;34m)\u001b[0m\u001b[0;34m,\u001b[0m \u001b[0mRow\u001b[0m\u001b[0;34m(\u001b[0m\u001b[0mname\u001b[0m\u001b[0;34m=\u001b[0m\u001b[0;34mu'Bob'\u001b[0m\u001b[0;34m,\u001b[0m \u001b[0mage\u001b[0m\u001b[0;34m=\u001b[0m\u001b[0;36m15\u001b[0m\u001b[0;34m)\u001b[0m\u001b[0;34m]\u001b[0m\u001b[0;34m\u001b[0m\u001b[0m\n\u001b[1;32m    863\u001b[0m         \"\"\"\n\u001b[0;32m--> 864\u001b[0;31m         \u001b[0mjdf\u001b[0m \u001b[0;34m=\u001b[0m \u001b[0mself\u001b[0m\u001b[0;34m.\u001b[0m\u001b[0m_jdf\u001b[0m\u001b[0;34m.\u001b[0m\u001b[0mselect\u001b[0m\u001b[0;34m(\u001b[0m\u001b[0mself\u001b[0m\u001b[0;34m.\u001b[0m\u001b[0m_jcols\u001b[0m\u001b[0;34m(\u001b[0m\u001b[0;34m*\u001b[0m\u001b[0mcols\u001b[0m\u001b[0;34m)\u001b[0m\u001b[0;34m)\u001b[0m\u001b[0;34m\u001b[0m\u001b[0m\n\u001b[0m\u001b[1;32m    865\u001b[0m         \u001b[0;32mreturn\u001b[0m \u001b[0mDataFrame\u001b[0m\u001b[0;34m(\u001b[0m\u001b[0mjdf\u001b[0m\u001b[0;34m,\u001b[0m \u001b[0mself\u001b[0m\u001b[0;34m.\u001b[0m\u001b[0msql_ctx\u001b[0m\u001b[0;34m)\u001b[0m\u001b[0;34m\u001b[0m\u001b[0m\n\u001b[1;32m    866\u001b[0m \u001b[0;34m\u001b[0m\u001b[0m\n",
      "\u001b[0;32m/home/ec2-user/spark/python/lib/py4j-0.10.1-src.zip/py4j/java_gateway.py\u001b[0m in \u001b[0;36m__call__\u001b[0;34m(self, *args)\u001b[0m\n\u001b[1;32m    931\u001b[0m         \u001b[0manswer\u001b[0m \u001b[0;34m=\u001b[0m \u001b[0mself\u001b[0m\u001b[0;34m.\u001b[0m\u001b[0mgateway_client\u001b[0m\u001b[0;34m.\u001b[0m\u001b[0msend_command\u001b[0m\u001b[0;34m(\u001b[0m\u001b[0mcommand\u001b[0m\u001b[0;34m)\u001b[0m\u001b[0;34m\u001b[0m\u001b[0m\n\u001b[1;32m    932\u001b[0m         return_value = get_return_value(\n\u001b[0;32m--> 933\u001b[0;31m             answer, self.gateway_client, self.target_id, self.name)\n\u001b[0m\u001b[1;32m    934\u001b[0m \u001b[0;34m\u001b[0m\u001b[0m\n\u001b[1;32m    935\u001b[0m         \u001b[0;32mfor\u001b[0m \u001b[0mtemp_arg\u001b[0m \u001b[0;32min\u001b[0m \u001b[0mtemp_args\u001b[0m\u001b[0;34m:\u001b[0m\u001b[0;34m\u001b[0m\u001b[0m\n",
      "\u001b[0;32m/home/ec2-user/spark/python/pyspark/sql/utils.pyc\u001b[0m in \u001b[0;36mdeco\u001b[0;34m(*a, **kw)\u001b[0m\n\u001b[1;32m     67\u001b[0m                                              e.java_exception.getStackTrace()))\n\u001b[1;32m     68\u001b[0m             \u001b[0;32mif\u001b[0m \u001b[0ms\u001b[0m\u001b[0;34m.\u001b[0m\u001b[0mstartswith\u001b[0m\u001b[0;34m(\u001b[0m\u001b[0;34m'org.apache.spark.sql.AnalysisException: '\u001b[0m\u001b[0;34m)\u001b[0m\u001b[0;34m:\u001b[0m\u001b[0;34m\u001b[0m\u001b[0m\n\u001b[0;32m---> 69\u001b[0;31m                 \u001b[0;32mraise\u001b[0m \u001b[0mAnalysisException\u001b[0m\u001b[0;34m(\u001b[0m\u001b[0ms\u001b[0m\u001b[0;34m.\u001b[0m\u001b[0msplit\u001b[0m\u001b[0;34m(\u001b[0m\u001b[0;34m': '\u001b[0m\u001b[0;34m,\u001b[0m \u001b[0;36m1\u001b[0m\u001b[0;34m)\u001b[0m\u001b[0;34m[\u001b[0m\u001b[0;36m1\u001b[0m\u001b[0;34m]\u001b[0m\u001b[0;34m,\u001b[0m \u001b[0mstackTrace\u001b[0m\u001b[0;34m)\u001b[0m\u001b[0;34m\u001b[0m\u001b[0m\n\u001b[0m\u001b[1;32m     70\u001b[0m             \u001b[0;32mif\u001b[0m \u001b[0ms\u001b[0m\u001b[0;34m.\u001b[0m\u001b[0mstartswith\u001b[0m\u001b[0;34m(\u001b[0m\u001b[0;34m'org.apache.spark.sql.catalyst.analysis'\u001b[0m\u001b[0;34m)\u001b[0m\u001b[0;34m:\u001b[0m\u001b[0;34m\u001b[0m\u001b[0m\n\u001b[1;32m     71\u001b[0m                 \u001b[0;32mraise\u001b[0m \u001b[0mAnalysisException\u001b[0m\u001b[0;34m(\u001b[0m\u001b[0ms\u001b[0m\u001b[0;34m.\u001b[0m\u001b[0msplit\u001b[0m\u001b[0;34m(\u001b[0m\u001b[0;34m': '\u001b[0m\u001b[0;34m,\u001b[0m \u001b[0;36m1\u001b[0m\u001b[0;34m)\u001b[0m\u001b[0;34m[\u001b[0m\u001b[0;36m1\u001b[0m\u001b[0;34m]\u001b[0m\u001b[0;34m,\u001b[0m \u001b[0mstackTrace\u001b[0m\u001b[0;34m)\u001b[0m\u001b[0;34m\u001b[0m\u001b[0m\n",
      "\u001b[0;31mAnalysisException\u001b[0m: u\"cannot resolve '(lag(`time`, 1, NULL) OVER (PARTITION BY `site` ORDER BY `time` ASC ROWS BETWEEN 1 PRECEDING AND 1 PRECEDING) - `time`)' due to data type mismatch: '(lag(`time`, 1, NULL) OVER (PARTITION BY `site` ORDER BY `time` ASC ROWS BETWEEN 1 PRECEDING AND 1 PRECEDING) - `time`)' requires (numeric or calendarinterval) type, not timestamp;\""
     ]
    }
   ],
   "source": [
    "from pyspark.sql.functions import lag\n",
    "from pyspark.sql.window import Window\n",
    "w = Window.partitionBy(\"site\").orderBy(\"time\")\n",
    "sdf.select('time',(lag(sdf['time']).over(w) - sdf['time']).alias('diff')).show()"
   ]
  },
  {
   "cell_type": "code",
   "execution_count": 307,
   "metadata": {
    "collapsed": false
   },
   "outputs": [
    {
     "ename": "TypeError",
     "evalue": "'Column' object is not callable",
     "output_type": "error",
     "traceback": [
      "\u001b[0;31m\u001b[0m",
      "\u001b[0;31mTypeError\u001b[0mTraceback (most recent call last)",
      "\u001b[0;32m<ipython-input-307-2297fa5a470b>\u001b[0m in \u001b[0;36m<module>\u001b[0;34m()\u001b[0m\n\u001b[0;32m----> 1\u001b[0;31m \u001b[0mc\u001b[0m\u001b[0;34m.\u001b[0m\u001b[0mrdd\u001b[0m\u001b[0;34m.\u001b[0m\u001b[0mcollect\u001b[0m\u001b[0;34m(\u001b[0m\u001b[0;34m)\u001b[0m\u001b[0;34m\u001b[0m\u001b[0m\n\u001b[0m",
      "\u001b[0;31mTypeError\u001b[0m: 'Column' object is not callable"
     ]
    }
   ],
   "source": []
  },
  {
   "cell_type": "code",
   "execution_count": null,
   "metadata": {
    "collapsed": true
   },
   "outputs": [],
   "source": []
  }
 ],
 "metadata": {
  "kernelspec": {
   "display_name": "Python 2",
   "language": "python",
   "name": "python2"
  },
  "language_info": {
   "codemirror_mode": {
    "name": "ipython",
    "version": 2
   },
   "file_extension": ".py",
   "mimetype": "text/x-python",
   "name": "python",
   "nbconvert_exporter": "python",
   "pygments_lexer": "ipython2",
   "version": "2.7.10"
  }
 },
 "nbformat": 4,
 "nbformat_minor": 0
}
