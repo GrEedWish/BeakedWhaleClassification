{
 "cells": [
  {
   "cell_type": "markdown",
   "metadata": {},
   "source": [
    "## Example Analysis of whales clicks\n",
    "This notebook is an example for how the whale click dataset can be analyzed."
   ]
  },
  {
   "cell_type": "code",
   "execution_count": 1,
   "metadata": {
    "collapsed": true
   },
   "outputs": [],
   "source": [
    "%load_ext autoreload\n",
    "%autoreload 2"
   ]
  },
  {
   "cell_type": "code",
   "execution_count": 2,
   "metadata": {},
   "outputs": [
    {
     "name": "stdout",
     "output_type": "stream",
     "text": [
      "Populating the interactive namespace from numpy and matplotlib\n"
     ]
    }
   ],
   "source": [
    "from pyspark import SparkContext\n",
    "sc = SparkContext(pyFiles=['lib/numpy_pack.py','lib/row_parser.py','lib/spark_PCA.py'])\n",
    "\n",
    "from pyspark.sql import Row, SQLContext,DataFrame\n",
    "from pyspark.sql.types import *\n",
    "\n",
    "sqlContext = SQLContext(sc)\n",
    "\n",
    "%pylab inline\n",
    "\n",
    "#!pip install pandas\n",
    "#!pip install scipy\n",
    "\n",
    "import pandas as pd\n",
    "import datetime as dt\n",
    "\n",
    "from scipy.io import loadmat,savemat,whosmat\n",
    "\n",
    "from string import split\n",
    "from collections import Counter\n",
    "import re\n",
    "import numpy as np\n",
    "from numpy import shape\n",
    "\n",
    "from glob import glob\n",
    "from time import time"
   ]
  },
  {
   "cell_type": "code",
   "execution_count": 3,
   "metadata": {
    "scrolled": false
   },
   "outputs": [
    {
     "name": "stdout",
     "output_type": "stream",
     "text": [
      "('time', 'datetime') {'start': 0, 'parser': <function parse_date at 0x7f51ee8d3f50>, 'end': 1, 'name': 'time'}\n",
      "('species', 'str') {'start': 1, 'parser': <function parse_string at 0x7f51ee8651b8>, 'end': 2, 'name': 'species'}\n",
      "('site', 'str') {'start': 2, 'parser': <function parse_string at 0x7f51ee8651b8>, 'end': 3, 'name': 'site'}\n",
      "('rec_no', 'str') {'start': 3, 'parser': <function parse_string at 0x7f51ee8651b8>, 'end': 4, 'name': 'rec_no'}\n",
      "('bout_i', 'int') {'start': 4, 'parser': <function parse_int at 0x7f51ee8650c8>, 'end': 5, 'name': 'bout_i'}\n",
      "('peak2peak', 'float') {'start': 5, 'parser': <function parse_float at 0x7f51ee865140>, 'end': 6, 'name': 'peak2peak'}\n",
      "('MSN', 'array', 202) {'start': 6, 'parser': <function parse_array at 0x7f51ee865050>, 'end': 208, 'name': 'MSN'}\n",
      "('MSP', 'array', 101) {'start': 208, 'parser': <function parse_array at 0x7f51ee865050>, 'end': 309, 'name': 'MSP'}\n",
      "('TPWS1', 'bool') {'start': 309, 'parser': <function parse_int at 0x7f51ee8650c8>, 'end': 310, 'name': 'TPWS1'}\n",
      "('MD1', 'bool') {'start': 310, 'parser': <function parse_int at 0x7f51ee8650c8>, 'end': 311, 'name': 'MD1'}\n",
      "('FD1', 'bool') {'start': 311, 'parser': <function parse_int at 0x7f51ee8650c8>, 'end': 312, 'name': 'FD1'}\n",
      "('TPWS2', 'bool') {'start': 312, 'parser': <function parse_int at 0x7f51ee8650c8>, 'end': 313, 'name': 'TPWS2'}\n",
      "('MD2', 'bool') {'start': 313, 'parser': <function parse_int at 0x7f51ee8650c8>, 'end': 314, 'name': 'MD2'}\n",
      "('FD2', 'bool') {'start': 314, 'parser': <function parse_int at 0x7f51ee8650c8>, 'end': 315, 'name': 'FD2'}\n",
      "('TPWS3', 'bool') {'start': 315, 'parser': <function parse_int at 0x7f51ee8650c8>, 'end': 316, 'name': 'TPWS3'}\n",
      "('MD3', 'bool') {'start': 316, 'parser': <function parse_int at 0x7f51ee8650c8>, 'end': 317, 'name': 'MD3'}\n",
      "('FD3', 'bool') {'start': 317, 'parser': <function parse_int at 0x7f51ee8650c8>, 'end': 318, 'name': 'FD3'}\n",
      "2010-08-09 07:01:15.000002,Cuviers,DT,01,0,45.9858,0.0000,0.0000,0.0000,0.0000,0.0000,0.0000,0.0000,0.0000,0.0000,0.0000,0.0000,0.0000,0.0000,0.0000,0.0000,0.0000,0.0000,0.0000,0.0000,0.0000,0.0000,0.0000,0.0000,0.0000,0.0000,0.0000,0.0000,0.0000,0.0000,0.0000,0.0000,0.0000,0.0000,0.0000,0.0000,0.0000,0.0000,0.0000,0.0000,0.0000,0.0000,0.0000,0.0000,0.0000,0.0000,0.0000,0.0000,0.0000,0.0000,0.0000,0.0000,0.0000,0.0000,0.0000,0.0000,0.0000,0.0000,0.0000,0.0000,0.0000,0.0000,0.0000,0.0000,0.0000,0.0000,0.0000,0.0000,0.0000,0.0000,0.0000,0.0000,0.0000,0.0000,0.0000,0.0000,0.0000,0.0000,0.0000,0.0000,0.0000,0.0000,0.0000,0.0000,0.0000,0.0000,0.0000,0.0000,0.0000,0.0000,0.0000,0.0000,0.0000,0.0000,0.0000,0.0000,0.0000,0.0000,0.0000,0.0000,0.0000,0.0000,123.1518,75.2794,-33.2284,-23.9326,-76.0488,-52.1295,-66.5504,-37.8580,-30.1298,2.2544,20.0773,19.0220,39.8708,36.0729,39.3590,28.7682,39.1766,18.8269,16.5995,-2.7279,-4.6016,-17.2059,-16.9708,-16.5006,-13.6036,-21.0872,-22.0780,-22.2508,-18.2976,-9.0913,-2.0112,7.5746,13.1378,24.1131,12.1962,17.9776,9.4793,8.8812,4.1018,17.1092,10.4360,3.6324,4.8961,1.4236,-6.6083,-10.9176,0.1229,-15.3517,-3.7683,-0.9111,5.4279,-8.5201,5.0741,-0.2132,-13.6014,8.7208,1.7601,20.0928,2.1951,11.4091,2.7065,0.2956,0.5107,-3.0019,4.8259,-0.4049,-3.2785,-3.1422,1.3298,-0.4801,7.5559,2.3911,5.7374,-8.0482,-0.0434,0.0378,10.4176,3.6086,-2.6427,-7.6031,-12.7951,8.7463,0.5914,-0.0388,6.7526,7.6352,4.2096,4.4034,-2.7787,-1.7566,6.6177,-18.3412,3.1898,14.0889,1.1156,-5.9159,-1.2386,5.6845,-7.2699,11.7000,-2.9539,-34.2238,-33.9033,-45.0310,-47.8457,-47.1611,-46.5836,-31.0557,-22.6870,-17.3832,-14.3108,-12.9905,-13.0394,-13.8941,-14.6441,-15.2878,-16.2532,-16.6215,-16.6206,-16.9976,-17.4435,-18.0617,-19.3168,-21.2616,-20.6810,-18.8653,-18.7143,-19.9128,-21.6954,-22.4543,-23.0892,-24.4656,-23.4138,-22.9504,-24.1552,-23.5533,-22.9531,-23.2596,-23.7252,-24.8302,-24.7406,-24.3184,-24.4116,-24.0277,-24.2984,-24.8872,-24.9365,-24.9002,-24.7977,-25.4393,-25.1422,-24.5324,-25.2250,-25.9022,-26.1996,-27.4110,-29.3391,-27.5361,-26.2795,-27.7208,-29.2339,-26.7324,-24.4358,-24.4630,-26.7423,-27.4951,-25.8256,-25.3701,-26.1414,-26.9244,-26.5900,-27.3737,-28.5090,-28.7962,-28.4409,-28.0141,-28.8132,-28.4144,-27.5241,-27.7150,-28.2131,-27.2487,-26.7068,-28.5241,-28.7847,-26.4997,-26.9417,-28.3392,-26.6263,-25.5226,-26.7814,-30.4323,-28.2765,-25.4706,-26.4270,-30.3568,-34.5929,-37.8343,-44.4147,-60.3294,-71.2182,-81.8603,1,0,1,0,0,0,0,0,0\n",
      "+--------------------+-------+----+------+------+---------+--------------------+--------------------+-----+---+---+-----+---+---+-----+---+---+\n",
      "|                time|species|site|rec_no|bout_i|peak2peak|                 MSN|                 MSP|TPWS1|MD1|FD1|TPWS2|MD2|FD2|TPWS3|MD3|FD3|\n",
      "+--------------------+-------+----+------+------+---------+--------------------+--------------------+-----+---+---+-----+---+---+-----+---+---+\n",
      "|2010-08-09 07:01:...|Cuviers|  DT|    01|     0|  45.9858|[00 00 00 00 00 0...|[22 6C 78 7A A5 1...|    1|  0|  1|    0|  0|  0|    0|  0|  0|\n",
      "|2010-08-09 07:02:...|Cuviers|  DT|    01|     0|  44.8432|[00 00 00 00 00 0...|[E3 36 1A C0 5B A...|    1|  0|  1|    0|  0|  0|    0|  0|  0|\n",
      "|2010-08-09 07:03:...|Cuviers|  DT|    01|     0|  45.8631|[00 00 00 00 00 0...|[AC 8B DB 68 00 D...|    1|  0|  1|    0|  0|  0|    0|  0|  0|\n",
      "|2010-08-09 07:05:...|Cuviers|  DT|    01|     0|  54.2039|[24 28 7E 8C B9 2...|[66 F7 E4 61 A1 6...|    1|  0|  1|    0|  0|  0|    0|  0|  0|\n",
      "|2010-08-09 07:06:...|Cuviers|  DT|    01|     0|  53.9538|[19 E2 58 17 B7 1...|[64 3B DF 4F 8D 8...|    1|  0|  1|    0|  0|  0|    0|  0|  0|\n",
      "|2010-08-09 07:06:...|Cuviers|  DT|    01|     0|  49.8424|[A9 A4 4E 40 13 6...|[2D 21 1F F4 6C F...|    1|  0|  1|    0|  0|  0|    0|  0|  0|\n",
      "|2010-08-09 07:06:...|Cuviers|  DT|    01|     0|  49.0103|[D9 3D 79 58 A8 3...|[2F DD 24 06 81 2...|    1|  0|  1|    0|  0|  0|    0|  0|  0|\n",
      "|2010-08-09 07:06:...|Cuviers|  DT|    01|     0|  47.1188|[30 4C A6 0A 46 8...|[AC AD D8 5F 76 D...|    1|  0|  1|    0|  0|  0|    0|  0|  0|\n",
      "|2010-08-09 07:06:...|Cuviers|  DT|    01|     0|  48.3096|[B1 BF EC 9E 3C A...|[96 43 8B 6C E7 C...|    1|  0|  1|    0|  0|  0|    0|  0|  0|\n",
      "|2010-08-09 07:06:...|Cuviers|  DT|    01|     0|  51.5011|[D0 D5 56 EC 2F 7...|[C8 98 BB 96 90 6...|    1|  0|  1|    0|  0|  0|    0|  0|  0|\n",
      "|2010-08-09 07:06:...|Cuviers|  DT|    01|     0|  54.0929|[BC 05 12 14 3F 4...|[C1 A8 A4 4E 40 5...|    1|  0|  1|    0|  0|  0|    0|  0|  0|\n",
      "|2010-08-09 07:06:...|Cuviers|  DT|    01|     0|  56.2738|[98 4C 15 8C 4A E...|[12 14 3F C6 DC 1...|    1|  0|  1|    0|  0|  0|    0|  0|  0|\n",
      "|2010-08-09 07:06:...|Cuviers|  DT|    01|     0|  48.8158|[C4 42 AD 69 DE 8...|[79 E9 26 31 08 C...|    1|  0|  1|    0|  0|  0|    0|  0|  0|\n",
      "|2010-08-09 07:06:...|Cuviers|  DT|    01|     0|  49.0238|[50 8D 97 6E 12 0...|[37 89 41 60 E5 2...|    1|  0|  1|    0|  0|  0|    0|  0|  0|\n",
      "|2010-08-09 07:06:...|Cuviers|  DT|    01|     0|  47.0987|[72 8A 8E E4 F2 1...|[29 CB 10 C7 BA 2...|    1|  0|  1|    0|  0|  0|    0|  0|  0|\n",
      "|2010-08-09 07:06:...|Cuviers|  DT|    01|     0|  48.2219|[18 26 53 05 A3 2...|[0B 24 28 7E 8C 8...|    1|  0|  1|    0|  0|  0|    0|  0|  0|\n",
      "|2010-08-09 07:06:...|Cuviers|  DT|    01|     0|  46.0384|[89 41 60 E5 D0 A...|[57 5B B1 BF EC 8...|    1|  0|  1|    0|  0|  0|    0|  0|  0|\n",
      "|2010-08-09 07:06:...|Cuviers|  DT|    01|     0|  46.0234|[45 47 72 F9 0F 2...|[D5 78 E9 26 31 B...|    1|  0|  1|    0|  0|  0|    0|  0|  0|\n",
      "|2010-08-09 07:06:...|Cuviers|  DT|    01|     0|  52.0325|[AD FA 5C 6D C5 F...|[AD 69 DE 71 8A 5...|    1|  0|  1|    0|  0|  0|    0|  0|  0|\n",
      "|2010-08-09 07:06:...|Cuviers|  DT|    01|     0|  49.1263|[48 BF 7D 1D 38 6...|[78 0B 24 28 7E F...|    1|  0|  1|    0|  0|  0|    0|  0|  0|\n",
      "+--------------------+-------+----+------+------+---------+--------------------+--------------------+-----+---+---+-----+---+---+-----+---+---+\n",
      "only showing top 20 rows\n",
      "\n"
     ]
    }
   ],
   "source": [
    "import sys\n",
    "sys.path.append('lib')\n",
    "from row_parser import *\n",
    "\n",
    "Parse_rules,field_names,RowObject = init_parser_parameters()\n",
    "\n",
    "from pyspark.sql import DataFrame\n",
    "\n",
    "CVS_Data=sc.textFile(\"/CVS/*/\")\n",
    "\n",
    "\n",
    "def parse(row):\n",
    "    items=row.split(',')\n",
    "    D=[]\n",
    "    for pr in Parse_rules:\n",
    "        start=pr['start']\n",
    "        end=pr['end']\n",
    "        parser=pr['parser']\n",
    "        if end-start==1:\n",
    "            D.append(parser(items[start]))\n",
    "        else:\n",
    "            D.append(parser(items[start:end]))\n",
    "    return RowObject(*D)\n",
    "\n",
    "\n",
    "RDD=CVS_Data.map(parse)\n",
    "\n",
    "df=sqlContext.createDataFrame(RDD)"
   ]
  },
  {
   "cell_type": "code",
   "execution_count": 4,
   "metadata": {},
   "outputs": [
    {
     "name": "stdout",
     "output_type": "stream",
     "text": [
      "6353182\n",
      "81.8410570621\n",
      "6353182\n"
     ]
    },
    {
     "data": {
      "text/plain": [
       "0.9717550277709961"
      ]
     },
     "execution_count": 4,
     "metadata": {},
     "output_type": "execute_result"
    }
   ],
   "source": [
    "t0=time()\n",
    "print df.cache().count()\n",
    "print time()-t0\n",
    "\n",
    "t0=time()\n",
    "print df.count()\n",
    "time()-t0"
   ]
  },
  {
   "cell_type": "code",
   "execution_count": 5,
   "metadata": {},
   "outputs": [
    {
     "data": {
      "image/png": "[encoded data removed]",
      "text/plain": [
       "<matplotlib.figure.Figure at 0x7f51ee8d28d0>"
      ]
     },
     "metadata": {},
     "output_type": "display_data"
    }
   ],
   "source": [
    "from row_parser import unpackArray\n",
    "import numpy\n",
    "def g(row):\n",
    "    #return numpy.array([1,2]) #\n",
    "    return unpackArray(row.MSP,data_type=numpy.float64)\n",
    "\n",
    "def unpackArray(x,data_type=numpy.int16):\n",
    "    return numpy.frombuffer(x,dtype=data_type)"
   ]
  },
  {
   "cell_type": "code",
   "execution_count": 12,
   "metadata": {
    "collapsed": true
   },
   "outputs": [],
   "source": [
    "eigval,eigvec=LA.eig(COV['Cov'])"
   ]
  },
  {
   "cell_type": "code",
   "execution_count": 14,
   "metadata": {},
   "outputs": [
    {
     "data": {
      "text/plain": [
       "[<matplotlib.lines.Line2D at 0x7f51ec1c0a50>]"
      ]
     },
     "execution_count": 14,
     "metadata": {},
     "output_type": "execute_result"
    },
    {
     "data": {
      "image/png": "[encoded data removed]",
      "text/plain": [
       "<matplotlib.figure.Figure at 0x7f51ea6a1a50>"
      ]
     },
     "metadata": {},
     "output_type": "display_data"
    }
   ],
   "source": [
    "plot(cumsum(eigval[:10]))"
   ]
  },
  {
   "cell_type": "code",
   "execution_count": 18,
   "metadata": {
    "collapsed": true
   },
   "outputs": [],
   "source": [
    "Cuviers=df.filter(df.TPWS2==1).filter(df.species==u'Cuviers')"
   ]
  },
  {
   "cell_type": "code",
   "execution_count": 19,
   "metadata": {
    "collapsed": true
   },
   "outputs": [],
   "source": [
    "Gervais=df.filter(df.TPWS2==1).filter(df.species==u'Gervais')"
   ]
  },
  {
   "cell_type": "code",
   "execution_count": 51,
   "metadata": {
    "collapsed": true
   },
   "outputs": [],
   "source": [
    "V=eigvec[:,0:10] #vectors on which to project\n",
    "def project(row):\n",
    "    X=unpackArray(row.MSP,data_type=np.float64)\n",
    "    return np.dot(X,V)"
   ]
  },
  {
   "cell_type": "code",
   "execution_count": 52,
   "metadata": {
    "collapsed": true
   },
   "outputs": [],
   "source": [
    "Cuvier_projections=Cuviers.rdd.map(project)\n",
    "Gervais_projections=Gervais.rdd.map(project)"
   ]
  },
  {
   "cell_type": "code",
   "execution_count": 60,
   "metadata": {
    "collapsed": true
   },
   "outputs": [],
   "source": [
    "from pyspark.mllib.regression import LabeledPoint\n",
    "Cuvier_samples = Cuvier_projections.map(lambda features:LabeledPoint(1, features))\n",
    "Gervais_samples = Gervais_projections.map(lambda features:LabeledPoint(0, features))"
   ]
  },
  {
   "cell_type": "code",
   "execution_count": 61,
   "metadata": {},
   "outputs": [
    {
     "data": {
      "text/plain": [
       "[LabeledPoint(1.0, [-329.868023324,-38.1821474935,-37.5263766225,-21.9072256027,-81.6747052396,4.43508586256,42.5236069788,-34.0725297382,4.77455298326,-44.5184597908])]"
      ]
     },
     "execution_count": 61,
     "metadata": {},
     "output_type": "execute_result"
    }
   ],
   "source": [
    "Cuvier_samples.take(1)"
   ]
  },
  {
   "cell_type": "code",
   "execution_count": 62,
   "metadata": {},
   "outputs": [
    {
     "data": {
      "text/plain": [
       "[LabeledPoint(0.0, [-229.723100758,-146.437852669,-16.1370242998,-2.60584692548,-63.518814625,-8.95553828363,40.8459241481,-56.4846709706,6.96983459632,-63.8284923538])]"
      ]
     },
     "execution_count": 62,
     "metadata": {},
     "output_type": "execute_result"
    }
   ],
   "source": [
    "Gervais_samples.take(1)"
   ]
  },
  {
   "cell_type": "code",
   "execution_count": 63,
   "metadata": {},
   "outputs": [
    {
     "data": {
      "text/plain": [
       "PythonRDD[138] at RDD at PythonRDD.scala:48"
      ]
     },
     "execution_count": 63,
     "metadata": {},
     "output_type": "execute_result"
    }
   ],
   "source": [
    "samples = Cuvier_samples.union(Gervais_samples)\n",
    "[training_data, test_data] = samples.randomSplit([0.8, 0.2])\n",
    "training_data.cache()\n",
    "test_data.cache()"
   ]
  },
  {
   "cell_type": "code",
   "execution_count": 64,
   "metadata": {
    "collapsed": true
   },
   "outputs": [],
   "source": [
    "def score(model):\n",
    "    predictions = model.predict(test_data.map(lambda x: x.features))\n",
    "    labels_and_preds = test_data.map(lambda x: x.label).zip(predictions)\n",
    "    accuracy = labels_and_preds.filter(lambda x: x[0] == x[1]).count() / float(test_data.count())\n",
    "    return accuracy"
   ]
  },
  {
   "cell_type": "code",
   "execution_count": 65,
   "metadata": {},
   "outputs": [
    {
     "name": "stderr",
     "output_type": "stream",
     "text": [
      "/usr/lib/spark/python/pyspark/mllib/classification.py:313: UserWarning: Deprecated in 2.0.0. Use ml.classification.LogisticRegression or LogisticRegressionWithLBFGS.\n",
      "  \"Deprecated in 2.0.0. Use ml.classification.LogisticRegression or \"\n"
     ]
    },
    {
     "data": {
      "text/plain": [
       "0.8244371923225842"
      ]
     },
     "execution_count": 65,
     "metadata": {},
     "output_type": "execute_result"
    }
   ],
   "source": [
    "from pyspark.mllib.classification import LogisticRegressionWithSGD\n",
    "\n",
    "algo = LogisticRegressionWithSGD()\n",
    "model = algo.train(training_data)\n",
    "score(model)"
   ]
  },
  {
   "cell_type": "code",
   "execution_count": 66,
   "metadata": {},
   "outputs": [
    {
     "data": {
      "text/plain": [
       "0.8272713717813365"
      ]
     },
     "execution_count": 66,
     "metadata": {},
     "output_type": "execute_result"
    }
   ],
   "source": [
    "from pyspark.mllib.classification import LogisticRegressionWithLBFGS\n",
    "\n",
    "algo = LogisticRegressionWithLBFGS()\n",
    "model = algo.train(training_data)\n",
    "score(model)"
   ]
  },
  {
   "cell_type": "code",
   "execution_count": 70,
   "metadata": {
    "scrolled": false
   },
   "outputs": [
    {
     "data": {
      "text/plain": [
       "0.8242520147083934"
      ]
     },
     "execution_count": 70,
     "metadata": {},
     "output_type": "execute_result"
    }
   ],
   "source": [
    "from pyspark.mllib.classification import SVMWithSGD\n",
    "\n",
    "algo = SVMWithSGD()\n",
    "model = algo.train(training_data)\n",
    "score(model)"
   ]
  },
  {
   "cell_type": "code",
   "execution_count": 71,
   "metadata": {},
   "outputs": [
    {
     "data": {
      "text/plain": [
       "0.8326619642775548"
      ]
     },
     "execution_count": 71,
     "metadata": {},
     "output_type": "execute_result"
    }
   ],
   "source": [
    "from pyspark.mllib.tree import DecisionTree\n",
    "\n",
    "algo = DecisionTree()\n",
    "model = algo.trainClassifier(training_data,numClasses=2,categoricalFeaturesInfo={})\n",
    "score(model)"
   ]
  },
  {
   "cell_type": "code",
   "execution_count": 73,
   "metadata": {},
   "outputs": [
    {
     "data": {
      "text/plain": [
       "0.8165935976643571"
      ]
     },
     "execution_count": 73,
     "metadata": {},
     "output_type": "execute_result"
    }
   ],
   "source": [
    "from pyspark.mllib.tree import RandomForest\n",
    "\n",
    "algo = RandomForest()\n",
    "model = algo.trainClassifier(training_data,numClasses=2,categoricalFeaturesInfo={},numTrees=16)\n",
    "score(model)"
   ]
  },
  {
   "cell_type": "code",
   "execution_count": null,
   "metadata": {},
   "outputs": [],
   "source": [
    "from pyspark.mllib.tree import GradientBoostedTrees\n",
    "\n",
    "algo = GradientBoostedTrees()\n",
    "model = algo.trainClassifier(training_data,categoricalFeaturesInfo={})\n",
    "score(model)"
   ]
  }
 ],
 "metadata": {
  "kernelspec": {
   "display_name": "Python 2",
   "language": "python",
   "name": "python2"
  },
  "language_info": {
   "codemirror_mode": {
    "name": "ipython",
    "version": 2
   },
   "file_extension": ".py",
   "mimetype": "text/x-python",
   "name": "python",
   "nbconvert_exporter": "python",
   "pygments_lexer": "ipython2",
   "version": "2.7.13"
  }
 },
 "nbformat": 4,
 "nbformat_minor": 1
}
