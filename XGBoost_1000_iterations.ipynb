{
 "cells": [
  {
   "cell_type": "markdown",
   "metadata": {},
   "source": [
    "# Importing Required Librarires"
   ]
  },
  {
   "cell_type": "code",
   "execution_count": 3,
   "metadata": {
    "collapsed": true
   },
   "outputs": [],
   "source": [
    "%matplotlib inline\n",
    "import numpy as np\n",
    "import xgboost as xgb\n",
    "from sklearn.model_selection import train_test_split\n",
    "import matplotlib.pyplot as plt"
   ]
  },
  {
   "cell_type": "markdown",
   "metadata": {},
   "source": [
    "# Loading Data"
   ]
  },
  {
   "cell_type": "code",
   "execution_count": 7,
   "metadata": {},
   "outputs": [
    {
     "name": "stdout",
     "output_type": "stream",
     "text": [
      "18/04/25 03:50:21 INFO s3n.S3NativeFileSystem: Opening 's3://whales-classification/data.np' for reading\r\n"
     ]
    }
   ],
   "source": [
    "!hadoop fs -copyToLocal s3://whales-classification/data.np data/"
   ]
  },
  {
   "cell_type": "markdown",
   "metadata": {},
   "source": [
    "The data files were preprocessed on PySpark (10 nodes) cluster. The code for the same can be found [here](.emr_processing/DataProcessing.ipynb). The preprocessed is a numpy array with `4144531` rows with following columns (zero-indexed):\n",
    "* Col 0-9: projections on first 10 eigen vectors\n",
    "* Col 10: rmse\n",
    "* Col 11: peak2peak\n",
    "* Col 12: label (`0 if row.species==u'Gervais' else 1`)"
   ]
  },
  {
   "cell_type": "code",
   "execution_count": 8,
   "metadata": {
    "collapsed": true
   },
   "outputs": [],
   "source": [
    "data  = np.load(\"data/data.np\")\n",
    "X = data[:, :-1]\n",
    "y = np.array(data[:, -1], dtype=int)"
   ]
  },
  {
   "cell_type": "markdown",
   "metadata": {},
   "source": [
    "# Train - Test - Validation"
   ]
  },
  {
   "cell_type": "markdown",
   "metadata": {
    "collapsed": true
   },
   "source": [
    "The data is shuffled and divided as follow:\n",
    "* Training: 70%\n",
    "* Validation: 15%\n",
    "* Testing: 15%"
   ]
  },
  {
   "cell_type": "code",
   "execution_count": 9,
   "metadata": {
    "collapsed": true
   },
   "outputs": [],
   "source": [
    "X_train, X_test, y_train, y_test = train_test_split(X, y, test_size=0.30)\n",
    "X_test, X_val, y_test, y_val = train_test_split(X_test, y_test, test_size=0.5)\n",
    "\n",
    "dtrain = xgb.DMatrix(X_train, label=y_train)\n",
    "dval = xgb.DMatrix(X_val, y_val)\n",
    "dtest = xgb.DMatrix(X_test, label=y_test)"
   ]
  },
  {
   "cell_type": "markdown",
   "metadata": {},
   "source": [
    "# Model Training"
   ]
  },
  {
   "cell_type": "markdown",
   "metadata": {},
   "source": [
    "## Setting Parameters for XG Boost\n",
    "* Maximum Depth of the Tree = 3\n",
    "* Step size shrinkage used in update to prevents overfitting = 0.3\n",
    "* Evaluation Criterion: `Maximize Loglikelihood`\n",
    "* Maximum Number of Iterations = 1000\n",
    "* Early Stop if score on Validation does not improve for 5 iterations"
   ]
  },
  {
   "cell_type": "code",
   "execution_count": null,
   "metadata": {
    "collapsed": true
   },
   "outputs": [],
   "source": [
    "param = {'max_depth': 3, 'eta': 0.3, 'silent': 0, 'objective': 'binary:logistic'}\n",
    "param['nthread'] = 7\n",
    "param['eval_metric'] = 'logloss'\n",
    "plst = param.items()\n",
    "num_round = 1000\n",
    "evallist = [(dtrain, 'train'), (dtest, 'eval')]\n",
    "bst = xgb.train(plst, dtrain, num_round, evallist, early_stopping_rounds=5, verbose_eval=True)"
   ]
  },
  {
   "cell_type": "markdown",
   "metadata": {},
   "source": [
    "## Visualize the Feature Importance"
   ]
  },
  {
   "cell_type": "code",
   "execution_count": 11,
   "metadata": {
    "scrolled": false
   },
   "outputs": [
    {
     "data": {
      "image/png": "[encoded data removed]",
      "text/plain": [
       "<matplotlib.figure.Figure at 0x7f217585e518>"
      ]
     },
     "metadata": {},
     "output_type": "display_data"
    },
    {
     "name": "stdout",
     "output_type": "stream",
     "text": [
      "Feature Mapping:\n",
      "f0 \t:  Eigen Projection 1\n",
      "f1 \t:  Eigen Projection 2\n",
      "f2 \t:  Eigen Projection 3\n",
      "f3 \t:  Eigen Projection 4\n",
      "f4 \t:  Eigen Projection 5\n",
      "f5 \t:  Eigen Projection 6\n",
      "f6 \t:  Eigen Projection 7\n",
      "f7 \t:  Eigen Projection 8\n",
      "f8 \t:  Eigen Projection 9\n",
      "f9 \t:  Eigen Projection 10\n",
      "f10 \t:  RMSE\n",
      "f11 \t:  Peak2Peak\n"
     ]
    }
   ],
   "source": [
    "xgb.plot_importance(bst)\n",
    "plt.show()\n",
    "features_map = {'f0' : 'Eigen Projection 1', 'f1' : 'Eigen Projection 2',\n",
    "                'f2' : 'Eigen Projection 3', 'f3' : 'Eigen Projection 4',\n",
    "                'f4' : 'Eigen Projection 5', 'f5' : 'Eigen Projection 6',\n",
    "                'f6' : 'Eigen Projection 7', 'f7' : 'Eigen Projection 8',\n",
    "                'f8' : 'Eigen Projection 9', 'f9' : 'Eigen Projection 10',\n",
    "                'f10' : 'RMSE', 'f11' : 'Peak2Peak'}\n",
    "\n",
    "print(\"Feature Mapping:\")\n",
    "for x in features_map:\n",
    "    print(x, \"\\t: \", features_map[x])"
   ]
  },
  {
   "cell_type": "markdown",
   "metadata": {},
   "source": [
    "Clearly, Eigen Projection 2, Eigen Projection 3, Eigen Projection 1, RMSE and Peak2Peak are the most important features."
   ]
  },
  {
   "cell_type": "markdown",
   "metadata": {},
   "source": [
    "# Margin Plots on Test Data"
   ]
  },
  {
   "cell_type": "code",
   "execution_count": 12,
   "metadata": {
    "collapsed": true
   },
   "outputs": [],
   "source": [
    "ypred = bst.predict(dtest, ntree_limit=bst.best_ntree_limit, output_margin=True)\n",
    "y_test = dtest.get_label()"
   ]
  },
  {
   "cell_type": "code",
   "execution_count": 13,
   "metadata": {
    "collapsed": true
   },
   "outputs": [],
   "source": [
    "thresholds = sorted(np.unique(np.round(ypred, 2)))\n",
    "accuracy_cuviers = []\n",
    "accuracy_gervais = []\n",
    "for thresh in thresholds:\n",
    "    y_test_i = y_test[y_test == 1]\n",
    "    y_pred = ypred[y_test == 1]\n",
    "    correct = np.sum(y_pred > thresh)\n",
    "    accuracy_cuviers.append(1.0 * correct / len(y_test_i))\n",
    "    \n",
    "    y_test_i = y_test[y_test == 0]\n",
    "    y_pred = ypred[y_test == 0]\n",
    "    correct = np.sum(y_pred <= thresh)\n",
    "    accuracy_gervais.append(1.0 * correct / len(y_test_i))"
   ]
  },
  {
   "cell_type": "code",
   "execution_count": 14,
   "metadata": {},
   "outputs": [
    {
     "data": {
      "image/png": "[encoded data removed]",
      "text/plain": [
       "<matplotlib.figure.Figure at 0x7f21779691d0>"
      ]
     },
     "metadata": {},
     "output_type": "display_data"
    }
   ],
   "source": [
    "%matplotlib inline\n",
    "import matplotlib.pyplot as plt\n",
    "\n",
    "plt.plot(thresholds, accuracy_cuviers)\n",
    "plt.plot(thresholds, accuracy_gervais)\n",
    "plt.legend(['Cuviers', 'Gervais'])\n",
    "plt.xlabel('Margin Score')\n",
    "plt.ylabel('Accuracy of Species')\n",
    "plt.show()"
   ]
  },
  {
   "cell_type": "code",
   "execution_count": 15,
   "metadata": {},
   "outputs": [
    {
     "data": {
      "image/png": "[encoded data removed]",
      "text/plain": [
       "<matplotlib.figure.Figure at 0x7f21741d7a90>"
      ]
     },
     "metadata": {},
     "output_type": "display_data"
    }
   ],
   "source": [
    "plt.plot(thresholds, 1- np.array(accuracy_cuviers))\n",
    "plt.plot(thresholds, accuracy_gervais)\n",
    "plt.legend(['1 - Cuviers', 'Gervais'])\n",
    "plt.xlabel('Margin Score')\n",
    "plt.ylabel('Accuracy of Species')\n",
    "plt.show()"
   ]
  }
 ],
 "metadata": {
  "kernelspec": {
   "display_name": "Python 3",
   "language": "python",
   "name": "python3"
  },
  "language_info": {
   "codemirror_mode": {
    "name": "ipython",
    "version": 3
   },
   "file_extension": ".py",
   "mimetype": "text/x-python",
   "name": "python",
   "nbconvert_exporter": "python",
   "pygments_lexer": "ipython3",
   "version": "3.6.1"
  }
 },
 "nbformat": 4,
 "nbformat_minor": 2
}
